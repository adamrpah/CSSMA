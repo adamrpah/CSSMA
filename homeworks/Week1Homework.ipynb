{
 "cells": [
  {
   "cell_type": "markdown",
   "metadata": {},
   "source": [
    "# Instructions to complete your homework\n",
    "\n",
    "In order to test your homework solutions automatically, we are going to ask you to insert the code you write into a function. To this end, we are creating for each question a template that looks something like this:\n",
    "\n",
    "    def function(parameter1, parameter2):\n",
    "        \"\"\"\n",
    "        Instructions for what your function will accomplish:\n",
    "            Write code that takes two numbers and subtracts the second from the first\n",
    "\n",
    "        Definition of the properties of the parameters to be accepted by the function:\n",
    "            Parameters:\n",
    "            -----------\n",
    "            parameter1 : (int)\n",
    "            parameter2 : (int)\n",
    "\n",
    "        Name and type of the answer to be return:\n",
    "            Return:\n",
    "            -------\n",
    "            answer : (int)\n",
    "        \"\"\"\n",
    "\n",
    "        #start writing your code below\n",
    "\n",
    "\n",
    "        return answer\n",
    "\n",
    "The easiest way to develop and test your code is to use the following structure:\n",
    "\n",
    "`Initialize parameters`\n",
    "\n",
    "`Code to be copied`\n",
    "\n",
    "`Printout of output`\n",
    "\n",
    "For the case above that would result in:\n",
    "\n",
    "    # Initialize parameters\n",
    "    parameter1 = 3    # Note that we asked for the inputs to be integers  \n",
    "    parameter2 = 5\n",
    "\n",
    "    # Code to be copied to solution\n",
    "    answer = parameter1 - parameter2\n",
    "\n",
    "    #Printout of output\n",
    "    print(answer)\n",
    "    \n",
    "If your code is correct and you feel confident that you have tested enough (meaning for many inputs). Then you can copy the lines of code under `Code to be copied to solution` to the cell where the function is defined under the comment `start writing your code below`.\n",
    "\n",
    "You can then execute the notebook cell with the function.  After that, you can simply call the function with whatever parameter values you wish. For example,\n",
    "    \n",
    "    function(3, 5)\n",
    "    \n",
    "# Reminder\n",
    "\n",
    "Use/follow the hints provided in the homework overview notebook.\n",
    "\n",
    "Remember - always use relative paths! Don't leave cells that error! Don't run scraping tasks on Vocareum!"
   ]
  },
  {
   "cell_type": "markdown",
   "metadata": {},
   "source": [
    "# Question 1\n",
    "\n",
    "Pull population data from Puerto Rico from the Census"
   ]
  },
  {
   "cell_type": "code",
   "execution_count": 1,
   "metadata": {
    "collapsed": true
   },
   "outputs": [],
   "source": [
    "# Template\n",
    "def pull_puerto_rico_population():\n",
    "    '''\n",
    "    **Do Not Run on Vocareum**\n",
    "    **Save data to files as specified and then upload to platform**\n",
    "    Write code that will access the Census API and pull the population for the following codes.\n",
    "    Also, save the population data to a JSON file named `puerto_pop.json`\n",
    "\n",
    "    Parameters: \n",
    "    -----------\n",
    "    None\n",
    "    \n",
    "    Return: \n",
    "    -------\n",
    "    puerto_pop: dict, code and population count\n",
    "    '''\n",
    "    census_codes = ['P0120003', 'P0120004', 'P0120005', 'P0120006', 'P0120007', 'P0120008', 'P0120009', \\\n",
    "                    'P0120010', 'P0120011', 'P0120012', 'P0120013', 'P0120014', 'P0120015', 'P0120016', \\\n",
    "                    'P0120017', 'P0120018', 'P0120019', 'P0120020', 'P0120021', 'P0120022', 'P0120023', \\\n",
    "                    'P0120024', 'P0120025', 'P0120026', 'P0120027', 'P0120028', 'P0120029', 'P0120030', \\\n",
    "                    'P0120031', 'P0120032', 'P0120033', 'P0120034', 'P0120035', 'P0120036', 'P0120037', \\\n",
    "                    'P0120038', 'P0120039', 'P0120040', 'P0120041', 'P0120042', 'P0120043', 'P0120044', \\\n",
    "                    'P0120045', 'P0120046', 'P0120047', 'P0120048', 'P0120049']\n",
    "    puerto_pop = {}\n",
    "\n",
    "    return puerto_pop"
   ]
  },
  {
   "cell_type": "code",
   "execution_count": 2,
   "metadata": {
    "collapsed": false
   },
   "outputs": [
    {
     "data": {
      "text/plain": [
       "{}"
      ]
     },
     "execution_count": 2,
     "metadata": {},
     "output_type": "execute_result"
    }
   ],
   "source": [
    "# Template\n",
    "pull_puerto_rico_population()"
   ]
  },
  {
   "cell_type": "markdown",
   "metadata": {},
   "source": [
    "# Question 2\n",
    "\n",
    "Population growth and migration is important to understand demography.   \n",
    "\n",
    "Right now we're going to model population shifts under **extremely** basic (and incorrect assumptions). The most basic and incorrect assumption we will make is that the population within an age bracket is uniformly distributed. This means that if there are 10,000 50-59yo males, then we assume that there are 1,000 50yo males, 1,000 51yo males, 1,000 52yo males, and so on. \n",
    "\n",
    "These instructions are going to be a bit, so let's be clear\n",
    "* Each project year, you must advance the population's age (so 69 year olds become 70)\n",
    "* 18-39 year old couples have children\n",
    "* Maximum age is 90yo for initial census distribution\n",
    "* There is no death, so 90 becomes 100 after 10 years\n",
    "\n",
    "And the starting assumptions:\n",
    "* 54% of couples are already married (couples being comprised of two individuals 18+)\n",
    "* 23% of age-eligible couples have 1 child per year\n",
    "\n",
    "Remember that fractional humans don't exist in any year"
   ]
  },
  {
   "cell_type": "code",
   "execution_count": 16,
   "metadata": {
    "collapsed": true
   },
   "outputs": [],
   "source": [
    "# Template\n",
    "def population_growth(years=10, marriage_rate=0.54, child_production_perc=0.23):\n",
    "    '''\n",
    "    Input data comes from the `puerto_pop.json` file\n",
    "    Assumptions are listed in the preamble\n",
    "\n",
    "    Parameters: \n",
    "    -----------\n",
    "    years - number of years to grow the population over\n",
    "    marriage_rate - rate of initial marriages\n",
    "    child_production_perc - percentage of couples who have a child per year\n",
    "\n",
    "    \n",
    "    Return: \n",
    "    -------\n",
    "    age_pop: dict, year of age and population count by gender e.x.\n",
    "             age_pop = {'Male' : {0 : 1, 1 : 2, ..},\n",
    "                        'Female' : {0 : 1, 1: 2, ..}}\n",
    "    '''\n",
    "\n",
    "    return puerto_pop"
   ]
  },
  {
   "cell_type": "markdown",
   "metadata": {},
   "source": [
    "# Question 3\n",
    "\n",
    "And now we have to implement the nasty business of death. Take your reponse to Question 2 and expand it. \n",
    "\n",
    "To get the percentage of deaths for each year - divide the age by 10\n",
    "\n",
    "so 9% of 90yo pass, 8.9% of 89yo pass ... and 0.1% of 1yo pass. \n",
    "\n",
    "Remember that fractional humans don't exist in any year. All people die at midnight on Dec. 31st, so calculate that last."
   ]
  },
  {
   "cell_type": "code",
   "execution_count": 22,
   "metadata": {
    "collapsed": true
   },
   "outputs": [],
   "source": [
    "# Template\n",
    "def population_growth_and_death(years=10, marriage_rate=0.54, child_production_perc=0.23):\n",
    "    '''\n",
    "    Input data comes from the `puerto_pop.json` file\n",
    "    Assumptions are listed in the preamble as well as the death rate\n",
    "\n",
    "    Parameters: \n",
    "    -----------\n",
    "    years - number of years to grow the population over\n",
    "    marriage_rate - rate of initial marriages\n",
    "    child_production_perc - percentage of couples who have a child per year\n",
    "\n",
    "    \n",
    "    Return: \n",
    "    -------\n",
    "    age_pop: dict, year of age and population count by gender e.x.\n",
    "             age_pop = {'Male' : {0 : 1, 1 : 2, ..},\n",
    "                        'Female' : {0 : 1, 1: 2, ..}}\n",
    "    '''\n",
    "   \n",
    "    return agepops"
   ]
  },
  {
   "cell_type": "code",
   "execution_count": 23,
   "metadata": {
    "collapsed": true
   },
   "outputs": [],
   "source": [
    "# Template\n"
   ]
  },
  {
   "cell_type": "code",
   "execution_count": null,
   "metadata": {
    "collapsed": true
   },
   "outputs": [],
   "source": []
  },
  {
   "cell_type": "code",
   "execution_count": null,
   "metadata": {
    "collapsed": true
   },
   "outputs": [],
   "source": []
  }
 ],
 "metadata": {
  "anaconda-cloud": {},
  "kernelspec": {
   "display_name": "Python [Root]",
   "language": "python",
   "name": "Python [Root]"
  },
  "language_info": {
   "codemirror_mode": {
    "name": "ipython",
    "version": 3
   },
   "file_extension": ".py",
   "mimetype": "text/x-python",
   "name": "python",
   "nbconvert_exporter": "python",
   "pygments_lexer": "ipython3",
   "version": "3.5.1"
  }
 },
 "nbformat": 4,
 "nbformat_minor": 0
}
