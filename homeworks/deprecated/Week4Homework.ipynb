{
 "cells": [
  {
   "cell_type": "markdown",
   "metadata": {},
   "source": [
    "There is a data file in the homework directory `tmdb_5000_credits.csv` that contains the top 5000 movies and its cast.\n",
    "\n",
    "**Exercise 1** Write a function that takes this dataset and create a network where movie titles are connected if they share a cast member in common. Save the network as a weighted edgelist (i.e. `title_1,title_2,no_shared_connections`) in a file named `imdb_network.csv`\n",
    "\n",
    "**Exercise 2** Write a function that analyzes this dataset and calculates - average degree, average clustering, average path length, network diameter. Save it in a json file named `imdb_stats.json` with the dictionary structured as `{'degree': num, 'clustering': num, 'path': num, 'diameter': num}`\n",
    "\n",
    "**Exercise 3** Write a function that finds the shortest path from `Hollow Man` to `Newlyweds`. Save the path in a text file (named `shortest_path.txt`) where each movie title is on a new line -\n",
    "\n",
    "Hollow Man\n",
    "\n",
    "..\n",
    "\n",
    "..\n",
    "\n",
    "..\n",
    "\n",
    "Newlyweds"
   ]
  },
  {
   "cell_type": "code",
   "execution_count": null,
   "metadata": {
    "collapsed": true
   },
   "outputs": [],
   "source": []
  }
 ],
 "metadata": {
  "anaconda-cloud": {},
  "kernelspec": {
   "display_name": "Python 3",
   "language": "python",
   "name": "python3"
  },
  "language_info": {
   "codemirror_mode": {
    "name": "ipython",
    "version": 3
   },
   "file_extension": ".py",
   "mimetype": "text/x-python",
   "name": "python",
   "nbconvert_exporter": "python",
   "pygments_lexer": "ipython3",
   "version": "3.6.8"
  }
 },
 "nbformat": 4,
 "nbformat_minor": 1
}
