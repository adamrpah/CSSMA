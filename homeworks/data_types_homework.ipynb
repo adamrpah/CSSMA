{
 "cells": [
  {
   "cell_type": "markdown",
   "metadata": {},
   "source": [
    "# Question 1\n",
    "You should write code to print the sum of two numbers. However, you might not always be given two numbers!\n",
    "Write code that will take two inputs and add them together if they are both numbers."
   ]
  },
  {
   "cell_type": "code",
   "execution_count": null,
   "metadata": {},
   "outputs": [],
   "source": []
  },
  {
   "cell_type": "markdown",
   "metadata": {},
   "source": [
    "# Question 2\n",
    "\n",
    "You should write code that will take every third character from a word and capitalize it. So a word like:\n",
    "\n",
    "'potatoes'\n",
    " \n",
    " \n",
    " will become\n",
    " \n",
    " 'poTatOes'"
   ]
  },
  {
   "cell_type": "code",
   "execution_count": null,
   "metadata": {},
   "outputs": [],
   "source": []
  },
  {
   "cell_type": "markdown",
   "metadata": {},
   "source": [
    "# Question 3\n",
    "\n",
    "I want you to write code that will scan through a word and determine if it has the substring 'cat' inside of it.\n",
    "\n",
    "If it does, I want you to return `True`\n",
    "\n",
    "If it does not, I want you to return `False`"
   ]
  },
  {
   "cell_type": "code",
   "execution_count": null,
   "metadata": {},
   "outputs": [],
   "source": []
  },
  {
   "cell_type": "markdown",
   "metadata": {},
   "source": [
    "# Question 4\n",
    "\n",
    "I want you to write a simple code to create pig-latin words. The rules of pig-latin that we will use are as follows:\n",
    "\n",
    "For words that begin with a consonant, the first letter is moved to the end of the word. Then, \"ay\"  is added, as in the following examples:\n",
    "\n",
    "\"pig\" → \"igpay\"\n",
    "\"banana\" → \"ananabay\"\n",
    "\"trash\" → \"rashtay\"\n",
    "\"happy\" → \"appyhay\"\n",
    "\"duck\" → \"uckday\"\n",
    "\"shove\" → \"hovesay\"\n",
    "\n",
    "For words that begin with vowel (a,e,i,o,u) sounds, one just adds \"yay\" to the end. Examples are:\n",
    "\n",
    "\"eat\" → \"eatyay\"\n",
    "\"omelet\" → \"omeletyay\"\n",
    "\"are\" → \"areyay\"\n",
    "\n",
    "If a word has a punctuation mark at the end it should be removed (pig latin doesn't know what to do with punctuation!)"
   ]
  },
  {
   "cell_type": "code",
   "execution_count": null,
   "metadata": {},
   "outputs": [],
   "source": []
  }
 ],
 "metadata": {
  "anaconda-cloud": {},
  "kernelspec": {
   "display_name": "Python 3 (ipykernel)",
   "language": "python",
   "name": "python3"
  },
  "language_info": {
   "codemirror_mode": {
    "name": "ipython",
    "version": 3
   },
   "file_extension": ".py",
   "mimetype": "text/x-python",
   "name": "python",
   "nbconvert_exporter": "python",
   "pygments_lexer": "ipython3",
   "version": "3.10.9"
  }
 },
 "nbformat": 4,
 "nbformat_minor": 1
}
