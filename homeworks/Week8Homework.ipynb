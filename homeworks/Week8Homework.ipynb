{
 "cells": [
  {
   "cell_type": "markdown",
   "metadata": {},
   "source": [
    "What distinguishes and defines Shakespeare's comedies from his tragedies?\n",
    "\n",
    "Feel free to add to your analysis from last week, but the point of this assignment is to write it up. \n",
    "\n",
    "I do *not* need an introduction to your analysis. What I do need - methods and results. You should have figures in your write-up and you should explain how these results situate your conclusions. \n",
    "\n",
    "This should be written up as a word doc, I'm expecting ~2 pages of written text, not including figures. "
   ]
  },
  {
   "cell_type": "code",
   "execution_count": null,
   "metadata": {
    "collapsed": true
   },
   "outputs": [],
   "source": []
  }
 ],
 "metadata": {
  "anaconda-cloud": {},
  "kernelspec": {
   "display_name": "Python [Root]",
   "language": "python",
   "name": "Python [Root]"
  },
  "language_info": {
   "codemirror_mode": {
    "name": "ipython",
    "version": 3
   },
   "file_extension": ".py",
   "mimetype": "text/x-python",
   "name": "python",
   "nbconvert_exporter": "python",
   "pygments_lexer": "ipython3",
   "version": "3.5.1"
  }
 },
 "nbformat": 4,
 "nbformat_minor": 1
}
