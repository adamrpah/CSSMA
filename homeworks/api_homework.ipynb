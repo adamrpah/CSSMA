{
 "cells": [
  {
   "cell_type": "markdown",
   "metadata": {},
   "source": [
    "# Question 1\n",
    "\n",
    "Pull population data from Puerto Rico from the Census"
   ]
  },
  {
   "cell_type": "code",
   "execution_count": 1,
   "metadata": {},
   "outputs": [],
   "source": [
    "# Template\n",
    "def pull_puerto_rico_population():\n",
    "    '''\n",
    "    **Do Not Run on Vocareum**\n",
    "    **Save data to files as specified and then upload to platform**\n",
    "    Write code that will access the Census API and pull the total population by age brackets.\n",
    "    Also, save the population data to a JSON file named `puerto_pop.json`\n",
    "\n",
    "    Parameters: \n",
    "    -----------\n",
    "    None\n",
    "    \n",
    "    Return: \n",
    "    -------\n",
    "    puerto_pop: dict, code and population count\n",
    "    '''\n",
    "    puerto_pop = {}\n",
    "\n",
    "    return puerto_pop"
   ]
  },
  {
   "cell_type": "code",
   "execution_count": 2,
   "metadata": {},
   "outputs": [
    {
     "data": {
      "text/plain": [
       "{}"
      ]
     },
     "execution_count": 2,
     "metadata": {},
     "output_type": "execute_result"
    }
   ],
   "source": [
    "# Template\n",
    "pull_puerto_rico_population()"
   ]
  },
  {
   "cell_type": "markdown",
   "metadata": {},
   "source": [
    "# Question 2\n",
    "\n",
    "Population growth and migration is important to understand demography.   \n",
    "\n",
    "Right now we're going to model population shifts under **extremely** basic (and incorrect assumptions). The most basic and incorrect assumption we will make is that the population within an age bracket is uniformly distributed. This means that if there are 10,000 50-59yo males, then we assume that there are 1,000 50yo males, 1,000 51yo males, 1,000 52yo males, and so on. \n",
    "\n",
    "These instructions are going to be a bit, so let's be clear\n",
    "* Each project year, you must advance the population's age (so 69 year olds become 70)\n",
    "* 18-39 year old couples have children\n",
    "* Maximum age is 90yo for initial census distribution\n",
    "* There is no death, so 90 becomes 100 after 10 years\n",
    "\n",
    "And the starting assumptions:\n",
    "* 54% of couples are already married (couples being comprised of two individuals 18+)\n",
    "* 23% of age-eligible couples have 1 child per year\n",
    "\n",
    "Remember that fractional humans don't exist in any year"
   ]
  },
  {
   "cell_type": "code",
   "execution_count": 16,
   "metadata": {
    "collapsed": true
   },
   "outputs": [],
   "source": [
    "# Template\n",
    "def population_growth(years=10, marriage_rate=0.54, child_production_perc=0.23):\n",
    "    '''\n",
    "    Input data comes from the `puerto_pop.json` file\n",
    "    Assumptions are listed in the preamble\n",
    "\n",
    "    Parameters: \n",
    "    -----------\n",
    "    years - number of years to grow the population over\n",
    "    marriage_rate - rate of initial marriages\n",
    "    child_production_perc - percentage of couples who have a child per year\n",
    "\n",
    "    \n",
    "    Return: \n",
    "    -------\n",
    "    age_pop: dict, year of age and population count by gender e.x.\n",
    "             age_pop = {'Male' : {0 : 1, 1 : 2, ..},\n",
    "                        'Female' : {0 : 1, 1: 2, ..}}\n",
    "    '''\n",
    "\n",
    "    return puerto_pop"
   ]
  },
  {
   "cell_type": "markdown",
   "metadata": {},
   "source": [
    "# Question 3\n",
    "\n",
    "And now we have to implement the nasty business of death. Take your reponse to Question 2 and expand it. \n",
    "\n",
    "To get the percentage of deaths for each year - divide the age by 10\n",
    "\n",
    "so 9% of 90yo pass, 8.9% of 89yo pass ... and 0.1% of 1yo pass. \n",
    "\n",
    "Remember that fractional humans don't exist in any year. All people die at midnight on Dec. 31st, so calculate that last."
   ]
  },
  {
   "cell_type": "code",
   "execution_count": 22,
   "metadata": {
    "collapsed": true
   },
   "outputs": [],
   "source": [
    "# Template\n",
    "def population_growth_and_death(years=10, marriage_rate=0.54, child_production_perc=0.23):\n",
    "    '''\n",
    "    Input data comes from the `puerto_pop.json` file\n",
    "    Assumptions are listed in the preamble as well as the death rate\n",
    "\n",
    "    Parameters: \n",
    "    -----------\n",
    "    years - number of years to grow the population over\n",
    "    marriage_rate - rate of initial marriages\n",
    "    child_production_perc - percentage of couples who have a child per year\n",
    "\n",
    "    \n",
    "    Return: \n",
    "    -------\n",
    "    age_pop: dict, year of age and population count by gender e.x.\n",
    "             age_pop = {'Male' : {0 : 1, 1 : 2, ..},\n",
    "                        'Female' : {0 : 1, 1: 2, ..}}\n",
    "    '''\n",
    "   \n",
    "    return agepops"
   ]
  },
  {
   "cell_type": "code",
   "execution_count": 23,
   "metadata": {
    "collapsed": true
   },
   "outputs": [],
   "source": [
    "# Template\n"
   ]
  },
  {
   "cell_type": "code",
   "execution_count": null,
   "metadata": {
    "collapsed": true
   },
   "outputs": [],
   "source": []
  },
  {
   "cell_type": "code",
   "execution_count": null,
   "metadata": {
    "collapsed": true
   },
   "outputs": [],
   "source": []
  }
 ],
 "metadata": {
  "anaconda-cloud": {},
  "kernelspec": {
   "display_name": "Python 3",
   "language": "python",
   "name": "python3"
  },
  "language_info": {
   "codemirror_mode": {
    "name": "ipython",
    "version": 3
   },
   "file_extension": ".py",
   "mimetype": "text/x-python",
   "name": "python",
   "nbconvert_exporter": "python",
   "pygments_lexer": "ipython3",
   "version": "3.6.8"
  }
 },
 "nbformat": 4,
 "nbformat_minor": 1
}
