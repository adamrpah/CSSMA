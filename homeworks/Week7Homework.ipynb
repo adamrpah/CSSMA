{
 "cells": [
  {
   "cell_type": "markdown",
   "metadata": {},
   "source": [
    "Shakespeare's plays are considered masterpieces (and we'll ignore the question of whether he wrote all of them or not). He has typically three periods of tragedies, Titus Andronicus (first) Romeo and Juliet (second), Hamlet, Othello, King Lear, Macbeth, and Antony and Cleopatra (third).\n",
    "\n",
    "What makes him such a master though, is he also wrote comedies that are classics. These include As you like it, The Merchant of Venice, A Midsummer Night's Dream, Much Ado About Nothing, The Taming of the Shrew, The Two Gentleman of Verona and others. \n",
    "\n",
    "What, if anything, quantitatively distinguishes comedies from dramas (and vice versa)?\n",
    "\n",
    "You will conduct your own open-ended analysis for this week's homework. Next week you will start a write-up of your analysis (and can further extend it).\n",
    "\n",
    "This assignment and next week's write up that goes with it should be considered a quick, dry run for your independent research. Your write-up will give you a chance for me to give you feedback and make it clear what I am looking for when you think about your final product due at the end of spring."
   ]
  },
  {
   "cell_type": "code",
   "execution_count": null,
   "metadata": {
    "collapsed": true
   },
   "outputs": [],
   "source": []
  }
 ],
 "metadata": {
  "anaconda-cloud": {},
  "kernelspec": {
   "display_name": "Python [Root]",
   "language": "python",
   "name": "Python [Root]"
  },
  "language_info": {
   "codemirror_mode": {
    "name": "ipython",
    "version": 3
   },
   "file_extension": ".py",
   "mimetype": "text/x-python",
   "name": "python",
   "nbconvert_exporter": "python",
   "pygments_lexer": "ipython3",
   "version": "3.5.1"
  }
 },
 "nbformat": 4,
 "nbformat_minor": 1
}
