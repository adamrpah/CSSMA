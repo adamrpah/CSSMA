{
 "cells": [
  {
   "cell_type": "markdown",
   "metadata": {},
   "source": [
    "# Question 1\n",
    "\n",
    "Write a function that converts Erik Durm's [wikipedia page](../Special-Topics/Web-Scraping.ipynb#Beautiful-Soup,-so-rich-and-green,-Waiting-in-a-hot-tureen!)) into a soup object and extracts the `<p>` element that starts with \"In the 2013–14 Bundesliga season...\". Your function must return the Beautiful Soup's `Tag` object itself.\n",
    "\n",
    "    def extract_bundesliga_p_tag(wiki_path):\n",
    "        '''\n",
    "        Extracts the <p> tag from ErikDurmWiki that starts with:\n",
    "        \"In the 2013-14 Bundesliga season.\n",
    "\n",
    "        Parameters:\n",
    "        -----------\n",
    "        wiki_path : (str)\n",
    "            Path to Erik Durm's wikipedia page in the Data folder.\n",
    "\n",
    "        Returns:\n",
    "        --------\n",
    "        p_tag : (bs4.element.tag)   \n",
    "            Beautiful Soup's tag object containing the paragraph in question.\n",
    "        '''"
   ]
  },
  {
   "cell_type": "markdown",
   "metadata": {},
   "source": [
    "# Question 2\n",
    "\n",
    "In class we built an extraction pipeline for the `company_search` SEC EDGAR results. Now build an extraction pipeline for the `sec_description` SEC EDGAR results. You need to determine what are all of the appropriate metadata fields, \n",
    "\n",
    "    def extract_sec_descriptions(data_path):\n",
    "        '''\n",
    "        Extracts the documents from the sec descriptions and produces a pandas dataframe appropriate for downstream analysis and use.\n",
    "\n",
    "        Parameters:\n",
    "        -----------\n",
    "        data_path : (str)\n",
    "            Path to the data\n",
    "\n",
    "        Returns:\n",
    "        --------\n",
    "        df : (dataframe)\n",
    "            Pandas dataframe where each row is a filed document and appropriate metadata is extracted as individual columns\n",
    "        '''"
   ]
  },
  {
   "cell_type": "code",
   "execution_count": null,
   "metadata": {
    "collapsed": true
   },
   "outputs": [],
   "source": []
  }
 ],
 "metadata": {
  "anaconda-cloud": {},
  "kernelspec": {
   "display_name": "Python 3",
   "language": "python",
   "name": "python3"
  },
  "language_info": {
   "codemirror_mode": {
    "name": "ipython",
    "version": 3
   },
   "file_extension": ".py",
   "mimetype": "text/x-python",
   "name": "python",
   "nbconvert_exporter": "python",
   "pygments_lexer": "ipython3",
   "version": "3.8.10"
  },
  "toc": {
   "base_numbering": 1,
   "nav_menu": {},
   "number_sections": true,
   "sideBar": true,
   "skip_h1_title": false,
   "title_cell": "Table of Contents",
   "title_sidebar": "Contents",
   "toc_cell": false,
   "toc_position": {},
   "toc_section_display": true,
   "toc_window_display": true
  }
 },
 "nbformat": 4,
 "nbformat_minor": 1
}
