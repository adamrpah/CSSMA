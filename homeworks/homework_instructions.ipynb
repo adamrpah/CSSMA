{
 "cells": [
  {
   "cell_type": "code",
   "execution_count": 2,
   "metadata": {},
   "outputs": [
    {
     "data": {
      "text/html": [
       "<style>\n",
       "    @font-face {\n",
       "        font-family: \"Computer Modern\";\n",
       "        src: url('http://9dbb143991406a7c655e-aa5fcb0a5a4ec34cff238a2d56ca4144.r56.cf5.rackcdn.com/cmunss.otf');\n",
       "    }\n",
       "    @font-face {\n",
       "        font-family: \"Computer Modern\";\n",
       "        font-weight: bold;\n",
       "        src: url('http://9dbb143991406a7c655e-aa5fcb0a5a4ec34cff238a2d56ca4144.r56.cf5.rackcdn.com/cmunsx.otf');\n",
       "    }\n",
       "    @font-face {\n",
       "        font-family: \"Computer Modern\";\n",
       "        font-style: oblique;\n",
       "        src: url('http://9dbb143991406a7c655e-aa5fcb0a5a4ec34cff238a2d56ca4144.r56.cf5.rackcdn.com/cmunsi.otf');\n",
       "    }\n",
       "    @font-face {\n",
       "        font-family: \"Computer Modern\";\n",
       "        font-weight: bold;\n",
       "        font-style: oblique;\n",
       "        src: url('http://9dbb143991406a7c655e-aa5fcb0a5a4ec34cff238a2d56ca4144.r56.cf5.rackcdn.com/cmunso.otf');\n",
       "    }\n",
       "    h1 {\n",
       "        font-family: Helvetica, serif;\n",
       "    }\n",
       "    h4{\n",
       "        margin-top:12px;\n",
       "        margin-bottom: 3px;\n",
       "       }\n",
       "    div.text_cell_render{\n",
       "        font-family: Computer Modern, \"Helvetica Neue\", Arial, Helvetica, Geneva, sans-serif;\n",
       "        line-height: 145%;\n",
       "        font-size: 130%;\n",
       "        margin-left:auto;\n",
       "        margin-right:auto;\n",
       "    }\n",
       "    .CodeMirror{\n",
       "            font-family: \"Source Code Pro\", source-code-pro,Consolas, monospace;\n",
       "    }\n",
       "    .text_cell_render h5 {\n",
       "        font-weight: 300;\n",
       "        font-size: 22pt;\n",
       "        color: #4057A1;\n",
       "        font-style: italic;\n",
       "        margin-bottom: .5em;\n",
       "        margin-top: 0.5em;\n",
       "        display: block;\n",
       "    }\n",
       "    \n",
       "    .warning{\n",
       "        color: rgb( 240, 20, 20 )\n",
       "        }  \n",
       "</style>\n",
       "<script>\n",
       "    MathJax.Hub.Config({\n",
       "                        TeX: {\n",
       "                           extensions: [\"AMSmath.js\"]\n",
       "                           },\n",
       "                tex2jax: {\n",
       "                    inlineMath: [ ['$','$'], [\"\\\\(\",\"\\\\)\"] ],\n",
       "                    displayMath: [ ['$$','$$'], [\"\\\\[\",\"\\\\]\"] ]\n",
       "                },\n",
       "                displayAlign: 'center', // Change this to 'center' to center equations.\n",
       "                \"HTML-CSS\": {\n",
       "                    styles: {'.MathJax_Display': {\"margin\": 4}}\n",
       "                }\n",
       "        });\n",
       "</script>\n"
      ],
      "text/plain": [
       "<IPython.core.display.HTML object>"
      ]
     },
     "execution_count": 2,
     "metadata": {},
     "output_type": "execute_result"
    }
   ],
   "source": [
    "from IPython.core.display import HTML\n",
    "\n",
    "def css_styling():\n",
    "    styles = open(\"../data/www/styles/custom.css\", \"r\").read()\n",
    "    return HTML(styles)\n",
    "css_styling()"
   ]
  },
  {
   "cell_type": "markdown",
   "metadata": {},
   "source": [
    "# Homework instructions\n",
    "\n",
    "For homework submission we will be using the Vocareum platform. It has a number of advantages in comparison to a manual submission - namely:\n",
    "\n",
    "* It provides a sandboxed environment to run code. This has a benefit to me (i.e. you can't give me a virus or hack my computer), but it has a large benefit to you too. Writing reproducible code means that it can run on someone else's computer. Often we think that we are writing reproducible code, but it is not because we have written instructions that are specific to our computer. Vocareum will force you to make sure that you are writing code that can be executed in another environment.\n",
    "* It provides a platform to comment on peer's code. One of the beautiful parts of using computational tools to solve problems, is that there are a near infinite number of ways to arrive at the same answer for a given problem. However, this is daunting for those starting out as you are left many times not knowing where to start. Peer feedback is meant to both (i) allow you to see how someone else in the class solved a problem and (ii) provide feedback/suggestions of how they could improve their code.\n",
    "\n",
    "# Homework process\n",
    "\n",
    "1. Use the homework template that I have supplied.\n",
    "2. Write/do your homework on your personal PC.\n",
    "3. Upload your notebook and data files to the Vocareum server (link through canvas).\n",
    "4. Test to make sure that cells run/work on Vocaruem (if there is a cell that shouldn't be run on Vocareum, like scraping a website, I will tell you in the docstring).\n",
    "\n",
    "\n",
    "# Usage hints\n",
    "\n",
    "1. **You must always use relative paths**. This is one of the most common causes of code that cannot run in another environment. If you use an absolute path (i.e. one that starts anywhere other than where the notebook starts), it is highly unlikely that the path will exist anywhere else **other than your computer!**. This feels obvious (hint: there is no /Users/adampah/Desktop/ on a Vocareum computer because it isn't my personal computer), but it is one of the most common mistakes.\n",
    "2. You have access to the entire folder on Vocareum; however, **you must not change the name of script files**. My grading code works because it expects/looks for files as I have named them. If you don't use that naming convention, it can't find the file, then it won't run, and then you won't get interim feedback.\n",
    "3. Following the last point - **the instructions in the docstring are not a suggestion, they are the assignment.** You must accept the input and return the output **as I specify it.** This includes matching the variable type. This is designed to provide structure and instill good habits. One of the best processes that I have picked up over time is defining my functions and their inputs/outputs before I actually start writing code. This will force you to think through an entire program beforehand (which will also expose any holes in your knowledge of the research process that you are trying to create). \n",
    "4. **All functional code must go in the functions that I define.** You are encouraged to write additional code outside of these functions to test your functions, but only code within functions will be graded.\n",
    "5. **There can be no errors or non-python commands in your submitted notebook for grading.** If a cell produces an error, it breaks the grading code. If you leave a `ls *` in a cell, that will also break the grading code. I will still grade your notebook by hand once the assignment submission date has passed, but you will receive **no interim feedback**.\n",
    "6. Every function must be self-contained. **This means all import statements should go inside the function that are used.**"
   ]
  },
  {
   "cell_type": "code",
   "execution_count": null,
   "metadata": {
    "collapsed": true
   },
   "outputs": [],
   "source": []
  }
 ],
 "metadata": {
  "anaconda-cloud": {},
  "kernelspec": {
   "display_name": "Python 3",
   "language": "python",
   "name": "python3"
  },
  "language_info": {
   "codemirror_mode": {
    "name": "ipython",
    "version": 3
   },
   "file_extension": ".py",
   "mimetype": "text/x-python",
   "name": "python",
   "nbconvert_exporter": "python",
   "pygments_lexer": "ipython3",
   "version": "3.6.8"
  }
 },
 "nbformat": 4,
 "nbformat_minor": 1
}
