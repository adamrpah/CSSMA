{
 "cells": [
  {
   "cell_type": "markdown",
   "metadata": {},
   "source": [
    "The class has scraped instagram accounts at two time-points (which I will refer to as `t1` and `t2` for the first and second scrape).\n",
    "\n",
    "**Exercise 1** Create a dataframe that aggregates the data from `t1` and `t2` and has removed duplicate entries. Add columns for `day`, `month`, and `year` that are parsed from the timestamp on the post\n",
    "\n",
    "**Exercise 2** For each user, calculate their degree on a daily basis. Store this data as a json file named `user_degrees.json`, where the key is the username and the value is a list of tuples with date as the first item and degree as the second item (i.e. `[(date_1, degree_1), (date_2, degree_2), ...]`)\n",
    "\n",
    "**Exercise 3** Create two networks for two different iso calendar weeks. Test if the degree distribution is the same between the two weeks. Save the test name and p-value in a csv named `test_degree_distributions.csv`. As a header it should have `test_name,p_value`."
   ]
  },
  {
   "cell_type": "code",
   "execution_count": null,
   "metadata": {
    "collapsed": true
   },
   "outputs": [],
   "source": []
  }
 ],
 "metadata": {
  "kernelspec": {
   "display_name": "Python [Root]",
   "language": "python",
   "name": "Python [Root]"
  },
  "language_info": {
   "codemirror_mode": {
    "name": "ipython",
    "version": 3
   },
   "file_extension": ".py",
   "mimetype": "text/x-python",
   "name": "python",
   "nbconvert_exporter": "python",
   "pygments_lexer": "ipython3",
   "version": "3.5.1"
  }
 },
 "nbformat": 4,
 "nbformat_minor": 0
}
