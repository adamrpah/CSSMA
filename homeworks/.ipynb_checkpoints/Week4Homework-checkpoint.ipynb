{
 "cells": [
  {
   "cell_type": "markdown",
   "metadata": {
    "collapsed": true
   },
   "source": [
    "This week your homework is to scrape instagram, the scraping load is relatively light by design.\n",
    "\n",
    "This is practice to build experience using selenium with a complicated, modern website.\n",
    "\n",
    "The list of initial accounts to start from will be decided upon in class. You only need to choose one starting account.\n",
    "\n",
    "What to scrape:\n",
    "1. Starting with 1 user scrape the names of accounts that commented on the last 10 photos. You should track which account liked which photo. The end result should look like:\n",
    "\n",
    "    <pre>PostingAccount,CommentingAccount,PostId,PostDate\n",
    "    \n",
    "   PostyMcPostface,CommentyMcCommentface,1ea98234jadj2,1-10-2017</pre>\n",
    "    \n",
    "    .\n",
    "\n",
    "2. Sample, at random, 10 of the 'commenting' accounts and repeat the procedure for these accounts. Append the 'friendship' data to the data file. \n",
    "\n",
    "3. Upload your code and data to Canvas\n",
    "\n",
    "    * be named instagram_friendships.csv\n",
    "    * have the column headers as shown in bullet point 1"
   ]
  },
  {
   "cell_type": "code",
   "execution_count": null,
   "metadata": {
    "collapsed": true
   },
   "outputs": [],
   "source": []
  }
 ],
 "metadata": {
  "anaconda-cloud": {},
  "kernelspec": {
   "display_name": "Python 3",
   "language": "python",
   "name": "python3"
  },
  "language_info": {
   "codemirror_mode": {
    "name": "ipython",
    "version": 3
   },
   "file_extension": ".py",
   "mimetype": "text/x-python",
   "name": "python",
   "nbconvert_exporter": "python",
   "pygments_lexer": "ipython3",
   "version": "3.6.8"
  }
 },
 "nbformat": 4,
 "nbformat_minor": 1
}
