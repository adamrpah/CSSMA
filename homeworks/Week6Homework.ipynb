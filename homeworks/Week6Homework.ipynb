{
 "cells": [
  {
   "cell_type": "markdown",
   "metadata": {},
   "source": [
    "# Exercise 1\n",
    "\n",
    "The Participation coefficient ($P_i$) for node $i$ is defined as\n",
    "\n",
    "$P_i=1 - \\sum_{s=1}^{N_M}(\\frac{k_{is}}{k_i})^2$\n",
    "\n",
    "where $k_{is}$ is the number of links of node $i$ to nodes in module $s$ and $k_i$ is the total degree of node $i$. This metric is used to quantify how much a node 'participates' in its own module or across modules (i.e. how much of a role does it have on  local vs. global scale).\n",
    "\n",
    "Calculate the participation coefficient for all nodes in the unweighted game of thrones network using the unweighted community designations.\n",
    "\n",
    "Save your answer into a file `got_participation.csv` where the data is ordered as: `Name,Participation`. Use the actual names (and not node ids) and include the supplied header."
   ]
  },
  {
   "cell_type": "markdown",
   "metadata": {},
   "source": [
    "# Exercise 2\n",
    "\n",
    "Does Robb Stark have a significantly higher participation coefficient than would be expected by chance?\n",
    "\n",
    "Save your answer into a file stark_participation.csv with the data ordered as: `Answer,zScore`. Answer should be yes/no (lowercase) and you should include the supplied header."
   ]
  },
  {
   "cell_type": "code",
   "execution_count": null,
   "metadata": {
    "collapsed": true
   },
   "outputs": [],
   "source": []
  }
 ],
 "metadata": {
  "anaconda-cloud": {},
  "kernelspec": {
   "display_name": "Python 3",
   "language": "python",
   "name": "python3"
  },
  "language_info": {
   "codemirror_mode": {
    "name": "ipython",
    "version": 3
   },
   "file_extension": ".py",
   "mimetype": "text/x-python",
   "name": "python",
   "nbconvert_exporter": "python",
   "pygments_lexer": "ipython3",
   "version": "3.6.8"
  }
 },
 "nbformat": 4,
 "nbformat_minor": 1
}
