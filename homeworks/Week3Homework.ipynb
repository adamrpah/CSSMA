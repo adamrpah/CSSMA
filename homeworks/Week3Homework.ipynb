{
 "cells": [
  {
   "cell_type": "markdown",
   "metadata": {
    "collapsed": true
   },
   "source": [
    "This week your homework is to scrape instagram, the scraping load is relatively light but it still must be run on your laptop (not vocareum).\n",
    "\n",
    "We covered three ways to scrape in class: requests, scrapy, or selenium. You are free to use whichever method(s) you want to use. \n",
    "\n",
    "The list of initial accounts to start from will be decided upon in class. You only need to choose one starting account.\n",
    "\n",
    "What to scrape:\n",
    "1. Starting with 1 user scrape the names of accounts that commented on the last 20 photos. You should track which account liked which photo. The end result should look like:\n",
    "\n",
    "    <pre>PostingAccount,CommentingAccount,PostId,PostDate\n",
    "    \n",
    "   PostyMcPostface,CommentyMcCommentface,1ea98234jadj2,1-10-2017</pre>\n",
    "    \n",
    "    .\n",
    "\n",
    "2. Sample, at random, 10 of the 'commenting' accounts and repeat the procedure for these accounts. Append the 'friendship' data to the data file. \n",
    "\n",
    "3. Upload your code and data file to Vocareum. The data file should:\n",
    "\n",
    "    * be named instagram_friendships.csv\n",
    "    * have the column headers as shown in bullet point 1"
   ]
  },
  {
   "cell_type": "code",
   "execution_count": null,
   "metadata": {
    "collapsed": true
   },
   "outputs": [],
   "source": []
  }
 ],
 "metadata": {
  "anaconda-cloud": {},
  "kernelspec": {
   "display_name": "Python [Root]",
   "language": "python",
   "name": "Python [Root]"
  },
  "language_info": {
   "codemirror_mode": {
    "name": "ipython",
    "version": 3
   },
   "file_extension": ".py",
   "mimetype": "text/x-python",
   "name": "python",
   "nbconvert_exporter": "python",
   "pygments_lexer": "ipython3",
   "version": "3.5.1"
  }
 },
 "nbformat": 4,
 "nbformat_minor": 0
}
