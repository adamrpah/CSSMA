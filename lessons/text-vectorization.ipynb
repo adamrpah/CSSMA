{
 "cells": [
  {
   "cell_type": "markdown",
   "metadata": {
    "collapsed": true,
    "slideshow": {
     "slide_type": "slide"
    }
   },
   "source": [
    "# The purpose\n",
    "\n",
    "In any language there is structure in a sentence; verbs communicate action, nouns represent entities, and adjectives describe.\n",
    "\n",
    "For a single word, synonyms represent a word that has the same or nearly the same meaning that can serve as a substitute. These relationships are curated/stored manually in thesauruses.\n",
    "\n",
    "However, there are relationships between words that are not synonyms - i.e. both a car and a horse can be means of conveyance (although a horse also exists on its own, unlike a car). What we desire is to build a framework that allows us to identify similarities in words and their meanings that extends beyond substitutable words.\n",
    "\n",
    "This effort/project would be far too large to be undertaken by humans, the question is how we could quantitatively tackle it. "
   ]
  },
  {
   "cell_type": "markdown",
   "metadata": {
    "collapsed": true,
    "slideshow": {
     "slide_type": "slide"
    }
   },
   "source": [
    "# Exploiting structure\n",
    "\n",
    "Fortunately, languages are constructed as such that there is some similarity in sentence structure and word usage when we attempt to express similar concepts.\n",
    "\n",
    "*I rode in the car into town.* \n",
    "\n",
    "*I rode the horse into town.*\n",
    "\n",
    "Not **exactly** the same, which makes this task difficult, but sufficiently similar to undertake the task."
   ]
  },
  {
   "cell_type": "markdown",
   "metadata": {
    "slideshow": {
     "slide_type": "slide"
    }
   },
   "source": [
    "# Vectors and matrices - verbal similarity to numeric distance\n",
    "\n",
    "The basic concept - take words and according to how they are used in bodies of text, encode them in a n-dimensional space. Since there is no starting cartesian coordinate for a word, we have to essentially situate all of the words based on their co-occurences in sentences together. Words that are never together shouldn't be right next to each other, but if they are used in sentences similarly then the direction/magnitude of their relationships should be similar (although distant in vector space)."
   ]
  },
  {
   "cell_type": "markdown",
   "metadata": {
    "slideshow": {
     "slide_type": "slide"
    }
   },
   "source": [
    "<img src='../images/word_matrix.jpg' width='400px'></img>"
   ]
  },
  {
   "cell_type": "markdown",
   "metadata": {},
   "source": [
    "# Converting context into numbers\n",
    "\n",
    "There multiple approaches for encoding verbal context into numeric distances, we are going to explore *k-skip n-grams*, which is one of the approaches."
   ]
  },
  {
   "cell_type": "markdown",
   "metadata": {},
   "source": [
    "# k-skip n-grams\n",
    "\n",
    "Once we detail it, then name gives it away. A k-skip n-gram specifies that you will create all n-grams in a sentence up to k-skips away. Similar to a rolling average, k is our window length. So if we take the sentence:\n",
    "\n",
    "*I ran to the store to pick up milk.*\n",
    "\n",
    "and said that we should do **bi-grams**, then we would have\n",
    "\n",
    "`[('I', 'ran'), ('ran', 'to'), ('the', 'store'), ('store', 'to'), ('to', 'pick'), ('pick', 'up'), ('up', 'milk')]`\n",
    "\n",
    "which is 7 bi-grams."
   ]
  },
  {
   "cell_type": "markdown",
   "metadata": {},
   "source": [
    "If I then asked for **1-skip bi-grams**, then we would have:\n",
    "\n",
    "`[(I, ran), (I, to), (ran, to), (ran, the), (to, the), (to, store), (the, store), (the, to), (store, to), (store, pick), (to, pick), (to, up), (pick, up), (pick, milk), (up, milk)]`\n",
    "\n",
    "which is 15 bi-grams. "
   ]
  },
  {
   "cell_type": "markdown",
   "metadata": {},
   "source": [
    "You can use any combination of `n` and `k` that you desire, but it is already to easy to see how the number of word combinations explodes as `n` and `k` increase for even a single sentence. "
   ]
  },
  {
   "cell_type": "code",
   "execution_count": 24,
   "metadata": {},
   "outputs": [
    {
     "data": {
      "text/plain": [
       "[('I', 'ran'),\n",
       " ('ran', 'to'),\n",
       " ('to', 'the'),\n",
       " ('the', 'store'),\n",
       " ('store', 'to'),\n",
       " ('to', 'pick'),\n",
       " ('pick', 'up'),\n",
       " ('up', 'milk')]"
      ]
     },
     "execution_count": 24,
     "metadata": {},
     "output_type": "execute_result"
    }
   ],
   "source": [
    "from nltk.util import skipgrams\n",
    "\n",
    "sentence = ['I', 'ran', 'to', 'the', 'store', 'to', 'pick', 'up', 'milk']\n",
    "list( skipgrams(sentence, 2, 0) )"
   ]
  },
  {
   "cell_type": "code",
   "execution_count": 25,
   "metadata": {},
   "outputs": [
    {
     "data": {
      "text/plain": [
       "[('I', 'ran'),\n",
       " ('I', 'to'),\n",
       " ('ran', 'to'),\n",
       " ('ran', 'the'),\n",
       " ('to', 'the'),\n",
       " ('to', 'store'),\n",
       " ('the', 'store'),\n",
       " ('the', 'to'),\n",
       " ('store', 'to'),\n",
       " ('store', 'pick'),\n",
       " ('to', 'pick'),\n",
       " ('to', 'up'),\n",
       " ('pick', 'up'),\n",
       " ('pick', 'milk'),\n",
       " ('up', 'milk')]"
      ]
     },
     "execution_count": 25,
     "metadata": {},
     "output_type": "execute_result"
    }
   ],
   "source": [
    "list( skipgrams(sentence, 2, 1) )"
   ]
  },
  {
   "cell_type": "code",
   "execution_count": 26,
   "metadata": {},
   "outputs": [
    {
     "data": {
      "text/plain": [
       "[('I', 'ran'),\n",
       " ('I', 'to'),\n",
       " ('I', 'the'),\n",
       " ('ran', 'to'),\n",
       " ('ran', 'the'),\n",
       " ('ran', 'store'),\n",
       " ('to', 'the'),\n",
       " ('to', 'store'),\n",
       " ('to', 'to'),\n",
       " ('the', 'store'),\n",
       " ('the', 'to'),\n",
       " ('the', 'pick'),\n",
       " ('store', 'to'),\n",
       " ('store', 'pick'),\n",
       " ('store', 'up'),\n",
       " ('to', 'pick'),\n",
       " ('to', 'up'),\n",
       " ('to', 'milk'),\n",
       " ('pick', 'up'),\n",
       " ('pick', 'milk'),\n",
       " ('up', 'milk')]"
      ]
     },
     "execution_count": 26,
     "metadata": {},
     "output_type": "execute_result"
    }
   ],
   "source": [
    "list( skipgrams(sentence, 2, 2) )"
   ]
  },
  {
   "cell_type": "code",
   "execution_count": 27,
   "metadata": {},
   "outputs": [
    {
     "data": {
      "text/plain": [
       "[('I', 'ran', 'to'),\n",
       " ('I', 'ran', 'the'),\n",
       " ('I', 'ran', 'store'),\n",
       " ('I', 'to', 'the'),\n",
       " ('I', 'to', 'store'),\n",
       " ('I', 'the', 'store'),\n",
       " ('ran', 'to', 'the'),\n",
       " ('ran', 'to', 'store'),\n",
       " ('ran', 'to', 'to'),\n",
       " ('ran', 'the', 'store'),\n",
       " ('ran', 'the', 'to'),\n",
       " ('ran', 'store', 'to'),\n",
       " ('to', 'the', 'store'),\n",
       " ('to', 'the', 'to'),\n",
       " ('to', 'the', 'pick'),\n",
       " ('to', 'store', 'to'),\n",
       " ('to', 'store', 'pick'),\n",
       " ('to', 'to', 'pick'),\n",
       " ('the', 'store', 'to'),\n",
       " ('the', 'store', 'pick'),\n",
       " ('the', 'store', 'up'),\n",
       " ('the', 'to', 'pick'),\n",
       " ('the', 'to', 'up'),\n",
       " ('the', 'pick', 'up'),\n",
       " ('store', 'to', 'pick'),\n",
       " ('store', 'to', 'up'),\n",
       " ('store', 'to', 'milk'),\n",
       " ('store', 'pick', 'up'),\n",
       " ('store', 'pick', 'milk'),\n",
       " ('store', 'up', 'milk'),\n",
       " ('to', 'pick', 'up'),\n",
       " ('to', 'pick', 'milk'),\n",
       " ('to', 'up', 'milk'),\n",
       " ('pick', 'up', 'milk')]"
      ]
     },
     "execution_count": 27,
     "metadata": {},
     "output_type": "execute_result"
    }
   ],
   "source": [
    "list( skipgrams(sentence, 3, 2) )"
   ]
  },
  {
   "cell_type": "markdown",
   "metadata": {},
   "source": [
    "Relatively simple to calculate quickly with nltk. Writing our own function wouldn't be awful either, we would just want to make use of the `collections` library and use the combination/permutation functions. \n",
    "\n",
    "As a quick test, I am want you to load one the WoS data and calculate how many skip-grams there are for one journal (take your pick of `n` and `k`)."
   ]
  },
  {
   "cell_type": "code",
   "execution_count": 28,
   "metadata": {
    "collapsed": true
   },
   "outputs": [],
   "source": [
    "#Exercise\n"
   ]
  },
  {
   "cell_type": "markdown",
   "metadata": {},
   "source": [
    "# How does this fit in?\n",
    "\n",
    "The trick is that we turn this into a prediction problem. When we look at the sentence\n",
    "\n",
    "`I ran to the store to pick up milk.`\n",
    "\n",
    "and we construct a skip-gram\n",
    "\n",
    "`['ran', 'to', 'store']`\n",
    "\n",
    "there is the skipped word\n",
    "\n",
    "`'the'`\n",
    "\n",
    "which we could set up as a `(context, target)` pair\n",
    "\n",
    "`(['ran', 'to', 'store'], 'the')`\n",
    "\n",
    "We could set this up as a problem when we input `['ran', 'to', 'store']` to predict `the` or use `the` to predict its context words. "
   ]
  },
  {
   "cell_type": "markdown",
   "metadata": {},
   "source": [
    "# Setting up the prediction problem\n",
    "\n",
    "There are two ways that we can go about this - one is to use the skip grams model we already set up\n",
    "\n",
    "<img src='../images/skipgram.png'></img>\n",
    "\n",
    "the embedding then is the learned weights in the projection layer.  This works best when we have a very large dataset."
   ]
  },
  {
   "cell_type": "markdown",
   "metadata": {},
   "source": [
    "The alternative is the continuous bag of words\n",
    "\n",
    "<img src='../images/cbow.png'></img>\n",
    "\n",
    "with this approach, we use the context to predict the target. This averages out the noise of individual words contribution to context, which makes it workable with smaller datasets."
   ]
  },
  {
   "cell_type": "markdown",
   "metadata": {
    "collapsed": true,
    "slideshow": {
     "slide_type": "slide"
    }
   },
   "source": [
    "# A primer on neural nets\n",
    "\n",
    "<img src='../images/l9_neuralnet_-1.png'></img>"
   ]
  },
  {
   "cell_type": "markdown",
   "metadata": {
    "slideshow": {
     "slide_type": "slide"
    }
   },
   "source": [
    "<img src='../images/l9_neuralnet_0.png'></img>"
   ]
  },
  {
   "cell_type": "markdown",
   "metadata": {
    "slideshow": {
     "slide_type": "slide"
    }
   },
   "source": [
    "<img src='../images/l9_neuralnet_1.png' width='600px'></img>"
   ]
  },
  {
   "cell_type": "markdown",
   "metadata": {},
   "source": [
    "<img src='../images/l9_neuralnet_2.png' width='600px'></img>"
   ]
  },
  {
   "cell_type": "markdown",
   "metadata": {},
   "source": [
    "<img src='../images/l9_neuralnet_3.png' width='600px'></img>"
   ]
  },
  {
   "cell_type": "markdown",
   "metadata": {},
   "source": [
    "<img src='../images/l9_neuralnet_4.png' width='600px'></img>"
   ]
  },
  {
   "cell_type": "markdown",
   "metadata": {},
   "source": [
    "# Calculating error in a neural network"
   ]
  },
  {
   "cell_type": "code",
   "execution_count": 32,
   "metadata": {
    "collapsed": true
   },
   "outputs": [
    {
     "data": {
      "text/html": [
       "<iframe width=\"560\" height=\"315\" src=\"https://www.youtube.com/embed/Ilg3gGewQ5U?rel=0\" frameborder=\"0\" allow=\"autoplay; encrypted-media\" allowfullscreen></iframe>"
      ],
      "text/plain": [
       "<IPython.core.display.HTML object>"
      ]
     },
     "execution_count": 32,
     "metadata": {},
     "output_type": "execute_result"
    }
   ],
   "source": [
    "\n",
    "from IPython.display import HTML\n",
    "\n",
    "# Youtube\n",
    "HTML('<iframe width=\"560\" height=\"315\" src=\"https://www.youtube.com/embed/Ilg3gGewQ5U?rel=0\" frameborder=\"0\" allow=\"autoplay; encrypted-media\" allowfullscreen></iframe>')"
   ]
  },
  {
   "cell_type": "markdown",
   "metadata": {},
   "source": [
    "# A simple neural network example with TensorFlow\n",
    "\n",
    "TensorFlow is the neural network library that Google open-sourced. It has rapidly become one of the default libraries to use when creating/training neural networks."
   ]
  },
  {
   "cell_type": "code",
   "execution_count": 33,
   "metadata": {
    "collapsed": true
   },
   "outputs": [
    {
     "name": "stdout",
     "output_type": "stream",
     "text": [
      "Collecting tensorflow\n",
      "  Downloading tensorflow-1.6.0-cp35-cp35m-macosx_10_11_x86_64.whl (43.7MB)\n",
      "\u001b[K    100% |████████████████████████████████| 43.7MB 22kB/s s eta 0:00:01    82% |██████████████████████████▍     | 36.1MB 102.2MB/s eta 0:00:01    93% |██████████████████████████████  | 40.8MB 97.3MB/s eta 0:00:01\n",
      "\u001b[?25hCollecting gast>=0.2.0 (from tensorflow)\n",
      "  Downloading gast-0.2.0.tar.gz\n",
      "Requirement already satisfied: numpy>=1.13.3 in /Users/adampah/.pyenv/versions/anaconda3-4.1.0/lib/python3.5/site-packages (from tensorflow)\n",
      "Collecting tensorboard<1.7.0,>=1.6.0 (from tensorflow)\n",
      "  Downloading tensorboard-1.6.0-py3-none-any.whl (3.0MB)\n",
      "\u001b[K    100% |████████████████████████████████| 3.1MB 261kB/s eta 0:00:011\n",
      "\u001b[?25hCollecting absl-py>=0.1.6 (from tensorflow)\n",
      "  Downloading absl-py-0.1.11.tar.gz (80kB)\n",
      "\u001b[K    100% |████████████████████████████████| 81kB 8.9MB/s eta 0:00:01\n",
      "\u001b[?25hCollecting termcolor>=1.1.0 (from tensorflow)\n",
      "  Downloading termcolor-1.1.0.tar.gz\n",
      "Collecting astor>=0.6.0 (from tensorflow)\n",
      "  Downloading astor-0.6.2-py2.py3-none-any.whl\n",
      "Collecting protobuf>=3.4.0 (from tensorflow)\n",
      "  Downloading protobuf-3.5.2-cp35-cp35m-macosx_10_6_intel.macosx_10_9_intel.macosx_10_9_x86_64.macosx_10_10_intel.macosx_10_10_x86_64.whl (1.2MB)\n",
      "\u001b[K    100% |████████████████████████████████| 1.2MB 679kB/s  eta 0:00:01\n",
      "\u001b[?25hRequirement already satisfied: six>=1.10.0 in /Users/adampah/.pyenv/versions/anaconda3-4.1.0/lib/python3.5/site-packages (from tensorflow)\n",
      "Collecting grpcio>=1.8.6 (from tensorflow)\n",
      "  Downloading grpcio-1.10.0-cp35-cp35m-macosx_10_7_intel.whl (1.7MB)\n",
      "\u001b[K    100% |████████████████████████████████| 1.7MB 583kB/s eta 0:00:011\n",
      "\u001b[?25hRequirement already satisfied: wheel>=0.26 in /Users/adampah/.pyenv/versions/anaconda3-4.1.0/lib/python3.5/site-packages (from tensorflow)\n",
      "Collecting bleach==1.5.0 (from tensorboard<1.7.0,>=1.6.0->tensorflow)\n",
      "  Downloading bleach-1.5.0-py2.py3-none-any.whl\n",
      "Collecting markdown>=2.6.8 (from tensorboard<1.7.0,>=1.6.0->tensorflow)\n",
      "  Downloading Markdown-2.6.11-py2.py3-none-any.whl (78kB)\n",
      "\u001b[K    100% |████████████████████████████████| 81kB 8.9MB/s eta 0:00:01\n",
      "\u001b[?25hRequirement already satisfied: werkzeug>=0.11.10 in /Users/adampah/.pyenv/versions/anaconda3-4.1.0/lib/python3.5/site-packages (from tensorboard<1.7.0,>=1.6.0->tensorflow)\n",
      "Collecting html5lib==0.9999999 (from tensorboard<1.7.0,>=1.6.0->tensorflow)\n",
      "  Downloading html5lib-0.9999999.tar.gz (889kB)\n",
      "\u001b[K    100% |████████████████████████████████| 890kB 1.1MB/s eta 0:00:01\n",
      "\u001b[?25hRequirement already satisfied: setuptools in /Users/adampah/.pyenv/versions/anaconda3-4.1.0/lib/python3.5/site-packages/setuptools-23.0.0-py3.5.egg (from protobuf>=3.4.0->tensorflow)\n",
      "Building wheels for collected packages: gast, absl-py, termcolor, html5lib\n",
      "  Running setup.py bdist_wheel for gast ... \u001b[?25ldone\n",
      "\u001b[?25h  Stored in directory: /Users/adampah/Library/Caches/pip/wheels/8e/fa/d6/77dd17d18ea23fd7b860e02623d27c1be451521af40dd4a13e\n",
      "  Running setup.py bdist_wheel for absl-py ... \u001b[?25ldone\n",
      "\u001b[?25h  Stored in directory: /Users/adampah/Library/Caches/pip/wheels/3c/0f/0a/6c94612a8c26070755559045612ca3645fea91c11f2148363e\n",
      "  Running setup.py bdist_wheel for termcolor ... \u001b[?25ldone\n",
      "\u001b[?25h  Stored in directory: /Users/adampah/Library/Caches/pip/wheels/de/f7/bf/1bcac7bf30549e6a4957382e2ecab04c88e513117207067b03\n",
      "  Running setup.py bdist_wheel for html5lib ... \u001b[?25ldone\n",
      "\u001b[?25h  Stored in directory: /Users/adampah/Library/Caches/pip/wheels/6f/85/6c/56b8e1292c6214c4eb73b9dda50f53e8e977bf65989373c962\n",
      "Successfully built gast absl-py termcolor html5lib\n",
      "Installing collected packages: gast, html5lib, bleach, protobuf, markdown, tensorboard, absl-py, termcolor, astor, grpcio, tensorflow\n",
      "Successfully installed absl-py-0.1.11 astor-0.6.2 bleach-1.5.0 gast-0.2.0 grpcio-1.10.0 html5lib-0.9999999 markdown-2.6.11 protobuf-3.5.2 tensorboard-1.6.0 tensorflow-1.6.0 termcolor-1.1.0\n"
     ]
    }
   ],
   "source": [
    "!pip install tensorflow"
   ]
  },
  {
   "cell_type": "code",
   "execution_count": 40,
   "metadata": {},
   "outputs": [
    {
     "name": "stdout",
     "output_type": "stream",
     "text": [
      "You have version 1.6.0\n"
     ]
    }
   ],
   "source": [
    "%matplotlib inline\n",
    "import numpy as np\n",
    "import tensorflow as tf\n",
    "import matplotlib.pyplot as plt\n",
    "print(\"You have version %s\" % tf.__version__)"
   ]
  },
  {
   "cell_type": "markdown",
   "metadata": {},
   "source": [
    "To start we will do a **very** simple linear regression example as a neural network.\n",
    "\n",
    "To make this simple, we will just generate some data with noise"
   ]
  },
  {
   "cell_type": "code",
   "execution_count": 36,
   "metadata": {
    "collapsed": true
   },
   "outputs": [],
   "source": [
    "def make_noisy_data(m=0.1, b=0.3, n=100):\n",
    "    x = np.random.rand(n).astype(np.float32)\n",
    "    noise = np.random.normal(scale=0.01, size=len(x))\n",
    "    y = m * x + b + noise\n",
    "    return x, y"
   ]
  },
  {
   "cell_type": "code",
   "execution_count": 38,
   "metadata": {},
   "outputs": [
    {
     "data": {
      "text/plain": [
       "<matplotlib.collections.PathCollection at 0x12933e358>"
      ]
     },
     "execution_count": 38,
     "metadata": {},
     "output_type": "execute_result"
    },
    {
     "data": {
      "image/png": "[encoded data removed]",
      "text/plain": [
       "<matplotlib.figure.Figure at 0x1290e4828>"
      ]
     },
     "metadata": {},
     "output_type": "display_data"
    }
   ],
   "source": [
    "x_train, y_train = make_noisy_data()\n",
    "plt.scatter(x_train, y_train)"
   ]
  },
  {
   "cell_type": "markdown",
   "metadata": {},
   "source": [
    "Since TF 1.4 there has been a shortcut on how to initialize a neural network for linear and logistic regressions, but I want to step through this bit by bit without using the wrapper.\n",
    "\n",
    "First we need to initialize our inputs. Since we have 1-dimensional vectors of shape we pass `[None]`. The `name` is what the node will be referred to in the graph."
   ]
  },
  {
   "cell_type": "code",
   "execution_count": 45,
   "metadata": {
    "collapsed": true
   },
   "outputs": [],
   "source": [
    "LOGDIR = './graphs'\n",
    "tf.reset_default_graph()\n",
    "sess = tf.Session()\n",
    "\n",
    "with tf.name_scope('input'):\n",
    "    x_placeholder = tf.placeholder(shape=[None], dtype=tf.float32, name='x-input')\n",
    "    y_placeholder = tf.placeholder(shape=[None], dtype=tf.float32, name='y-input')"
   ]
  },
  {
   "cell_type": "markdown",
   "metadata": {},
   "source": [
    "Now we need to initialize our model. We have a relatively simple one\n",
    "\n",
    "$y = mx + b$\n",
    "\n",
    "where we need to fit the values of $m$ and $b$."
   ]
  },
  {
   "cell_type": "code",
   "execution_count": 46,
   "metadata": {
    "collapsed": true
   },
   "outputs": [],
   "source": [
    "with tf.name_scope('model'):\n",
    "    m = tf.Variable(tf.random_normal([1]), name='m')\n",
    "    b = tf.Variable(tf.random_normal([1]), name='b')\n",
    "    y = m * x_placeholder + b"
   ]
  },
  {
   "cell_type": "markdown",
   "metadata": {},
   "source": [
    "If you want to, you can look at what the variable attributes"
   ]
  },
  {
   "cell_type": "code",
   "execution_count": 47,
   "metadata": {},
   "outputs": [
    {
     "name": "stdout",
     "output_type": "stream",
     "text": [
      "<tf.Variable 'model/m:0' shape=(1,) dtype=float32_ref>\n"
     ]
    }
   ],
   "source": [
    "print(m)"
   ]
  },
  {
   "cell_type": "markdown",
   "metadata": {},
   "source": [
    "And then we can set up how to train the model"
   ]
  },
  {
   "cell_type": "code",
   "execution_count": 48,
   "metadata": {
    "collapsed": true
   },
   "outputs": [],
   "source": [
    "LEARNING_RATE = 0.5\n",
    "\n",
    "with tf.name_scope('training'):\n",
    "    with tf.name_scope('loss'):\n",
    "        loss = tf.reduce_mean(tf.square(y - y_placeholder))\n",
    "    with tf.name_scope('optimizer'):\n",
    "        optimizer = tf.train.GradientDescentOptimizer(LEARNING_RATE)\n",
    "        train = optimizer.minimize(loss) "
   ]
  },
  {
   "cell_type": "markdown",
   "metadata": {},
   "source": [
    "And the logging"
   ]
  },
  {
   "cell_type": "code",
   "execution_count": 50,
   "metadata": {
    "collapsed": true
   },
   "outputs": [],
   "source": [
    "# Write the graph\n",
    "writer = tf.summary.FileWriter(LOGDIR)\n",
    "writer.add_graph(sess.graph)\n",
    "\n",
    "# Attach summaries to Tensors (for TensorBoard visualization)\n",
    "tf.summary.histogram('m', m)\n",
    "tf.summary.histogram('b', b)\n",
    "tf.summary.scalar('loss', loss)\n",
    "\n",
    "# This op will calculate our summary data when run\n",
    "summary_op = tf.summary.merge_all()"
   ]
  },
  {
   "cell_type": "markdown",
   "metadata": {},
   "source": [
    "Finally initialize all of our variables"
   ]
  },
  {
   "cell_type": "code",
   "execution_count": 51,
   "metadata": {
    "collapsed": true
   },
   "outputs": [],
   "source": [
    "sess.run(tf.global_variables_initializer())"
   ]
  },
  {
   "cell_type": "markdown",
   "metadata": {},
   "source": [
    "And **finally** train our model"
   ]
  },
  {
   "cell_type": "code",
   "execution_count": 52,
   "metadata": {},
   "outputs": [
    {
     "name": "stdout",
     "output_type": "stream",
     "text": [
      "0 [array([-0.9105291], dtype=float32), array([0.923218], dtype=float32)]\n",
      "20 [array([-0.17096902], dtype=float32), array([0.44593808], dtype=float32)]\n",
      "40 [array([0.02655328], dtype=float32), array([0.33868864], dtype=float32)]\n",
      "60 [array([0.077136], dtype=float32), array([0.31122357], dtype=float32)]\n",
      "80 [array([0.09008956], dtype=float32), array([0.30419013], dtype=float32)]\n",
      "100 [array([0.09340679], dtype=float32), array([0.30238897], dtype=float32)]\n",
      "120 [array([0.09425628], dtype=float32), array([0.30192772], dtype=float32)]\n",
      "140 [array([0.09447379], dtype=float32), array([0.3018096], dtype=float32)]\n",
      "160 [array([0.0945295], dtype=float32), array([0.30177936], dtype=float32)]\n",
      "180 [array([0.09454377], dtype=float32), array([0.3017716], dtype=float32)]\n",
      "200 [array([0.09454745], dtype=float32), array([0.3017696], dtype=float32)]\n"
     ]
    }
   ],
   "source": [
    "TRAIN_STEPS = 201\n",
    "\n",
    "for step in range(TRAIN_STEPS):\n",
    "    \n",
    "    # Session will run two ops:\n",
    "    # - summary_op prepares summary data we'll write to disk in a moment\n",
    "    # - train will use the optimizer to adjust our variables to reduce loss\n",
    "    summary_result, _ = sess.run([summary_op, train], \n",
    "                                  feed_dict={x_placeholder: x_train, \n",
    "                                             y_placeholder: y_train})\n",
    "    # write the summary data to disk\n",
    "    writer.add_summary(summary_result, step)\n",
    "    \n",
    "    # Uncomment the following two lines to watch training happen real time.\n",
    "    if step % 20 == 0:\n",
    "        print(step, sess.run([m, b]))\n",
    "    \n",
    "# close the writer when we're finished using it\n",
    "writer.close()"
   ]
  },
  {
   "cell_type": "code",
   "execution_count": 53,
   "metadata": {},
   "outputs": [
    {
     "name": "stdout",
     "output_type": "stream",
     "text": [
      "TensorBoard 1.6.0 at http://delilah.research.northwestern.edu:6006 (Press CTRL+C to quit)\n",
      "^C\n"
     ]
    }
   ],
   "source": [
    "!tensorboard --logdir=graphs"
   ]
  },
  {
   "cell_type": "markdown",
   "metadata": {},
   "source": [
    "And if we wanted to make a prediction, we do it from the session"
   ]
  },
  {
   "cell_type": "code",
   "execution_count": 54,
   "metadata": {},
   "outputs": [
    {
     "data": {
      "text/plain": [
       "array([0.49086452], dtype=float32)"
      ]
     },
     "execution_count": 54,
     "metadata": {},
     "output_type": "execute_result"
    }
   ],
   "source": [
    "sess.run(y, feed_dict={x_placeholder: [2]})"
   ]
  },
  {
   "cell_type": "markdown",
   "metadata": {},
   "source": [
    "The presentation is similar even if there are hidden layers on tensorboard - this model is for a neural network that is trained to identify handwritten digits. \n",
    "\n",
    "<img src='../images/l9_neuralnet_tf.png'></img>"
   ]
  },
  {
   "cell_type": "markdown",
   "metadata": {
    "collapsed": true
   },
   "source": [
    "Despite the complexity of a neural network, it fundamentally works the same as other approaches - **given some data, minimize the difference between the prediction and the truth**. "
   ]
  },
  {
   "cell_type": "markdown",
   "metadata": {},
   "source": [
    "# Word2Vec in Gensim\n",
    "\n",
    "We can create our own word2vec model in tensorflow and train it, but gensim also has a built-in implementation that requires less boilerplate code and still retains most options."
   ]
  },
  {
   "cell_type": "code",
   "execution_count": 11,
   "metadata": {
    "collapsed": true
   },
   "outputs": [],
   "source": [
    "sentences = [x.lower().split() for x in [\"Human machine interface for lab abc computer applications\",\n",
    "                                         \"A survey of user opinion of computer system response time\",\n",
    "                                         \"The EPS user interface management system\",\n",
    "                                         \"System and human system engineering testing of EPS\",              \n",
    "                                         \"Relation of user perceived response time to error measurement\",\n",
    "                                         \"The generation of random binary unordered trees\",\n",
    "                                         \"The intersection graph of paths in trees\",\n",
    "                                         \"Graph minors IV Widths of trees and well quasi ordering\",\n",
    "                                         \"Graph minors A survey\"]]"
   ]
  },
  {
   "cell_type": "code",
   "execution_count": 20,
   "metadata": {
    "collapsed": true
   },
   "outputs": [],
   "source": [
    "import gensim as gs\n",
    "#and we can create a model in one shot if we wanted to.\n",
    "model = gs.models.Word2Vec(sentences, min_count=1, sg=0, seed=1)"
   ]
  },
  {
   "cell_type": "markdown",
   "metadata": {},
   "source": [
    "And that's it to get up and running. `sg=1` sets Word2Vec to use skip-grams, while `sg=0` sets Word2Vec to use continuous bag of words. \n",
    "\n",
    "We could double check what the vector size is (although this is set when we initialize the model)"
   ]
  },
  {
   "cell_type": "code",
   "execution_count": 25,
   "metadata": {},
   "outputs": [
    {
     "data": {
      "text/plain": [
       "100"
      ]
     },
     "execution_count": 25,
     "metadata": {},
     "output_type": "execute_result"
    }
   ],
   "source": [
    "model.vector_size"
   ]
  },
  {
   "cell_type": "markdown",
   "metadata": {},
   "source": [
    "And check on the vocabulary constructed from the dataset."
   ]
  },
  {
   "cell_type": "code",
   "execution_count": 49,
   "metadata": {},
   "outputs": [
    {
     "data": {
      "text/plain": [
       "{'a': <gensim.models.keyedvectors.Vocab at 0x11330b128>,\n",
       " 'abc': <gensim.models.keyedvectors.Vocab at 0x11319bb38>,\n",
       " 'and': <gensim.models.keyedvectors.Vocab at 0x11319bba8>,\n",
       " 'applications': <gensim.models.keyedvectors.Vocab at 0x11319bb00>,\n",
       " 'binary': <gensim.models.keyedvectors.Vocab at 0x11330b0b8>,\n",
       " 'computer': <gensim.models.keyedvectors.Vocab at 0x11319bb70>,\n",
       " 'engineering': <gensim.models.keyedvectors.Vocab at 0x11330b080>,\n",
       " 'eps': <gensim.models.keyedvectors.Vocab at 0x11319bda0>,\n",
       " 'error': <gensim.models.keyedvectors.Vocab at 0x11330b048>,\n",
       " 'for': <gensim.models.keyedvectors.Vocab at 0x11319bc50>,\n",
       " 'generation': <gensim.models.keyedvectors.Vocab at 0x11319ba90>,\n",
       " 'graph': <gensim.models.keyedvectors.Vocab at 0x11319bc88>,\n",
       " 'human': <gensim.models.keyedvectors.Vocab at 0x11319b898>,\n",
       " 'in': <gensim.models.keyedvectors.Vocab at 0x11319bcc0>,\n",
       " 'interface': <gensim.models.keyedvectors.Vocab at 0x11319bdd8>,\n",
       " 'intersection': <gensim.models.keyedvectors.Vocab at 0x11319b9b0>,\n",
       " 'iv': <gensim.models.keyedvectors.Vocab at 0x11319bac8>,\n",
       " 'lab': <gensim.models.keyedvectors.Vocab at 0x11319b860>,\n",
       " 'machine': <gensim.models.keyedvectors.Vocab at 0x11319beb8>,\n",
       " 'management': <gensim.models.keyedvectors.Vocab at 0x11330b240>,\n",
       " 'measurement': <gensim.models.keyedvectors.Vocab at 0x11319b978>,\n",
       " 'minors': <gensim.models.keyedvectors.Vocab at 0x11319bd30>,\n",
       " 'of': <gensim.models.keyedvectors.Vocab at 0x11319bf98>,\n",
       " 'opinion': <gensim.models.keyedvectors.Vocab at 0x11319bc18>,\n",
       " 'ordering': <gensim.models.keyedvectors.Vocab at 0x11330b160>,\n",
       " 'paths': <gensim.models.keyedvectors.Vocab at 0x11330b1d0>,\n",
       " 'perceived': <gensim.models.keyedvectors.Vocab at 0x11330b208>,\n",
       " 'quasi': <gensim.models.keyedvectors.Vocab at 0x11319bf60>,\n",
       " 'random': <gensim.models.keyedvectors.Vocab at 0x11319bcf8>,\n",
       " 'relation': <gensim.models.keyedvectors.Vocab at 0x11330b0f0>,\n",
       " 'response': <gensim.models.keyedvectors.Vocab at 0x11319bf28>,\n",
       " 'survey': <gensim.models.keyedvectors.Vocab at 0x11319bef0>,\n",
       " 'system': <gensim.models.keyedvectors.Vocab at 0x11330b198>,\n",
       " 'testing': <gensim.models.keyedvectors.Vocab at 0x11319ba20>,\n",
       " 'the': <gensim.models.keyedvectors.Vocab at 0x11319b9e8>,\n",
       " 'time': <gensim.models.keyedvectors.Vocab at 0x11319be80>,\n",
       " 'to': <gensim.models.keyedvectors.Vocab at 0x11319ba58>,\n",
       " 'trees': <gensim.models.keyedvectors.Vocab at 0x11319be48>,\n",
       " 'unordered': <gensim.models.keyedvectors.Vocab at 0x11319be10>,\n",
       " 'user': <gensim.models.keyedvectors.Vocab at 0x11319bd68>,\n",
       " 'well': <gensim.models.keyedvectors.Vocab at 0x11319bfd0>,\n",
       " 'widths': <gensim.models.keyedvectors.Vocab at 0x11319bbe0>}"
      ]
     },
     "execution_count": 49,
     "metadata": {},
     "output_type": "execute_result"
    }
   ],
   "source": [
    "model.wv.vocab"
   ]
  },
  {
   "cell_type": "markdown",
   "metadata": {},
   "source": [
    "And using one of the words, pull its vector out."
   ]
  },
  {
   "cell_type": "code",
   "execution_count": 51,
   "metadata": {},
   "outputs": [
    {
     "data": {
      "text/plain": [
       "array([-3.8965724e-03, -6.6818675e-04,  4.9412833e-03, -3.5744410e-03,\n",
       "        4.5366138e-03,  1.1546623e-03,  3.6297673e-03,  1.2828172e-03,\n",
       "        3.9513968e-03,  2.3377386e-04, -2.6597199e-03,  1.3556673e-04,\n",
       "       -4.2894920e-03,  1.6158065e-03, -3.2461006e-03,  3.2584139e-03,\n",
       "        2.9715747e-03,  9.9140941e-04,  2.9012648e-04, -1.5787545e-03,\n",
       "        1.1938770e-04,  1.4573692e-03,  1.2069946e-03, -4.5648627e-03,\n",
       "       -3.8701901e-04, -2.0136796e-03, -2.6268230e-03, -2.2029274e-03,\n",
       "       -4.4963458e-03, -4.9628569e-03, -3.0715035e-03, -3.5224000e-03,\n",
       "        8.9295499e-04, -3.6361336e-03, -4.6176882e-03,  4.8556803e-03,\n",
       "        4.1272254e-03, -3.6544106e-03,  2.8929233e-03,  2.5678016e-03,\n",
       "        1.7957401e-03, -1.2513725e-03,  1.1010088e-03, -1.7199156e-04,\n",
       "        1.1149833e-03,  3.4978576e-03,  2.5743598e-03,  1.6286233e-04,\n",
       "       -1.1580221e-03,  2.2014331e-03, -3.7730541e-03, -4.6817227e-03,\n",
       "       -2.6148255e-04, -1.2138044e-03,  4.3422049e-03,  4.0039620e-03,\n",
       "       -1.7142029e-03,  2.7023216e-05, -2.8684321e-03,  2.7684292e-03,\n",
       "        9.5976220e-04,  4.4426578e-03,  4.3402221e-03, -2.4092011e-03,\n",
       "       -3.7881054e-03,  8.4966037e-04, -3.3045115e-03,  4.3792613e-03,\n",
       "        3.8068697e-03, -4.4616172e-03, -4.5037642e-03, -2.3538994e-03,\n",
       "        3.4098020e-03, -1.4209207e-03, -4.1134381e-03, -3.6999902e-03,\n",
       "       -3.2246329e-03, -1.6998894e-03, -4.6837265e-03, -3.1922755e-03,\n",
       "       -1.5517919e-03,  2.1599375e-03,  2.8300695e-03,  5.0964352e-04,\n",
       "       -3.6694203e-03,  2.7906250e-03,  2.8579347e-03,  4.9128318e-03,\n",
       "        7.2425976e-04, -2.7785669e-03, -1.4117550e-03,  2.3418965e-03,\n",
       "       -3.6239598e-03,  2.4952844e-03,  1.6385323e-03,  4.3047462e-03,\n",
       "       -4.3614055e-03,  1.4717606e-03,  1.7878818e-03,  1.5193522e-03],\n",
       "      dtype=float32)"
      ]
     },
     "execution_count": 51,
     "metadata": {},
     "output_type": "execute_result"
    }
   ],
   "source": [
    "model.wv['trees']"
   ]
  },
  {
   "cell_type": "markdown",
   "metadata": {},
   "source": [
    "And ask it to predict a word given context."
   ]
  },
  {
   "cell_type": "code",
   "execution_count": 29,
   "metadata": {},
   "outputs": [
    {
     "data": {
      "text/plain": [
       "[('quasi', 0.023809738),\n",
       " ('abc', 0.02380972),\n",
       " ('in', 0.02380968),\n",
       " ('widths', 0.023809679),\n",
       " ('interface', 0.023809679),\n",
       " ('well', 0.023809649),\n",
       " ('trees', 0.023809647),\n",
       " ('paths', 0.023809636),\n",
       " ('to', 0.023809595),\n",
       " ('user', 0.023809588)]"
      ]
     },
     "execution_count": 29,
     "metadata": {},
     "output_type": "execute_result"
    }
   ],
   "source": [
    "model.predict_output_word(['graph', 'trees'])"
   ]
  },
  {
   "cell_type": "markdown",
   "metadata": {},
   "source": [
    "We could pull out the vector weigths for all of the vocabulary words and attempt to look at them also.\n",
    "\n",
    "Pull out all of the words and plot the first two dimensions with the word labels."
   ]
  },
  {
   "cell_type": "code",
   "execution_count": 52,
   "metadata": {
    "collapsed": true
   },
   "outputs": [],
   "source": [
    "#Exercise\n"
   ]
  },
  {
   "cell_type": "code",
   "execution_count": 63,
   "metadata": {},
   "outputs": [
    {
     "data": {
      "text/plain": [
       "(-0.005, 0.006)"
      ]
     },
     "execution_count": 63,
     "metadata": {},
     "output_type": "execute_result"
    },
    {
     "data": {
      "image/png": "[encoded data removed]",
      "text/plain": [
       "<matplotlib.figure.Figure at 0x1175bb4a8>"
      ]
     },
     "metadata": {},
     "output_type": "display_data"
    }
   ],
   "source": [
    "#Answer\n",
    "%matplotlib inline\n",
    "import matplotlib.pyplot as plt\n",
    "\n",
    "wmatrix = model.wv[model.wv.vocab]\n",
    "xdata = wmatrix[:,0]\n",
    "ydata = wmatrix[:,1]\n",
    "\n",
    "\n",
    "fig = plt.figure(figsize=(10,10))\n",
    "ax = fig.add_subplot(111)\n",
    "ax.scatter(xdata, ydata)\n",
    "for x,y,word in zip(xdata, ydata, model.wv.vocab):\n",
    "    ax.text(x,y,word)\n",
    "ax.set_xlim(-0.0050, 0.0060)\n",
    "ax.set_ylim(-0.0050, 0.0060)"
   ]
  },
  {
   "cell_type": "markdown",
   "metadata": {},
   "source": [
    "# Visualizing the maximum variance\n",
    "\n",
    "Picking two dimensions at random isn't a good way to visualize the embedding, since the algorithm is relying on all 100 dimensions to describe the words (i.e. all dimensions are working to create the optimal embedding).\n",
    "\n",
    "Since we lack the ability to plot/view 100 dimensions simultaneously our best bet is to employ **dimensionality reduction** and create optimally weighted axes across dimensions to capture the variance within the data."
   ]
  },
  {
   "cell_type": "markdown",
   "metadata": {},
   "source": [
    "# Principal Component Analysis (PCA)\n",
    "\n",
    "PCA is a commonly used dimensionality reduction algorithm. It works by transforming a set of data observations into a set of linearly uncorrelated variables (the components). The difference between PCA and Factor Analysis is that the components are orthogonal (i.e. components are at 90 degree angles from one another). The calculation of these components is based on the eigenvectors of the data matrix (which is also what guarantees us that the components are orthogonal).\n",
    "\n",
    "We can use the scikit learn implementation of PCA"
   ]
  },
  {
   "cell_type": "code",
   "execution_count": 64,
   "metadata": {
    "collapsed": true
   },
   "outputs": [],
   "source": [
    "from sklearn.decomposition import PCA\n"
   ]
  },
  {
   "cell_type": "code",
   "execution_count": 71,
   "metadata": {},
   "outputs": [
    {
     "data": {
      "image/png": "[encoded data removed]",
      "text/plain": [
       "<matplotlib.figure.Figure at 0x118759160>"
      ]
     },
     "metadata": {},
     "output_type": "display_data"
    }
   ],
   "source": [
    "#Answer\n",
    "pca = PCA(n_components=2)\n",
    "result = pca.fit_transform(wmatrix)\n",
    "\n",
    "fig = plt.figure(figsize=(10,10))\n",
    "ax = fig.add_subplot(111)\n",
    "ax.scatter(result[:,0], result[:,1])\n",
    "for coord,word in zip(result, model.wv.vocab):\n",
    "    ax.text(coord[0], coord[1], word)"
   ]
  },
  {
   "cell_type": "markdown",
   "metadata": {},
   "source": [
    "# Moving forward\n",
    "\n",
    "And this is as far as we can possibly take this example text. To **actually** train a word embedding, you need a massive dataset. \n",
    "\n",
    "In lieu of that, we can load up trained representations that someone else has already done. We will use the Stanford Global Vectors for Word Representation (GloVe), since it is a smaller file size than Google's trained word2vec.\n",
    "\n",
    "https://nlp.stanford.edu/projects/glove/\n",
    "\n",
    "You can move the downloaded folder into our `data/` folder."
   ]
  },
  {
   "cell_type": "code",
   "execution_count": 72,
   "metadata": {},
   "outputs": [
    {
     "name": "stdout",
     "output_type": "stream",
     "text": [
      "glove.6B.100d.txt  glove.6B.200d.txt  glove.6B.300d.txt  glove.6B.50d.txt\r\n"
     ]
    }
   ],
   "source": [
    "ls ../data/glove/"
   ]
  },
  {
   "cell_type": "markdown",
   "metadata": {},
   "source": [
    "There are four files that GloVe supplies, they were all trained on the same corpus but with different sized vectors (vector size is marked in the filename). \n",
    "\n",
    "We will keep working with the 100 dimension vector. Unlike the google datasets (which are in a standard word2vec format), we need to convert the GloVe dataset to a word2vec format."
   ]
  },
  {
   "cell_type": "code",
   "execution_count": 2,
   "metadata": {},
   "outputs": [
    {
     "data": {
      "text/plain": [
       "(400000, 100)"
      ]
     },
     "execution_count": 2,
     "metadata": {},
     "output_type": "execute_result"
    }
   ],
   "source": [
    "from gensim.scripts.glove2word2vec import glove2word2vec\n",
    "glove_input_file = '../data/glove/glove.6B.100d.txt'\n",
    "word2vec_output_file = '../data/glove/glove.6B.100d.word2vec.txt'\n",
    "glove2word2vec(glove_input_file, word2vec_output_file)"
   ]
  },
  {
   "cell_type": "markdown",
   "metadata": {},
   "source": [
    "And now we can read this word2vec file the same as we could one that we downloaded directly from Google."
   ]
  },
  {
   "cell_type": "code",
   "execution_count": 3,
   "metadata": {},
   "outputs": [],
   "source": [
    "from gensim.models import KeyedVectors\n",
    "\n",
    "glove_model = KeyedVectors.load_word2vec_format(word2vec_output_file)"
   ]
  },
  {
   "cell_type": "markdown",
   "metadata": {},
   "source": [
    "With a large, well-trained dataset we can start pulling out the famous examples also.\n",
    "\n",
    "`king - man + woman = ?`"
   ]
  },
  {
   "cell_type": "code",
   "execution_count": 4,
   "metadata": {},
   "outputs": [
    {
     "data": {
      "text/plain": [
       "[('queen', 0.7698541283607483),\n",
       " ('monarch', 0.6843380928039551),\n",
       " ('throne', 0.6755737066268921),\n",
       " ('daughter', 0.6594555974006653),\n",
       " ('princess', 0.6520534157752991),\n",
       " ('prince', 0.6517034769058228),\n",
       " ('elizabeth', 0.6464517712593079),\n",
       " ('mother', 0.6311717629432678),\n",
       " ('emperor', 0.6106470823287964),\n",
       " ('wife', 0.6098655462265015)]"
      ]
     },
     "execution_count": 4,
     "metadata": {},
     "output_type": "execute_result"
    }
   ],
   "source": [
    "result = glove_model.most_similar(positive=['woman', 'king'], negative=['man'])\n",
    "result"
   ]
  },
  {
   "cell_type": "markdown",
   "metadata": {
    "collapsed": true
   },
   "source": [
    "## How does this work?\n",
    "\n",
    "Everything is based off of vectors. Given two data points, they each have a vector from the origin.\n",
    "\n",
    "<img src='../images/l19_vector_origin.jpg' width='300px'></img>"
   ]
  },
  {
   "cell_type": "markdown",
   "metadata": {},
   "source": [
    "# Vector addition works by stacking the vectors\n",
    "\n",
    "If we add `King+Man`, then we have a resultant vector that is the length of both.\n",
    "\n",
    "<img src='../images/l19_vector_addition.jpg' width='300px'></img>"
   ]
  },
  {
   "cell_type": "markdown",
   "metadata": {},
   "source": [
    "# Vector subtraction requires 'flipping' the subtracted vector\n",
    "\n",
    "<img src='../images/l19_vector_subtraction.jpg' width='300px'></img>"
   ]
  },
  {
   "cell_type": "markdown",
   "metadata": {},
   "source": [
    "# Similarity between two vectors is based off of the angle between them\n",
    "\n",
    "<img src='../images/l19_cosine_1.jpg' width='300px'></img>\n",
    "<img src='../images/l19_cosine_2.jpg' width='300px'></img>"
   ]
  },
  {
   "cell_type": "code",
   "execution_count": 5,
   "metadata": {},
   "outputs": [
    {
     "data": {
      "text/plain": [
       "[('dog', 0.8002570867538452),\n",
       " ('dogs', 0.675112783908844),\n",
       " ('pig', 0.6540138125419617),\n",
       " ('horse', 0.6384344696998596),\n",
       " ('rabbit', 0.6239069104194641),\n",
       " ('pet', 0.6193716526031494),\n",
       " ('chicken', 0.6041175723075867),\n",
       " ('cats', 0.5998529195785522),\n",
       " ('hog', 0.5978538393974304),\n",
       " ('duck', 0.5851622819900513)]"
      ]
     },
     "execution_count": 5,
     "metadata": {},
     "output_type": "execute_result"
    }
   ],
   "source": [
    "glove_model.most_similar(positive=['cat', 'puppy'], negative=['kitten'])"
   ]
  },
  {
   "cell_type": "code",
   "execution_count": 6,
   "metadata": {},
   "outputs": [
    {
     "data": {
      "text/plain": [
       "[('cat', 0.6935380101203918),\n",
       " ('dogs', 0.5759751796722412),\n",
       " ('monkey', 0.5692905187606812),\n",
       " ('pet', 0.5661199688911438),\n",
       " ('girl', 0.5220829248428345),\n",
       " ('creature', 0.5160893797874451),\n",
       " ('cats', 0.5131915807723999),\n",
       " ('boy', 0.5122600793838501),\n",
       " ('animal', 0.5092933773994446),\n",
       " ('rat', 0.5076236128807068)]"
      ]
     },
     "execution_count": 6,
     "metadata": {},
     "output_type": "execute_result"
    }
   ],
   "source": [
    "glove_model.most_similar(positive=['dog', 'kitten'], negative=['puppy'])"
   ]
  },
  {
   "cell_type": "markdown",
   "metadata": {},
   "source": [
    "When testing these relationships, they work by essentially asking for a relationship with the missing word in the 'negative' list and it doesn't work any which way."
   ]
  },
  {
   "cell_type": "code",
   "execution_count": 7,
   "metadata": {},
   "outputs": [
    {
     "data": {
      "text/plain": [
       "[('puppies', 0.6649416089057922),\n",
       " ('retriever', 0.6418952941894531),\n",
       " ('rottweiler', 0.6218166947364807),\n",
       " ('dogs', 0.598397433757782),\n",
       " ('sled', 0.582977831363678),\n",
       " ('goat', 0.5631861686706543),\n",
       " ('pug', 0.5608721375465393),\n",
       " ('hound', 0.5599592924118042),\n",
       " ('kitten', 0.5586523413658142),\n",
       " ('pig', 0.5579670667648315)]"
      ]
     },
     "execution_count": 7,
     "metadata": {},
     "output_type": "execute_result"
    }
   ],
   "source": [
    "glove_model.most_similar(positive=['dog', 'puppy'], negative=['cat'])"
   ]
  },
  {
   "cell_type": "markdown",
   "metadata": {},
   "source": [
    "We can further extend this 'play' with other examples. If we enter in one word then we are effectively asking for the nearest neighbors."
   ]
  },
  {
   "cell_type": "code",
   "execution_count": 8,
   "metadata": {},
   "outputs": [
    {
     "data": {
      "text/plain": [
       "[('toad', 0.7010514140129089),\n",
       " ('snake', 0.657115638256073),\n",
       " ('frogs', 0.6290439367294312),\n",
       " ('monkey', 0.6214002966880798),\n",
       " ('turtle', 0.6097555160522461),\n",
       " ('spider', 0.6079937219619751),\n",
       " ('ape', 0.5917872786521912),\n",
       " ('litoria', 0.585466206073761),\n",
       " ('rabbit', 0.5832657217979431),\n",
       " ('squirrel', 0.577958881855011)]"
      ]
     },
     "execution_count": 8,
     "metadata": {},
     "output_type": "execute_result"
    }
   ],
   "source": [
    "glove_model.most_similar(positive=['frog'])"
   ]
  },
  {
   "cell_type": "code",
   "execution_count": 9,
   "metadata": {},
   "outputs": [
    {
     "data": {
      "text/plain": [
       "[('puppies', 0.7518181800842285),\n",
       " ('dog', 0.723637580871582),\n",
       " ('kitten', 0.6905402541160583),\n",
       " ('retriever', 0.6884320378303528),\n",
       " ('cat', 0.6800068616867065),\n",
       " ('hound', 0.6328635215759277),\n",
       " ('rottweiler', 0.6270608305931091),\n",
       " ('pug', 0.6259523630142212),\n",
       " ('kittens', 0.6209099292755127),\n",
       " ('pig', 0.6129595041275024)]"
      ]
     },
     "execution_count": 9,
     "metadata": {},
     "output_type": "execute_result"
    }
   ],
   "source": [
    "glove_model.most_similar(positive=['puppy'])"
   ]
  },
  {
   "cell_type": "markdown",
   "metadata": {},
   "source": [
    "And there can be interesting matches given a multi-word concept."
   ]
  },
  {
   "cell_type": "code",
   "execution_count": 10,
   "metadata": {},
   "outputs": [
    {
     "data": {
      "text/plain": [
       "[('pace', 0.8061383366584778),\n",
       " ('faster', 0.8025360107421875),\n",
       " ('slowing', 0.7939368486404419),\n",
       " ('slowed', 0.764470636844635),\n",
       " ('sluggish', 0.7292846441268921),\n",
       " ('growth', 0.7181570529937744),\n",
       " ('fast', 0.7115045785903931),\n",
       " ('fastest', 0.711225688457489),\n",
       " ('accelerating', 0.6772849559783936),\n",
       " ('decline', 0.6701204776763916)]"
      ]
     },
     "execution_count": 10,
     "metadata": {},
     "output_type": "execute_result"
    }
   ],
   "source": [
    "glove_model.most_similar(positive = ['slow', 'slower', 'slowest'])"
   ]
  },
  {
   "cell_type": "markdown",
   "metadata": {},
   "source": [
    "# How do you test the 'goodness'\n",
    "\n",
    "Despite the fact that we have set this problem up as a *prediction* one to fit the optimal weights in the neural network, this is still an unsupervised problem (i.e. we are choosing that the nearby context words are either the input or the output).\n",
    "\n",
    "The **best** test that we possibly have is to see if our trained weights can replicate already agreed upon relationships.\n",
    "\n",
    "As a part of the original word2vec project, they supplied `questions-words.txt` which has a large number of these analogies."
   ]
  },
  {
   "cell_type": "code",
   "execution_count": 144,
   "metadata": {},
   "outputs": [
    {
     "data": {
      "text/plain": [
       "[': capital-common-countries',\n",
       " ': capital-world',\n",
       " ': currency',\n",
       " ': city-in-state',\n",
       " ': family',\n",
       " ': gram1-adjective-to-adverb',\n",
       " ': gram2-opposite',\n",
       " ': gram3-comparative',\n",
       " ': gram4-superlative',\n",
       " ': gram5-present-participle',\n",
       " ': gram6-nationality-adjective',\n",
       " ': gram7-past-tense',\n",
       " ': gram8-plural',\n",
       " ': gram9-plural-verbs']"
      ]
     },
     "execution_count": 144,
     "metadata": {},
     "output_type": "execute_result"
    }
   ],
   "source": [
    "headers = [line.strip() for line in open('../data/questions-words.txt').readlines() if ':' in line]\n",
    "headers"
   ]
  },
  {
   "cell_type": "markdown",
   "metadata": {},
   "source": [
    "The type of relationships are encoded in the lines that start with a ':'"
   ]
  },
  {
   "cell_type": "code",
   "execution_count": 122,
   "metadata": {
    "collapsed": true
   },
   "outputs": [],
   "source": [
    "phrases = [l.lower().strip().split() for l in open('../data/questions-words.txt').readlines() if ':' not in l]"
   ]
  },
  {
   "cell_type": "code",
   "execution_count": 123,
   "metadata": {},
   "outputs": [
    {
     "data": {
      "text/plain": [
       "[['athens', 'greece', 'baghdad', 'iraq'],\n",
       " ['athens', 'greece', 'bangkok', 'thailand'],\n",
       " ['athens', 'greece', 'beijing', 'china'],\n",
       " ['athens', 'greece', 'berlin', 'germany'],\n",
       " ['athens', 'greece', 'bern', 'switzerland'],\n",
       " ['athens', 'greece', 'cairo', 'egypt'],\n",
       " ['athens', 'greece', 'canberra', 'australia'],\n",
       " ['athens', 'greece', 'hanoi', 'vietnam'],\n",
       " ['athens', 'greece', 'havana', 'cuba'],\n",
       " ['athens', 'greece', 'helsinki', 'finland']]"
      ]
     },
     "execution_count": 123,
     "metadata": {},
     "output_type": "execute_result"
    }
   ],
   "source": [
    "phrases[:10]"
   ]
  },
  {
   "cell_type": "markdown",
   "metadata": {},
   "source": [
    "And then we can test to see if the trained embeddings can reproduce the expected relationships.\n",
    "\n",
    "All of the lines are set up as \n",
    "\n",
    "`x2 - x1 + x3 = x4`"
   ]
  },
  {
   "cell_type": "code",
   "execution_count": 133,
   "metadata": {},
   "outputs": [
    {
     "name": "stdout",
     "output_type": "stream",
     "text": [
      "[('iraq', 0.7903197407722473)] iraq\n",
      "[('thailand', 0.8054632544517517)] thailand\n",
      "[('china', 0.8546513915061951)] china\n",
      "[('germany', 0.810121476650238)] germany\n",
      "[('switzerland', 0.6416415572166443)] switzerland\n",
      "[('egypt', 0.7953351736068726)] egypt\n",
      "[('zealand', 0.6756799817085266)] australia\n",
      "[('laos', 0.6971369981765747)] vietnam\n",
      "[('cuba', 0.7504730224609375)] cuba\n",
      "[('finland', 0.7269078493118286)] finland\n"
     ]
    }
   ],
   "source": [
    "for p in phrases[:10]:\n",
    "    print(glove_model.most_similar(positive=[p[1], p[2]], negative=[p[0]], topn=1), p[3])"
   ]
  },
  {
   "cell_type": "markdown",
   "metadata": {},
   "source": [
    "We can test this using the `accuracy` function off of a word2vec model to test the entire accuracy for the whole dataset. It will automatically separate the test set by section."
   ]
  },
  {
   "cell_type": "code",
   "execution_count": 125,
   "metadata": {
    "collapsed": true
   },
   "outputs": [],
   "source": [
    "results = glove_model.accuracy('../data/questions-words.txt')"
   ]
  },
  {
   "cell_type": "code",
   "execution_count": 147,
   "metadata": {},
   "outputs": [
    {
     "name": "stdout",
     "output_type": "stream",
     "text": [
      "0.9426877470355731 : capital-common-countries\n",
      "0.8939226519337017 : capital-world\n",
      "0.17796610169491525 : currency\n",
      "0.31230140717203814 : city-in-state\n",
      "0.8771929824561403 : family\n",
      "0.2206896551724138 : gram1-adjective-to-adverb\n",
      "0.23421052631578948 : gram2-opposite\n",
      "0.7935435435435435 : gram3-comparative\n",
      "0.5983333333333334 : gram4-superlative\n",
      "0.6946236559139785 : gram5-present-participle\n",
      "0.9487889273356401 : gram6-nationality-adjective\n",
      "0.5544871794871795 : gram7-past-tense\n",
      "0.7793560606060606 : gram8-plural\n",
      "0.5797720797720798 : gram9-plural-verbs\n"
     ]
    }
   ],
   "source": [
    "for h, section in zip(headers, results):\n",
    "    print(len(section['correct'])/(len(section['correct']) + len(section['incorrect'])), h)"
   ]
  },
  {
   "cell_type": "markdown",
   "metadata": {},
   "source": [
    "To test a non-standard embedding, you would need to establish these analogies yourself. Given the number of basic parameters you can tweak (including the window size and training speed), there is a distinct need to test the goodness of fit."
   ]
  },
  {
   "cell_type": "markdown",
   "metadata": {
    "collapsed": true
   },
   "source": [
    "# Expanding beyond words\n",
    "\n",
    "Moving beyond a word to sentence is a more complex task than it may appear, since it must also encode the word structure within the sentence. \n",
    "\n",
    "Using word2vec, we could create the average vector over all words in a sentence and then search for similar average vectors from other words. However, there is an extension of `word2vec`, `doc2vec`, that is included in gensim that works much better at the phrase, paragraph, and document level."
   ]
  }
 ],
 "metadata": {
  "anaconda-cloud": {},
  "celltoolbar": "Slideshow",
  "kernelspec": {
   "display_name": "Python [Root]",
   "language": "python",
   "name": "Python [Root]"
  },
  "language_info": {
   "codemirror_mode": {
    "name": "ipython",
    "version": 3
   },
   "file_extension": ".py",
   "mimetype": "text/x-python",
   "name": "python",
   "nbconvert_exporter": "python",
   "pygments_lexer": "ipython3",
   "version": "3.5.1"
  }
 },
 "nbformat": 4,
 "nbformat_minor": 1
}
