{
 "cells": [
  {
   "cell_type": "markdown",
   "metadata": {
    "collapsed": true,
    "slideshow": {
     "slide_type": "slide"
    }
   },
   "source": [
    "# The purpose\n",
    "\n",
    "In any language there is structure in a sentence; verbs communicate action, nouns represent entities, and adjectives describe.\n",
    "\n",
    "For a single word, synonyms represent a word that has the same or nearly the same meaning that can serve as a substitute. These relationships are curated/stored manually in thesauruses.\n",
    "\n",
    "However, there are relationships between words that are not synonyms - i.e. both a car and a horse can be means of conveyance (although a horse also exists on its own, unlike a car). What we desire is to build a framework that allows us to identify similarities in words and their meanings that extends beyond substitutable words.\n",
    "\n",
    "This effort/project would be far too large to be undertaken by humans, the question is how we could quantitatively tackle it. "
   ]
  },
  {
   "cell_type": "markdown",
   "metadata": {
    "collapsed": true,
    "slideshow": {
     "slide_type": "slide"
    }
   },
   "source": [
    "# Exploiting structure\n",
    "\n",
    "Fortunately, languages are constructed as such that there is some similarity in sentence structure and word usage when we attempt to express similar concepts.\n",
    "\n",
    "*I rode in the car into town.* \n",
    "\n",
    "*I rode the horse into town.*\n",
    "\n",
    "Not **exactly** the same, which makes this task difficult, but sufficiently similar to undertake the task."
   ]
  },
  {
   "cell_type": "markdown",
   "metadata": {
    "slideshow": {
     "slide_type": "slide"
    }
   },
   "source": [
    "# Vectors and matrices - verbal similarity to numeric distance\n",
    "\n",
    "The basic concept - take words and according to how they are used in bodies of text, encode them in a n-dimensional space. Since there is no starting cartesian coordinate for a word, we have to essentially situate all of the words based on their co-occurences in sentences together. Words that are never together shouldn't be right next to each other, but if they are used in sentences similarly then the direction/magnitude of their relationships should be similar (although distant in vector space)."
   ]
  },
  {
   "cell_type": "code",
   "execution_count": 1,
   "metadata": {},
   "outputs": [
    {
     "data": {
      "text/plain": [
       "12"
      ]
     },
     "execution_count": 1,
     "metadata": {},
     "output_type": "execute_result"
    }
   ],
   "source": [
    "8 + 4"
   ]
  },
  {
   "cell_type": "markdown",
   "metadata": {
    "slideshow": {
     "slide_type": "slide"
    }
   },
   "source": [
    "<img src='../images/word_matrix.jpg' width='400px'></img>"
   ]
  },
  {
   "cell_type": "markdown",
   "metadata": {},
   "source": [
    "# Converting context into numbers\n",
    "\n",
    "There multiple approaches for encoding verbal context into numeric distances, we are going to explore *k-skip n-grams*, which is one of the approaches."
   ]
  },
  {
   "cell_type": "markdown",
   "metadata": {},
   "source": [
    "# k-skip n-grams\n",
    "\n",
    "Once we detail it, then name gives it away. A k-skip n-gram specifies that you will create all n-grams in a sentence up to k-skips away. Similar to a rolling average, k is our window length. So if we take the sentence:\n",
    "\n",
    "*I ran to the store to pick up milk.*\n",
    "\n",
    "and said that we should do **bi-grams**, then we would have\n",
    "\n",
    "`[('I', 'ran'), ('ran', 'to'), ('the', 'store'), ('store', 'to'), ('to', 'pick'), ('pick', 'up'), ('up', 'milk')]`\n",
    "\n",
    "which is 7 bi-grams."
   ]
  },
  {
   "cell_type": "markdown",
   "metadata": {},
   "source": [
    "If I then asked for **1-skip bi-grams**, then we would have:\n",
    "\n",
    "`[(I, ran), (I, to), (ran, to), (ran, the), (to, the), (to, store), (the, store), (the, to), (store, to), (store, pick), (to, pick), (to, up), (pick, up), (pick, milk), (up, milk)]`\n",
    "\n",
    "which is 15 bi-grams. "
   ]
  },
  {
   "cell_type": "markdown",
   "metadata": {},
   "source": [
    "You can use any combination of `n` and `k` that you desire, but it is already to easy to see how the number of word combinations explodes as `n` and `k` increase for even a single sentence. "
   ]
  },
  {
   "cell_type": "code",
   "execution_count": 30,
   "metadata": {},
   "outputs": [
    {
     "data": {
      "text/plain": [
       "[('I', 'ran'),\n",
       " ('ran', 'to'),\n",
       " ('to', 'the'),\n",
       " ('the', 'store'),\n",
       " ('store', 'to'),\n",
       " ('to', 'pick'),\n",
       " ('pick', 'up'),\n",
       " ('up', 'milk')]"
      ]
     },
     "execution_count": 30,
     "metadata": {},
     "output_type": "execute_result"
    }
   ],
   "source": [
    "from nltk.util import skipgrams\n",
    "\n",
    "sentence = ['I', 'ran', 'to', 'the', 'store', 'to', 'pick', 'up', 'milk']\n",
    "list( skipgrams(sentence, 2, 0) )"
   ]
  },
  {
   "cell_type": "code",
   "execution_count": 31,
   "metadata": {},
   "outputs": [
    {
     "data": {
      "text/plain": [
       "[('I', 'ran'),\n",
       " ('I', 'to'),\n",
       " ('ran', 'to'),\n",
       " ('ran', 'the'),\n",
       " ('to', 'the'),\n",
       " ('to', 'store'),\n",
       " ('the', 'store'),\n",
       " ('the', 'to'),\n",
       " ('store', 'to'),\n",
       " ('store', 'pick'),\n",
       " ('to', 'pick'),\n",
       " ('to', 'up'),\n",
       " ('pick', 'up'),\n",
       " ('pick', 'milk'),\n",
       " ('up', 'milk')]"
      ]
     },
     "execution_count": 31,
     "metadata": {},
     "output_type": "execute_result"
    }
   ],
   "source": [
    "list( skipgrams(sentence, 2, 1) )"
   ]
  },
  {
   "cell_type": "code",
   "execution_count": 32,
   "metadata": {},
   "outputs": [
    {
     "data": {
      "text/plain": [
       "[('I', 'ran'),\n",
       " ('I', 'to'),\n",
       " ('I', 'the'),\n",
       " ('ran', 'to'),\n",
       " ('ran', 'the'),\n",
       " ('ran', 'store'),\n",
       " ('to', 'the'),\n",
       " ('to', 'store'),\n",
       " ('to', 'to'),\n",
       " ('the', 'store'),\n",
       " ('the', 'to'),\n",
       " ('the', 'pick'),\n",
       " ('store', 'to'),\n",
       " ('store', 'pick'),\n",
       " ('store', 'up'),\n",
       " ('to', 'pick'),\n",
       " ('to', 'up'),\n",
       " ('to', 'milk'),\n",
       " ('pick', 'up'),\n",
       " ('pick', 'milk'),\n",
       " ('up', 'milk')]"
      ]
     },
     "execution_count": 32,
     "metadata": {},
     "output_type": "execute_result"
    }
   ],
   "source": [
    "list( skipgrams(sentence, 2, 2) )"
   ]
  },
  {
   "cell_type": "code",
   "execution_count": 33,
   "metadata": {},
   "outputs": [
    {
     "data": {
      "text/plain": [
       "[('I', 'ran', 'to'),\n",
       " ('I', 'ran', 'the'),\n",
       " ('I', 'ran', 'store'),\n",
       " ('I', 'to', 'the'),\n",
       " ('I', 'to', 'store'),\n",
       " ('I', 'the', 'store'),\n",
       " ('ran', 'to', 'the'),\n",
       " ('ran', 'to', 'store'),\n",
       " ('ran', 'to', 'to'),\n",
       " ('ran', 'the', 'store'),\n",
       " ('ran', 'the', 'to'),\n",
       " ('ran', 'store', 'to'),\n",
       " ('to', 'the', 'store'),\n",
       " ('to', 'the', 'to'),\n",
       " ('to', 'the', 'pick'),\n",
       " ('to', 'store', 'to'),\n",
       " ('to', 'store', 'pick'),\n",
       " ('to', 'to', 'pick'),\n",
       " ('the', 'store', 'to'),\n",
       " ('the', 'store', 'pick'),\n",
       " ('the', 'store', 'up'),\n",
       " ('the', 'to', 'pick'),\n",
       " ('the', 'to', 'up'),\n",
       " ('the', 'pick', 'up'),\n",
       " ('store', 'to', 'pick'),\n",
       " ('store', 'to', 'up'),\n",
       " ('store', 'to', 'milk'),\n",
       " ('store', 'pick', 'up'),\n",
       " ('store', 'pick', 'milk'),\n",
       " ('store', 'up', 'milk'),\n",
       " ('to', 'pick', 'up'),\n",
       " ('to', 'pick', 'milk'),\n",
       " ('to', 'up', 'milk'),\n",
       " ('pick', 'up', 'milk')]"
      ]
     },
     "execution_count": 33,
     "metadata": {},
     "output_type": "execute_result"
    }
   ],
   "source": [
    "list( skipgrams(sentence, 3, 2) )"
   ]
  },
  {
   "cell_type": "markdown",
   "metadata": {},
   "source": [
    "Relatively simple to calculate quickly with nltk. Writing our own function wouldn't be awful either, we would just want to make use of the `collections` library and use the combination/permutation functions. \n",
    "\n",
    "As a quick test, I am want you to load one the WoS data and calculate how many skip-grams there are for one journal (take your pick of `n` and `k`)."
   ]
  },
  {
   "cell_type": "code",
   "execution_count": null,
   "metadata": {
    "collapsed": true
   },
   "outputs": [],
   "source": []
  },
  {
   "cell_type": "code",
   "execution_count": 36,
   "metadata": {},
   "outputs": [
    {
     "data": {
      "text/plain": [
       "dict_keys(['AMERICAN_ECONOMIC_REVIEW', 'SCIENCE', 'SCHIZOPHRENIA_BULLETIN', 'CELL', 'ASTRONOMICAL_JOURNAL', 'JOURNAL_OF_DIFFERENTIAL_EQUATIONS', 'GEOLOGY'])"
      ]
     },
     "execution_count": 36,
     "metadata": {},
     "output_type": "execute_result"
    }
   ],
   "source": [
    "#Exercise\n",
    "import json\n",
    "wosdata = json.load(open('../data/wos_topic_doc.json'))\n",
    "\n",
    "wosdata.keys()\n"
   ]
  },
  {
   "cell_type": "code",
   "execution_count": 47,
   "metadata": {},
   "outputs": [
    {
     "name": "stdout",
     "output_type": "stream",
     "text": [
      "0 56713\n",
      "1 224155\n",
      "2 553645\n",
      "3 1093805\n",
      "4 1890560\n"
     ]
    }
   ],
   "source": [
    "for skipn in [0, 1, 2, 3, 4]:\n",
    "    skip_count = 0\n",
    "    for entry in wosdata['AMERICAN_ECONOMIC_REVIEW']:\n",
    "        skip_count += len( list(skipgrams(entry, 4, skipn)) )\n",
    "    print(skipn, skip_count)"
   ]
  },
  {
   "cell_type": "code",
   "execution_count": 44,
   "metadata": {},
   "outputs": [
    {
     "data": {
      "text/plain": [
       "116123"
      ]
     },
     "execution_count": 44,
     "metadata": {},
     "output_type": "execute_result"
    }
   ],
   "source": [
    "skip_count"
   ]
  },
  {
   "cell_type": "code",
   "execution_count": 48,
   "metadata": {},
   "outputs": [
    {
     "data": {
      "text/plain": [
       "899"
      ]
     },
     "execution_count": 48,
     "metadata": {},
     "output_type": "execute_result"
    }
   ],
   "source": [
    "len(wosdata['AMERICAN_ECONOMIC_REVIEW'])"
   ]
  },
  {
   "cell_type": "code",
   "execution_count": null,
   "metadata": {
    "collapsed": true
   },
   "outputs": [],
   "source": []
  },
  {
   "cell_type": "markdown",
   "metadata": {},
   "source": [
    "# How does this fit in?\n",
    "\n",
    "The trick is that we turn this into a prediction problem. When we look at the sentence\n",
    "\n",
    "`I ran to the store to pick up milk.`\n",
    "\n",
    "and we construct a skip-gram\n",
    "\n",
    "`['ran', 'to', 'store']`\n",
    "\n",
    "there is the skipped word\n",
    "\n",
    "`'the'`\n",
    "\n",
    "which we could set up as a `(context, target)` pair\n",
    "\n",
    "`(['ran', 'to', 'store'], 'the')`\n",
    "\n",
    "We could set this up as a problem when we input `['ran', 'to', 'store']` to predict `the` or use `the` to predict its context words. "
   ]
  },
  {
   "cell_type": "markdown",
   "metadata": {},
   "source": [
    "# Setting up the prediction problem\n",
    "\n",
    "There are two ways that we can go about this - one is to use the skip grams model we already set up\n",
    "\n",
    "<img src='../images/skipgram.png'></img>\n",
    "\n",
    "the embedding then is the learned weights in the projection layer.  This works best when we have a very large dataset."
   ]
  },
  {
   "cell_type": "markdown",
   "metadata": {},
   "source": [
    "The alternative is the continuous bag of words\n",
    "\n",
    "<img src='../images/cbow.png'></img>\n",
    "\n",
    "with this approach, we use the context to predict the target. This averages out the noise of individual words contribution to context, which makes it workable with smaller datasets."
   ]
  },
  {
   "cell_type": "markdown",
   "metadata": {
    "collapsed": true,
    "slideshow": {
     "slide_type": "slide"
    }
   },
   "source": [
    "# A primer on neural nets\n",
    "\n",
    "<img src='../images/l9_neuralnet_-1.png'></img>"
   ]
  },
  {
   "cell_type": "markdown",
   "metadata": {
    "slideshow": {
     "slide_type": "slide"
    }
   },
   "source": [
    "<img src='../images/l9_neuralnet_0.png'></img>"
   ]
  },
  {
   "cell_type": "markdown",
   "metadata": {
    "slideshow": {
     "slide_type": "slide"
    }
   },
   "source": [
    "<img src='../images/l9_neuralnet_1.png' width='600px'></img>"
   ]
  },
  {
   "cell_type": "markdown",
   "metadata": {},
   "source": [
    "<img src='../images/l9_neuralnet_2.png' width='600px'></img>"
   ]
  },
  {
   "cell_type": "markdown",
   "metadata": {},
   "source": [
    "<img src='../images/l9_neuralnet_3.png' width='600px'></img>"
   ]
  },
  {
   "cell_type": "markdown",
   "metadata": {},
   "source": [
    "<img src='../images/l9_neuralnet_4.png' width='600px'></img>"
   ]
  },
  {
   "cell_type": "markdown",
   "metadata": {},
   "source": [
    "# Calculating error in a neural network"
   ]
  },
  {
   "cell_type": "code",
   "execution_count": 49,
   "metadata": {},
   "outputs": [
    {
     "data": {
      "text/html": [
       "<iframe width=\"560\" height=\"315\" src=\"https://www.youtube.com/embed/Ilg3gGewQ5U?rel=0\" frameborder=\"0\" allow=\"autoplay; encrypted-media\" allowfullscreen></iframe>"
      ],
      "text/plain": [
       "<IPython.core.display.HTML object>"
      ]
     },
     "execution_count": 49,
     "metadata": {},
     "output_type": "execute_result"
    }
   ],
   "source": [
    "\n",
    "from IPython.display import HTML\n",
    "\n",
    "# Youtube\n",
    "HTML('<iframe width=\"560\" height=\"315\" src=\"https://www.youtube.com/embed/Ilg3gGewQ5U?rel=0\" frameborder=\"0\" allow=\"autoplay; encrypted-media\" allowfullscreen></iframe>')"
   ]
  },
  {
   "cell_type": "markdown",
   "metadata": {},
   "source": [
    "# A simple neural network example with TensorFlow\n",
    "\n",
    "TensorFlow is the neural network library that Google open-sourced. It has rapidly become one of the default libraries to use when creating/training neural networks."
   ]
  },
  {
   "cell_type": "code",
   "execution_count": 50,
   "metadata": {},
   "outputs": [
    {
     "name": "stdout",
     "output_type": "stream",
     "text": [
      "Requirement already satisfied: tensorflow in /Users/adampah/.pyenv/versions/anaconda3-4.1.0/lib/python3.5/site-packages\r\n",
      "Requirement already satisfied: protobuf>=3.4.0 in /Users/adampah/.pyenv/versions/anaconda3-4.1.0/lib/python3.5/site-packages (from tensorflow)\r\n",
      "Requirement already satisfied: six>=1.10.0 in /Users/adampah/.pyenv/versions/anaconda3-4.1.0/lib/python3.5/site-packages (from tensorflow)\r\n",
      "Requirement already satisfied: tensorboard<1.7.0,>=1.6.0 in /Users/adampah/.pyenv/versions/anaconda3-4.1.0/lib/python3.5/site-packages (from tensorflow)\r\n",
      "Requirement already satisfied: wheel>=0.26 in /Users/adampah/.pyenv/versions/anaconda3-4.1.0/lib/python3.5/site-packages (from tensorflow)\r\n",
      "Requirement already satisfied: astor>=0.6.0 in /Users/adampah/.pyenv/versions/anaconda3-4.1.0/lib/python3.5/site-packages (from tensorflow)\r\n",
      "Requirement already satisfied: termcolor>=1.1.0 in /Users/adampah/.pyenv/versions/anaconda3-4.1.0/lib/python3.5/site-packages (from tensorflow)\r\n",
      "Requirement already satisfied: numpy>=1.13.3 in /Users/adampah/.pyenv/versions/anaconda3-4.1.0/lib/python3.5/site-packages (from tensorflow)\r\n",
      "Requirement already satisfied: absl-py>=0.1.6 in /Users/adampah/.pyenv/versions/anaconda3-4.1.0/lib/python3.5/site-packages (from tensorflow)\r\n",
      "Requirement already satisfied: grpcio>=1.8.6 in /Users/adampah/.pyenv/versions/anaconda3-4.1.0/lib/python3.5/site-packages (from tensorflow)\r\n",
      "Requirement already satisfied: gast>=0.2.0 in /Users/adampah/.pyenv/versions/anaconda3-4.1.0/lib/python3.5/site-packages (from tensorflow)\r\n",
      "Requirement already satisfied: setuptools in /Users/adampah/.pyenv/versions/anaconda3-4.1.0/lib/python3.5/site-packages/setuptools-23.0.0-py3.5.egg (from protobuf>=3.4.0->tensorflow)\r\n",
      "Requirement already satisfied: bleach==1.5.0 in /Users/adampah/.pyenv/versions/anaconda3-4.1.0/lib/python3.5/site-packages (from tensorboard<1.7.0,>=1.6.0->tensorflow)\r\n",
      "Requirement already satisfied: werkzeug>=0.11.10 in /Users/adampah/.pyenv/versions/anaconda3-4.1.0/lib/python3.5/site-packages (from tensorboard<1.7.0,>=1.6.0->tensorflow)\r\n",
      "Requirement already satisfied: html5lib==0.9999999 in /Users/adampah/.pyenv/versions/anaconda3-4.1.0/lib/python3.5/site-packages (from tensorboard<1.7.0,>=1.6.0->tensorflow)\r\n",
      "Requirement already satisfied: markdown>=2.6.8 in /Users/adampah/.pyenv/versions/anaconda3-4.1.0/lib/python3.5/site-packages (from tensorboard<1.7.0,>=1.6.0->tensorflow)\r\n"
     ]
    }
   ],
   "source": [
    "!pip install tensorflow"
   ]
  },
  {
   "cell_type": "code",
   "execution_count": 52,
   "metadata": {},
   "outputs": [
    {
     "name": "stdout",
     "output_type": "stream",
     "text": [
      "You have version 1.6.0\n"
     ]
    }
   ],
   "source": [
    "%matplotlib inline\n",
    "import numpy as np\n",
    "import tensorflow as tf\n",
    "import matplotlib.pyplot as plt\n",
    "print(\"You have version %s\" % tf.__version__)"
   ]
  },
  {
   "cell_type": "markdown",
   "metadata": {},
   "source": [
    "To start we will do a **very** simple linear regression example as a neural network.\n",
    "\n",
    "To make this simple, we will just generate some data with noise"
   ]
  },
  {
   "cell_type": "code",
   "execution_count": 53,
   "metadata": {
    "collapsed": true
   },
   "outputs": [],
   "source": [
    "def make_noisy_data(m=0.1, b=0.3, n=100):\n",
    "    x = np.random.rand(n).astype(np.float32)\n",
    "    noise = np.random.normal(scale=0.01, size=len(x))\n",
    "    y = m * x + b + noise\n",
    "    return x, y"
   ]
  },
  {
   "cell_type": "code",
   "execution_count": 54,
   "metadata": {},
   "outputs": [
    {
     "data": {
      "text/plain": [
       "<matplotlib.collections.PathCollection at 0x1412f7780>"
      ]
     },
     "execution_count": 54,
     "metadata": {},
     "output_type": "execute_result"
    },
    {
     "data": {
      "image/png": "[encoded data removed]",
      "text/plain": [
       "<matplotlib.figure.Figure at 0x1412f77f0>"
      ]
     },
     "metadata": {},
     "output_type": "display_data"
    }
   ],
   "source": [
    "x_train, y_train = make_noisy_data()\n",
    "plt.scatter(x_train, y_train)"
   ]
  },
  {
   "cell_type": "markdown",
   "metadata": {},
   "source": [
    "Since TF 1.4 there has been a shortcut on how to initialize a neural network for linear and logistic regressions, but I want to step through this bit by bit without using the wrapper.\n",
    "\n",
    "First we need to initialize our inputs. Since we have 1-dimensional vectors of shape we pass `[None]`. The `name` is what the node will be referred to in the graph."
   ]
  },
  {
   "cell_type": "code",
   "execution_count": 11,
   "metadata": {
    "collapsed": true
   },
   "outputs": [],
   "source": [
    "LOGDIR = './graphs'\n",
    "tf.reset_default_graph()\n",
    "sess = tf.Session()\n",
    "\n",
    "with tf.name_scope('input'):\n",
    "    x_placeholder = tf.placeholder(shape=[None], dtype=tf.float32, name='x-input')\n",
    "    y_placeholder = tf.placeholder(shape=[None], dtype=tf.float32, name='y-input')"
   ]
  },
  {
   "cell_type": "markdown",
   "metadata": {},
   "source": [
    "Now we need to initialize our model. We have a relatively simple one\n",
    "\n",
    "$y = mx + b$\n",
    "\n",
    "where we need to fit the values of $m$ and $b$."
   ]
  },
  {
   "cell_type": "code",
   "execution_count": 12,
   "metadata": {
    "collapsed": true
   },
   "outputs": [],
   "source": [
    "with tf.name_scope('model'):\n",
    "    m = tf.Variable(tf.random_normal([1]), name='m')\n",
    "    b = tf.Variable(tf.random_normal([1]), name='b')\n",
    "    y = m * x_placeholder + b"
   ]
  },
  {
   "cell_type": "markdown",
   "metadata": {},
   "source": [
    "If you want to, you can look at what the variable attributes"
   ]
  },
  {
   "cell_type": "code",
   "execution_count": 55,
   "metadata": {},
   "outputs": [
    {
     "name": "stdout",
     "output_type": "stream",
     "text": [
      "<tf.Variable 'model/m:0' shape=(1,) dtype=float32_ref>\n"
     ]
    }
   ],
   "source": [
    "print(m)"
   ]
  },
  {
   "cell_type": "markdown",
   "metadata": {},
   "source": [
    "And then we can set up how to train the model"
   ]
  },
  {
   "cell_type": "code",
   "execution_count": 14,
   "metadata": {
    "collapsed": true
   },
   "outputs": [],
   "source": [
    "LEARNING_RATE = 0.5\n",
    "\n",
    "with tf.name_scope('training'):\n",
    "    with tf.name_scope('loss'):\n",
    "        loss = tf.reduce_mean(tf.square(y - y_placeholder))\n",
    "    with tf.name_scope('optimizer'):\n",
    "        optimizer = tf.train.GradientDescentOptimizer(LEARNING_RATE)\n",
    "        train = optimizer.minimize(loss) "
   ]
  },
  {
   "cell_type": "markdown",
   "metadata": {},
   "source": [
    "And the logging"
   ]
  },
  {
   "cell_type": "code",
   "execution_count": 15,
   "metadata": {
    "collapsed": true
   },
   "outputs": [],
   "source": [
    "# Write the graph\n",
    "writer = tf.summary.FileWriter(LOGDIR)\n",
    "writer.add_graph(sess.graph)\n",
    "\n",
    "# Attach summaries to Tensors (for TensorBoard visualization)\n",
    "tf.summary.histogram('m', m)\n",
    "tf.summary.histogram('b', b)\n",
    "tf.summary.scalar('loss', loss)\n",
    "\n",
    "# This op will calculate our summary data when run\n",
    "summary_op = tf.summary.merge_all()"
   ]
  },
  {
   "cell_type": "markdown",
   "metadata": {},
   "source": [
    "Finally initialize all of our variables"
   ]
  },
  {
   "cell_type": "code",
   "execution_count": 56,
   "metadata": {
    "collapsed": true
   },
   "outputs": [],
   "source": [
    "sess.run(tf.global_variables_initializer())"
   ]
  },
  {
   "cell_type": "markdown",
   "metadata": {},
   "source": [
    "And **finally** train our model"
   ]
  },
  {
   "cell_type": "code",
   "execution_count": 57,
   "metadata": {},
   "outputs": [
    {
     "name": "stdout",
     "output_type": "stream",
     "text": [
      "0 [array([-1.4004653], dtype=float32), array([1.2124709], dtype=float32)]\n",
      "20 [array([-0.32906827], dtype=float32), array([0.5210122], dtype=float32)]\n",
      "40 [array([-0.02117912], dtype=float32), array([0.36150384], dtype=float32)]\n",
      "60 [array([0.06292608], dtype=float32), array([0.3179314], dtype=float32)]\n",
      "80 [array([0.08590087], dtype=float32), array([0.30602884], dtype=float32)]\n",
      "100 [array([0.09217682], dtype=float32), array([0.30277747], dtype=float32)]\n",
      "120 [array([0.09389123], dtype=float32), array([0.30188927], dtype=float32)]\n",
      "140 [array([0.09435952], dtype=float32), array([0.30164665], dtype=float32)]\n",
      "160 [array([0.09448745], dtype=float32), array([0.30158037], dtype=float32)]\n",
      "180 [array([0.09452241], dtype=float32), array([0.30156228], dtype=float32)]\n",
      "200 [array([0.09453193], dtype=float32), array([0.30155733], dtype=float32)]\n"
     ]
    }
   ],
   "source": [
    "TRAIN_STEPS = 201\n",
    "\n",
    "for step in range(TRAIN_STEPS):\n",
    "    \n",
    "    # Session will run two ops:\n",
    "    # - summary_op prepares summary data we'll write to disk in a moment\n",
    "    # - train will use the optimizer to adjust our variables to reduce loss\n",
    "    summary_result, _ = sess.run([summary_op, train], \n",
    "                                  feed_dict={x_placeholder: x_train, \n",
    "                                             y_placeholder: y_train})\n",
    "    # write the summary data to disk\n",
    "    writer.add_summary(summary_result, step)\n",
    "    \n",
    "    # Uncomment the following two lines to watch training happen real time.\n",
    "    if step % 20 == 0:\n",
    "        print(step, sess.run([m, b]))\n",
    "    \n",
    "# close the writer when we're finished using it\n",
    "writer.close()"
   ]
  },
  {
   "cell_type": "code",
   "execution_count": null,
   "metadata": {},
   "outputs": [
    {
     "name": "stdout",
     "output_type": "stream",
     "text": [
      "\u001b[33mW0314 14:39:48.729792 Reloader tf_logging.py:121] Found more than one graph event per run, or there was a metagraph containing a graph_def, as well as one or more graph events.  Overwriting the graph with the newest event.\n",
      "\u001b[0mTensorBoard 1.6.0 at http://delilah.research.northwestern.edu:6006 (Press CTRL+C to quit)\n"
     ]
    }
   ],
   "source": [
    "!tensorboard --logdir=graphs"
   ]
  },
  {
   "cell_type": "markdown",
   "metadata": {},
   "source": [
    "And if we wanted to make a prediction, we do it from the session"
   ]
  },
  {
   "cell_type": "code",
   "execution_count": 60,
   "metadata": {},
   "outputs": [
    {
     "ename": "TypeError",
     "evalue": "Fetch argument 0.0027437594 has invalid type <class 'numpy.float32'>, must be a string or Tensor. (Can not convert a float32 into a Tensor or Operation.)",
     "output_type": "error",
     "traceback": [
      "\u001b[0;31m\u001b[0m",
      "\u001b[0;31mTypeError\u001b[0mTraceback (most recent call last)",
      "\u001b[0;32m/Users/adampah/.pyenv/versions/anaconda3-4.1.0/lib/python3.5/site-packages/tensorflow/python/client/session.py\u001b[0m in \u001b[0;36m__init__\u001b[0;34m(self, fetches, contraction_fn)\u001b[0m\n\u001b[1;32m    281\u001b[0m         self._unique_fetches.append(ops.get_default_graph().as_graph_element(\n\u001b[0;32m--> 282\u001b[0;31m             fetch, allow_tensor=True, allow_operation=True))\n\u001b[0m\u001b[1;32m    283\u001b[0m       \u001b[0;32mexcept\u001b[0m \u001b[0mTypeError\u001b[0m \u001b[0;32mas\u001b[0m \u001b[0me\u001b[0m\u001b[0;34m:\u001b[0m\u001b[0;34m\u001b[0m\u001b[0m\n",
      "\u001b[0;32m/Users/adampah/.pyenv/versions/anaconda3-4.1.0/lib/python3.5/site-packages/tensorflow/python/framework/ops.py\u001b[0m in \u001b[0;36mas_graph_element\u001b[0;34m(self, obj, allow_tensor, allow_operation)\u001b[0m\n\u001b[1;32m   3458\u001b[0m     \u001b[0;32mwith\u001b[0m \u001b[0mself\u001b[0m\u001b[0;34m.\u001b[0m\u001b[0m_lock\u001b[0m\u001b[0;34m:\u001b[0m\u001b[0;34m\u001b[0m\u001b[0m\n\u001b[0;32m-> 3459\u001b[0;31m       \u001b[0;32mreturn\u001b[0m \u001b[0mself\u001b[0m\u001b[0;34m.\u001b[0m\u001b[0m_as_graph_element_locked\u001b[0m\u001b[0;34m(\u001b[0m\u001b[0mobj\u001b[0m\u001b[0;34m,\u001b[0m \u001b[0mallow_tensor\u001b[0m\u001b[0;34m,\u001b[0m \u001b[0mallow_operation\u001b[0m\u001b[0;34m)\u001b[0m\u001b[0;34m\u001b[0m\u001b[0m\n\u001b[0m\u001b[1;32m   3460\u001b[0m \u001b[0;34m\u001b[0m\u001b[0m\n",
      "\u001b[0;32m/Users/adampah/.pyenv/versions/anaconda3-4.1.0/lib/python3.5/site-packages/tensorflow/python/framework/ops.py\u001b[0m in \u001b[0;36m_as_graph_element_locked\u001b[0;34m(self, obj, allow_tensor, allow_operation)\u001b[0m\n\u001b[1;32m   3547\u001b[0m       raise TypeError(\"Can not convert a %s into a %s.\" % (type(obj).__name__,\n\u001b[0;32m-> 3548\u001b[0;31m                                                            types_str))\n\u001b[0m\u001b[1;32m   3549\u001b[0m \u001b[0;34m\u001b[0m\u001b[0m\n",
      "\u001b[0;31mTypeError\u001b[0m: Can not convert a float32 into a Tensor or Operation.",
      "\nDuring handling of the above exception, another exception occurred:\n",
      "\u001b[0;31mTypeError\u001b[0mTraceback (most recent call last)",
      "\u001b[0;32m<ipython-input-60-1be3eeafb3c6>\u001b[0m in \u001b[0;36m<module>\u001b[0;34m()\u001b[0m\n\u001b[0;32m----> 1\u001b[0;31m \u001b[0msess\u001b[0m\u001b[0;34m.\u001b[0m\u001b[0mrun\u001b[0m\u001b[0;34m(\u001b[0m\u001b[0my\u001b[0m\u001b[0;34m,\u001b[0m \u001b[0mfeed_dict\u001b[0m\u001b[0;34m=\u001b[0m\u001b[0;34m{\u001b[0m\u001b[0mx_placeholder\u001b[0m\u001b[0;34m:\u001b[0m \u001b[0;34m[\u001b[0m\u001b[0;36m2\u001b[0m\u001b[0;34m]\u001b[0m\u001b[0;34m}\u001b[0m\u001b[0;34m)\u001b[0m\u001b[0;34m\u001b[0m\u001b[0m\n\u001b[0m",
      "\u001b[0;32m/Users/adampah/.pyenv/versions/anaconda3-4.1.0/lib/python3.5/site-packages/tensorflow/python/client/session.py\u001b[0m in \u001b[0;36mrun\u001b[0;34m(self, fetches, feed_dict, options, run_metadata)\u001b[0m\n\u001b[1;32m    903\u001b[0m     \u001b[0;32mtry\u001b[0m\u001b[0;34m:\u001b[0m\u001b[0;34m\u001b[0m\u001b[0m\n\u001b[1;32m    904\u001b[0m       result = self._run(None, fetches, feed_dict, options_ptr,\n\u001b[0;32m--> 905\u001b[0;31m                          run_metadata_ptr)\n\u001b[0m\u001b[1;32m    906\u001b[0m       \u001b[0;32mif\u001b[0m \u001b[0mrun_metadata\u001b[0m\u001b[0;34m:\u001b[0m\u001b[0;34m\u001b[0m\u001b[0m\n\u001b[1;32m    907\u001b[0m         \u001b[0mproto_data\u001b[0m \u001b[0;34m=\u001b[0m \u001b[0mtf_session\u001b[0m\u001b[0;34m.\u001b[0m\u001b[0mTF_GetBuffer\u001b[0m\u001b[0;34m(\u001b[0m\u001b[0mrun_metadata_ptr\u001b[0m\u001b[0;34m)\u001b[0m\u001b[0;34m\u001b[0m\u001b[0m\n",
      "\u001b[0;32m/Users/adampah/.pyenv/versions/anaconda3-4.1.0/lib/python3.5/site-packages/tensorflow/python/client/session.py\u001b[0m in \u001b[0;36m_run\u001b[0;34m(self, handle, fetches, feed_dict, options, run_metadata)\u001b[0m\n\u001b[1;32m   1120\u001b[0m     \u001b[0;31m# Create a fetch handler to take care of the structure of fetches.\u001b[0m\u001b[0;34m\u001b[0m\u001b[0;34m\u001b[0m\u001b[0m\n\u001b[1;32m   1121\u001b[0m     fetch_handler = _FetchHandler(\n\u001b[0;32m-> 1122\u001b[0;31m         self._graph, fetches, feed_dict_tensor, feed_handles=feed_handles)\n\u001b[0m\u001b[1;32m   1123\u001b[0m \u001b[0;34m\u001b[0m\u001b[0m\n\u001b[1;32m   1124\u001b[0m     \u001b[0;31m# Run request and get response.\u001b[0m\u001b[0;34m\u001b[0m\u001b[0;34m\u001b[0m\u001b[0m\n",
      "\u001b[0;32m/Users/adampah/.pyenv/versions/anaconda3-4.1.0/lib/python3.5/site-packages/tensorflow/python/client/session.py\u001b[0m in \u001b[0;36m__init__\u001b[0;34m(self, graph, fetches, feeds, feed_handles)\u001b[0m\n\u001b[1;32m    425\u001b[0m     \"\"\"\n\u001b[1;32m    426\u001b[0m     \u001b[0;32mwith\u001b[0m \u001b[0mgraph\u001b[0m\u001b[0;34m.\u001b[0m\u001b[0mas_default\u001b[0m\u001b[0;34m(\u001b[0m\u001b[0;34m)\u001b[0m\u001b[0;34m:\u001b[0m\u001b[0;34m\u001b[0m\u001b[0m\n\u001b[0;32m--> 427\u001b[0;31m       \u001b[0mself\u001b[0m\u001b[0;34m.\u001b[0m\u001b[0m_fetch_mapper\u001b[0m \u001b[0;34m=\u001b[0m \u001b[0m_FetchMapper\u001b[0m\u001b[0;34m.\u001b[0m\u001b[0mfor_fetch\u001b[0m\u001b[0;34m(\u001b[0m\u001b[0mfetches\u001b[0m\u001b[0;34m)\u001b[0m\u001b[0;34m\u001b[0m\u001b[0m\n\u001b[0m\u001b[1;32m    428\u001b[0m     \u001b[0mself\u001b[0m\u001b[0;34m.\u001b[0m\u001b[0m_fetches\u001b[0m \u001b[0;34m=\u001b[0m \u001b[0;34m[\u001b[0m\u001b[0;34m]\u001b[0m\u001b[0;34m\u001b[0m\u001b[0m\n\u001b[1;32m    429\u001b[0m     \u001b[0mself\u001b[0m\u001b[0;34m.\u001b[0m\u001b[0m_targets\u001b[0m \u001b[0;34m=\u001b[0m \u001b[0;34m[\u001b[0m\u001b[0;34m]\u001b[0m\u001b[0;34m\u001b[0m\u001b[0m\n",
      "\u001b[0;32m/Users/adampah/.pyenv/versions/anaconda3-4.1.0/lib/python3.5/site-packages/tensorflow/python/client/session.py\u001b[0m in \u001b[0;36mfor_fetch\u001b[0;34m(fetch)\u001b[0m\n\u001b[1;32m    251\u001b[0m         \u001b[0;32mif\u001b[0m \u001b[0misinstance\u001b[0m\u001b[0;34m(\u001b[0m\u001b[0mfetch\u001b[0m\u001b[0;34m,\u001b[0m \u001b[0mtensor_type\u001b[0m\u001b[0;34m)\u001b[0m\u001b[0;34m:\u001b[0m\u001b[0;34m\u001b[0m\u001b[0m\n\u001b[1;32m    252\u001b[0m           \u001b[0mfetches\u001b[0m\u001b[0;34m,\u001b[0m \u001b[0mcontraction_fn\u001b[0m \u001b[0;34m=\u001b[0m \u001b[0mfetch_fn\u001b[0m\u001b[0;34m(\u001b[0m\u001b[0mfetch\u001b[0m\u001b[0;34m)\u001b[0m\u001b[0;34m\u001b[0m\u001b[0m\n\u001b[0;32m--> 253\u001b[0;31m           \u001b[0;32mreturn\u001b[0m \u001b[0m_ElementFetchMapper\u001b[0m\u001b[0;34m(\u001b[0m\u001b[0mfetches\u001b[0m\u001b[0;34m,\u001b[0m \u001b[0mcontraction_fn\u001b[0m\u001b[0;34m)\u001b[0m\u001b[0;34m\u001b[0m\u001b[0m\n\u001b[0m\u001b[1;32m    254\u001b[0m     \u001b[0;31m# Did not find anything.\u001b[0m\u001b[0;34m\u001b[0m\u001b[0;34m\u001b[0m\u001b[0m\n\u001b[1;32m    255\u001b[0m     raise TypeError('Fetch argument %r has invalid type %r' % (fetch,\n",
      "\u001b[0;32m/Users/adampah/.pyenv/versions/anaconda3-4.1.0/lib/python3.5/site-packages/tensorflow/python/client/session.py\u001b[0m in \u001b[0;36m__init__\u001b[0;34m(self, fetches, contraction_fn)\u001b[0m\n\u001b[1;32m    284\u001b[0m         raise TypeError('Fetch argument %r has invalid type %r, '\n\u001b[1;32m    285\u001b[0m                         \u001b[0;34m'must be a string or Tensor. (%s)'\u001b[0m \u001b[0;34m%\u001b[0m\u001b[0;34m\u001b[0m\u001b[0m\n\u001b[0;32m--> 286\u001b[0;31m                         (fetch, type(fetch), str(e)))\n\u001b[0m\u001b[1;32m    287\u001b[0m       \u001b[0;32mexcept\u001b[0m \u001b[0mValueError\u001b[0m \u001b[0;32mas\u001b[0m \u001b[0me\u001b[0m\u001b[0;34m:\u001b[0m\u001b[0;34m\u001b[0m\u001b[0m\n\u001b[1;32m    288\u001b[0m         raise ValueError('Fetch argument %r cannot be interpreted as a '\n",
      "\u001b[0;31mTypeError\u001b[0m: Fetch argument 0.0027437594 has invalid type <class 'numpy.float32'>, must be a string or Tensor. (Can not convert a float32 into a Tensor or Operation.)"
     ]
    }
   ],
   "source": [
    "sess.run(y, feed_dict={x_placeholder: [2]})"
   ]
  },
  {
   "cell_type": "markdown",
   "metadata": {},
   "source": [
    "The presentation is similar even if there are hidden layers on tensorboard - this model is for a neural network that is trained to identify handwritten digits. \n",
    "\n",
    "<img src='../images/l9_neuralnet_tf.png'></img>"
   ]
  },
  {
   "cell_type": "markdown",
   "metadata": {
    "collapsed": true
   },
   "source": [
    "Despite the complexity of a neural network, it fundamentally works the same as other approaches - **given some data, minimize the difference between the prediction and the truth**. "
   ]
  },
  {
   "cell_type": "markdown",
   "metadata": {},
   "source": [
    "# Word2Vec in Gensim\n",
    "\n",
    "We can create our own word2vec model in tensorflow and train it, but gensim also has a built-in implementation that requires less boilerplate code and still retains most options."
   ]
  },
  {
   "cell_type": "code",
   "execution_count": 62,
   "metadata": {},
   "outputs": [
    {
     "data": {
      "text/plain": [
       "[['human',\n",
       "  'machine',\n",
       "  'interface',\n",
       "  'for',\n",
       "  'lab',\n",
       "  'abc',\n",
       "  'computer',\n",
       "  'applications'],\n",
       " ['a',\n",
       "  'survey',\n",
       "  'of',\n",
       "  'user',\n",
       "  'opinion',\n",
       "  'of',\n",
       "  'computer',\n",
       "  'system',\n",
       "  'response',\n",
       "  'time'],\n",
       " ['the', 'eps', 'user', 'interface', 'management', 'system'],\n",
       " ['system', 'and', 'human', 'system', 'engineering', 'testing', 'of', 'eps'],\n",
       " ['relation',\n",
       "  'of',\n",
       "  'user',\n",
       "  'perceived',\n",
       "  'response',\n",
       "  'time',\n",
       "  'to',\n",
       "  'error',\n",
       "  'measurement'],\n",
       " ['the', 'generation', 'of', 'random', 'binary', 'unordered', 'trees'],\n",
       " ['the', 'intersection', 'graph', 'of', 'paths', 'in', 'trees'],\n",
       " ['graph',\n",
       "  'minors',\n",
       "  'iv',\n",
       "  'widths',\n",
       "  'of',\n",
       "  'trees',\n",
       "  'and',\n",
       "  'well',\n",
       "  'quasi',\n",
       "  'ordering'],\n",
       " ['graph', 'minors', 'a', 'survey']]"
      ]
     },
     "execution_count": 62,
     "metadata": {},
     "output_type": "execute_result"
    }
   ],
   "source": [
    "sentences = [x.lower().split() for x in [\"Human machine interface for lab abc computer applications\",\n",
    "                                         \"A survey of user opinion of computer system response time\",\n",
    "                                         \"The EPS user interface management system\",\n",
    "                                         \"System and human system engineering testing of EPS\",              \n",
    "                                         \"Relation of user perceived response time to error measurement\",\n",
    "                                         \"The generation of random binary unordered trees\",\n",
    "                                         \"The intersection graph of paths in trees\",\n",
    "                                         \"Graph minors IV Widths of trees and well quasi ordering\",\n",
    "                                         \"Graph minors A survey\"]]\n",
    "sentences"
   ]
  },
  {
   "cell_type": "code",
   "execution_count": 63,
   "metadata": {
    "collapsed": true
   },
   "outputs": [],
   "source": [
    "import gensim as gs\n",
    "#and we can create a model in one shot if we wanted to.\n",
    "model = gs.models.Word2Vec(sentences, min_count=1, sg=0, seed=1)"
   ]
  },
  {
   "cell_type": "markdown",
   "metadata": {},
   "source": [
    "And that's it to get up and running. `sg=1` sets Word2Vec to use skip-grams, while `sg=0` sets Word2Vec to use continuous bag of words. \n",
    "\n",
    "We could double check what the vector size is (although this is set when we initialize the model)"
   ]
  },
  {
   "cell_type": "code",
   "execution_count": 64,
   "metadata": {},
   "outputs": [
    {
     "data": {
      "text/plain": [
       "100"
      ]
     },
     "execution_count": 64,
     "metadata": {},
     "output_type": "execute_result"
    }
   ],
   "source": [
    "model.vector_size"
   ]
  },
  {
   "cell_type": "markdown",
   "metadata": {},
   "source": [
    "And check on the vocabulary constructed from the dataset."
   ]
  },
  {
   "cell_type": "code",
   "execution_count": 65,
   "metadata": {},
   "outputs": [
    {
     "data": {
      "text/plain": [
       "{'a': <gensim.models.keyedvectors.Vocab at 0x12ad5ba90>,\n",
       " 'abc': <gensim.models.keyedvectors.Vocab at 0x12ad5b2e8>,\n",
       " 'and': <gensim.models.keyedvectors.Vocab at 0x128e27898>,\n",
       " 'applications': <gensim.models.keyedvectors.Vocab at 0x128e27c18>,\n",
       " 'binary': <gensim.models.keyedvectors.Vocab at 0x128e27630>,\n",
       " 'computer': <gensim.models.keyedvectors.Vocab at 0x127a45128>,\n",
       " 'engineering': <gensim.models.keyedvectors.Vocab at 0x12ad5bfd0>,\n",
       " 'eps': <gensim.models.keyedvectors.Vocab at 0x128e304a8>,\n",
       " 'error': <gensim.models.keyedvectors.Vocab at 0x12ad5bd30>,\n",
       " 'for': <gensim.models.keyedvectors.Vocab at 0x12ad5be10>,\n",
       " 'generation': <gensim.models.keyedvectors.Vocab at 0x128e27e80>,\n",
       " 'graph': <gensim.models.keyedvectors.Vocab at 0x12ad5b320>,\n",
       " 'human': <gensim.models.keyedvectors.Vocab at 0x12ad5bb38>,\n",
       " 'in': <gensim.models.keyedvectors.Vocab at 0x128e27828>,\n",
       " 'interface': <gensim.models.keyedvectors.Vocab at 0x128e27780>,\n",
       " 'intersection': <gensim.models.keyedvectors.Vocab at 0x1288ad550>,\n",
       " 'iv': <gensim.models.keyedvectors.Vocab at 0x127a45f28>,\n",
       " 'lab': <gensim.models.keyedvectors.Vocab at 0x12ad5bdd8>,\n",
       " 'machine': <gensim.models.keyedvectors.Vocab at 0x128e278d0>,\n",
       " 'management': <gensim.models.keyedvectors.Vocab at 0x12ad5bf98>,\n",
       " 'measurement': <gensim.models.keyedvectors.Vocab at 0x128e27dd8>,\n",
       " 'minors': <gensim.models.keyedvectors.Vocab at 0x127a5b048>,\n",
       " 'of': <gensim.models.keyedvectors.Vocab at 0x128e275f8>,\n",
       " 'opinion': <gensim.models.keyedvectors.Vocab at 0x12ad5bc18>,\n",
       " 'ordering': <gensim.models.keyedvectors.Vocab at 0x12ad5be48>,\n",
       " 'paths': <gensim.models.keyedvectors.Vocab at 0x1288ad7b8>,\n",
       " 'perceived': <gensim.models.keyedvectors.Vocab at 0x128e30a20>,\n",
       " 'quasi': <gensim.models.keyedvectors.Vocab at 0x12ad5b828>,\n",
       " 'random': <gensim.models.keyedvectors.Vocab at 0x128e27a20>,\n",
       " 'relation': <gensim.models.keyedvectors.Vocab at 0x12ad5bbe0>,\n",
       " 'response': <gensim.models.keyedvectors.Vocab at 0x12ad5b198>,\n",
       " 'survey': <gensim.models.keyedvectors.Vocab at 0x128e27a90>,\n",
       " 'system': <gensim.models.keyedvectors.Vocab at 0x12ad5bac8>,\n",
       " 'testing': <gensim.models.keyedvectors.Vocab at 0x12ad5bc88>,\n",
       " 'the': <gensim.models.keyedvectors.Vocab at 0x128e30c50>,\n",
       " 'time': <gensim.models.keyedvectors.Vocab at 0x128e27d68>,\n",
       " 'to': <gensim.models.keyedvectors.Vocab at 0x128e30cf8>,\n",
       " 'trees': <gensim.models.keyedvectors.Vocab at 0x127a45550>,\n",
       " 'unordered': <gensim.models.keyedvectors.Vocab at 0x12ad5bf28>,\n",
       " 'user': <gensim.models.keyedvectors.Vocab at 0x12ad5bb00>,\n",
       " 'well': <gensim.models.keyedvectors.Vocab at 0x12ad5bef0>,\n",
       " 'widths': <gensim.models.keyedvectors.Vocab at 0x128e27358>}"
      ]
     },
     "execution_count": 65,
     "metadata": {},
     "output_type": "execute_result"
    }
   ],
   "source": [
    "model.wv.vocab"
   ]
  },
  {
   "cell_type": "markdown",
   "metadata": {},
   "source": [
    "And using one of the words, pull its vector out."
   ]
  },
  {
   "cell_type": "code",
   "execution_count": 66,
   "metadata": {},
   "outputs": [
    {
     "data": {
      "text/plain": [
       "array([-1.8757612e-03, -4.7319234e-04,  3.2722126e-03,  2.2497734e-03,\n",
       "        5.7675235e-04, -3.3369828e-03, -5.9189770e-04,  2.4842764e-03,\n",
       "        2.9437519e-03, -3.5409196e-03, -3.5105918e-03,  3.9636032e-03,\n",
       "        4.3576895e-03, -3.4558952e-03,  2.0270431e-03,  4.4895136e-03,\n",
       "       -6.2283350e-04,  2.7993477e-03, -3.8118288e-03,  4.6618399e-03,\n",
       "       -8.1476173e-04, -4.0388289e-03,  4.7998149e-03,  4.8226924e-03,\n",
       "        2.9142603e-04,  3.1670381e-03, -3.4044476e-03,  3.3604444e-03,\n",
       "       -4.1117126e-04,  2.9597636e-03, -2.0896606e-03,  2.3171999e-03,\n",
       "       -1.2737218e-03, -1.5220185e-03, -5.4983393e-04, -3.5039487e-03,\n",
       "        3.7361132e-03,  2.0248561e-04, -2.0674497e-03, -2.7755958e-03,\n",
       "        1.1062289e-03,  2.3397398e-03, -3.9555025e-03, -4.2651822e-03,\n",
       "       -4.0524257e-03, -3.1199944e-03, -4.7368946e-04,  2.4604066e-03,\n",
       "        4.0410273e-03,  3.5808871e-03, -3.4900266e-03, -2.0412036e-04,\n",
       "        2.4673962e-03, -3.5575256e-03, -8.8068936e-04,  2.9842425e-03,\n",
       "        9.8451378e-04, -1.8496173e-03,  4.5624529e-03,  4.6961494e-03,\n",
       "        1.5771628e-03,  2.8051103e-03,  8.2036987e-04,  2.4560147e-03,\n",
       "       -1.5685975e-03, -1.6538813e-03, -4.7151842e-03, -2.3462391e-03,\n",
       "        3.5609056e-03,  1.0875479e-03, -4.0150513e-03, -9.5617247e-04,\n",
       "        4.5509459e-03, -7.4142549e-04, -2.0424430e-03,  4.1728844e-03,\n",
       "       -1.9766175e-04,  9.0560928e-04, -4.2470456e-03, -3.8651458e-03,\n",
       "        1.8242475e-03,  1.6705728e-05, -1.4011340e-03,  3.7431514e-03,\n",
       "       -1.6971215e-04,  3.7062020e-04,  2.1985883e-03, -4.2452794e-03,\n",
       "       -2.3710911e-04,  1.0820663e-03, -2.9308044e-03, -4.1408320e-03,\n",
       "        2.8604553e-03, -2.8150023e-03, -3.5694000e-05,  4.8680551e-04,\n",
       "        4.2661922e-03, -1.5849542e-03, -4.3872450e-03,  4.2908052e-03],\n",
       "      dtype=float32)"
      ]
     },
     "execution_count": 66,
     "metadata": {},
     "output_type": "execute_result"
    }
   ],
   "source": [
    "model.wv['trees']"
   ]
  },
  {
   "cell_type": "markdown",
   "metadata": {},
   "source": [
    "And ask it to predict a word given context."
   ]
  },
  {
   "cell_type": "code",
   "execution_count": 67,
   "metadata": {},
   "outputs": [
    {
     "data": {
      "text/plain": [
       "[('widths', 0.023809697),\n",
       " ('in', 0.023809645),\n",
       " ('to', 0.02380964),\n",
       " ('management', 0.023809629),\n",
       " ('generation', 0.023809612),\n",
       " ('abc', 0.023809597),\n",
       " ('measurement', 0.023809597),\n",
       " ('engineering', 0.023809597),\n",
       " ('minors', 0.023809597),\n",
       " ('time', 0.023809586)]"
      ]
     },
     "execution_count": 67,
     "metadata": {},
     "output_type": "execute_result"
    }
   ],
   "source": [
    "model.predict_output_word(['graph', 'trees'])"
   ]
  },
  {
   "cell_type": "markdown",
   "metadata": {},
   "source": [
    "We could pull out the vector weigths for all of the vocabulary words and attempt to look at them also.\n",
    "\n",
    "Pull out all of the words and plot the first two dimensions with the word labels."
   ]
  },
  {
   "cell_type": "code",
   "execution_count": 71,
   "metadata": {},
   "outputs": [
    {
     "data": {
      "text/plain": [
       "{'a': <gensim.models.keyedvectors.Vocab at 0x12ad5ba90>,\n",
       " 'abc': <gensim.models.keyedvectors.Vocab at 0x12ad5b2e8>,\n",
       " 'and': <gensim.models.keyedvectors.Vocab at 0x128e27898>,\n",
       " 'applications': <gensim.models.keyedvectors.Vocab at 0x128e27c18>,\n",
       " 'binary': <gensim.models.keyedvectors.Vocab at 0x128e27630>,\n",
       " 'computer': <gensim.models.keyedvectors.Vocab at 0x127a45128>,\n",
       " 'engineering': <gensim.models.keyedvectors.Vocab at 0x12ad5bfd0>,\n",
       " 'eps': <gensim.models.keyedvectors.Vocab at 0x128e304a8>,\n",
       " 'error': <gensim.models.keyedvectors.Vocab at 0x12ad5bd30>,\n",
       " 'for': <gensim.models.keyedvectors.Vocab at 0x12ad5be10>,\n",
       " 'generation': <gensim.models.keyedvectors.Vocab at 0x128e27e80>,\n",
       " 'graph': <gensim.models.keyedvectors.Vocab at 0x12ad5b320>,\n",
       " 'human': <gensim.models.keyedvectors.Vocab at 0x12ad5bb38>,\n",
       " 'in': <gensim.models.keyedvectors.Vocab at 0x128e27828>,\n",
       " 'interface': <gensim.models.keyedvectors.Vocab at 0x128e27780>,\n",
       " 'intersection': <gensim.models.keyedvectors.Vocab at 0x1288ad550>,\n",
       " 'iv': <gensim.models.keyedvectors.Vocab at 0x127a45f28>,\n",
       " 'lab': <gensim.models.keyedvectors.Vocab at 0x12ad5bdd8>,\n",
       " 'machine': <gensim.models.keyedvectors.Vocab at 0x128e278d0>,\n",
       " 'management': <gensim.models.keyedvectors.Vocab at 0x12ad5bf98>,\n",
       " 'measurement': <gensim.models.keyedvectors.Vocab at 0x128e27dd8>,\n",
       " 'minors': <gensim.models.keyedvectors.Vocab at 0x127a5b048>,\n",
       " 'of': <gensim.models.keyedvectors.Vocab at 0x128e275f8>,\n",
       " 'opinion': <gensim.models.keyedvectors.Vocab at 0x12ad5bc18>,\n",
       " 'ordering': <gensim.models.keyedvectors.Vocab at 0x12ad5be48>,\n",
       " 'paths': <gensim.models.keyedvectors.Vocab at 0x1288ad7b8>,\n",
       " 'perceived': <gensim.models.keyedvectors.Vocab at 0x128e30a20>,\n",
       " 'quasi': <gensim.models.keyedvectors.Vocab at 0x12ad5b828>,\n",
       " 'random': <gensim.models.keyedvectors.Vocab at 0x128e27a20>,\n",
       " 'relation': <gensim.models.keyedvectors.Vocab at 0x12ad5bbe0>,\n",
       " 'response': <gensim.models.keyedvectors.Vocab at 0x12ad5b198>,\n",
       " 'survey': <gensim.models.keyedvectors.Vocab at 0x128e27a90>,\n",
       " 'system': <gensim.models.keyedvectors.Vocab at 0x12ad5bac8>,\n",
       " 'testing': <gensim.models.keyedvectors.Vocab at 0x12ad5bc88>,\n",
       " 'the': <gensim.models.keyedvectors.Vocab at 0x128e30c50>,\n",
       " 'time': <gensim.models.keyedvectors.Vocab at 0x128e27d68>,\n",
       " 'to': <gensim.models.keyedvectors.Vocab at 0x128e30cf8>,\n",
       " 'trees': <gensim.models.keyedvectors.Vocab at 0x127a45550>,\n",
       " 'unordered': <gensim.models.keyedvectors.Vocab at 0x12ad5bf28>,\n",
       " 'user': <gensim.models.keyedvectors.Vocab at 0x12ad5bb00>,\n",
       " 'well': <gensim.models.keyedvectors.Vocab at 0x12ad5bef0>,\n",
       " 'widths': <gensim.models.keyedvectors.Vocab at 0x128e27358>}"
      ]
     },
     "execution_count": 71,
     "metadata": {},
     "output_type": "execute_result"
    }
   ],
   "source": [
    "model.wv.vocab"
   ]
  },
  {
   "cell_type": "code",
   "execution_count": 72,
   "metadata": {},
   "outputs": [
    {
     "data": {
      "text/plain": [
       "array([[ 7.5315032e-04, -4.7117346e-03, -1.3489460e-03, ...,\n",
       "         1.3975860e-03, -1.2840990e-03, -2.7784328e-03],\n",
       "       [-2.3028678e-03, -1.7590391e-03, -2.8763628e-03, ...,\n",
       "         1.0258728e-03, -6.5197368e-05,  6.6207728e-04],\n",
       "       [-2.4418500e-03, -2.4909498e-03,  4.4182390e-03, ...,\n",
       "         3.0470255e-04, -4.0977416e-03, -1.6439663e-03],\n",
       "       ...,\n",
       "       [ 3.4845711e-03, -1.1401968e-03, -3.4697964e-03, ...,\n",
       "         2.0500970e-04, -3.7193936e-03,  5.9963035e-04],\n",
       "       [ 4.0004309e-03,  1.9127020e-03,  3.6180494e-03, ...,\n",
       "         4.3768142e-03,  2.4273666e-03, -4.5993342e-03],\n",
       "       [-4.4385851e-03,  2.7437594e-03,  1.6281867e-03, ...,\n",
       "         2.6957537e-03,  3.7378701e-03, -2.2523322e-03]], dtype=float32)"
      ]
     },
     "execution_count": 72,
     "metadata": {},
     "output_type": "execute_result"
    }
   ],
   "source": [
    "#Answer\n",
    "%matplotlib inline\n",
    "import matplotlib.pyplot as plt\n",
    "\n",
    "wmatrix = model.wv[model.wv.vocab]\n",
    "wmatrix"
   ]
  },
  {
   "cell_type": "code",
   "execution_count": 73,
   "metadata": {},
   "outputs": [
    {
     "data": {
      "text/plain": [
       "(-0.005, 0.006)"
      ]
     },
     "execution_count": 73,
     "metadata": {},
     "output_type": "execute_result"
    },
    {
     "data": {
      "image/png": "[encoded data removed]",
      "text/plain": [
       "<matplotlib.figure.Figure at 0x12ae734a8>"
      ]
     },
     "metadata": {},
     "output_type": "display_data"
    }
   ],
   "source": [
    "xdata = wmatrix[:,0]\n",
    "ydata = wmatrix[:,1]\n",
    "\n",
    "\n",
    "fig = plt.figure(figsize=(10,10))\n",
    "ax = fig.add_subplot(111)\n",
    "ax.scatter(xdata, ydata)\n",
    "for x,y,word in zip(xdata, ydata, model.wv.vocab):\n",
    "    ax.text(x,y,word)\n",
    "ax.set_xlim(-0.0050, 0.0060)\n",
    "ax.set_ylim(-0.0050, 0.0060)"
   ]
  },
  {
   "cell_type": "markdown",
   "metadata": {},
   "source": [
    "# Visualizing the maximum variance\n",
    "\n",
    "Picking two dimensions at random isn't a good way to visualize the embedding, since the algorithm is relying on all 100 dimensions to describe the words (i.e. all dimensions are working to create the optimal embedding).\n",
    "\n",
    "Since we lack the ability to plot/view 100 dimensions simultaneously our best bet is to employ **dimensionality reduction** and create optimally weighted axes across dimensions to capture the variance within the data."
   ]
  },
  {
   "cell_type": "markdown",
   "metadata": {},
   "source": [
    "# Principal Component Analysis (PCA)\n",
    "\n",
    "PCA is a commonly used dimensionality reduction algorithm. It works by transforming a set of data observations into a set of linearly uncorrelated variables (the components). The difference between PCA and Factor Analysis is that the components are orthogonal (i.e. components are at 90 degree angles from one another). The calculation of these components is based on the eigenvectors of the data matrix (which is also what guarantees us that the components are orthogonal).\n",
    "\n",
    "We can use the scikit learn implementation of PCA"
   ]
  },
  {
   "cell_type": "code",
   "execution_count": 74,
   "metadata": {
    "collapsed": true
   },
   "outputs": [],
   "source": [
    "from sklearn.decomposition import PCA\n",
    "\n",
    "\n"
   ]
  },
  {
   "cell_type": "code",
   "execution_count": 75,
   "metadata": {},
   "outputs": [
    {
     "data": {
      "image/png": "[encoded data removed]",
      "text/plain": [
       "<matplotlib.figure.Figure at 0x12ad62080>"
      ]
     },
     "metadata": {},
     "output_type": "display_data"
    }
   ],
   "source": [
    "#Answer\n",
    "pca = PCA(n_components=2)\n",
    "result = pca.fit_transform(wmatrix)\n",
    "\n",
    "fig = plt.figure(figsize=(10,10))\n",
    "ax = fig.add_subplot(111)\n",
    "ax.scatter(result[:,0], result[:,1])\n",
    "for coord,word in zip(result, model.wv.vocab):\n",
    "    ax.text(coord[0], coord[1], word)"
   ]
  },
  {
   "cell_type": "markdown",
   "metadata": {},
   "source": [
    "# Moving forward\n",
    "\n",
    "And this is as far as we can possibly take this example text. To **actually** train a word embedding, you need a massive dataset. \n",
    "\n",
    "In lieu of that, we can load up trained representations that someone else has already done. We will use the Stanford Global Vectors for Word Representation (GloVe), since it is a smaller file size than Google's trained word2vec.\n",
    "\n",
    "https://nlp.stanford.edu/projects/glove/\n",
    "\n",
    "You can move the downloaded folder into our `data/` folder."
   ]
  },
  {
   "cell_type": "code",
   "execution_count": 76,
   "metadata": {},
   "outputs": [
    {
     "name": "stdout",
     "output_type": "stream",
     "text": [
      "glove.6B.100d.txt           glove.6B.300d.txt\r\n",
      "glove.6B.100d.word2vec.txt  glove.6B.50d.txt\r\n",
      "glove.6B.200d.txt\r\n"
     ]
    }
   ],
   "source": [
    "ls ../data/glove/"
   ]
  },
  {
   "cell_type": "markdown",
   "metadata": {},
   "source": [
    "There are four files that GloVe supplies, they were all trained on the same corpus but with different sized vectors (vector size is marked in the filename). \n",
    "\n",
    "We will keep working with the 100 dimension vector. Unlike the google datasets (which are in a standard word2vec format), we need to convert the GloVe dataset to a word2vec format."
   ]
  },
  {
   "cell_type": "code",
   "execution_count": 77,
   "metadata": {},
   "outputs": [
    {
     "data": {
      "text/plain": [
       "(400000, 100)"
      ]
     },
     "execution_count": 77,
     "metadata": {},
     "output_type": "execute_result"
    }
   ],
   "source": [
    "from gensim.scripts.glove2word2vec import glove2word2vec\n",
    "glove_input_file = '../data/glove/glove.6B.100d.txt'\n",
    "word2vec_output_file = '../data/glove/glove.6B.100d.word2vec.txt'\n",
    "glove2word2vec(glove_input_file, word2vec_output_file)"
   ]
  },
  {
   "cell_type": "markdown",
   "metadata": {},
   "source": [
    "And now we can read this word2vec file the same as we could one that we downloaded directly from Google."
   ]
  },
  {
   "cell_type": "code",
   "execution_count": 78,
   "metadata": {
    "collapsed": true
   },
   "outputs": [],
   "source": [
    "from gensim.models import KeyedVectors\n",
    "\n",
    "glove_model = KeyedVectors.load_word2vec_format(word2vec_output_file)"
   ]
  },
  {
   "cell_type": "markdown",
   "metadata": {},
   "source": [
    "With a large, well-trained dataset we can start pulling out the famous examples also.\n",
    "\n",
    "`king - man + woman = ?`"
   ]
  },
  {
   "cell_type": "code",
   "execution_count": 79,
   "metadata": {},
   "outputs": [
    {
     "data": {
      "text/plain": [
       "[('queen', 0.7698541283607483),\n",
       " ('monarch', 0.6843380928039551),\n",
       " ('throne', 0.6755737066268921),\n",
       " ('daughter', 0.6594555974006653),\n",
       " ('princess', 0.6520534157752991),\n",
       " ('prince', 0.6517034769058228),\n",
       " ('elizabeth', 0.6464517712593079),\n",
       " ('mother', 0.6311717629432678),\n",
       " ('emperor', 0.6106470823287964),\n",
       " ('wife', 0.6098655462265015)]"
      ]
     },
     "execution_count": 79,
     "metadata": {},
     "output_type": "execute_result"
    }
   ],
   "source": [
    "result = glove_model.most_similar(positive=['woman', 'king'], negative=['man'])\n",
    "result"
   ]
  },
  {
   "cell_type": "markdown",
   "metadata": {
    "collapsed": true
   },
   "source": [
    "## How does this work?\n",
    "\n",
    "Everything is based off of vectors. Given two data points, they each have a vector from the origin.\n",
    "\n",
    "<img src='../images/l19_vector_origin.jpg' width='300px'></img>"
   ]
  },
  {
   "cell_type": "markdown",
   "metadata": {},
   "source": [
    "# Vector addition works by stacking the vectors\n",
    "\n",
    "If we add `King+Man`, then we have a resultant vector that is the length of both.\n",
    "\n",
    "<img src='../images/l19_vector_addition.jpg' width='300px'></img>"
   ]
  },
  {
   "cell_type": "markdown",
   "metadata": {},
   "source": [
    "# Vector subtraction requires 'flipping' the subtracted vector\n",
    "\n",
    "<img src='../images/l19_vector_subtraction.jpg' width='300px'></img>"
   ]
  },
  {
   "cell_type": "markdown",
   "metadata": {},
   "source": [
    "# Similarity between two vectors is based off of the angle between them\n",
    "\n",
    "<img src='../images/l19_cosine_1.jpg' width='300px'></img>\n",
    "<img src='../images/l19_cosine_2.jpg' width='300px'></img>"
   ]
  },
  {
   "cell_type": "code",
   "execution_count": 80,
   "metadata": {},
   "outputs": [
    {
     "data": {
      "text/plain": [
       "[('dog', 0.8002570867538452),\n",
       " ('dogs', 0.675112783908844),\n",
       " ('pig', 0.6540138125419617),\n",
       " ('horse', 0.6384344696998596),\n",
       " ('rabbit', 0.6239069104194641),\n",
       " ('pet', 0.6193716526031494),\n",
       " ('chicken', 0.6041175723075867),\n",
       " ('cats', 0.5998529195785522),\n",
       " ('hog', 0.5978538393974304),\n",
       " ('duck', 0.5851622819900513)]"
      ]
     },
     "execution_count": 80,
     "metadata": {},
     "output_type": "execute_result"
    }
   ],
   "source": [
    "glove_model.most_similar(positive=['cat', 'puppy'], negative=['kitten'])"
   ]
  },
  {
   "cell_type": "code",
   "execution_count": 81,
   "metadata": {},
   "outputs": [
    {
     "data": {
      "text/plain": [
       "[('cat', 0.6935380101203918),\n",
       " ('dogs', 0.5759751796722412),\n",
       " ('monkey', 0.5692905187606812),\n",
       " ('pet', 0.5661199688911438),\n",
       " ('girl', 0.5220829248428345),\n",
       " ('creature', 0.5160893797874451),\n",
       " ('cats', 0.5131915807723999),\n",
       " ('boy', 0.5122600793838501),\n",
       " ('animal', 0.5092933773994446),\n",
       " ('rat', 0.5076236128807068)]"
      ]
     },
     "execution_count": 81,
     "metadata": {},
     "output_type": "execute_result"
    }
   ],
   "source": [
    "glove_model.most_similar(positive=['dog', 'kitten'], negative=['puppy'])"
   ]
  },
  {
   "cell_type": "markdown",
   "metadata": {},
   "source": [
    "When testing these relationships, they work by essentially asking for a relationship with the missing word in the 'negative' list and it doesn't work any which way."
   ]
  },
  {
   "cell_type": "code",
   "execution_count": 82,
   "metadata": {},
   "outputs": [
    {
     "data": {
      "text/plain": [
       "[('puppies', 0.6649416089057922),\n",
       " ('retriever', 0.6418952941894531),\n",
       " ('rottweiler', 0.6218166947364807),\n",
       " ('dogs', 0.598397433757782),\n",
       " ('sled', 0.582977831363678),\n",
       " ('goat', 0.5631861686706543),\n",
       " ('pug', 0.5608721375465393),\n",
       " ('hound', 0.5599592924118042),\n",
       " ('kitten', 0.5586523413658142),\n",
       " ('pig', 0.5579670667648315)]"
      ]
     },
     "execution_count": 82,
     "metadata": {},
     "output_type": "execute_result"
    }
   ],
   "source": [
    "glove_model.most_similar(positive=['dog', 'puppy'], negative=['cat'])"
   ]
  },
  {
   "cell_type": "markdown",
   "metadata": {},
   "source": [
    "We can further extend this 'play' with other examples. If we enter in one word then we are effectively asking for the nearest neighbors."
   ]
  },
  {
   "cell_type": "code",
   "execution_count": 83,
   "metadata": {},
   "outputs": [
    {
     "data": {
      "text/plain": [
       "[('toad', 0.7010514140129089),\n",
       " ('snake', 0.657115638256073),\n",
       " ('frogs', 0.6290439367294312),\n",
       " ('monkey', 0.6214002966880798),\n",
       " ('turtle', 0.6097555160522461),\n",
       " ('spider', 0.6079937219619751),\n",
       " ('ape', 0.5917872786521912),\n",
       " ('litoria', 0.585466206073761),\n",
       " ('rabbit', 0.5832657217979431),\n",
       " ('squirrel', 0.577958881855011)]"
      ]
     },
     "execution_count": 83,
     "metadata": {},
     "output_type": "execute_result"
    }
   ],
   "source": [
    "glove_model.most_similar(positive=['frog'])"
   ]
  },
  {
   "cell_type": "code",
   "execution_count": 84,
   "metadata": {},
   "outputs": [
    {
     "data": {
      "text/plain": [
       "[('puppies', 0.7518181800842285),\n",
       " ('dog', 0.723637580871582),\n",
       " ('kitten', 0.6905402541160583),\n",
       " ('retriever', 0.6884320378303528),\n",
       " ('cat', 0.6800068616867065),\n",
       " ('hound', 0.6328635215759277),\n",
       " ('rottweiler', 0.6270608305931091),\n",
       " ('pug', 0.6259523630142212),\n",
       " ('kittens', 0.6209099292755127),\n",
       " ('pig', 0.6129595041275024)]"
      ]
     },
     "execution_count": 84,
     "metadata": {},
     "output_type": "execute_result"
    }
   ],
   "source": [
    "glove_model.most_similar(positive=['puppy'])"
   ]
  },
  {
   "cell_type": "markdown",
   "metadata": {},
   "source": [
    "And there can be interesting matches given a multi-word concept."
   ]
  },
  {
   "cell_type": "code",
   "execution_count": 85,
   "metadata": {},
   "outputs": [
    {
     "data": {
      "text/plain": [
       "[('pace', 0.8061383366584778),\n",
       " ('faster', 0.8025360107421875),\n",
       " ('slowing', 0.7939368486404419),\n",
       " ('slowed', 0.764470636844635),\n",
       " ('sluggish', 0.7292846441268921),\n",
       " ('growth', 0.7181570529937744),\n",
       " ('fast', 0.7115045785903931),\n",
       " ('fastest', 0.711225688457489),\n",
       " ('accelerating', 0.6772849559783936),\n",
       " ('decline', 0.6701204776763916)]"
      ]
     },
     "execution_count": 85,
     "metadata": {},
     "output_type": "execute_result"
    }
   ],
   "source": [
    "glove_model.most_similar(positive = ['slow', 'slower', 'slowest'])"
   ]
  },
  {
   "cell_type": "markdown",
   "metadata": {},
   "source": [
    "# How do you test the 'goodness'\n",
    "\n",
    "Despite the fact that we have set this problem up as a *prediction* one to fit the optimal weights in the neural network, this is still an unsupervised problem (i.e. we are choosing that the nearby context words are either the input or the output).\n",
    "\n",
    "The **best** test that we possibly have is to see if our trained weights can replicate already agreed upon relationships.\n",
    "\n",
    "As a part of the original word2vec project, they supplied `questions-words.txt` which has a large number of these analogies."
   ]
  },
  {
   "cell_type": "code",
   "execution_count": 87,
   "metadata": {},
   "outputs": [
    {
     "data": {
      "text/plain": [
       "[': capital-common-countries',\n",
       " ': capital-world',\n",
       " ': currency',\n",
       " ': city-in-state',\n",
       " ': family',\n",
       " ': gram1-adjective-to-adverb',\n",
       " ': gram2-opposite',\n",
       " ': gram3-comparative',\n",
       " ': gram4-superlative',\n",
       " ': gram5-present-participle',\n",
       " ': gram6-nationality-adjective',\n",
       " ': gram7-past-tense',\n",
       " ': gram8-plural',\n",
       " ': gram9-plural-verbs']"
      ]
     },
     "execution_count": 87,
     "metadata": {},
     "output_type": "execute_result"
    }
   ],
   "source": [
    "headers = [line.strip() for line in open('../data/questions-words.txt').readlines() if ':' in line]\n",
    "headers"
   ]
  },
  {
   "cell_type": "markdown",
   "metadata": {},
   "source": [
    "The type of relationships are encoded in the lines that start with a ':'"
   ]
  },
  {
   "cell_type": "code",
   "execution_count": 88,
   "metadata": {
    "collapsed": true
   },
   "outputs": [],
   "source": [
    "phrases = [l.lower().strip().split() for l in open('../data/questions-words.txt').readlines() if ':' not in l]"
   ]
  },
  {
   "cell_type": "code",
   "execution_count": 90,
   "metadata": {},
   "outputs": [
    {
     "data": {
      "text/plain": [
       "[['athens', 'greece', 'baghdad', 'iraq'],\n",
       " ['athens', 'greece', 'bangkok', 'thailand'],\n",
       " ['athens', 'greece', 'beijing', 'china'],\n",
       " ['athens', 'greece', 'berlin', 'germany'],\n",
       " ['athens', 'greece', 'bern', 'switzerland'],\n",
       " ['athens', 'greece', 'cairo', 'egypt'],\n",
       " ['athens', 'greece', 'canberra', 'australia'],\n",
       " ['athens', 'greece', 'hanoi', 'vietnam'],\n",
       " ['athens', 'greece', 'havana', 'cuba'],\n",
       " ['athens', 'greece', 'helsinki', 'finland']]"
      ]
     },
     "execution_count": 90,
     "metadata": {},
     "output_type": "execute_result"
    }
   ],
   "source": [
    "phrases[:10]"
   ]
  },
  {
   "cell_type": "markdown",
   "metadata": {},
   "source": [
    "And then we can test to see if the trained embeddings can reproduce the expected relationships.\n",
    "\n",
    "All of the lines are set up as \n",
    "\n",
    "`x2 - x1 + x3 = x4`"
   ]
  },
  {
   "cell_type": "code",
   "execution_count": 91,
   "metadata": {},
   "outputs": [
    {
     "name": "stdout",
     "output_type": "stream",
     "text": [
      "[('iraq', 0.7903197407722473)] iraq\n",
      "[('thailand', 0.8054632544517517)] thailand\n",
      "[('china', 0.8546513915061951)] china\n",
      "[('germany', 0.810121476650238)] germany\n",
      "[('switzerland', 0.6416415572166443)] switzerland\n",
      "[('egypt', 0.7953351736068726)] egypt\n",
      "[('zealand', 0.6756799817085266)] australia\n",
      "[('laos', 0.6971369981765747)] vietnam\n",
      "[('cuba', 0.7504730224609375)] cuba\n",
      "[('finland', 0.7269078493118286)] finland\n"
     ]
    }
   ],
   "source": [
    "for p in phrases[:10]:\n",
    "    print(glove_model.most_similar(positive=[p[1], p[2]], negative=[p[0]], topn=1), p[3])"
   ]
  },
  {
   "cell_type": "markdown",
   "metadata": {},
   "source": [
    "We can test this using the `accuracy` function off of a word2vec model to test the entire accuracy for the whole dataset. It will automatically separate the test set by section."
   ]
  },
  {
   "cell_type": "code",
   "execution_count": 92,
   "metadata": {
    "collapsed": true
   },
   "outputs": [],
   "source": [
    "results = glove_model.accuracy('../data/questions-words.txt')"
   ]
  },
  {
   "cell_type": "code",
   "execution_count": 93,
   "metadata": {},
   "outputs": [
    {
     "name": "stdout",
     "output_type": "stream",
     "text": [
      "0.9426877470355731 : capital-common-countries\n",
      "0.8939226519337017 : capital-world\n",
      "0.17796610169491525 : currency\n",
      "0.31230140717203814 : city-in-state\n",
      "0.8771929824561403 : family\n",
      "0.2206896551724138 : gram1-adjective-to-adverb\n",
      "0.23421052631578948 : gram2-opposite\n",
      "0.7935435435435435 : gram3-comparative\n",
      "0.5983333333333334 : gram4-superlative\n",
      "0.6946236559139785 : gram5-present-participle\n",
      "0.9487889273356401 : gram6-nationality-adjective\n",
      "0.5544871794871795 : gram7-past-tense\n",
      "0.7793560606060606 : gram8-plural\n",
      "0.5797720797720798 : gram9-plural-verbs\n"
     ]
    }
   ],
   "source": [
    "for h, section in zip(headers, results):\n",
    "    print(len(section['correct'])/(len(section['correct']) + len(section['incorrect'])), h)"
   ]
  },
  {
   "cell_type": "markdown",
   "metadata": {},
   "source": [
    "To test a non-standard embedding, you would need to establish these analogies yourself. Given the number of basic parameters you can tweak (including the window size and training speed), there is a distinct need to test the goodness of fit."
   ]
  },
  {
   "cell_type": "markdown",
   "metadata": {
    "collapsed": true
   },
   "source": [
    "# Expanding beyond words\n",
    "\n",
    "Moving beyond a word to sentence is a more complex task than it may appear, since it must also encode the word structure within the sentence. \n",
    "\n",
    "Using word2vec, we could create the average vector over all words in a sentence and then search for similar average vectors from other words. However, there is an extension of `word2vec`, `doc2vec`, that is included in gensim that works much better at the phrase, paragraph, and document level."
   ]
  }
 ],
 "metadata": {
  "anaconda-cloud": {},
  "celltoolbar": "Slideshow",
  "kernelspec": {
   "display_name": "Python [Root]",
   "language": "python",
   "name": "Python [Root]"
  },
  "language_info": {
   "codemirror_mode": {
    "name": "ipython",
    "version": 3
   },
   "file_extension": ".py",
   "mimetype": "text/x-python",
   "name": "python",
   "nbconvert_exporter": "python",
   "pygments_lexer": "ipython3",
   "version": "3.5.1"
  }
 },
 "nbformat": 4,
 "nbformat_minor": 1
}
