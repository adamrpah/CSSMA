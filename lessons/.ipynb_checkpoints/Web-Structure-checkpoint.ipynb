{
 "cells": [
  {
   "cell_type": "code",
   "execution_count": null,
   "metadata": {},
   "outputs": [],
   "source": [
    "from IPython.core.display import HTML\n",
    "\n",
    "def css_styling():\n",
    "    styles = open(\"../data/www/styles/custom.css\", \"r\").read()\n",
    "    return HTML(styles)\n",
    "css_styling()"
   ]
  },
  {
   "cell_type": "markdown",
   "metadata": {},
   "source": [
    "# A page on the web\n",
    "\n",
    "HTML is a markup language for describing web documents. It stands for **H**yper **T**ext **M**arkup **L**anguage. HTML, together with CSS (**C**ascading **S**tyle **S**heets for _styling_ web documents) and Javascript (for _animating_ web documents), these three elements are used to construct modern web pages."
   ]
  },
  {
   "cell_type": "markdown",
   "metadata": {},
   "source": [
    "# HTML\n",
    "\n",
    "HTML documents are built using a series of HTML _tags_. Each tag describes a different type of content. Web pages are built by putting together different tags.\n",
    "\n",
    "This is the general HTML tag structure:\n",
    "\n",
    "```html\n",
    "<tagname tag_attribute1=\"attribute1value1 attribute1value2\" tag_attribute2=\"attribute2value1\">tag contents</tagname>\n",
    "```\n",
    "* Tags (usually) have both a start (or opening) tag, <tagname> and an end (or closing) tag, </tagname>\n",
    "* Tags can also have attributes which are declared _inside_ the opening tag.\n",
    "* The actual tag _content_ goes in between the opening and closing tags.\n",
    "\n",
    "While HTML can appear monstrous based on what you see on other websites, it's actually very simple in its most basic form and can be written by hand.\n",
    "\n",
    "As an example, navigate to this [example page](../data/hello_world.html)\n",
    "\n",
    "<img src='../images/hello_example.png'>"
   ]
  },
  {
   "cell_type": "markdown",
   "metadata": {},
   "source": [
    "As we dig into the code for that page, we can begin to understand it.\n",
    "\n",
    "<img src='../images/webpage_structure.png'>\n",
    "\n",
    "The first line only declares that the document is HTML.\n",
    "\n",
    "The second line essentially starts the HTML content - notice that the page ends when it is closed on line 9. Once the html tag is closed that ends the document.\n",
    "\n",
    "There are two main tags within the html tag - *head* and *body*.\n",
    "\n",
    "**head** is a container for metadata about the webpage (i.e. data about the data in the web page). The *head* will/can typically contain:\n",
    "* *title* - the title of the document\n",
    "* *base* - the default address\n",
    "* *style* - how the page should be styled (CSS)\n",
    "* *link* - an external resource that should be loaded with the page\n",
    "* *script* - javascript that should be loaded with the page (internal or external)\n",
    "* *meta* - explicit metadata about the page (largely for search engines and web browsers)\n",
    "\n",
    "**body** contains all the contents of an HTML page. We will almost always only care about the body of a web page when we are extracting data."
   ]
  },
  {
   "cell_type": "markdown",
   "metadata": {},
   "source": [
    "An important point that I want to drive home is that **the appearance of a web page has little to do with its content**\n",
    "\n",
    "Below you will find the same web page body and find that it looks completely different. All I have done is change the style (without impacting or changing the text at all).\n",
    "\n",
    "<img src='../images/styled_webpage.png'>"
   ]
  },
  {
   "cell_type": "markdown",
   "metadata": {},
   "source": [
    "## Structure within the body\n",
    "\n",
    "The point of a markup language is to provide a basic structure so that it is interpretable by another machine program (i.e. your web browser). As such, most parts of a web page should be in a well defined tag and it is these tags that help the browser determine how to render the HTML text.\n",
    "\n",
    "The tags that are generally used within the body of a page are:\n",
    "* div - this is a container that divides the body of the page into a block. It will typically contain a large number of other tags and text.\n",
    "\n",
    "  `<div>\n",
    "   multiple paragraphs and tags\n",
    "   </div>`\n",
    "* img - displays images\n",
    "  \n",
    "  `<img src='image_url'></img>`\n",
    "  \n",
    "* a - links to another page/content\n",
    "  \n",
    "  `<a href='url'>link text displayed to human</a>`\n",
    "  \n",
    "* ul or ol - lists (unordered or ordered)\n",
    "\n",
    "   `<ul>`\n",
    "      <li> item 1\n",
    "      <li> item 2\n",
    "    `<ull>`\n",
    "\n",
    "* table - a table within the webpage\n",
    "\n",
    "  `<table>`\n",
    "      <tr>\n",
    "          <td>Name</td>\n",
    "          <td>Age</td>\n",
    "      </tr>\n",
    "      <tr>\n",
    "          <td>Abigail Adams</td>\n",
    "          <td>274</td>\n",
    "      </tr>\n",
    "  `</table>`\n",
    "  \n",
    "* p - a paragraph\n",
    " \n",
    "   `<p> Some paragraph... </p>`\n",
    "   \n",
    "* h1 to h6 - headers that follow automatic sizing and bolding (1 is largest, 6 is smallest)\n",
    "\n",
    "   `<h1> Header for a paragraph </h1>`\n",
    "   \n",
    "* br - inserts a line break between two elements\n",
    "\n",
    "   `<p> paragraph 1</p>\n",
    "   <br/>\n",
    "   <p> paragraph 2 after a line break</p>`"
   ]
  },
  {
   "cell_type": "markdown",
   "metadata": {},
   "source": [
    "## A real web page in action\n",
    "\n",
    "First let's go to https://en.wikipedia.org/wiki/Seinfeld\n",
    "\n",
    "Now let's go to http://www.cnn.com\n",
    "\n",
    "What is going on?\n",
    "\n",
    "### Static vs. Dynamic content\n",
    "\n",
    "Wikipedia largely has static content - text and elements that it renders (i.e. the Seinfeld page is always the Seinfeld page). It is a \"free\" website, that doesn't serve ads so there really isn't anything that it is trying to hide from users.\n",
    "\n",
    "The CNN homepage, on the other hand, is constantly updating which stories are being shown. It has lists/blocks of articles, but the articles that are inserted in those lists need to be constantly updated. As such, not much of the page is displayed as plain text that we can easily read. Some web frameworks that companies use are better/worse about rendering the displayed text into plain text that we can then read/scrape.\n",
    "\n",
    "It also, by my count with my ad blocker off, is showing me 8 ads through an advertising network. These ads are unique and served directly from the ad network provider (so it changes/isn't written directly but served as a block of data- much like our API usage-that is obfuscated from the user and generally from the page itself).\n",
    "\n",
    "The downside is that dynamic content is much harder to retrieve from a page (if it can be retrieved at all in a usable format)."
   ]
  },
  {
   "cell_type": "markdown",
   "metadata": {
    "collapsed": true
   },
   "source": [
    "# Examining web page contents\n",
    "\n",
    "For this, we will be using Chrome so everyone has a homogenous experience. To start dissecting a web page we will need to use the developer view and can start from the view source code function.\n",
    "\n",
    "<img src='../images/chrome_dev.png'></img>\n",
    "\n",
    "How do we view a page's source code then?\n",
    "\n",
    "* To view the **full page** source code:\n",
    "  1. Right-click anywhere on the webpage **that is not a link**\n",
    "  2. Click \"View Page Source\" (<kbd>CTRL</kbd>+<kbd>U</kbd>) in Firefox or Chrome, or \"Show page source\" (<kbd>&#8997;</kbd>+<kbd>&#8984;</kbd>+<kbd>U</kbd>) in Safari.\n",
    "    * In order to view the source code in Safari the Develop menu must be enabled first: Preferences > Advanced > Show Develop menu in menu bar\n",
    "    \n",
    "* To view the source code zoomed-in on **a single element** (and with better formatting!):\n",
    "  1. Right-click any element in the webpage.\n",
    "  2. Click \"Inspect Element\"\n"
   ]
  },
  {
   "cell_type": "markdown",
   "metadata": {},
   "source": [
    "# Understanding callouts\n",
    "\n",
    "Importantly there are additional pieces of information that can be included in a tag. The three classes that we will ultimately want to pay attention to are:\n",
    "\n",
    "* class - this is used to apply a css style. Typically applied to a type of tag (such as all h1 tags)\n",
    "* id - this is typically a unique name applied to one tag\n",
    "* style - these are additional style elements that should be added to a tag\n",
    "* attributes - contains additional data about the tag. Can be very helpful, especially if it contains a displayed data point in plain text."
   ]
  }
 ],
 "metadata": {
  "anaconda-cloud": {},
  "kernelspec": {
   "display_name": "Python 3",
   "language": "python",
   "name": "python3"
  },
  "language_info": {
   "codemirror_mode": {
    "name": "ipython",
    "version": 3
   },
   "file_extension": ".py",
   "mimetype": "text/x-python",
   "name": "python",
   "nbconvert_exporter": "python",
   "pygments_lexer": "ipython3",
   "version": "3.7.9"
  }
 },
 "nbformat": 4,
 "nbformat_minor": 1
}
