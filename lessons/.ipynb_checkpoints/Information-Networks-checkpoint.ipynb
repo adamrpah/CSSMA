{
 "cells": [
  {
   "cell_type": "markdown",
   "metadata": {
    "collapsed": true
   },
   "source": [
    "# Information networks\n",
    "\n",
    "You have the basic skills now to construct and interrogate networks. \n",
    "\n",
    "Our first subject foray is into what I will term 'information' networks - connections between parcels of information (i.e. human to object or object to object).\n",
    "\n",
    "Two of the most well studied information networks are Wikipedia and the Web of Science. We will start with Wikipedia first.\n",
    "\n",
    "# Wikipedia\n",
    "\n",
    "While we could scrape Wikipedia ourselves, this would take a very long time.\n",
    "\n",
    "Alternatively, Wikimedia makes an entire [data dump](https://dumps.wikimedia.org) of Wikipedia available. However, it's over 10GB for the entire Wikipedia and we don't have time for that either.\n",
    "\n",
    "In lieu of these options, we will instead use a dated but complete 2009 network that has already been constructed. There are two main repositories of network data, SNAP and Network Repository. We're going to use the Network Repository version of Wikipedia that is in matrix (`web-wikipedia2009/web-wikipedia2009.mtx`).\n",
    "\n",
    "So you know how it goes, first step is to figure out how to load it on your own."
   ]
  },
  {
   "cell_type": "code",
   "execution_count": 1,
   "metadata": {
    "collapsed": true
   },
   "outputs": [],
   "source": [
    "#Template\n",
    "import networkx as nx\n"
   ]
  },
  {
   "cell_type": "code",
   "execution_count": 21,
   "metadata": {
    "collapsed": false
   },
   "outputs": [],
   "source": [
    "#Answer\n",
    "import networkx as nx\n",
    "\n",
    "G = nx.read_adjlist(\"../Data/web-wikipedia2009/web-wikipedia2009.mtx\", create_using=nx.DiGraph())"
   ]
  },
  {
   "cell_type": "markdown",
   "metadata": {},
   "source": [
    "And as always, let's get a basic read on the graph."
   ]
  },
  {
   "cell_type": "code",
   "execution_count": 3,
   "metadata": {
    "collapsed": false
   },
   "outputs": [
    {
     "data": {
      "text/plain": [
       "1864439"
      ]
     },
     "execution_count": 3,
     "metadata": {},
     "output_type": "execute_result"
    }
   ],
   "source": [
    "G.number_of_nodes()"
   ]
  },
  {
   "cell_type": "code",
   "execution_count": 4,
   "metadata": {
    "collapsed": false
   },
   "outputs": [
    {
     "data": {
      "text/plain": [
       "4507321"
      ]
     },
     "execution_count": 4,
     "metadata": {},
     "output_type": "execute_result"
    }
   ],
   "source": [
    "G.number_of_edges()"
   ]
  },
  {
   "cell_type": "markdown",
   "metadata": {},
   "source": [
    "Just giant, there's no way we can try to visualize this. So we'll need to instead look at a summary distribution"
   ]
  },
  {
   "cell_type": "code",
   "execution_count": 15,
   "metadata": {
    "collapsed": true
   },
   "outputs": [],
   "source": [
    "#Exercise\n"
   ]
  },
  {
   "cell_type": "code",
   "execution_count": 16,
   "metadata": {
    "collapsed": false
   },
   "outputs": [
    {
     "data": {
      "text/plain": [
       "<matplotlib.text.Text at 0x168501e80>"
      ]
     },
     "execution_count": 16,
     "metadata": {},
     "output_type": "execute_result"
    },
    {
     "data": {
      "text/plain": [
       "<matplotlib.figure.Figure at 0x169ea4e10>"
      ]
     },
     "metadata": {},
     "output_type": "display_data"
    },
    {
     "data": {
      "image/png": "[encoded data removed]",
      "text/plain": [
       "<matplotlib.figure.Figure at 0x101eadac8>"
      ]
     },
     "metadata": {},
     "output_type": "display_data"
    }
   ],
   "source": [
    "#Answer\n",
    "%matplotlib inline\n",
    "import matplotlib.pyplot as plt\n",
    "\n",
    "fig = plt.figure()\n",
    "ax = fig.add_subplot(111)\n",
    "n, bins, patches = ax.hist(list(G.degree().values()), bins=1000, log=True, normed=True);\n",
    "#Now clear it\n",
    "plt.clf()\n",
    "#Now redo it\n",
    "fig = plt.figure()\n",
    "ax = fig.add_subplot(111)\n",
    "ax.scatter(bins[1:], n)\n",
    "ax.loglog()\n",
    "ax.set_ylim(0.0000001, 1)\n",
    "ax.set_xlabel('Degree')\n",
    "ax.set_ylabel('pdf')"
   ]
  },
  {
   "cell_type": "markdown",
   "metadata": {},
   "source": [
    "Interesting, this is the first time that we've seen this type of degree distribution. It's an extremely famous one, with its first characterization occuring in Science in 1999 (Barabasi and Albert. Emergence of scaling in Random Networks. http://science.sciencemag.org/content/286/5439/509). \n",
    "\n",
    "TE 1. Power laws are intriguing for a number of reasons. The first one is that it is **scale-free**. What does that mean?\n",
    "\n",
    "TE 2. The other interesting aspect is the question, what causes networks to form this way?\n",
    "\n",
    "Why is scale-free so exciting and was able to generate a decade plus worth of research? Well it has a number of properties that differ in comparison to an Erdos-Renyi (random graph) model. Let's create Power Law (BA) and Random (Erdos Renyi) networks to examine the difference (use 5000 nodes, m=10, p=0.5). "
   ]
  },
  {
   "cell_type": "code",
   "execution_count": 17,
   "metadata": {
    "collapsed": false
   },
   "outputs": [],
   "source": [
    "#Exercise\n"
   ]
  },
  {
   "cell_type": "code",
   "execution_count": 18,
   "metadata": {
    "collapsed": false
   },
   "outputs": [
    {
     "data": {
      "text/plain": [
       "<matplotlib.figure.Figure at 0x169628e10>"
      ]
     },
     "metadata": {},
     "output_type": "display_data"
    }
   ],
   "source": [
    "#Answer\n",
    "ba = nx.barabasi_albert_graph(5000, 10, seed=1)\n",
    "er = nx.erdos_renyi_graph(5000, 0.5, seed=1)\n",
    "\n",
    "bn, bbins, bpatches = plt.hist(list(ba.degree().values()), bins=100, log=True, normed=True);\n",
    "en, ebins, epatches = plt.hist(list(er.degree().values()), bins=100, normed=True);\n",
    "plt.clf()"
   ]
  },
  {
   "cell_type": "code",
   "execution_count": 19,
   "metadata": {
    "collapsed": false
   },
   "outputs": [
    {
     "data": {
      "image/png": "[encoded data removed]",
      "text/plain": [
       "<matplotlib.figure.Figure at 0x2b5059da0>"
      ]
     },
     "metadata": {},
     "output_type": "display_data"
    }
   ],
   "source": [
    "#Answer\n",
    "#ba\n",
    "fig = plt.figure(figsize=(6,3))\n",
    "ax1 = fig.add_subplot(121)\n",
    "ax1.scatter(bbins[1:], bn, label='BA')\n",
    "ax1.loglog()\n",
    "ax1.legend()\n",
    "ax1.set_ylim(0.00001, 1)\n",
    "ax1.set_xlabel('degree')\n",
    "ax1.set_ylabel('pdf')\n",
    "#er\n",
    "ax2 = fig.add_subplot(122)\n",
    "ax2.scatter(ebins[1:], en, label='ER')\n",
    "ax2.legend()\n",
    "ax2.set_xlabel('degree')\n",
    "plt.tight_layout()"
   ]
  },
  {
   "cell_type": "markdown",
   "metadata": {},
   "source": [
    "**Assumption evaluation time** Everything underlying the process model is that the distribution is actually scale free. Which is to say that the degree distribution is $P(k) ~ k^{-\\gamma}$\n",
    "\n",
    "One of the best works re-evaluating how a power law should be fit to a distribution is found in Clauset, Shalizi and Newman (SIAM Review, https://arxiv.org/abs/0706.1062). For convenence, we will use one of the best implementations of this in Python, which is available in the `powerlaw` package. \n",
    "\n",
    "What is most important when working with real networks is to carefully evaluate with hypothesis testing if a power-law structure is true. This means comparing it to a number of other heavy-tailed distributions (namely, exponential and log-normal) to make sure that it is true. The finding of a 'scale-free' or 'power-law' distribution for the degree has a number of implications and should not come without careful vetting (and consideration of the data acquisition limits). \n",
    "\n",
    "Which is to say, there are a number of papers from ~2000-2010 claiming that a variety of networks are \"scale-free\". Do not trust this research at face value. "
   ]
  },
  {
   "cell_type": "code",
   "execution_count": 20,
   "metadata": {
    "collapsed": false
   },
   "outputs": [
    {
     "name": "stdout",
     "output_type": "stream",
     "text": [
      "Requirement already satisfied (use --upgrade to upgrade): powerlaw in /Users/adampah/.pyenv/versions/anaconda3-4.1.0/lib/python3.5/site-packages\n",
      "\u001b[33mYou are using pip version 8.1.2, however version 9.0.1 is available.\n",
      "You should consider upgrading via the 'pip install --upgrade pip' command.\u001b[0m\n"
     ]
    }
   ],
   "source": [
    "!pip install powerlaw"
   ]
  },
  {
   "cell_type": "code",
   "execution_count": 21,
   "metadata": {
    "collapsed": false
   },
   "outputs": [
    {
     "name": "stderr",
     "output_type": "stream",
     "text": [
      "Calculating best minimal value for power law fit\n",
      "/Users/adampah/.pyenv/versions/anaconda3-4.1.0/lib/python3.5/site-packages/powerlaw.py:697: RuntimeWarning: invalid value encountered in true_divide\n",
      "  (Theoretical_CDF * (1 - Theoretical_CDF))\n"
     ]
    },
    {
     "name": "stdout",
     "output_type": "stream",
     "text": [
      "alpha 3.10475877363\n",
      "x_min 56.0\n"
     ]
    }
   ],
   "source": [
    "import powerlaw\n",
    "results = powerlaw.Fit( list(G.degree().values()) )\n",
    "print('alpha', results.power_law.alpha)\n",
    "print('x_min', results.power_law.xmin)"
   ]
  },
  {
   "cell_type": "markdown",
   "metadata": {},
   "source": [
    "So this means that you shouldn't start fitting the power law until the degree is at least 56 (this is effectively due to the boundary effect) and that the slope is 3.1. \n",
    "\n",
    "But we have yet to test anything"
   ]
  },
  {
   "cell_type": "code",
   "execution_count": 22,
   "metadata": {
    "collapsed": false
   },
   "outputs": [
    {
     "name": "stdout",
     "output_type": "stream",
     "text": [
      "-19.4077975464 0.000111135371077\n"
     ]
    },
    {
     "name": "stderr",
     "output_type": "stream",
     "text": [
      "/Users/adampah/.pyenv/versions/anaconda3-4.1.0/lib/python3.5/site-packages/powerlaw.py:697: RuntimeWarning: invalid value encountered in true_divide\n",
      "  (Theoretical_CDF * (1 - Theoretical_CDF))\n"
     ]
    }
   ],
   "source": [
    "R, p = results.distribution_compare('power_law', 'lognormal')\n",
    "print(R, p)"
   ]
  },
  {
   "cell_type": "markdown",
   "metadata": {},
   "source": [
    "Giant grain of salt.\n",
    "\n",
    "**TE 3.** But theoretical results are one thing, what does this mean about the human interaction? "
   ]
  },
  {
   "cell_type": "markdown",
   "metadata": {},
   "source": [
    "# What page/person/item/??? matters most? \n",
    "\n",
    "This is one of the most difficult, and important, questions that we generally seek to answer as humans (we love ranking things and that ranking, at some point, becomes knowledge and intuition about a system). In network science, we effectively use a centrality (or similar) measure to determine importance.\n",
    "\n",
    "As you would expect, there are a number of centrality measures that have been developed and these measures have different implications and uses. \n",
    "\n",
    "The first measure is the most simple, *degree centrality*. This is merely taking the degree of every node which we have already done. \n",
    "\n",
    "With degree centrality, which node matters the most? "
   ]
  },
  {
   "cell_type": "code",
   "execution_count": 23,
   "metadata": {
    "collapsed": true
   },
   "outputs": [],
   "source": [
    "#Exercise\n"
   ]
  },
  {
   "cell_type": "code",
   "execution_count": 24,
   "metadata": {
    "collapsed": false
   },
   "outputs": [
    {
     "data": {
      "text/plain": [
       "('1670463', 2624)"
      ]
     },
     "execution_count": 24,
     "metadata": {},
     "output_type": "execute_result"
    }
   ],
   "source": [
    "#Answer\n",
    "import operator\n",
    "max(G.degree().items(), key=operator.itemgetter(1))"
   ]
  },
  {
   "cell_type": "markdown",
   "metadata": {},
   "source": [
    "Unsatisfying, primarily because we have no idea what article `1670463` is and unfortunately the Network Repository doesn't provide a translation (this is an important learning lesson - always gather more data than you think you will need. This network was created to examine the structure of Wikipedia, but not having the page labels dramatically reduces its reuse in other contexts). \n",
    "\n",
    "To get around this we will instead load the Wikipedia network from the SNAP repository. This is a much smaller version of Wikipedia because it has been created from humans playing a game (Wikispeedia) where they attempt to navigate through the network."
   ]
  },
  {
   "cell_type": "code",
   "execution_count": 25,
   "metadata": {
    "collapsed": true
   },
   "outputs": [],
   "source": [
    "wikinet = nx.read_edgelist('../data/wikispeedia_paths-and-graph/links.tsv', delimiter='\\t')"
   ]
  },
  {
   "cell_type": "code",
   "execution_count": 26,
   "metadata": {
    "collapsed": false
   },
   "outputs": [
    {
     "data": {
      "text/plain": [
       "106647"
      ]
     },
     "execution_count": 26,
     "metadata": {},
     "output_type": "execute_result"
    }
   ],
   "source": [
    "wikinet.number_of_edges()"
   ]
  },
  {
   "cell_type": "code",
   "execution_count": 27,
   "metadata": {
    "collapsed": false
   },
   "outputs": [
    {
     "data": {
      "text/plain": [
       "4592"
      ]
     },
     "execution_count": 27,
     "metadata": {},
     "output_type": "execute_result"
    }
   ],
   "source": [
    "wikinet.number_of_nodes()"
   ]
  },
  {
   "cell_type": "code",
   "execution_count": 28,
   "metadata": {
    "collapsed": false
   },
   "outputs": [
    {
     "name": "stdout",
     "output_type": "stream",
     "text": [
      "Component 0 4589\n",
      "Component 1 3\n"
     ]
    }
   ],
   "source": [
    "for i, cc in enumerate(nx.connected_components(wikinet)):\n",
    "    print( 'Component {0}'.format(i), len(cc) )"
   ]
  },
  {
   "cell_type": "markdown",
   "metadata": {},
   "source": [
    "This last command was new, what am I showing? Why?"
   ]
  },
  {
   "cell_type": "code",
   "execution_count": 29,
   "metadata": {
    "collapsed": true
   },
   "outputs": [],
   "source": [
    "#Your code\n"
   ]
  },
  {
   "cell_type": "code",
   "execution_count": 30,
   "metadata": {
    "collapsed": false
   },
   "outputs": [],
   "source": [
    "#Answer\n",
    "subgraphs = [x for x in nx.connected_component_subgraphs(wikinet)]\n",
    "wikigiant = subgraphs[0]"
   ]
  },
  {
   "cell_type": "code",
   "execution_count": 32,
   "metadata": {
    "collapsed": false
   },
   "outputs": [
    {
     "data": {
      "text/plain": [
       "('United_States', 1621)"
      ]
     },
     "execution_count": 32,
     "metadata": {},
     "output_type": "execute_result"
    }
   ],
   "source": [
    "max(wikigiant.degree().items(), key=operator.itemgetter(1))"
   ]
  },
  {
   "cell_type": "markdown",
   "metadata": {},
   "source": [
    "So the most connected node is the United States - makes you wonder what the prompts were? \n",
    "\n",
    "Another popular metric is PageRank, its usage is epitomized by Google Search and works very differently from Degree Centrality. Instead of accounting for the largest number of links, it looks for \"expertise\" - i.e. where does the most influence flow in the network after we penalize for pages that send lots of \"votes\"."
   ]
  },
  {
   "cell_type": "code",
   "execution_count": 33,
   "metadata": {
    "collapsed": false
   },
   "outputs": [
    {
     "name": "stdout",
     "output_type": "stream",
     "text": [
      "United_States 0.0071787064292519655\n",
      "United_Kingdom 0.004423003732929571\n",
      "Europe 0.004176626349497665\n",
      "France 0.003967744864997211\n",
      "England 0.0036077058311565716\n",
      "World_War_II 0.0032202300728827247\n",
      "Germany 0.0031770240479446475\n",
      "Scientific_classification 0.0029176653225336776\n",
      "London 0.002768657052200573\n",
      "Animal 0.0027255850204822947\n"
     ]
    }
   ],
   "source": [
    "wiki_pg = nx.pagerank(wikigiant)\n",
    "for node, pgvalue in sorted(wiki_pg.items(), key=operator.itemgetter(1), reverse=True)[:10]:\n",
    "    print(node, pgvalue)"
   ]
  },
  {
   "cell_type": "markdown",
   "metadata": {},
   "source": [
    "Typically PageRank and Degree Centrality don't match this well. Let's check the entire Wikipedia graph to see if it's the same case there."
   ]
  },
  {
   "cell_type": "code",
   "execution_count": 34,
   "metadata": {
    "collapsed": true
   },
   "outputs": [],
   "source": [
    "#Exercise\n"
   ]
  },
  {
   "cell_type": "code",
   "execution_count": 35,
   "metadata": {
    "collapsed": false
   },
   "outputs": [
    {
     "name": "stdout",
     "output_type": "stream",
     "text": [
      "Degree Centrality ('1670463', 2624)\n",
      "PageRank ('1670463', 0.0006305893055367676)\n"
     ]
    },
    {
     "data": {
      "text/plain": [
       "[('1670463', 2624),\n",
       " ('1850825', 898),\n",
       " ('166232', 878),\n",
       " ('190328', 867),\n",
       " ('16734', 860),\n",
       " ('41921', 780),\n",
       " ('98099', 748),\n",
       " ('214665', 739),\n",
       " ('141932', 738),\n",
       " ('205717', 727)]"
      ]
     },
     "execution_count": 35,
     "metadata": {},
     "output_type": "execute_result"
    }
   ],
   "source": [
    "#Answer\n",
    "struct_page = nx.pagerank(G)\n",
    "print('Degree Centrality', max(G.degree().items(), key=operator.itemgetter(1)) )\n",
    "print('PageRank', max(struct_page.items(), key=operator.itemgetter(1)) )\n",
    "sorted(struct_page.items(), key=operator.itemgetter(1), reverse=True)[:10]\n",
    "sorted(G.degree().items(), key=operator.itemgetter(1), reverse=True)[:10]"
   ]
  },
  {
   "cell_type": "markdown",
   "metadata": {},
   "source": [
    "Still matching, let's compare the correlation visually between degree and pagerank here."
   ]
  },
  {
   "cell_type": "code",
   "execution_count": 39,
   "metadata": {
    "collapsed": false
   },
   "outputs": [],
   "source": [
    "#Exercise\n"
   ]
  },
  {
   "cell_type": "code",
   "execution_count": 40,
   "metadata": {
    "collapsed": false
   },
   "outputs": [
    {
     "data": {
      "image/png": "[encoded data removed]",
      "text/plain": [
       "<matplotlib.figure.Figure at 0x2b56f42b0>"
      ]
     },
     "metadata": {},
     "output_type": "display_data"
    }
   ],
   "source": [
    "#Answer\n",
    "fig = plt.figure(figsize = (8,4))\n",
    "#Fullnet\n",
    "gdeg = G.degree()\n",
    "gkeys = list(gdeg.keys())\n",
    "ax = fig.add_subplot(121)\n",
    "ax.scatter([gdeg[k] for k in gkeys], [struct_page[k] for k in gkeys])\n",
    "ax.set_xlabel('Degree')\n",
    "ax.set_ylabel('PageRank')\n",
    "ax.set_ylim(0, 0.0010)\n",
    "ax.text(0, 0.0009, 'Full net')\n",
    "#spedia net\n",
    "wkeys = list(wiki_pg.keys())\n",
    "wdeg = wikigiant.degree()\n",
    "ax2 = fig.add_subplot(122)\n",
    "ax2.scatter([wdeg[k] for k in wkeys], [wiki_pg[k] for k in wkeys])\n",
    "ax2.set_xlabel('Degree')\n",
    "ax2.set_ylabel('PageRank')\n",
    "ax2.text(0, 0.009, 'Speedia net')\n",
    "ax2.set_ylim(0, 0.010)\n",
    "plt.tight_layout()"
   ]
  },
  {
   "cell_type": "markdown",
   "metadata": {},
   "source": [
    "And now we can actually see the difference between the two graphs. \n",
    "\n",
    "**TE**. Why do you think that the two are so different?\n",
    "\n",
    "## Path positioning\n",
    "\n",
    "A different concept to identify importance relies less on degree and more on positioning in a network, it's called *betweenness centrality*. This metric effectively calculates how many shortest paths a node is on between any two other nodes. It's meant to give an idea of how centrally positioned a node is in a network. "
   ]
  },
  {
   "cell_type": "code",
   "execution_count": 41,
   "metadata": {
    "collapsed": false
   },
   "outputs": [],
   "source": [
    "wiki_bc = nx.betweenness_centrality(wikinet)"
   ]
  },
  {
   "cell_type": "code",
   "execution_count": 42,
   "metadata": {
    "collapsed": false
   },
   "outputs": [
    {
     "data": {
      "text/plain": [
       "[('United_States', 0.12521613253794953),\n",
       " ('United_Kingdom', 0.04738683598690345),\n",
       " ('Europe', 0.04465765309097021),\n",
       " ('France', 0.036809404595346804),\n",
       " ('England', 0.0335970315105526),\n",
       " ('World_War_II', 0.025565492076833306),\n",
       " ('Germany', 0.023128368642114934),\n",
       " ('English_language', 0.020216332534684963),\n",
       " ('Africa', 0.019848221106676955),\n",
       " ('London', 0.019006225871727952)]"
      ]
     },
     "execution_count": 42,
     "metadata": {},
     "output_type": "execute_result"
    }
   ],
   "source": [
    "sorted(wiki_bc.items(), key=operator.itemgetter(1), reverse=True)[:10]"
   ]
  },
  {
   "cell_type": "markdown",
   "metadata": {},
   "source": [
    "So far it looks like it roughly maps to the degree findings, but let's confirm that with a graph"
   ]
  },
  {
   "cell_type": "code",
   "execution_count": 43,
   "metadata": {
    "collapsed": true
   },
   "outputs": [],
   "source": [
    "#Exercise\n"
   ]
  },
  {
   "cell_type": "code",
   "execution_count": 44,
   "metadata": {
    "collapsed": false
   },
   "outputs": [
    {
     "data": {
      "text/plain": [
       "<matplotlib.text.Text at 0x2b55a5eb8>"
      ]
     },
     "execution_count": 44,
     "metadata": {},
     "output_type": "execute_result"
    },
    {
     "data": {
      "image/png": "[encoded data removed]",
      "text/plain": [
       "<matplotlib.figure.Figure at 0x1687144e0>"
      ]
     },
     "metadata": {},
     "output_type": "display_data"
    }
   ],
   "source": [
    "#Answer\n",
    "plt.scatter([wdeg[k] for k in wkeys], [wiki_bc[k] for k in wkeys])\n",
    "plt.ylabel('Betweenness')\n",
    "plt.xlabel('Degree')"
   ]
  },
  {
   "cell_type": "markdown",
   "metadata": {},
   "source": [
    "Overall, these two map relatively well with a clear curvilinear fit. Does this hold in the entire 2009 structure though?\n",
    "\n",
    "The 2009 network is far too large to calculate betweenness for all nodes since the algorithm scales at $O(VE)$, so approximately $10^{13}$ operations will be needed to calculate betweenness centrality for the network. As a test, on my desktop it takes 12 seconds to calculate betweenness for a network that is 0.000001% the size of the 2009 network ($10^7$ operations). \n",
    "\n",
    "Fortunately, we can randomly sample the network and get a good sense of the betweenness for the sampled nodes. This is already built into the networkx function. \n",
    "\n",
    "What percentage should we sample?"
   ]
  },
  {
   "cell_type": "code",
   "execution_count": null,
   "metadata": {
    "collapsed": true
   },
   "outputs": [],
   "source": [
    "#Exercise\n"
   ]
  },
  {
   "cell_type": "code",
   "execution_count": 49,
   "metadata": {
    "collapsed": false
   },
   "outputs": [],
   "source": [
    "#Answer\n",
    "gbc = nx.betweenness_centrality(G, k=int(0.00001 * G.number_of_nodes()))"
   ]
  },
  {
   "cell_type": "code",
   "execution_count": 50,
   "metadata": {
    "collapsed": false
   },
   "outputs": [
    {
     "data": {
      "text/plain": [
       "(0, 0.005)"
      ]
     },
     "execution_count": 50,
     "metadata": {},
     "output_type": "execute_result"
    },
    {
     "data": {
      "image/png": "[encoded data removed]",
      "text/plain": [
       "<matplotlib.figure.Figure at 0x2b5573630>"
      ]
     },
     "metadata": {},
     "output_type": "display_data"
    }
   ],
   "source": [
    "ngkeys = list(gbc.keys())\n",
    "plt.scatter([gdeg[k] for k in ngkeys], [gbc[k] for k in ngkeys])\n",
    "plt.ylabel('Betweenness')\n",
    "plt.xlabel('Degree')\n",
    "plt.ylim(0, 0.005)"
   ]
  },
  {
   "cell_type": "markdown",
   "metadata": {},
   "source": [
    "Not even close to reproducing the graph from Wikispeedia. This is because that except in certain configurations (such as a star network), having a large degree does not mean that you are necessarily at the 'center' of the network. This introduces many questions about concept centrality vs the related/connectedness of a concept. \n",
    "\n",
    "Now does this change your thoughts about how humans navigate wikipedia under a link constraint? What about the act of creating Wikipedia?\n",
    "\n",
    "Another way to ask or look at this, is to consider how tightly connected are articles? i.e. If I am writing three articles, A, B, and C, would all three articles reference each other? Or would it be a tree?\n",
    "\n",
    "The way that we can assess this is with the clustering coefficient. It is a measure of how 'closed' all of a nodes connections are (i.e. do all of your friends know all of your other friends?)"
   ]
  },
  {
   "cell_type": "code",
   "execution_count": 5,
   "metadata": {
    "collapsed": false
   },
   "outputs": [],
   "source": [
    "struct_cc = nx.clustering(G.to_undirected())"
   ]
  },
  {
   "cell_type": "code",
   "execution_count": 6,
   "metadata": {
    "collapsed": false
   },
   "outputs": [
    {
     "ename": "NameError",
     "evalue": "name 'plt' is not defined",
     "output_type": "error",
     "traceback": [
      "\u001b[0;31m\u001b[0m",
      "\u001b[0;31mNameError\u001b[0mTraceback (most recent call last)",
      "\u001b[0;32m<ipython-input-6-7e2c60b4c334>\u001b[0m in \u001b[0;36m<module>\u001b[0;34m()\u001b[0m\n\u001b[0;32m----> 1\u001b[0;31m \u001b[0mfig\u001b[0m \u001b[0;34m=\u001b[0m \u001b[0mplt\u001b[0m\u001b[0;34m.\u001b[0m\u001b[0mfigure\u001b[0m\u001b[0;34m(\u001b[0m\u001b[0mfigsize\u001b[0m \u001b[0;34m=\u001b[0m \u001b[0;34m(\u001b[0m\u001b[0;36m6\u001b[0m\u001b[0;34m,\u001b[0m \u001b[0;36m3\u001b[0m\u001b[0;34m)\u001b[0m\u001b[0;34m)\u001b[0m\u001b[0;34m\u001b[0m\u001b[0m\n\u001b[0m\u001b[1;32m      2\u001b[0m \u001b[0max\u001b[0m \u001b[0;34m=\u001b[0m \u001b[0mfig\u001b[0m\u001b[0;34m.\u001b[0m\u001b[0madd_subplot\u001b[0m\u001b[0;34m(\u001b[0m\u001b[0;36m121\u001b[0m\u001b[0;34m)\u001b[0m\u001b[0;34m\u001b[0m\u001b[0m\n\u001b[1;32m      3\u001b[0m \u001b[0max\u001b[0m\u001b[0;34m.\u001b[0m\u001b[0mhist\u001b[0m\u001b[0;34m(\u001b[0m\u001b[0mlist\u001b[0m\u001b[0;34m(\u001b[0m\u001b[0mstruct_cc\u001b[0m\u001b[0;34m.\u001b[0m\u001b[0mvalues\u001b[0m\u001b[0;34m(\u001b[0m\u001b[0;34m)\u001b[0m\u001b[0;34m)\u001b[0m\u001b[0;34m,\u001b[0m \u001b[0mbins\u001b[0m\u001b[0;34m=\u001b[0m\u001b[0;36m100\u001b[0m\u001b[0;34m,\u001b[0m \u001b[0mnormed\u001b[0m\u001b[0;34m=\u001b[0m\u001b[0;32mTrue\u001b[0m\u001b[0;34m,\u001b[0m \u001b[0mlog\u001b[0m\u001b[0;34m=\u001b[0m\u001b[0;32mTrue\u001b[0m\u001b[0;34m)\u001b[0m\u001b[0;34m\u001b[0m\u001b[0m\n\u001b[1;32m      4\u001b[0m \u001b[0max\u001b[0m\u001b[0;34m.\u001b[0m\u001b[0mset_ylabel\u001b[0m\u001b[0;34m(\u001b[0m\u001b[0;34m'pdf'\u001b[0m\u001b[0;34m)\u001b[0m\u001b[0;34m\u001b[0m\u001b[0m\n\u001b[1;32m      5\u001b[0m \u001b[0max\u001b[0m\u001b[0;34m.\u001b[0m\u001b[0mset_xlabel\u001b[0m\u001b[0;34m(\u001b[0m\u001b[0;34m'Clustering Coefficient'\u001b[0m\u001b[0;34m)\u001b[0m\u001b[0;34m\u001b[0m\u001b[0m\n",
      "\u001b[0;31mNameError\u001b[0m: name 'plt' is not defined"
     ]
    }
   ],
   "source": [
    "fig = plt.figure(figsize = (6, 3))\n",
    "ax = fig.add_subplot(121)\n",
    "ax.hist(list(struct_cc.values()), bins=100, normed=True, log=True)\n",
    "ax.set_ylabel('pdf')\n",
    "ax.set_xlabel('Clustering Coefficient')\n",
    "#cc vs degree\n",
    "ax = fig.add_subplot(122)\n",
    "ax.scatter([gdeg[k] for k in gkeys], [struct_cc[k] for k in gkeys])\n",
    "ax.set_ylabel('Clustering Coefficient')\n",
    "ax.set_xlabel('Degree')\n",
    "plt.tight_layout()"
   ]
  },
  {
   "cell_type": "markdown",
   "metadata": {},
   "source": [
    "This is a relatively classic clustering coefficient network - as the degree of an item increases the number of closed triangles around it decrease. \n",
    "\n",
    "**TE** What would be the interpretation of this?\n",
    "\n",
    "We can also examine the entire average clustering of the network."
   ]
  },
  {
   "cell_type": "code",
   "execution_count": 8,
   "metadata": {
    "collapsed": false
   },
   "outputs": [
    {
     "data": {
      "text/plain": [
       "0.1595501380206957"
      ]
     },
     "execution_count": 8,
     "metadata": {},
     "output_type": "execute_result"
    }
   ],
   "source": [
    "nx.average_clustering(G.to_undirected())"
   ]
  },
  {
   "cell_type": "markdown",
   "metadata": {},
   "source": [
    "And as a prelude to next week, let's answer a question that directly relates to Wikispeedia. How 'wide' is the network? i.e. What is the average length of a path from one node to another (we're again going to need to sample the network).\n",
    "\n",
    "How should we go about sampling the network?"
   ]
  },
  {
   "cell_type": "code",
   "execution_count": 12,
   "metadata": {
    "collapsed": false
   },
   "outputs": [],
   "source": [
    "compG = list(nx.connected_component_subgraphs(G.to_undirected()))[0]"
   ]
  },
  {
   "cell_type": "code",
   "execution_count": 13,
   "metadata": {
    "collapsed": false
   },
   "outputs": [
    {
     "data": {
      "text/plain": [
       "1864434"
      ]
     },
     "execution_count": 13,
     "metadata": {},
     "output_type": "execute_result"
    }
   ],
   "source": [
    "compG.number_of_nodes()"
   ]
  },
  {
   "cell_type": "code",
   "execution_count": 28,
   "metadata": {
    "collapsed": true
   },
   "outputs": [],
   "source": [
    "import random\n",
    "\n",
    "sampled_graph = nx.Graph()\n",
    "sampled_graph.add_edges_from( random.sample(compG.edges(), int( len(compG.edges()) * 0.01 )) )"
   ]
  },
  {
   "cell_type": "code",
   "execution_count": 29,
   "metadata": {
    "collapsed": false
   },
   "outputs": [
    {
     "name": "stdout",
     "output_type": "stream",
     "text": [
      "Nodes 80919\n",
      "Edges 45073\n"
     ]
    }
   ],
   "source": [
    "print('Nodes', sampled_graph.number_of_nodes())\n",
    "print('Edges', sampled_graph.number_of_edges())"
   ]
  },
  {
   "cell_type": "code",
   "execution_count": 30,
   "metadata": {
    "collapsed": false
   },
   "outputs": [
    {
     "data": {
      "text/plain": [
       "1.3333333333333333"
      ]
     },
     "execution_count": 30,
     "metadata": {},
     "output_type": "execute_result"
    }
   ],
   "source": [
    "nx.average_shortest_path_length( list(nx.connected_component_subgraphs(sampled_graph))[0] )"
   ]
  },
  {
   "cell_type": "code",
   "execution_count": 32,
   "metadata": {
    "collapsed": false
   },
   "outputs": [
    {
     "name": "stdout",
     "output_type": "stream",
     "text": [
      "0.01 1.0\n",
      "0.02 1.0\n",
      "0.03 1.0\n",
      "0.04 2.380952380952381\n"
     ]
    },
    {
     "ename": "KeyboardInterrupt",
     "evalue": "",
     "output_type": "error",
     "traceback": [
      "\u001b[0;31m\u001b[0m",
      "\u001b[0;31mKeyboardInterrupt\u001b[0mTraceback (most recent call last)",
      "\u001b[0;32m<ipython-input-32-93724bf0bc34>\u001b[0m in \u001b[0;36m<module>\u001b[0;34m()\u001b[0m\n\u001b[1;32m      2\u001b[0m     \u001b[0msampled_graph\u001b[0m \u001b[0;34m=\u001b[0m \u001b[0mnx\u001b[0m\u001b[0;34m.\u001b[0m\u001b[0mGraph\u001b[0m\u001b[0;34m(\u001b[0m\u001b[0;34m)\u001b[0m\u001b[0;34m\u001b[0m\u001b[0m\n\u001b[1;32m      3\u001b[0m     \u001b[0msampled_graph\u001b[0m\u001b[0;34m.\u001b[0m\u001b[0madd_edges_from\u001b[0m\u001b[0;34m(\u001b[0m \u001b[0mrandom\u001b[0m\u001b[0;34m.\u001b[0m\u001b[0msample\u001b[0m\u001b[0;34m(\u001b[0m\u001b[0mcompG\u001b[0m\u001b[0;34m.\u001b[0m\u001b[0medges\u001b[0m\u001b[0;34m(\u001b[0m\u001b[0;34m)\u001b[0m\u001b[0;34m,\u001b[0m \u001b[0mint\u001b[0m\u001b[0;34m(\u001b[0m \u001b[0mlen\u001b[0m\u001b[0;34m(\u001b[0m\u001b[0mcompG\u001b[0m\u001b[0;34m.\u001b[0m\u001b[0medges\u001b[0m\u001b[0;34m(\u001b[0m\u001b[0;34m)\u001b[0m\u001b[0;34m)\u001b[0m \u001b[0;34m*\u001b[0m \u001b[0mp\u001b[0m \u001b[0;34m)\u001b[0m\u001b[0;34m)\u001b[0m \u001b[0;34m)\u001b[0m\u001b[0;34m\u001b[0m\u001b[0m\n\u001b[0;32m----> 4\u001b[0;31m     \u001b[0mavg_path\u001b[0m \u001b[0;34m=\u001b[0m \u001b[0mnx\u001b[0m\u001b[0;34m.\u001b[0m\u001b[0maverage_shortest_path_length\u001b[0m\u001b[0;34m(\u001b[0m \u001b[0mlist\u001b[0m\u001b[0;34m(\u001b[0m\u001b[0mnx\u001b[0m\u001b[0;34m.\u001b[0m\u001b[0mconnected_component_subgraphs\u001b[0m\u001b[0;34m(\u001b[0m\u001b[0msampled_graph\u001b[0m\u001b[0;34m)\u001b[0m\u001b[0;34m)\u001b[0m\u001b[0;34m[\u001b[0m\u001b[0;36m0\u001b[0m\u001b[0;34m]\u001b[0m \u001b[0;34m)\u001b[0m\u001b[0;34m\u001b[0m\u001b[0m\n\u001b[0m\u001b[1;32m      5\u001b[0m     \u001b[0mprint\u001b[0m\u001b[0;34m(\u001b[0m\u001b[0mp\u001b[0m\u001b[0;34m,\u001b[0m \u001b[0mavg_path\u001b[0m\u001b[0;34m)\u001b[0m\u001b[0;34m\u001b[0m\u001b[0m\n",
      "\u001b[0;32m/Users/adampah/.pyenv/versions/anaconda3-4.1.0/lib/python3.5/site-packages/networkx/algorithms/shortest_paths/generic.py\u001b[0m in \u001b[0;36maverage_shortest_path_length\u001b[0;34m(G, weight)\u001b[0m\n\u001b[1;32m    301\u001b[0m     \u001b[0;32mif\u001b[0m \u001b[0mweight\u001b[0m \u001b[0;32mis\u001b[0m \u001b[0;32mNone\u001b[0m\u001b[0;34m:\u001b[0m\u001b[0;34m\u001b[0m\u001b[0m\n\u001b[1;32m    302\u001b[0m         \u001b[0;32mfor\u001b[0m \u001b[0mnode\u001b[0m \u001b[0;32min\u001b[0m \u001b[0mG\u001b[0m\u001b[0;34m:\u001b[0m\u001b[0;34m\u001b[0m\u001b[0m\n\u001b[0;32m--> 303\u001b[0;31m             \u001b[0mpath_length\u001b[0m\u001b[0;34m=\u001b[0m\u001b[0mnx\u001b[0m\u001b[0;34m.\u001b[0m\u001b[0msingle_source_shortest_path_length\u001b[0m\u001b[0;34m(\u001b[0m\u001b[0mG\u001b[0m\u001b[0;34m,\u001b[0m \u001b[0mnode\u001b[0m\u001b[0;34m)\u001b[0m\u001b[0;34m\u001b[0m\u001b[0m\n\u001b[0m\u001b[1;32m    304\u001b[0m             \u001b[0mavg\u001b[0m \u001b[0;34m+=\u001b[0m \u001b[0msum\u001b[0m\u001b[0;34m(\u001b[0m\u001b[0mpath_length\u001b[0m\u001b[0;34m.\u001b[0m\u001b[0mvalues\u001b[0m\u001b[0;34m(\u001b[0m\u001b[0;34m)\u001b[0m\u001b[0;34m)\u001b[0m\u001b[0;34m\u001b[0m\u001b[0m\n\u001b[1;32m    305\u001b[0m     \u001b[0;32melse\u001b[0m\u001b[0;34m:\u001b[0m\u001b[0;34m\u001b[0m\u001b[0m\n",
      "\u001b[0;32m/Users/adampah/.pyenv/versions/anaconda3-4.1.0/lib/python3.5/site-packages/networkx/algorithms/shortest_paths/unweighted.py\u001b[0m in \u001b[0;36msingle_source_shortest_path_length\u001b[0;34m(G, source, cutoff)\u001b[0m\n\u001b[1;32m     61\u001b[0m             \u001b[0;32mif\u001b[0m \u001b[0mv\u001b[0m \u001b[0;32mnot\u001b[0m \u001b[0;32min\u001b[0m \u001b[0mseen\u001b[0m\u001b[0;34m:\u001b[0m\u001b[0;34m\u001b[0m\u001b[0m\n\u001b[1;32m     62\u001b[0m                 \u001b[0mseen\u001b[0m\u001b[0;34m[\u001b[0m\u001b[0mv\u001b[0m\u001b[0;34m]\u001b[0m\u001b[0;34m=\u001b[0m\u001b[0mlevel\u001b[0m \u001b[0;31m# set the level of vertex v\u001b[0m\u001b[0;34m\u001b[0m\u001b[0m\n\u001b[0;32m---> 63\u001b[0;31m                 \u001b[0mnextlevel\u001b[0m\u001b[0;34m.\u001b[0m\u001b[0mupdate\u001b[0m\u001b[0;34m(\u001b[0m\u001b[0mG\u001b[0m\u001b[0;34m[\u001b[0m\u001b[0mv\u001b[0m\u001b[0;34m]\u001b[0m\u001b[0;34m)\u001b[0m \u001b[0;31m# add neighbors of v\u001b[0m\u001b[0;34m\u001b[0m\u001b[0m\n\u001b[0m\u001b[1;32m     64\u001b[0m         \u001b[0;32mif\u001b[0m \u001b[0;34m(\u001b[0m\u001b[0mcutoff\u001b[0m \u001b[0;32mis\u001b[0m \u001b[0;32mnot\u001b[0m \u001b[0;32mNone\u001b[0m \u001b[0;32mand\u001b[0m \u001b[0mcutoff\u001b[0m \u001b[0;34m<=\u001b[0m \u001b[0mlevel\u001b[0m\u001b[0;34m)\u001b[0m\u001b[0;34m:\u001b[0m  \u001b[0;32mbreak\u001b[0m\u001b[0;34m\u001b[0m\u001b[0m\n\u001b[1;32m     65\u001b[0m         \u001b[0mlevel\u001b[0m\u001b[0;34m=\u001b[0m\u001b[0mlevel\u001b[0m\u001b[0;34m+\u001b[0m\u001b[0;36m1\u001b[0m\u001b[0;34m\u001b[0m\u001b[0m\n",
      "\u001b[0;31mKeyboardInterrupt\u001b[0m: "
     ]
    }
   ],
   "source": [
    "for p in [0.01, 0.02, 0.03, 0.04, 0.05, 0.06, 0.07, 0.08, 0.09]:\n",
    "    sampled_graph = nx.Graph()\n",
    "    sampled_graph.add_edges_from( random.sample(compG.edges(), int( len(compG.edges()) * p )) )\n",
    "    avg_path = nx.average_shortest_path_length( list(nx.connected_component_subgraphs(sampled_graph))[0] )\n",
    "    print(p, '%.6f' % avg_path)"
   ]
  },
  {
   "cell_type": "markdown",
   "metadata": {},
   "source": [
    "# Amazon\n",
    "\n",
    "In a different context, let us examine the network of linked Amazon products (when one product suggests the purchase of another product). "
   ]
  },
  {
   "cell_type": "code",
   "execution_count": 67,
   "metadata": {
    "collapsed": false
   },
   "outputs": [
    {
     "name": "stdout",
     "output_type": "stream",
     "text": [
      "Nodes 262111\n",
      "Edges 899792\n"
     ]
    }
   ],
   "source": [
    "amazon = nx.read_edgelist('../Data/Amazon0302.txt') \n",
    "print('Nodes', amazon.number_of_nodes())\n",
    "print('Edges', amazon.number_of_edges())"
   ]
  },
  {
   "cell_type": "markdown",
   "metadata": {},
   "source": [
    "What are the basic attributes of this network? What can you glean from it?\n",
    "\n",
    "Given what we have already done, string together your own analysis to develop some basic insights."
   ]
  },
  {
   "cell_type": "code",
   "execution_count": 68,
   "metadata": {
    "collapsed": true
   },
   "outputs": [],
   "source": [
    "#Exercise\n"
   ]
  },
  {
   "cell_type": "code",
   "execution_count": 69,
   "metadata": {
    "collapsed": true
   },
   "outputs": [],
   "source": [
    "#Answer\n"
   ]
  },
  {
   "cell_type": "markdown",
   "metadata": {},
   "source": [
    "# Metaknowledge\n",
    "\n",
    "This week we are discussing Evans JA, Foster JG. (2011) Metaknowledge. Science. 331, 6018:721-725. This paper is primarily focused on scientific knowledge, how could it apply to what we have done in class?"
   ]
  },
  {
   "cell_type": "code",
   "execution_count": null,
   "metadata": {
    "collapsed": true
   },
   "outputs": [],
   "source": []
  }
 ],
 "metadata": {
  "anaconda-cloud": {},
  "kernelspec": {
   "display_name": "Python [Root]",
   "language": "python",
   "name": "Python [Root]"
  }
 },
 "nbformat": 4,
 "nbformat_minor": 0
}
