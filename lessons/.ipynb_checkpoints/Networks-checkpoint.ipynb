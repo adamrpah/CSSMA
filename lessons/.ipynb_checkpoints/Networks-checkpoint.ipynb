{
 "cells": [
  {
   "cell_type": "markdown",
   "metadata": {},
   "source": [
    "# Networks\n",
    "\n",
    "A network graph is a mathematical model that is composed of vertices and edges, $G = (V, E)$\n",
    "\n",
    "<img src='../images/basic_network.png'>\n",
    "\n",
    "This mathematical model facilitates the analysis of topology and interactions between entites. The first usage of a network was by Euler in the 1700s to solve a long-standing riddle concerning the [traversal of bridges in Konigsberg](https://en.wikipedia.org/wiki/Seven_Bridges_of_Königsberg). His insight may seem extremely simple, it involved the reduction of a physical reality to a mathematical object\n",
    "\n",
    "<img src='../images/konigsberg_bridge.png'>\n",
    "\n",
    "but it allowed for a mathematical proof to the riddle that was not easily achieved with other approaches.\n",
    "\n",
    "# Analyzing networks with Python\n",
    "\n",
    "There are primarily two packages you can use when you want to undertake network analysis. The first package is **NetworkX**, which has been under development for almost a decade now. The second is **graph-tool**, which is younger. graph-tool is significantly faster than NetworkX because most of the package is implemented in C++. However, this makes installation of the package more difficult.\n",
    "\n",
    "For our purposes, we will use NetworkX in the class and it will be entirely sufficient. If, in your own research, you find that NetworkX is not sufficiently fast for your network (i.e. you are working with hundreds of thousands or more nodes) then I suggest that you invest the time to install graph-tool and rework your code (concepts/analysis of a network are largely universal, so the rewrite should not pose a significant time investment)."
   ]
  },
  {
   "cell_type": "code",
   "execution_count": 51,
   "metadata": {
    "collapsed": true
   },
   "outputs": [],
   "source": [
    "import warnings\n",
    "\n",
    "with warnings.catch_warnings():\n",
    "    warnings.filterwarnings(\"ignore\",category=DeprecationWarning)\n",
    "    import networkx as nx\n",
    "    import matplotlib.pyplot as plt"
   ]
  },
  {
   "cell_type": "code",
   "execution_count": 52,
   "metadata": {
    "collapsed": false
   },
   "outputs": [
    {
     "data": {
      "text/plain": [
       "networkx.classes.graph.Graph"
      ]
     },
     "execution_count": 52,
     "metadata": {},
     "output_type": "execute_result"
    }
   ],
   "source": [
    "import networkx as nx\n",
    "\n",
    "G = nx.Graph()\n",
    "type(G)"
   ]
  },
  {
   "cell_type": "markdown",
   "metadata": {},
   "source": [
    "We can then start with a very simple network that has three nodes - Alice, Bob, Carol, and David"
   ]
  },
  {
   "cell_type": "code",
   "execution_count": 53,
   "metadata": {
    "collapsed": false
   },
   "outputs": [
    {
     "data": {
      "text/plain": [
       "['Alice', 'David', 'Bob', 'Carol']"
      ]
     },
     "execution_count": 53,
     "metadata": {},
     "output_type": "execute_result"
    }
   ],
   "source": [
    "individuals = ['Alice', 'Bob', 'Carol', 'David']\n",
    "#Add the individuals\n",
    "G.add_nodes_from(individuals)\n",
    "G.nodes()"
   ]
  },
  {
   "cell_type": "markdown",
   "metadata": {},
   "source": [
    "and at any time we could look at this network using matplotlib"
   ]
  },
  {
   "cell_type": "code",
   "execution_count": 54,
   "metadata": {
    "collapsed": false
   },
   "outputs": [
    {
     "name": "stderr",
     "output_type": "stream",
     "text": [
      "/Users/adampah/.pyenv/versions/anaconda3-4.1.0/lib/python3.5/site-packages/networkx/drawing/nx_pylab.py:126: MatplotlibDeprecationWarning: pyplot.hold is deprecated.\n",
      "    Future behavior will be consistent with the long-time default:\n",
      "    plot commands add elements without first clearing the\n",
      "    Axes and/or Figure.\n",
      "  b = plt.ishold()\n",
      "/Users/adampah/.pyenv/versions/anaconda3-4.1.0/lib/python3.5/site-packages/networkx/drawing/nx_pylab.py:138: MatplotlibDeprecationWarning: pyplot.hold is deprecated.\n",
      "    Future behavior will be consistent with the long-time default:\n",
      "    plot commands add elements without first clearing the\n",
      "    Axes and/or Figure.\n",
      "  plt.hold(b)\n",
      "/Users/adampah/.pyenv/versions/anaconda3-4.1.0/lib/python3.5/site-packages/matplotlib/__init__.py:917: UserWarning: axes.hold is deprecated. Please remove it from your matplotlibrc and/or style files.\n",
      "  warnings.warn(self.msg_depr_set % key)\n",
      "/Users/adampah/.pyenv/versions/anaconda3-4.1.0/lib/python3.5/site-packages/matplotlib/rcsetup.py:152: UserWarning: axes.hold is deprecated, will be removed in 3.0\n",
      "  warnings.warn(\"axes.hold is deprecated, will be removed in 3.0\")\n"
     ]
    },
    {
     "data": {
      "image/png": "[encoded data removed]",
      "text/plain": [
       "<matplotlib.figure.Figure at 0x1193329e8>"
      ]
     },
     "metadata": {},
     "output_type": "display_data"
    }
   ],
   "source": [
    "%matplotlib inline\n",
    "nx.draw(G)"
   ]
  },
  {
   "cell_type": "markdown",
   "metadata": {},
   "source": [
    "as you can see our graph is relatively boring since we haven't addded any edges. Adding edges is pretty much the same as adding nodes."
   ]
  },
  {
   "cell_type": "code",
   "execution_count": 55,
   "metadata": {
    "collapsed": false
   },
   "outputs": [
    {
     "data": {
      "text/plain": [
       "[('Alice', 'Bob'),\n",
       " ('Alice', 'David'),\n",
       " ('Alice', 'Carol'),\n",
       " ('David', 'Bob'),\n",
       " ('David', 'Carol')]"
      ]
     },
     "execution_count": 55,
     "metadata": {},
     "output_type": "execute_result"
    }
   ],
   "source": [
    "friendships = [['Alice', 'Bob'], ['Alice', 'Carol'], ['Alice', 'David'],\n",
    "               ['Bob', 'David'], ['David', 'Carol']]\n",
    "G.add_edges_from(friendships)\n",
    "G.edges()"
   ]
  },
  {
   "cell_type": "code",
   "execution_count": 56,
   "metadata": {
    "collapsed": false
   },
   "outputs": [
    {
     "name": "stderr",
     "output_type": "stream",
     "text": [
      "/Users/adampah/.pyenv/versions/anaconda3-4.1.0/lib/python3.5/site-packages/networkx/drawing/nx_pylab.py:126: MatplotlibDeprecationWarning: pyplot.hold is deprecated.\n",
      "    Future behavior will be consistent with the long-time default:\n",
      "    plot commands add elements without first clearing the\n",
      "    Axes and/or Figure.\n",
      "  b = plt.ishold()\n",
      "/Users/adampah/.pyenv/versions/anaconda3-4.1.0/lib/python3.5/site-packages/networkx/drawing/nx_pylab.py:138: MatplotlibDeprecationWarning: pyplot.hold is deprecated.\n",
      "    Future behavior will be consistent with the long-time default:\n",
      "    plot commands add elements without first clearing the\n",
      "    Axes and/or Figure.\n",
      "  plt.hold(b)\n",
      "/Users/adampah/.pyenv/versions/anaconda3-4.1.0/lib/python3.5/site-packages/matplotlib/__init__.py:917: UserWarning: axes.hold is deprecated. Please remove it from your matplotlibrc and/or style files.\n",
      "  warnings.warn(self.msg_depr_set % key)\n",
      "/Users/adampah/.pyenv/versions/anaconda3-4.1.0/lib/python3.5/site-packages/matplotlib/rcsetup.py:152: UserWarning: axes.hold is deprecated, will be removed in 3.0\n",
      "  warnings.warn(\"axes.hold is deprecated, will be removed in 3.0\")\n"
     ]
    },
    {
     "data": {
      "image/png": "[encoded data removed]",
      "text/plain": [
       "<matplotlib.figure.Figure at 0x1162c14a8>"
      ]
     },
     "metadata": {},
     "output_type": "display_data"
    }
   ],
   "source": [
    "nx.draw(G)"
   ]
  },
  {
   "cell_type": "markdown",
   "metadata": {},
   "source": [
    "and to confirm we can plot the node labels. To do so, we will need to use the function `graph_networkx_edge_labels()`. Read through the documentation to figure out how to do this as an exercise."
   ]
  },
  {
   "cell_type": "code",
   "execution_count": 57,
   "metadata": {
    "collapsed": true
   },
   "outputs": [],
   "source": [
    "#Exercise \n"
   ]
  },
  {
   "cell_type": "code",
   "execution_count": 58,
   "metadata": {
    "collapsed": false
   },
   "outputs": [
    {
     "name": "stderr",
     "output_type": "stream",
     "text": [
      "/Users/adampah/.pyenv/versions/anaconda3-4.1.0/lib/python3.5/site-packages/networkx/drawing/nx_pylab.py:126: MatplotlibDeprecationWarning: pyplot.hold is deprecated.\n",
      "    Future behavior will be consistent with the long-time default:\n",
      "    plot commands add elements without first clearing the\n",
      "    Axes and/or Figure.\n",
      "  b = plt.ishold()\n",
      "/Users/adampah/.pyenv/versions/anaconda3-4.1.0/lib/python3.5/site-packages/networkx/drawing/nx_pylab.py:138: MatplotlibDeprecationWarning: pyplot.hold is deprecated.\n",
      "    Future behavior will be consistent with the long-time default:\n",
      "    plot commands add elements without first clearing the\n",
      "    Axes and/or Figure.\n",
      "  plt.hold(b)\n",
      "/Users/adampah/.pyenv/versions/anaconda3-4.1.0/lib/python3.5/site-packages/matplotlib/__init__.py:917: UserWarning: axes.hold is deprecated. Please remove it from your matplotlibrc and/or style files.\n",
      "  warnings.warn(self.msg_depr_set % key)\n",
      "/Users/adampah/.pyenv/versions/anaconda3-4.1.0/lib/python3.5/site-packages/matplotlib/rcsetup.py:152: UserWarning: axes.hold is deprecated, will be removed in 3.0\n",
      "  warnings.warn(\"axes.hold is deprecated, will be removed in 3.0\")\n"
     ]
    },
    {
     "data": {
      "image/png": "[encoded data removed]",
      "text/plain": [
       "<matplotlib.figure.Figure at 0x11ad1e9b0>"
      ]
     },
     "metadata": {},
     "output_type": "display_data"
    }
   ],
   "source": [
    "#Answer\n",
    "pos = nx.spring_layout(G)\n",
    "nx.draw(G, pos=pos)\n",
    "nx.draw_networkx_labels(G, pos, font_size = 24);"
   ]
  },
  {
   "cell_type": "markdown",
   "metadata": {},
   "source": [
    "Of course we can modify a network in place, adding or removing nodes"
   ]
  },
  {
   "cell_type": "code",
   "execution_count": 59,
   "metadata": {
    "collapsed": false
   },
   "outputs": [
    {
     "data": {
      "text/plain": [
       "['Alice', 'Bob', 'Carol']"
      ]
     },
     "execution_count": 59,
     "metadata": {},
     "output_type": "execute_result"
    }
   ],
   "source": [
    "G.remove_node('David')\n",
    "G.nodes()"
   ]
  },
  {
   "cell_type": "markdown",
   "metadata": {},
   "source": [
    "Or add them one by one (of course we will not regain whatever edges were originially in the graph)"
   ]
  },
  {
   "cell_type": "code",
   "execution_count": 60,
   "metadata": {
    "collapsed": false
   },
   "outputs": [
    {
     "data": {
      "text/plain": [
       "['Alice', 'David', 'Bob', 'Carol']"
      ]
     },
     "execution_count": 60,
     "metadata": {},
     "output_type": "execute_result"
    }
   ],
   "source": [
    "G.add_node('David')\n",
    "G.nodes()"
   ]
  },
  {
   "cell_type": "markdown",
   "metadata": {},
   "source": [
    "And of course we can do all the same operations with edges"
   ]
  },
  {
   "cell_type": "code",
   "execution_count": 61,
   "metadata": {
    "collapsed": false
   },
   "outputs": [
    {
     "data": {
      "text/plain": [
       "[('Alice', 'Carol')]"
      ]
     },
     "execution_count": 61,
     "metadata": {},
     "output_type": "execute_result"
    }
   ],
   "source": [
    "G.remove_edge('Alice', 'Bob')\n",
    "G.edges()"
   ]
  },
  {
   "cell_type": "code",
   "execution_count": 62,
   "metadata": {
    "collapsed": false
   },
   "outputs": [
    {
     "data": {
      "text/plain": [
       "[('Alice', 'Bob'), ('Alice', 'Carol')]"
      ]
     },
     "execution_count": 62,
     "metadata": {},
     "output_type": "execute_result"
    }
   ],
   "source": [
    "G.add_edge('Alice', 'Bob')\n",
    "G.edges()"
   ]
  },
  {
   "cell_type": "markdown",
   "metadata": {},
   "source": [
    "The real advantage over keeping track of this information ourselves with a dictionary or list is the built in functions to tell us about graph properties. For example, we can quickly get the number of nodes or edges in the graph."
   ]
  },
  {
   "cell_type": "code",
   "execution_count": 63,
   "metadata": {
    "collapsed": false
   },
   "outputs": [
    {
     "name": "stdout",
     "output_type": "stream",
     "text": [
      "There are 4 nodes\n"
     ]
    }
   ],
   "source": [
    "print('There are {0} nodes'.format(G.number_of_nodes()))"
   ]
  },
  {
   "cell_type": "code",
   "execution_count": 64,
   "metadata": {
    "collapsed": false
   },
   "outputs": [
    {
     "name": "stdout",
     "output_type": "stream",
     "text": [
      "There are 2 edges\n"
     ]
    }
   ],
   "source": [
    "print('There are {0} edges'.format(G.number_of_edges()))"
   ]
  },
  {
   "cell_type": "markdown",
   "metadata": {},
   "source": [
    "## Setting and accessing Graph Attributes\n",
    "\n",
    "We can add attributes to each of the nodes if there are features that we want to keep track of. For example, we might want to keep track of the gender."
   ]
  },
  {
   "cell_type": "code",
   "execution_count": 65,
   "metadata": {
    "collapsed": false
   },
   "outputs": [
    {
     "name": "stdout",
     "output_type": "stream",
     "text": [
      "Adding a gender attribute to Bob\n",
      "[('Alice', {}), ('David', {}), ('Bob', {'gender': 'Male'}), ('Carol', {})]\n",
      "\n",
      "Adding genders to all of the nodes\n",
      "[('Alice', {'gender': 'Female'}), ('David', {'gender': 'Male'}), ('Bob', {'gender': 'Male'}), ('Carol', {'gender': 'Female'})]\n",
      "\n",
      "Looking at the attributes for a single node, here we access Alice's attributes\n",
      "{'gender': 'Female'}\n"
     ]
    }
   ],
   "source": [
    "G.node['Bob']['gender'] = 'Male'\n",
    "#If we give the option data=True when we print nodes we can see the additional attributes\n",
    "print( \"Adding a gender attribute to Bob\" )\n",
    "print( G.nodes(data=True) )\n",
    "print()\n",
    "#We see that the attributes are stored as a dictionary for each node\n",
    "\n",
    "#Now let's add all of the other attributes\n",
    "genders = [['Alice', 'Female'], ['Carol', 'Female'], ['David', 'Male']]\n",
    "for name, gender in genders:\n",
    "    G.node[name]['gender'] = gender\n",
    "print(\"Adding genders to all of the nodes\")\n",
    "print(G.nodes(data=True) )\n",
    "print()\n",
    "\n",
    "#Accessing nodes individually\n",
    "print(\"Looking at the attributes for a single node, here we access Alice's attributes\")\n",
    "print(G.node['Alice'])"
   ]
  },
  {
   "cell_type": "markdown",
   "metadata": {},
   "source": [
    "We can also add attributes to an edge, such as what type of edge it is. \n",
    " "
   ]
  },
  {
   "cell_type": "code",
   "execution_count": 66,
   "metadata": {
    "collapsed": false
   },
   "outputs": [
    {
     "name": "stdout",
     "output_type": "stream",
     "text": [
      "Explicitly saying that the edge represents friendship\n",
      "[('Alice', 'Bob', {'edge_type': 'friendship'}), ('Alice', 'Carol', {})]\n",
      "\n",
      "Setting the edge type for all of the edges in the network\n",
      "[('Alice', 'Bob', {'edge_type': 'friendship'}), ('Alice', 'David', {'edge_type': 'friendship'}), ('Alice', 'Carol', {'edge_type': 'friendship'}), ('Bob', 'Carol', {'edge_type': 'friendship'})]\n",
      "\n",
      "Looking at an individual edge's attributes is effectively the same as setting an attribute\n",
      "{'edge_type': 'friendship'}\n"
     ]
    }
   ],
   "source": [
    "#We set edge attributes by directly referencing the nodes\n",
    "G['Bob']['Alice']['edge_type'] = 'friendship'\n",
    "print(\"Explicitly saying that the edge represents friendship\")\n",
    "print(G.edges(data=True))\n",
    "print()\n",
    "\n",
    "#We can now set all of these attributes\n",
    "G.add_edges_from([['Bob', 'Carol'], ['David', 'Alice'], ['Alice', 'Carol']])\n",
    "edge_type_attributes = [['Bob', 'Carol'], ['David', 'Alice'], ['Alice', 'Carol']]\n",
    "for node_i, node_j in edge_type_attributes:\n",
    "    G[node_i][node_j]['edge_type'] = 'friendship'\n",
    "print(\"Setting the edge type for all of the edges in the network\")\n",
    "print(G.edges(data=True))\n",
    "print()\n",
    "\n",
    "#Looking at an individual edge\n",
    "print(\"Looking at an individual edge's attributes is effectively the same as setting an attribute\")\n",
    "print(G['Bob']['Alice'])"
   ]
  },
  {
   "cell_type": "markdown",
   "metadata": {},
   "source": [
    "## Different types of networks\n",
    "\n",
    "So far what we have constructed is an **undirected unweighted** network. Let's go over what each of these two terms mean individually.\n",
    "\n",
    "### Undirected vs. Directed\n",
    "\n",
    "An **undirected** network means that an edge has no direction, in our network an edge means that an edge goes for both of the nodes.\n",
    "\n",
    "If we wanted to examine a network where we looked at who initiated a conversation with whom during a day, we would want a **directed** network.\n",
    "\n",
    "<img src=\"http://www.mathaware.org/mam/04/images/5_directed_network.gif\" width=\"200px\"></img>\n",
    "\n",
    "In a directed network an edge is displayed with an arrow and it shows the direction of the edge and it is not symmetric, **unlike** an undirected network. This means that if:\n",
    "* Bob starts a conversation with Alice, then we would draw an edge from Bob to Alice with the arrow pointed to Alice\n",
    "* Later that day Alice started a conversation with Bob, we would draw another edge from Alice to Bob, with the arrow pointed at Bob\n",
    "\n",
    "### Unweighted vs. Weighted\n",
    "\n",
    "An **unweighted** network has edges that are effectively binary, either there exists an edge between two nodes or there does not exist an edge. All edges that exist are counted the same.  This type of network makes sense for friendship, since two people are either friends or they are not. \n",
    "\n",
    "If we think about our conversation network though, we would want to know the **number** of times that two individuals interact --- especially because it is likely that all of the individuals would talk to each other during the course of a day. This means that the presence or absence of an edge doesn't matter because it is a **fully connected** network. We would add the **number** of conversations, more typically known as the **weight** of an edge, to represent the strength of the connection between two nodes. In a graph we typically show weights by making the width of an edge larger.\n",
    "<img src=\"https://humannaturegroup.files.wordpress.com/2009/12/map.png\" width=\"400px\"></img>\n",
    "\n",
    "\n",
    "## Making a weighted network\n",
    "\n",
    "We can easily make a conversation network between our individuals"
   ]
  },
  {
   "cell_type": "code",
   "execution_count": 67,
   "metadata": {
    "collapsed": false
   },
   "outputs": [
    {
     "name": "stdout",
     "output_type": "stream",
     "text": [
      "[('Alice', 'Bob', {'weight': 9}), ('Alice', 'David', {'weight': 10}), ('Alice', 'Carol', {'weight': 11}), ('David', 'Bob', {'weight': 4}), ('David', 'Carol', {'weight': 9}), ('Bob', 'Carol', {'weight': 1})]\n"
     ]
    }
   ],
   "source": [
    "import itertools, random\n",
    "\n",
    "#We will add all combinations of nodes using itertools.combinations\n",
    "#To add an attribute when we add an edge, we put it in as a dictionary\n",
    "H = nx.Graph()\n",
    "for name_i, name_j in itertools.combinations(individuals, 2):\n",
    "    H.add_edge(name_i, name_j, {'weight': random.randint(1,20)})\n",
    "    \n",
    "print(H.edges(data=True))"
   ]
  },
  {
   "cell_type": "markdown",
   "metadata": {},
   "source": [
    "# Looking at network attributes\n",
    "\n",
    "Frequently we will be interested in the **degree** of a node, the degree is the number of neighbors that a node has."
   ]
  },
  {
   "cell_type": "code",
   "execution_count": 68,
   "metadata": {
    "collapsed": false
   },
   "outputs": [
    {
     "name": "stdout",
     "output_type": "stream",
     "text": [
      "The number of neighbors for Bob\n",
      "3\n",
      "\n",
      "Degree for Bob in the friendship network: 2\n",
      "Degree for Bob in the conversation network: 3\n"
     ]
    }
   ],
   "source": [
    "#We can look at the degree of a node easily\n",
    "print(\"The number of neighbors for Bob\")\n",
    "print(H.degree('Bob'))\n",
    "print()\n",
    "\n",
    "#Can demonstrate the difference between friends and conversations too\n",
    "print(\"Degree for Bob in the friendship network: %d\" % G.degree('Bob'))\n",
    "print(\"Degree for Bob in the conversation network: %d\" % H.degree('Bob'))"
   ]
  },
  {
   "cell_type": "markdown",
   "metadata": {},
   "source": [
    "# Now let's use a bigger/real network \n",
    "\n",
    "We will use the data for trips between Divvy stations. You can find it in the `data/` folder as `divvy_network.json`.\n",
    "\n",
    "Read through the documentation to learn how to load it as a network."
   ]
  },
  {
   "cell_type": "code",
   "execution_count": 69,
   "metadata": {
    "collapsed": false
   },
   "outputs": [],
   "source": [
    "#Exercise\n"
   ]
  },
  {
   "cell_type": "code",
   "execution_count": 79,
   "metadata": {
    "collapsed": false
   },
   "outputs": [
    {
     "name": "stdout",
     "output_type": "stream",
     "text": [
      "299\n",
      "{'capacity': 43, 'name': 'Michigan Ave & Washington St', 'longitude': -87.62464914, 'latitude': 41.88389277}\n"
     ]
    }
   ],
   "source": [
    "#Answer\n",
    "from networkx.readwrite import json_graph\n",
    "import json\n",
    "\n",
    "json_string = json.loads(open('../data/divvy_network.json').read())\n",
    "G = json_graph.node_link_graph(json_string)\n",
    "\n",
    "print( G.number_of_nodes() )\n",
    "print( G.node[G.nodes()[0]] )"
   ]
  },
  {
   "cell_type": "code",
   "execution_count": 80,
   "metadata": {
    "collapsed": false
   },
   "outputs": [
    {
     "name": "stderr",
     "output_type": "stream",
     "text": [
      "/Users/adampah/.pyenv/versions/anaconda3-4.1.0/lib/python3.5/site-packages/networkx/drawing/nx_pylab.py:126: MatplotlibDeprecationWarning: pyplot.hold is deprecated.\n",
      "    Future behavior will be consistent with the long-time default:\n",
      "    plot commands add elements without first clearing the\n",
      "    Axes and/or Figure.\n",
      "  b = plt.ishold()\n",
      "/Users/adampah/.pyenv/versions/anaconda3-4.1.0/lib/python3.5/site-packages/networkx/drawing/nx_pylab.py:138: MatplotlibDeprecationWarning: pyplot.hold is deprecated.\n",
      "    Future behavior will be consistent with the long-time default:\n",
      "    plot commands add elements without first clearing the\n",
      "    Axes and/or Figure.\n",
      "  plt.hold(b)\n",
      "/Users/adampah/.pyenv/versions/anaconda3-4.1.0/lib/python3.5/site-packages/matplotlib/__init__.py:917: UserWarning: axes.hold is deprecated. Please remove it from your matplotlibrc and/or style files.\n",
      "  warnings.warn(self.msg_depr_set % key)\n",
      "/Users/adampah/.pyenv/versions/anaconda3-4.1.0/lib/python3.5/site-packages/matplotlib/rcsetup.py:152: UserWarning: axes.hold is deprecated, will be removed in 3.0\n",
      "  warnings.warn(\"axes.hold is deprecated, will be removed in 3.0\")\n"
     ]
    },
    {
     "data": {
      "image/png": "[encoded data removed]",
      "text/plain": [
       "<matplotlib.figure.Figure at 0x118e96e10>"
      ]
     },
     "metadata": {},
     "output_type": "display_data"
    }
   ],
   "source": [
    "#We can try to understand this network now\n",
    "nx.draw_circular(G)"
   ]
  },
  {
   "cell_type": "markdown",
   "metadata": {},
   "source": [
    "Pretty!\n",
    "\n",
    "Understanding non-trivial networks is difficult by plotting the network because of the large number of nodes and edges that would overlap. For this reason we typically look at distributions of network statistics, such as the distribution of degrees."
   ]
  },
  {
   "cell_type": "code",
   "execution_count": 89,
   "metadata": {
    "collapsed": false
   },
   "outputs": [
    {
     "name": "stdout",
     "output_type": "stream",
     "text": [
      "25 263\n"
     ]
    },
    {
     "data": {
      "image/png": "[encoded data removed]",
      "text/plain": [
       "<matplotlib.figure.Figure at 0x118ebfb70>"
      ]
     },
     "metadata": {},
     "output_type": "display_data"
    }
   ],
   "source": [
    "#Plotting the distribution of degrees\n",
    "degrees = [G.degree(n) for n in G.nodes()]\n",
    "degrees.sort()\n",
    "print( min(degrees), max(degrees) )\n",
    "\n",
    "fig = plt.figure(figsize=(6,3))\n",
    "\n",
    "ax = plt.subplot(121)\n",
    "ax.hist(degrees, bins=20, normed=True)\n",
    "ax.set_xlabel('Degree')\n",
    "ax.set_ylabel('pdf')\n",
    "\n",
    "ax = plt.subplot(122)\n",
    "ax.hist(degrees, bins=50, normed=True, cumulative=True, histtype='step')\n",
    "ax.set_xlim(0, max(degrees))\n",
    "ax.set_ylim(0, 1.0)\n",
    "ax.set_xlabel('Degree')\n",
    "ax.set_ylabel('cdf')\n",
    "ax.plot([0, max(degrees)], [0, 1.0], ':', color='black', linewidth=0.5)\n",
    "\n",
    "plt.tight_layout()"
   ]
  },
  {
   "cell_type": "markdown",
   "metadata": {},
   "source": [
    "So what we can see is that there is a slight peak near the larger side of the distribution, this means that there are a number of Divvy stations that see a large number of trips. \n",
    "\n",
    "First let's make a function to plot the pdf and cdf simultaneously"
   ]
  },
  {
   "cell_type": "code",
   "execution_count": null,
   "metadata": {
    "collapsed": true
   },
   "outputs": [],
   "source": [
    "#Exercise\n"
   ]
  },
  {
   "cell_type": "code",
   "execution_count": 90,
   "metadata": {
    "collapsed": false
   },
   "outputs": [],
   "source": [
    "#Answer\n",
    "def plot_distributions(dataset, xlabel):\n",
    "    '''\n",
    "    Plots the PDF and CDF for a dataset\n",
    "    input:\n",
    "        * dataset -- data to be graphed as a list []\n",
    "        * xlabel -- string to label the x-axis with\n",
    "    output:\n",
    "        * None\n",
    "    '''\n",
    "    fig = plt.figure(figsize=(8,4))\n",
    "\n",
    "    ax = plt.subplot(121)\n",
    "    ax.hist(dataset, bins=20, normed=True)\n",
    "    ax.autoscale()\n",
    "    ax.set_xlabel(xlabel)\n",
    "    ax.set_ylabel('pdf')\n",
    "\n",
    "    ax = plt.subplot(122)\n",
    "    ax.hist(dataset, bins=20, normed=True, cumulative=True, histtype='step')\n",
    "    ax.autoscale()\n",
    "    ax.set_xlabel(xlabel)\n",
    "    ax.set_ylabel('cdf')\n",
    "\n",
    "    plt.tight_layout()"
   ]
  },
  {
   "cell_type": "markdown",
   "metadata": {},
   "source": [
    "Since the Divvy Trip network is a transportation network (it shows movement from one station to another) we can look at betweenness centrality. Betweenness centrality for a node `i` is the sum of the fraction of shortest paths that pass through `i`."
   ]
  },
  {
   "cell_type": "code",
   "execution_count": 93,
   "metadata": {
    "collapsed": false
   },
   "outputs": [
    {
     "data": {
      "image/png": "[encoded data removed]",
      "text/plain": [
       "<matplotlib.figure.Figure at 0x11cd31860>"
      ]
     },
     "metadata": {},
     "output_type": "display_data"
    }
   ],
   "source": [
    "betweenness_dict = nx.betweenness_centrality(G)\n",
    "plot_distributions(list(betweenness_dict.values()), 'Betweenness')"
   ]
  },
  {
   "cell_type": "markdown",
   "metadata": {},
   "source": [
    "Now we should look and see if this network is assortative. That means, what is my degree versus my neighbor's degree? Am I typically connected to neighbors that have the same degree as me or not?"
   ]
  },
  {
   "cell_type": "code",
   "execution_count": 94,
   "metadata": {
    "collapsed": false
   },
   "outputs": [],
   "source": [
    "avg_neigh_degrees = nx.average_neighbor_degree(G)"
   ]
  },
  {
   "cell_type": "code",
   "execution_count": 100,
   "metadata": {
    "collapsed": false
   },
   "outputs": [
    {
     "data": {
      "text/plain": [
       "<matplotlib.text.Text at 0x11b4045f8>"
      ]
     },
     "execution_count": 100,
     "metadata": {},
     "output_type": "execute_result"
    },
    {
     "data": {
      "image/png": "[encoded data removed]",
      "text/plain": [
       "<matplotlib.figure.Figure at 0x1196425c0>"
      ]
     },
     "metadata": {},
     "output_type": "display_data"
    }
   ],
   "source": [
    "xdata, ydata = [], []\n",
    "for n, avg_neigh_degree in avg_neigh_degrees.items():\n",
    "    xdata.append(G.degree(n))\n",
    "    ydata.append(avg_neigh_degree)\n",
    "\n",
    "fig = plt.figure(figsize=(6,6))\n",
    "ax = fig.add_subplot(111)\n",
    "ax.plot(xdata, ydata, 'o')\n",
    "ax.set_xlabel('Degree')\n",
    "ax.set_ylabel('Average Neighbor Degree')"
   ]
  },
  {
   "cell_type": "markdown",
   "metadata": {},
   "source": [
    "Here we see that the network is assortative, nodes with a high-degree have neighbors that also have a high degree. This makes sense since this network exists in a real geography (Divvy Bike Stations exist at certain locations, users aren't likely to skip lots of stations where they could potentially dock them and then not be charged for additional time)."
   ]
  },
  {
   "cell_type": "markdown",
   "metadata": {},
   "source": [
    "We can and should check this though. Implement a function to calculate the distance between two stations with the [Haversine distance](https://en.wikipedia.org/wiki/Haversine_formula)"
   ]
  },
  {
   "cell_type": "code",
   "execution_count": null,
   "metadata": {
    "collapsed": true
   },
   "outputs": [],
   "source": [
    "#Exercise\n"
   ]
  },
  {
   "cell_type": "code",
   "execution_count": 103,
   "metadata": {
    "collapsed": false
   },
   "outputs": [],
   "source": [
    "#Answer\n",
    "import math\n",
    "\n",
    "def calculate_distance(pt1, pt2):\n",
    "    '''\n",
    "    Calculates the Haversine distance formula\n",
    "    input:\n",
    "        pt1: tuple of lat,long for point 1\n",
    "        pt2: tuple of lat,long for point 2\n",
    "    output:\n",
    "        dist: Distance in km between the two points\n",
    "    '''\n",
    "    radius_earth = 6373\n",
    "    degrees_to_radians = math.pi/180.0\n",
    "    phi1 = (90.0 - pt1[0])*degrees_to_radians\n",
    "    phi2 = (90.0 - pt2[0])*degrees_to_radians\n",
    "    theta1 = pt1[1]*degrees_to_radians\n",
    "    theta2 = pt1[1]*degrees_to_radians\n",
    "    #The meat of the formula\n",
    "    cos_num = (math.sin(phi1)*math.sin(phi2)*math.cos(theta1 - theta2) + \\\n",
    "               math.cos(phi1)*math.cos(phi2))\n",
    "    arc = math.acos( cos_num )\n",
    "    dist = radius_earth * arc\n",
    "    return dist"
   ]
  },
  {
   "cell_type": "code",
   "execution_count": 104,
   "metadata": {
    "collapsed": false
   },
   "outputs": [
    {
     "data": {
      "text/plain": [
       "<matplotlib.text.Text at 0x11d168940>"
      ]
     },
     "execution_count": 104,
     "metadata": {},
     "output_type": "execute_result"
    },
    {
     "data": {
      "image/png": "[encoded data removed]",
      "text/plain": [
       "<matplotlib.figure.Figure at 0x11b4886d8>"
      ]
     },
     "metadata": {},
     "output_type": "display_data"
    }
   ],
   "source": [
    "#Now let's calculate the neighbor distances\n",
    "import numpy as np\n",
    "\n",
    "avg_neighbor_distances = []\n",
    "for inode in G.nodes_iter():\n",
    "    inode_distances = []\n",
    "    for jnode in G.neighbors(inode):\n",
    "        pt1 = (G.node[inode]['latitude'], G.node[inode]['longitude'])\n",
    "        pt2 = (G.node[jnode]['latitude'], G.node[jnode]['longitude'])\n",
    "        if pt1 != pt2:\n",
    "            inode_distances.append(calculate_distance(pt1, pt2))\n",
    "        else:\n",
    "            inode_distances.append(0)\n",
    "    avg_neighbor_distances.append(np.mean(inode_distances))\n",
    "    \n",
    "plt.hist(avg_neighbor_distances, normed=True)\n",
    "plt.xlabel('Distance (km)')"
   ]
  },
  {
   "cell_type": "markdown",
   "metadata": {},
   "source": [
    "Interesting, this appears to be a pretty small distance. But to make sure we should calculate and plot the differences between distance between neighbors and distance between non-neighbors"
   ]
  },
  {
   "cell_type": "code",
   "execution_count": null,
   "metadata": {
    "collapsed": true
   },
   "outputs": [],
   "source": [
    "#Exercise\n"
   ]
  },
  {
   "cell_type": "code",
   "execution_count": 105,
   "metadata": {
    "collapsed": false
   },
   "outputs": [
    {
     "data": {
      "text/plain": [
       "<matplotlib.text.Text at 0x11cdf2f98>"
      ]
     },
     "execution_count": 105,
     "metadata": {},
     "output_type": "execute_result"
    },
    {
     "data": {
      "image/png": "[encoded data removed]",
      "text/plain": [
       "<matplotlib.figure.Figure at 0x11d17a898>"
      ]
     },
     "metadata": {},
     "output_type": "display_data"
    }
   ],
   "source": [
    "#Answer\n",
    "import numpy as np\n",
    "\n",
    "avg_non_neighbor_distances = []\n",
    "for inode in G.nodes_iter():\n",
    "    inode_distances = []\n",
    "    jnodes = [n for n in G.nodes() if n not in G.neighbors(inode)]\n",
    "    for jnode in jnodes:\n",
    "        pt1 = (G.node[inode]['latitude'], G.node[inode]['longitude'])\n",
    "        pt2 = (G.node[jnode]['latitude'], G.node[jnode]['longitude'])\n",
    "        if pt1 != pt2:\n",
    "            inode_distances.append(calculate_distance(pt1, pt2))\n",
    "        else:\n",
    "            inode_distances.append(0)\n",
    "    avg_non_neighbor_distances.append(np.mean(inode_distances))\n",
    "    \n",
    "plt.hist(avg_non_neighbor_distances, normed=True)\n",
    "plt.xlabel('Distance (km)')"
   ]
  },
  {
   "cell_type": "code",
   "execution_count": 107,
   "metadata": {
    "collapsed": false
   },
   "outputs": [
    {
     "data": {
      "image/png": "[encoded data removed]",
      "text/plain": [
       "<matplotlib.figure.Figure at 0x118e694a8>"
      ]
     },
     "metadata": {},
     "output_type": "display_data"
    }
   ],
   "source": [
    "ax = plt.subplot(111)\n",
    "ax.boxplot([avg_neighbor_distances, avg_non_neighbor_distances])\n",
    "plt.setp(ax, xticklabels=['Neighbor', 'Non-Neighbor'])\n",
    "ax.set_xlim(0.5,2.5)\n",
    "ax.set_ylabel('Distance')\n",
    "plt.tight_layout()"
   ]
  },
  {
   "cell_type": "markdown",
   "metadata": {},
   "source": [
    "Now let's test whether these two distributions from the same distribution or not, using the Kolmogorov-Smirnov test.\n",
    "\n",
    "**Are these two distributions the same or not?**"
   ]
  },
  {
   "cell_type": "code",
   "execution_count": 109,
   "metadata": {
    "collapsed": false
   },
   "outputs": [
    {
     "name": "stdout",
     "output_type": "stream",
     "text": [
      "2.03803289175e-113\n"
     ]
    }
   ],
   "source": [
    "from scipy.stats import ks_2samp\n",
    "\n",
    "D, p = ks_2samp(avg_neighbor_distances, avg_non_neighbor_distances)\n",
    "print( p )"
   ]
  },
  {
   "cell_type": "markdown",
   "metadata": {},
   "source": [
    "# Statistical tests and edge randomizations\n",
    "\n",
    "This was a pretty simple problem, but we're not always interested that in a quantity that can be tested by non-neighbor nodes. In those situations we will typically create an ensemble of randomized networks and in each randomized network calculating our quantity of interest. We then see if our known quantity is the a part of the same distribution from the randomized set. Let's test that way now.\n",
    "\n",
    "Since there is a small number of edges in the network, let's do randomize 5 times the number of edges in the network and make 100 versions of these networks."
   ]
  },
  {
   "cell_type": "code",
   "execution_count": 111,
   "metadata": {
    "collapsed": false
   },
   "outputs": [
    {
     "name": "stdout",
     "output_type": "stream",
     "text": [
      "0\n",
      "10\n",
      "20\n",
      "30\n",
      "40\n",
      "50\n",
      "60\n",
      "70\n",
      "80\n",
      "90\n"
     ]
    }
   ],
   "source": [
    "def calc_neigh_distances(G): \n",
    "    avg_neighbor_distances = []\n",
    "    for inode in G.nodes_iter():\n",
    "        inode_distances = []\n",
    "        for jnode in G.neighbors(inode):\n",
    "            pt1 = (G.node[inode]['latitude'], G.node[inode]['longitude'])\n",
    "            pt2 = (G.node[jnode]['latitude'], G.node[jnode]['longitude'])\n",
    "            if pt1 != pt2:\n",
    "                inode_distances.append(calculate_distance(pt1, pt2))\n",
    "            else:\n",
    "                inode_distances.append(0)\n",
    "        avg_neighbor_distances.append(np.mean(inode_distances))\n",
    "    return avg_neighbor_distances\n",
    "\n"
   ]
  },
  {
   "cell_type": "markdown",
   "metadata": {},
   "source": [
    "Now write the randomization code on your own. **Hint:** check the documentation to see if there is a way to randomize the graph edges."
   ]
  },
  {
   "cell_type": "code",
   "execution_count": null,
   "metadata": {
    "collapsed": true
   },
   "outputs": [],
   "source": [
    "#Exercise\n"
   ]
  },
  {
   "cell_type": "code",
   "execution_count": null,
   "metadata": {
    "collapsed": true
   },
   "outputs": [],
   "source": [
    "#Answer\n",
    "randomized_avg_neigh_distances = []\n",
    "\n",
    "for i in range(100):\n",
    "    if i % 10 ==0:\n",
    "        print( i )\n",
    "    #We'll just do a copy\n",
    "    H = G.copy()\n",
    "    nx.double_edge_swap(H, nswap = int(0.5 * H.number_of_edges()), max_tries= 100 * H.number_of_edges())\n",
    "    #now we need to calculate the avg_neighbor distance....gosh...sure wish we made a function....\n",
    "    randomized_avg_neigh_distances.append(np.average(calc_neigh_distances(H)))"
   ]
  },
  {
   "cell_type": "code",
   "execution_count": 112,
   "metadata": {
    "collapsed": false
   },
   "outputs": [
    {
     "name": "stdout",
     "output_type": "stream",
     "text": [
      "The z-score for this randomization is: -106.280197\n",
      "So...yes...pretty significant\n"
     ]
    },
    {
     "data": {
      "image/png": "[encoded data removed]",
      "text/plain": [
       "<matplotlib.figure.Figure at 0x11b936390>"
      ]
     },
     "metadata": {},
     "output_type": "display_data"
    }
   ],
   "source": [
    "plt.hist(randomized_avg_neigh_distances, normed=True)\n",
    "plt.hist([np.average(avg_neighbor_distances)], normed=True, color='red')\n",
    "\n",
    "#Calculate the significance:\n",
    "z_score = (np.average(avg_neighbor_distances) - np.average(randomized_avg_neigh_distances))/np.std(randomized_avg_neigh_distances)\n",
    "print( \"The z-score for this randomization is: %f\" % z_score )\n",
    "print( \"So...yes...pretty significant\" )"
   ]
  },
  {
   "cell_type": "markdown",
   "metadata": {},
   "source": [
    "# Network Path Traversal\n",
    "\n",
    "Another important part is traversing a network. What are two easy ways that this could be done?\n",
    "\n",
    "**answer is....**\n",
    "\n",
    "Breadth-first or depth-first\n",
    "\n",
    "Perfect!\n",
    "\n",
    "Now let's implement breadth first of these algorithms\n",
    "\n",
    "so if we have a tree like:\n",
    "\n",
    "`\n",
    " -> My tree starting from Z\n",
    "     Z\n",
    "  |     |\n",
    "  B     C\n",
    "|  |  |  |\n",
    "D  E  F  G\n",
    "`\n",
    "\n",
    "The answer should be:\n",
    "[B, C, D, E, F, G]"
   ]
  },
  {
   "cell_type": "code",
   "execution_count": null,
   "metadata": {
    "collapsed": true
   },
   "outputs": [],
   "source": [
    "#Exercise\n"
   ]
  },
  {
   "cell_type": "code",
   "execution_count": 114,
   "metadata": {
    "collapsed": false
   },
   "outputs": [
    {
     "name": "stdout",
     "output_type": "stream",
     "text": [
      "[2, 3, 4, 5, 6, 7, 8, 9, 10, 11, 12, 13, 14, 16, 17, 19, 20, 21, 22, 23, 25, 27, 28, 29, 30, 31, 32, 33, 34, 36, 37, 38, 39, 40, 42, 43, 44, 45, 46, 48, 49, 50, 51, 52, 53, 54, 56, 57, 58, 59, 60, 61, 62, 63, 64, 65, 66, 67, 68, 69, 70, 71, 72, 73, 75, 76, 77, 78, 80, 82, 83, 84, 85, 87, 90, 93, 96, 98, 102, 106, 108, 112, 117, 123, 124, 126, 128, 130, 131, 132, 133, 134, 135, 136, 137, 138, 139, 141, 142, 143, 146, 147, 148, 149, 150, 154, 155, 156, 157, 158, 159, 160, 161, 162, 163, 164, 165, 166, 168, 169, 170, 171, 172, 173, 174, 179, 181, 182, 184, 185, 186, 189, 190, 191, 192, 193, 194, 196, 197, 200, 206, 209, 211, 212, 213, 214, 215, 217, 220, 221, 223, 224, 226, 228, 229, 232, 233, 234, 235, 237, 241, 243, 244, 245, 246, 247, 248, 249, 255, 257, 262, 263, 264, 265, 266, 269, 272, 273, 275, 276, 277, 282, 284, 289, 290, 294, 295, 296, 298, 300, 301, 302, 303, 308, 309, 310, 316, 323, 324, 326, 327, 328, 329, 331, 332, 337, 338, 339, 340, 341, 344, 346, 347, 349, 350, 353, 361, 365, 385, 388, 396, 397, 398, 408, 409, 410, 413, 414, 420, 422, 427, 430, 431, 432, 434, 88, 89, 97, 99, 109, 127, 144, 145, 176, 180, 188, 208, 210, 216, 219, 230, 239, 242, 252, 256, 259, 268, 271, 278, 285, 288, 304, 307, 325, 345, 362, 379, 392, 399, 440, 74, 91, 119, 292, 374, 417, 104, 140, 354, 258, 286, 306, 321, 92, 253, 86, 404, 101, 389, 251, 317, 319, 250, 297, 26, 315, 384, 393]\n"
     ]
    }
   ],
   "source": [
    "#Answer\n",
    "def bfs(G, source, queue = [], breadth_nodes = [], visited_nodes = []):\n",
    "    visited_nodes.append(source)\n",
    "    #Set a breadth_queue\n",
    "    level_queue = [n for n in G.neighbors(source) if n not in visited_nodes]\n",
    "    breadth_nodes += level_queue\n",
    "    while level_queue:\n",
    "        new_source = level_queue[0]\n",
    "        #Get that into visited nodes\n",
    "        visited_nodes.append(new_source)\n",
    "        new_level_queue = [n for n in G.neighbors(new_source) if n not in visited_nodes and n not in breadth_nodes]\n",
    "        breadth_nodes += new_level_queue\n",
    "        level_queue += new_level_queue\n",
    "        del level_queue[0]\n",
    "    return breadth_nodes\n",
    "\n",
    "print( bfs(G, G.nodes()[0]) )\n"
   ]
  },
  {
   "cell_type": "markdown",
   "metadata": {},
   "source": [
    "But there's a simpler way to do this, since it's a built in method of networkx"
   ]
  }
 ],
 "metadata": {
  "kernelspec": {
   "display_name": "Python [Root]",
   "language": "python",
   "name": "Python [Root]"
  },
  "language_info": {
   "codemirror_mode": {
    "name": "ipython",
    "version": 3
   },
   "file_extension": ".py",
   "mimetype": "text/x-python",
   "name": "python",
   "nbconvert_exporter": "python",
   "pygments_lexer": "ipython3",
   "version": "3.5.1"
  }
 },
 "nbformat": 4,
 "nbformat_minor": 0
}
