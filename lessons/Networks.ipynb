{
 "cells": [
  {
   "cell_type": "markdown",
   "metadata": {
    "slideshow": {
     "slide_type": "slide"
    }
   },
   "source": [
    "# Networks\n",
    "\n",
    "A network graph is a mathematical model that is composed of vertices and edges, $G = (V, E)$\n",
    "\n",
    "<img src='../images/basic_network.png'>"
   ]
  },
  {
   "cell_type": "markdown",
   "metadata": {
    "slideshow": {
     "slide_type": "subslide"
    }
   },
   "source": [
    "This mathematical model facilitates the analysis of topology and interactions between entites. The first usage of a network was by Euler in the 1700s to solve a long-standing riddle concerning the [traversal of bridges in Konigsberg](https://en.wikipedia.org/wiki/Seven_Bridges_of_Königsberg). His insight may seem extremely simple, it involved the reduction of a physical reality to a mathematical object\n",
    "\n",
    "<img src='../images/konigsberg_bridge.png'>\n",
    "\n",
    "but it allowed for a mathematical proof to the riddle that was not easily achieved with other approaches."
   ]
  },
  {
   "cell_type": "markdown",
   "metadata": {
    "slideshow": {
     "slide_type": "slide"
    }
   },
   "source": [
    "# Analyzing networks with Python\n",
    "\n",
    "There are primarily two packages you can use when you want to undertake network analysis. The first package is **NetworkX**, which has been under development for almost a decade now. The second is **graph-tool**, which is younger. graph-tool is significantly faster than NetworkX because most of the package is implemented in C++. However, this makes installation of the package more difficult.\n",
    "\n",
    "For our purposes, we will use NetworkX in the class and it will be entirely sufficient. If, in your own research, you find that NetworkX is not sufficiently fast for your network (i.e. you are working with hundreds of thousands or more nodes) then I suggest that you invest the time to install graph-tool and rework your code (concepts/analysis of a network are largely universal, so the rewrite should not pose a significant time investment)."
   ]
  },
  {
   "cell_type": "code",
   "execution_count": 1,
   "metadata": {
    "slideshow": {
     "slide_type": "fragment"
    }
   },
   "outputs": [],
   "source": [
    "import warnings\n",
    "\n",
    "with warnings.catch_warnings():\n",
    "    warnings.filterwarnings(\"ignore\")\n",
    "    import networkx as nx\n",
    "    import matplotlib.pyplot as plt"
   ]
  },
  {
   "cell_type": "code",
   "execution_count": 2,
   "metadata": {
    "slideshow": {
     "slide_type": "fragment"
    }
   },
   "outputs": [
    {
     "data": {
      "text/plain": [
       "networkx.classes.graph.Graph"
      ]
     },
     "execution_count": 2,
     "metadata": {},
     "output_type": "execute_result"
    }
   ],
   "source": [
    "import networkx as nx\n",
    "\n",
    "G = nx.Graph()\n",
    "type(G)"
   ]
  },
  {
   "cell_type": "markdown",
   "metadata": {
    "slideshow": {
     "slide_type": "slide"
    }
   },
   "source": [
    "We can then start with a very simple network that has four nodes - Alice, Bob, Carol, and David"
   ]
  },
  {
   "cell_type": "code",
   "execution_count": 3,
   "metadata": {
    "slideshow": {
     "slide_type": "fragment"
    }
   },
   "outputs": [
    {
     "data": {
      "text/plain": [
       "NodeView(('Alice', 'Bob', 'Carol', 'David'))"
      ]
     },
     "execution_count": 3,
     "metadata": {},
     "output_type": "execute_result"
    }
   ],
   "source": [
    "individuals = ['Alice', 'Bob', 'Carol', 'David']\n",
    "#Add the individuals\n",
    "G.add_nodes_from(individuals)\n",
    "G.nodes()"
   ]
  },
  {
   "cell_type": "markdown",
   "metadata": {
    "slideshow": {
     "slide_type": "slide"
    }
   },
   "source": [
    "and at any time we could look at this network using matplotlib"
   ]
  },
  {
   "cell_type": "code",
   "execution_count": 4,
   "metadata": {
    "slideshow": {
     "slide_type": "fragment"
    }
   },
   "outputs": [
    {
     "data": {
      "image/png": "[encoded data removed]",
      "text/plain": [
       "<Figure size 432x288 with 1 Axes>"
      ]
     },
     "metadata": {},
     "output_type": "display_data"
    }
   ],
   "source": [
    "%matplotlib inline\n",
    "nx.draw(G)"
   ]
  },
  {
   "cell_type": "markdown",
   "metadata": {
    "slideshow": {
     "slide_type": "slide"
    }
   },
   "source": [
    "as you can see our graph is relatively boring since we haven't added any edges. Adding edges is pretty much the same as adding nodes."
   ]
  },
  {
   "cell_type": "code",
   "execution_count": 5,
   "metadata": {
    "slideshow": {
     "slide_type": "fragment"
    }
   },
   "outputs": [
    {
     "data": {
      "text/plain": [
       "EdgeView([('Alice', 'Bob'), ('Alice', 'Carol'), ('Alice', 'David'), ('Bob', 'David'), ('Carol', 'David')])"
      ]
     },
     "execution_count": 5,
     "metadata": {},
     "output_type": "execute_result"
    }
   ],
   "source": [
    "friendships = [['Alice', 'Bob'], ['Alice', 'Carol'], ['Alice', 'David'],\n",
    "               ['Bob', 'David'], ['David', 'Carol']]\n",
    "G.add_edges_from(friendships)\n",
    "G.edges()"
   ]
  },
  {
   "cell_type": "code",
   "execution_count": 6,
   "metadata": {
    "slideshow": {
     "slide_type": "fragment"
    }
   },
   "outputs": [
    {
     "name": "stderr",
     "output_type": "stream",
     "text": [
      "/Users/adampah/.pyenv/versions/anaconda3-5.1.0/lib/python3.6/site-packages/networkx/drawing/nx_pylab.py:563: MatplotlibDeprecationWarning: \n",
      "The iterable function was deprecated in Matplotlib 3.1 and will be removed in 3.3. Use np.iterable instead.\n",
      "  if not cb.iterable(width):\n",
      "/Users/adampah/.pyenv/versions/anaconda3-5.1.0/lib/python3.6/site-packages/networkx/drawing/nx_pylab.py:611: MatplotlibDeprecationWarning: \n",
      "The is_numlike function was deprecated in Matplotlib 3.0 and will be removed in 3.2. Use isinstance(..., numbers.Number) instead.\n",
      "  if cb.is_numlike(alpha):\n"
     ]
    },
    {
     "data": {
      "image/png": "[encoded data removed]",
      "text/plain": [
       "<Figure size 432x288 with 1 Axes>"
      ]
     },
     "metadata": {},
     "output_type": "display_data"
    }
   ],
   "source": [
    "nx.draw(G)"
   ]
  },
  {
   "cell_type": "markdown",
   "metadata": {
    "slideshow": {
     "slide_type": "slide"
    }
   },
   "source": [
    "and to confirm we can plot the node labels. To do so, we will need to use the function `graph_networkx_edge_labels()`. Read through the documentation to figure out how to do this as an exercise."
   ]
  },
  {
   "cell_type": "code",
   "execution_count": 7,
   "metadata": {
    "slideshow": {
     "slide_type": "fragment"
    }
   },
   "outputs": [],
   "source": [
    "#Exercise \n"
   ]
  },
  {
   "cell_type": "markdown",
   "metadata": {
    "slideshow": {
     "slide_type": "slide"
    }
   },
   "source": [
    "Of course we can modify a network in place, adding or removing nodes"
   ]
  },
  {
   "cell_type": "code",
   "execution_count": 8,
   "metadata": {
    "slideshow": {
     "slide_type": "fragment"
    }
   },
   "outputs": [
    {
     "data": {
      "text/plain": [
       "NodeView(('Alice', 'Bob', 'Carol'))"
      ]
     },
     "execution_count": 8,
     "metadata": {},
     "output_type": "execute_result"
    }
   ],
   "source": [
    "G.remove_node('David')\n",
    "G.nodes()"
   ]
  },
  {
   "cell_type": "markdown",
   "metadata": {
    "slideshow": {
     "slide_type": "fragment"
    }
   },
   "source": [
    "Or add them one by one (of course we will not regain whatever edges were originially in the graph)"
   ]
  },
  {
   "cell_type": "code",
   "execution_count": 9,
   "metadata": {
    "slideshow": {
     "slide_type": "fragment"
    }
   },
   "outputs": [
    {
     "data": {
      "text/plain": [
       "NodeView(('Alice', 'Bob', 'Carol', 'David'))"
      ]
     },
     "execution_count": 9,
     "metadata": {},
     "output_type": "execute_result"
    }
   ],
   "source": [
    "G.add_node('David')\n",
    "G.nodes()"
   ]
  },
  {
   "cell_type": "markdown",
   "metadata": {
    "slideshow": {
     "slide_type": "slide"
    }
   },
   "source": [
    "And of course we can do all the same operations with edges"
   ]
  },
  {
   "cell_type": "code",
   "execution_count": 10,
   "metadata": {
    "slideshow": {
     "slide_type": "fragment"
    }
   },
   "outputs": [
    {
     "data": {
      "text/plain": [
       "EdgeView([('Alice', 'Carol')])"
      ]
     },
     "execution_count": 10,
     "metadata": {},
     "output_type": "execute_result"
    }
   ],
   "source": [
    "G.remove_edge('Alice', 'Bob')\n",
    "G.edges()"
   ]
  },
  {
   "cell_type": "code",
   "execution_count": 11,
   "metadata": {
    "slideshow": {
     "slide_type": "fragment"
    }
   },
   "outputs": [
    {
     "data": {
      "text/plain": [
       "EdgeView([('Alice', 'Carol'), ('Alice', 'Bob')])"
      ]
     },
     "execution_count": 11,
     "metadata": {},
     "output_type": "execute_result"
    }
   ],
   "source": [
    "G.add_edge('Alice', 'Bob')\n",
    "G.edges()"
   ]
  },
  {
   "cell_type": "markdown",
   "metadata": {
    "slideshow": {
     "slide_type": "slide"
    }
   },
   "source": [
    "The real advantage over keeping track of this information ourselves with a dictionary or list is the built in functions to tell us about graph properties. For example, we can quickly get the number of nodes or edges in the graph."
   ]
  },
  {
   "cell_type": "code",
   "execution_count": 12,
   "metadata": {
    "slideshow": {
     "slide_type": "fragment"
    }
   },
   "outputs": [
    {
     "name": "stdout",
     "output_type": "stream",
     "text": [
      "There are 4 nodes\n"
     ]
    }
   ],
   "source": [
    "print('There are {0} nodes'.format(G.number_of_nodes()))"
   ]
  },
  {
   "cell_type": "code",
   "execution_count": 13,
   "metadata": {
    "slideshow": {
     "slide_type": "fragment"
    }
   },
   "outputs": [
    {
     "name": "stdout",
     "output_type": "stream",
     "text": [
      "There are 2 edges\n"
     ]
    }
   ],
   "source": [
    "print('There are {0} edges'.format(G.number_of_edges()))"
   ]
  },
  {
   "cell_type": "markdown",
   "metadata": {
    "slideshow": {
     "slide_type": "slide"
    }
   },
   "source": [
    "## Setting and accessing Graph Attributes\n",
    "\n",
    "We can add attributes to each of the nodes if there are features that we want to keep track of. For example, we might want to keep track of the gender."
   ]
  },
  {
   "cell_type": "code",
   "execution_count": 14,
   "metadata": {
    "slideshow": {
     "slide_type": "fragment"
    }
   },
   "outputs": [
    {
     "name": "stdout",
     "output_type": "stream",
     "text": [
      "Adding a gender attribute to Bob\n",
      "[('Alice', {}), ('Bob', {'gender': 'Male'}), ('Carol', {}), ('David', {})]\n",
      "\n",
      "Adding genders to all of the nodes\n",
      "[('Alice', {'gender': 'Female'}), ('Bob', {'gender': 'Male'}), ('Carol', {'gender': 'Female'}), ('David', {'gender': 'Male'})]\n",
      "\n",
      "Looking at the attributes for a single node, here we access Alice's attributes\n",
      "{'gender': 'Female'}\n"
     ]
    }
   ],
   "source": [
    "G.node['Bob']['gender'] = 'Male'\n",
    "#If we give the option data=True when we print nodes we can see the additional attributes\n",
    "print( \"Adding a gender attribute to Bob\" )\n",
    "print( G.nodes(data=True) )\n",
    "print()\n",
    "#We see that the attributes are stored as a dictionary for each node\n",
    "\n",
    "#Now let's add all of the other attributes\n",
    "genders = [['Alice', 'Female'], ['Carol', 'Female'], ['David', 'Male']]\n",
    "for name, gender in genders:\n",
    "    G.node[name]['gender'] = gender\n",
    "print(\"Adding genders to all of the nodes\")\n",
    "print(G.nodes(data=True) )\n",
    "print()\n",
    "\n",
    "#Accessing nodes individually\n",
    "print(\"Looking at the attributes for a single node, here we access Alice's attributes\")\n",
    "print(G.node['Alice'])"
   ]
  },
  {
   "cell_type": "markdown",
   "metadata": {
    "slideshow": {
     "slide_type": "slide"
    }
   },
   "source": [
    "We can also add attributes to an edge, such as what type of edge it is. \n",
    " "
   ]
  },
  {
   "cell_type": "code",
   "execution_count": 15,
   "metadata": {
    "slideshow": {
     "slide_type": "fragment"
    }
   },
   "outputs": [
    {
     "name": "stdout",
     "output_type": "stream",
     "text": [
      "Explicitly saying that the edge represents friendship\n",
      "[('Alice', 'Carol', {}), ('Alice', 'Bob', {'edge_type': 'friendship'})]\n",
      "\n",
      "Setting the edge type for all of the edges in the network\n",
      "[('Alice', 'Carol', {'edge_type': 'friendship'}), ('Alice', 'Bob', {'edge_type': 'friendship'}), ('Alice', 'David', {'edge_type': 'friendship'}), ('Bob', 'Carol', {'edge_type': 'friendship'})]\n",
      "\n",
      "Looking at an individual edge's attributes is effectively the same as setting an attribute\n",
      "{'edge_type': 'friendship'}\n"
     ]
    }
   ],
   "source": [
    "#We set edge attributes by directly referencing the nodes\n",
    "G['Bob']['Alice']['edge_type'] = 'friendship'\n",
    "print(\"Explicitly saying that the edge represents friendship\")\n",
    "print(G.edges(data=True))\n",
    "print()\n",
    "\n",
    "#We can now set all of these attributes\n",
    "G.add_edges_from([['Bob', 'Carol'], ['David', 'Alice'], ['Alice', 'Carol']])\n",
    "edge_type_attributes = [['Bob', 'Carol'], ['David', 'Alice'], ['Alice', 'Carol']]\n",
    "for node_i, node_j in edge_type_attributes:\n",
    "    G[node_i][node_j]['edge_type'] = 'friendship'\n",
    "print(\"Setting the edge type for all of the edges in the network\")\n",
    "print(G.edges(data=True))\n",
    "print()\n",
    "\n",
    "#Looking at an individual edge\n",
    "print(\"Looking at an individual edge's attributes is effectively the same as setting an attribute\")\n",
    "print(G['Bob']['Alice'])"
   ]
  },
  {
   "cell_type": "markdown",
   "metadata": {
    "slideshow": {
     "slide_type": "slide"
    }
   },
   "source": [
    "## Different types of networks\n",
    "\n",
    "So far what we have constructed is an **undirected unweighted** network. Let's go over what each of these two terms mean individually."
   ]
  },
  {
   "cell_type": "markdown",
   "metadata": {
    "slideshow": {
     "slide_type": "subslide"
    }
   },
   "source": [
    "### Undirected vs. Directed\n",
    "\n",
    "An **undirected** network means that an edge has no direction, in our network an edge means that an edge goes for both of the nodes.\n",
    "\n",
    "If we wanted to examine a network where we looked at who initiated a conversation with whom during a day, we would want a **directed** network.\n",
    "\n",
    "<img src=\"http://www.mathaware.org/mam/04/images/5_directed_network.gif\" width=\"200px\"></img>\n",
    "\n",
    "In a directed network an edge is displayed with an arrow and it shows the direction of the edge and it is not symmetric, **unlike** an undirected network. This means that if:\n",
    "* Bob starts a conversation with Alice, then we would draw an edge from Bob to Alice with the arrow pointed to Alice\n",
    "* Later that day Alice started a conversation with Bob, we would draw another edge from Alice to Bob, with the arrow pointed at Bob"
   ]
  },
  {
   "cell_type": "markdown",
   "metadata": {
    "slideshow": {
     "slide_type": "subslide"
    }
   },
   "source": [
    "### Unweighted vs. Weighted\n",
    "\n",
    "An **unweighted** network has edges that are effectively binary, either there exists an edge between two nodes or there does not exist an edge. All edges that exist are counted the same.  This type of network makes sense for friendship, since two people are either friends or they are not. \n",
    "\n",
    "If we think about our conversation network though, we would want to know the **number** of times that two individuals interact --- especially because it is likely that all of the individuals would talk to each other during the course of a day. This means that the presence or absence of an edge doesn't matter because it is a **fully connected** network. We would add the **number** of conversations, more typically known as the **weight** of an edge, to represent the strength of the connection between two nodes. In a graph we typically show weights by making the width of an edge larger.\n",
    "<img src=\"https://humannaturegroup.files.wordpress.com/2009/12/map.png\" width=\"400px\"></img>"
   ]
  },
  {
   "cell_type": "markdown",
   "metadata": {
    "slideshow": {
     "slide_type": "slide"
    }
   },
   "source": [
    "## Making a weighted network\n",
    "\n",
    "We can easily make a conversation network between our individuals"
   ]
  },
  {
   "cell_type": "code",
   "execution_count": 17,
   "metadata": {
    "slideshow": {
     "slide_type": "fragment"
    }
   },
   "outputs": [
    {
     "name": "stdout",
     "output_type": "stream",
     "text": [
      "[('Alice', 'Bob', {'weight': 19}), ('Alice', 'Carol', {'weight': 20}), ('Alice', 'David', {'weight': 14}), ('Bob', 'Carol', {'weight': 19}), ('Bob', 'David', {'weight': 16}), ('Carol', 'David', {'weight': 12})]\n"
     ]
    }
   ],
   "source": [
    "import itertools, random\n",
    "\n",
    "#We will add all combinations of nodes using itertools.combinations\n",
    "#To add an attribute when we add an edge, we put it in as a dictionary\n",
    "H = nx.Graph()\n",
    "for name_i, name_j in itertools.combinations(individuals, 2):\n",
    "    H.add_edge(name_i, name_j, weight=random.randint(1,20))\n",
    "    \n",
    "print(H.edges(data=True))"
   ]
  },
  {
   "cell_type": "markdown",
   "metadata": {
    "slideshow": {
     "slide_type": "slide"
    }
   },
   "source": [
    "# Looking at network attributes\n",
    "\n",
    "Frequently we will be interested in the **degree** of a node, the degree is the number of neighbors that a node has."
   ]
  },
  {
   "cell_type": "code",
   "execution_count": 18,
   "metadata": {
    "slideshow": {
     "slide_type": "fragment"
    }
   },
   "outputs": [
    {
     "name": "stdout",
     "output_type": "stream",
     "text": [
      "The number of neighbors for Bob\n",
      "3\n",
      "\n",
      "Degree for Bob in the friendship network: 2\n",
      "Degree for Bob in the conversation network: 3\n"
     ]
    }
   ],
   "source": [
    "#We can look at the degree of a node easily\n",
    "print(\"The number of neighbors for Bob\")\n",
    "print(H.degree('Bob'))\n",
    "print()\n",
    "\n",
    "#Can demonstrate the difference between friends and conversations too\n",
    "print(\"Degree for Bob in the friendship network: %d\" % G.degree('Bob'))\n",
    "print(\"Degree for Bob in the conversation network: %d\" % H.degree('Bob'))"
   ]
  },
  {
   "cell_type": "markdown",
   "metadata": {
    "slideshow": {
     "slide_type": "slide"
    }
   },
   "source": [
    "# Now let's use a bigger/real network \n",
    "\n",
    "We will use the data for trips between Divvy stations. You can find it in the `data/` folder as `divvy_network.json`.\n",
    "\n",
    "Read through the documentation to learn how to load it as a network."
   ]
  },
  {
   "cell_type": "code",
   "execution_count": 23,
   "metadata": {
    "slideshow": {
     "slide_type": "fragment"
    }
   },
   "outputs": [],
   "source": [
    "#Exercise\n"
   ]
  },
  {
   "cell_type": "code",
   "execution_count": 21,
   "metadata": {
    "slideshow": {
     "slide_type": "fragment"
    }
   },
   "outputs": [
    {
     "name": "stderr",
     "output_type": "stream",
     "text": [
      "/Users/adampah/.pyenv/versions/anaconda3-5.1.0/lib/python3.6/site-packages/networkx/drawing/nx_pylab.py:563: MatplotlibDeprecationWarning: \n",
      "The iterable function was deprecated in Matplotlib 3.1 and will be removed in 3.3. Use np.iterable instead.\n",
      "  if not cb.iterable(width):\n",
      "/Users/adampah/.pyenv/versions/anaconda3-5.1.0/lib/python3.6/site-packages/networkx/drawing/nx_pylab.py:611: MatplotlibDeprecationWarning: \n",
      "The is_numlike function was deprecated in Matplotlib 3.0 and will be removed in 3.2. Use isinstance(..., numbers.Number) instead.\n",
      "  if cb.is_numlike(alpha):\n"
     ]
    },
    {
     "data": {
      "image/png": "[encoded data removed]",
      "text/plain": [
       "<Figure size 432x288 with 1 Axes>"
      ]
     },
     "metadata": {},
     "output_type": "display_data"
    }
   ],
   "source": [
    "#We can try to understand this network now\n",
    "nx.draw_circular(G)"
   ]
  },
  {
   "cell_type": "markdown",
   "metadata": {
    "slideshow": {
     "slide_type": "slide"
    }
   },
   "source": [
    "Pretty!\n",
    "\n",
    "Understanding non-trivial networks is difficult by plotting the network because of the large number of nodes and edges that would overlap. For this reason we typically look at distributions of network statistics, such as the distribution of degrees."
   ]
  },
  {
   "cell_type": "code",
   "execution_count": 22,
   "metadata": {
    "slideshow": {
     "slide_type": "fragment"
    }
   },
   "outputs": [
    {
     "name": "stdout",
     "output_type": "stream",
     "text": [
      "0 263\n"
     ]
    },
    {
     "name": "stderr",
     "output_type": "stream",
     "text": [
      "/Users/adampah/.pyenv/versions/anaconda3-5.1.0/lib/python3.6/site-packages/ipykernel_launcher.py:9: MatplotlibDeprecationWarning: \n",
      "The 'normed' kwarg was deprecated in Matplotlib 2.1 and will be removed in 3.1. Use 'density' instead.\n",
      "  if __name__ == '__main__':\n",
      "/Users/adampah/.pyenv/versions/anaconda3-5.1.0/lib/python3.6/site-packages/ipykernel_launcher.py:14: MatplotlibDeprecationWarning: \n",
      "The 'normed' kwarg was deprecated in Matplotlib 2.1 and will be removed in 3.1. Use 'density' instead.\n",
      "  \n"
     ]
    },
    {
     "data": {
      "image/png": "[encoded data removed]",
      "text/plain": [
       "<Figure size 432x216 with 2 Axes>"
      ]
     },
     "metadata": {},
     "output_type": "display_data"
    }
   ],
   "source": [
    "#Plotting the distribution of degrees\n",
    "degrees = [G.degree(n) for n in G.nodes()]\n",
    "degrees.sort()\n",
    "print( min(degrees), max(degrees) )\n",
    "\n",
    "fig = plt.figure(figsize=(6,3))\n",
    "\n",
    "ax = plt.subplot(121)\n",
    "ax.hist(degrees, bins=20, normed=True)\n",
    "ax.set_xlabel('Degree')\n",
    "ax.set_ylabel('pdf')\n",
    "\n",
    "ax = plt.subplot(122)\n",
    "ax.hist(degrees, bins=50, normed=True, cumulative=True, histtype='step')\n",
    "ax.set_xlim(0, max(degrees))\n",
    "ax.set_ylim(0, 1.0)\n",
    "ax.set_xlabel('Degree')\n",
    "ax.set_ylabel('cdf')\n",
    "ax.plot([0, max(degrees)], [0, 1.0], ':', color='black', linewidth=0.5)\n",
    "\n",
    "plt.tight_layout()"
   ]
  },
  {
   "cell_type": "markdown",
   "metadata": {
    "slideshow": {
     "slide_type": "slide"
    }
   },
   "source": [
    "So what we can see is that there is a slight peak near the larger side of the distribution, this means that there are a number of Divvy stations that see a large number of trips. "
   ]
  },
  {
   "cell_type": "markdown",
   "metadata": {
    "slideshow": {
     "slide_type": "slide"
    }
   },
   "source": [
    "Since the Divvy Trip network is a transportation network (it shows movement from one station to another) we can look at betweenness centrality. Betweenness centrality for a node `i` is the sum of the fraction of shortest paths that pass through `i`."
   ]
  },
  {
   "cell_type": "code",
   "execution_count": 93,
   "metadata": {
    "slideshow": {
     "slide_type": "fragment"
    }
   },
   "outputs": [
    {
     "data": {
      "image/png": "[encoded data removed]",
      "text/plain": [
       "<matplotlib.figure.Figure at 0x11cd31860>"
      ]
     },
     "metadata": {},
     "output_type": "display_data"
    }
   ],
   "source": [
    "betweenness_dict = nx.betweenness_centrality(G)\n",
    "plot_distributions(list(betweenness_dict.values()), 'Betweenness')"
   ]
  },
  {
   "cell_type": "markdown",
   "metadata": {
    "slideshow": {
     "slide_type": "slide"
    }
   },
   "source": [
    "Now we should look and see if this network is assortative. That means, what is my degree versus my neighbor's degree? Am I typically connected to neighbors that have the same degree as me or not?"
   ]
  },
  {
   "cell_type": "code",
   "execution_count": 94,
   "metadata": {
    "collapsed": true,
    "slideshow": {
     "slide_type": "fragment"
    }
   },
   "outputs": [],
   "source": [
    "avg_neigh_degrees = nx.average_neighbor_degree(G)"
   ]
  },
  {
   "cell_type": "code",
   "execution_count": 100,
   "metadata": {
    "slideshow": {
     "slide_type": "fragment"
    }
   },
   "outputs": [
    {
     "data": {
      "text/plain": [
       "<matplotlib.text.Text at 0x11b4045f8>"
      ]
     },
     "execution_count": 100,
     "metadata": {},
     "output_type": "execute_result"
    },
    {
     "data": {
      "image/png": "[encoded data removed]",
      "text/plain": [
       "<matplotlib.figure.Figure at 0x1196425c0>"
      ]
     },
     "metadata": {},
     "output_type": "display_data"
    }
   ],
   "source": [
    "xdata, ydata = [], []\n",
    "for n, avg_neigh_degree in avg_neigh_degrees.items():\n",
    "    xdata.append(G.degree(n))\n",
    "    ydata.append(avg_neigh_degree)\n",
    "\n",
    "fig = plt.figure(figsize=(6,6))\n",
    "ax = fig.add_subplot(111)\n",
    "ax.plot(xdata, ydata, 'o')\n",
    "ax.set_xlabel('Degree')\n",
    "ax.set_ylabel('Average Neighbor Degree')"
   ]
  },
  {
   "cell_type": "markdown",
   "metadata": {
    "slideshow": {
     "slide_type": "fragment"
    }
   },
   "source": [
    "Here we see that the network is assortative, nodes with a high-degree have neighbors that also have a high degree. This makes sense since this network exists in a real geography (Divvy Bike Stations exist at certain locations, users aren't likely to skip lots of stations where they could potentially dock them and then not be charged for additional time)."
   ]
  },
  {
   "cell_type": "markdown",
   "metadata": {
    "slideshow": {
     "slide_type": "slide"
    }
   },
   "source": [
    "We can and should check this though. Implement a function to calculate the distance between two stations with the [Haversine distance](https://en.wikipedia.org/wiki/Haversine_formula)"
   ]
  },
  {
   "cell_type": "code",
   "execution_count": null,
   "metadata": {
    "collapsed": true,
    "slideshow": {
     "slide_type": "fragment"
    }
   },
   "outputs": [],
   "source": [
    "#Exercise\n"
   ]
  },
  {
   "cell_type": "code",
   "execution_count": 104,
   "metadata": {
    "slideshow": {
     "slide_type": "fragment"
    }
   },
   "outputs": [
    {
     "data": {
      "text/plain": [
       "<matplotlib.text.Text at 0x11d168940>"
      ]
     },
     "execution_count": 104,
     "metadata": {},
     "output_type": "execute_result"
    },
    {
     "data": {
      "image/png": "[encoded data removed]",
      "text/plain": [
       "<matplotlib.figure.Figure at 0x11b4886d8>"
      ]
     },
     "metadata": {},
     "output_type": "display_data"
    }
   ],
   "source": [
    "#Now let's calculate the neighbor distances\n",
    "import numpy as np\n",
    "\n",
    "avg_neighbor_distances = []\n",
    "for inode in G.nodes_iter():\n",
    "    inode_distances = []\n",
    "    for jnode in G.neighbors(inode):\n",
    "        pt1 = (G.node[inode]['latitude'], G.node[inode]['longitude'])\n",
    "        pt2 = (G.node[jnode]['latitude'], G.node[jnode]['longitude'])\n",
    "        if pt1 != pt2:\n",
    "            inode_distances.append(calculate_distance(pt1, pt2))\n",
    "        else:\n",
    "            inode_distances.append(0)\n",
    "    avg_neighbor_distances.append(np.mean(inode_distances))\n",
    "    \n",
    "plt.hist(avg_neighbor_distances, normed=True)\n",
    "plt.xlabel('Distance (km)')"
   ]
  },
  {
   "cell_type": "markdown",
   "metadata": {
    "slideshow": {
     "slide_type": "slide"
    }
   },
   "source": [
    "Interesting, this appears to be a pretty small distance. But to make sure we should calculate and plot the differences between distance between neighbors and distance between non-neighbors"
   ]
  },
  {
   "cell_type": "code",
   "execution_count": null,
   "metadata": {
    "collapsed": true,
    "slideshow": {
     "slide_type": "fragment"
    }
   },
   "outputs": [],
   "source": [
    "#Exercise\n"
   ]
  },
  {
   "cell_type": "code",
   "execution_count": 107,
   "metadata": {
    "slideshow": {
     "slide_type": "fragment"
    }
   },
   "outputs": [
    {
     "data": {
      "image/png": "[encoded data removed]",
      "text/plain": [
       "<matplotlib.figure.Figure at 0x118e694a8>"
      ]
     },
     "metadata": {},
     "output_type": "display_data"
    }
   ],
   "source": [
    "ax = plt.subplot(111)\n",
    "ax.boxplot([avg_neighbor_distances, avg_non_neighbor_distances])\n",
    "plt.setp(ax, xticklabels=['Neighbor', 'Non-Neighbor'])\n",
    "ax.set_xlim(0.5,2.5)\n",
    "ax.set_ylabel('Distance')\n",
    "plt.tight_layout()"
   ]
  },
  {
   "cell_type": "markdown",
   "metadata": {
    "slideshow": {
     "slide_type": "slide"
    }
   },
   "source": [
    "Now let's test whether these two distributions from the same distribution or not, using the Kolmogorov-Smirnov test.\n",
    "\n",
    "**Are these two distributions the same or not?**"
   ]
  },
  {
   "cell_type": "code",
   "execution_count": 109,
   "metadata": {
    "slideshow": {
     "slide_type": "fragment"
    }
   },
   "outputs": [
    {
     "name": "stdout",
     "output_type": "stream",
     "text": [
      "2.03803289175e-113\n"
     ]
    }
   ],
   "source": [
    "from scipy.stats import ks_2samp\n",
    "\n",
    "D, p = ks_2samp(avg_neighbor_distances, avg_non_neighbor_distances)\n",
    "print( p )"
   ]
  },
  {
   "cell_type": "markdown",
   "metadata": {
    "slideshow": {
     "slide_type": "slide"
    }
   },
   "source": [
    "# Statistical tests and edge randomizations\n",
    "\n",
    "This was a pretty simple problem, but we're not always interested that in a quantity that can be tested by non-neighbor nodes. In those situations we will typically create an ensemble of randomized networks and in each randomized network calculating our quantity of interest. We then see if our known quantity is the a part of the same distribution from the randomized set. Let's test that way now.\n",
    "\n",
    "Since there is a small number of edges in the network, let's do randomize 5 times the number of edges in the network and make 100 versions of these networks."
   ]
  },
  {
   "cell_type": "code",
   "execution_count": 18,
   "metadata": {
    "collapsed": true,
    "slideshow": {
     "slide_type": "fragment"
    }
   },
   "outputs": [],
   "source": [
    "def calc_neigh_distances(G): \n",
    "    avg_neighbor_distances = []\n",
    "    for inode in G.nodes_iter():\n",
    "        inode_distances = []\n",
    "        for jnode in G.neighbors(inode):\n",
    "            pt1 = (G.node[inode]['latitude'], G.node[inode]['longitude'])\n",
    "            pt2 = (G.node[jnode]['latitude'], G.node[jnode]['longitude'])\n",
    "            if pt1 != pt2:\n",
    "                inode_distances.append(calculate_distance(pt1, pt2))\n",
    "            else:\n",
    "                inode_distances.append(0)\n",
    "        avg_neighbor_distances.append(np.mean(inode_distances))\n",
    "    return avg_neighbor_distances"
   ]
  },
  {
   "cell_type": "markdown",
   "metadata": {
    "slideshow": {
     "slide_type": "slide"
    }
   },
   "source": [
    "Now write the randomization code on your own. **Hint:** check the documentation to see if there is a way to randomize the graph edges."
   ]
  },
  {
   "cell_type": "code",
   "execution_count": null,
   "metadata": {
    "collapsed": true,
    "slideshow": {
     "slide_type": "fragment"
    }
   },
   "outputs": [],
   "source": [
    "#Exercise\n"
   ]
  },
  {
   "cell_type": "code",
   "execution_count": 112,
   "metadata": {
    "slideshow": {
     "slide_type": "fragment"
    }
   },
   "outputs": [
    {
     "name": "stdout",
     "output_type": "stream",
     "text": [
      "The z-score for this randomization is: -106.280197\n",
      "So...yes...pretty significant\n"
     ]
    },
    {
     "data": {
      "image/png": "[encoded data removed]",
      "text/plain": [
       "<matplotlib.figure.Figure at 0x11b936390>"
      ]
     },
     "metadata": {},
     "output_type": "display_data"
    }
   ],
   "source": [
    "plt.hist(randomized_avg_neigh_distances, normed=True)\n",
    "plt.hist([np.average(avg_neighbor_distances)], normed=True, color='red')\n",
    "\n",
    "#Calculate the significance:\n",
    "z_score = (np.average(avg_neighbor_distances) - np.average(randomized_avg_neigh_distances))/np.std(randomized_avg_neigh_distances)\n",
    "print( \"The z-score for this randomization is: %f\" % z_score )\n",
    "print( \"So...yes...pretty significant\" )"
   ]
  },
  {
   "cell_type": "markdown",
   "metadata": {
    "slideshow": {
     "slide_type": "slide"
    }
   },
   "source": [
    "# Network Path Traversal\n",
    "\n",
    "Another important part is traversing a network. What are two easy ways that this could be done?\n",
    "\n",
    "**answer is....**\n",
    "\n",
    "Breadth-first or depth-first\n",
    "\n",
    "Perfect!\n",
    "\n",
    "Now let's implement breadth first of these algorithms\n",
    "\n",
    "so if we have a tree like:\n",
    "\n",
    "`\n",
    " -> My tree starting from Z\n",
    "     Z\n",
    "  |     |\n",
    "  B     C\n",
    "|  |  |  |\n",
    "D  E  F  G\n",
    "`\n",
    "\n",
    "The answer should be:\n",
    "[B, C, D, E, F, G]"
   ]
  },
  {
   "cell_type": "code",
   "execution_count": null,
   "metadata": {
    "collapsed": true,
    "slideshow": {
     "slide_type": "fragment"
    }
   },
   "outputs": [],
   "source": [
    "#Exercise\n"
   ]
  },
  {
   "cell_type": "markdown",
   "metadata": {
    "slideshow": {
     "slide_type": "fragment"
    }
   },
   "source": [
    "But there's a simpler way to do this, since it's a built in method of networkx"
   ]
  }
 ],
 "metadata": {
  "anaconda-cloud": {},
  "celltoolbar": "Slideshow",
  "kernelspec": {
   "display_name": "Python 3",
   "language": "python",
   "name": "python3"
  },
  "language_info": {
   "codemirror_mode": {
    "name": "ipython",
    "version": 3
   },
   "file_extension": ".py",
   "mimetype": "text/x-python",
   "name": "python",
   "nbconvert_exporter": "python",
   "pygments_lexer": "ipython3",
   "version": "3.6.8"
  }
 },
 "nbformat": 4,
 "nbformat_minor": 1
}
