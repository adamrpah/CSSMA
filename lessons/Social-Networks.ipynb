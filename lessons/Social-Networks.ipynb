{
 "cells": [
  {
   "cell_type": "markdown",
   "metadata": {
    "collapsed": true
   },
   "source": [
    "# Social Networks\n",
    "\n",
    "Social networks are likely the instantiation of a network that you are all familiar with. A decade ago, this concept was not nearly as prevalent and was entrancing and intoxicating when you would come across it (ask anyone who watched the first season of The Wire in 2002). With the advent of Facebook, Twitter, and LinkedIn (where the network is explicit, easily accessed, roughly shown to you) social networks appear *obvious*. However, there is much to be done to understand these networks so that we can understand them at a deeper level. \n",
    "\n",
    "Importantly, Social Networks differ from other networks, such as transportation networks, in that they exhibit two properties:\n",
    "\n",
    "(i) nodes are very *close* to each other\n",
    "(ii) the entire network is very *small* (it is generally quick to navigate from one side to the other)\n",
    "\n",
    "As a demonstration of this, let's examine `soc-hamsterster.edges` which is a  social network from the hamsterster website (a virtual habitat for hamsters and gerbils! i.e. the owners who impersonate them). \n",
    "\n"
   ]
  },
  {
   "cell_type": "code",
   "execution_count": 11,
   "metadata": {
    "collapsed": false
   },
   "outputs": [],
   "source": [
    "import networkx as nx\n",
    "hamsterster = nx.read_edgelist('../Data/soc-hamsterster.edges', comments = '%')"
   ]
  },
  {
   "cell_type": "code",
   "execution_count": 12,
   "metadata": {
    "collapsed": false
   },
   "outputs": [
    {
     "data": {
      "text/plain": [
       "(2426, 16630)"
      ]
     },
     "execution_count": 12,
     "metadata": {},
     "output_type": "execute_result"
    }
   ],
   "source": [
    "hamsterster.number_of_nodes(), hamsterster.number_of_edges()"
   ]
  },
  {
   "cell_type": "code",
   "execution_count": 13,
   "metadata": {
    "collapsed": false
   },
   "outputs": [
    {
     "data": {
      "text/plain": [
       "0.5375333362074084"
      ]
     },
     "execution_count": 13,
     "metadata": {},
     "output_type": "execute_result"
    }
   ],
   "source": [
    "nx.average_clustering(hamsterster)"
   ]
  },
  {
   "cell_type": "code",
   "execution_count": 14,
   "metadata": {
    "collapsed": false
   },
   "outputs": [
    {
     "data": {
      "text/plain": [
       "3.5889954977488743"
      ]
     },
     "execution_count": 14,
     "metadata": {},
     "output_type": "execute_result"
    }
   ],
   "source": [
    "nx.average_shortest_path_length( list(nx.connected_component_subgraphs(hamsterster))[0] )"
   ]
  },
  {
   "cell_type": "markdown",
   "metadata": {},
   "source": [
    "These two properties are, on the face, at odds with each other. **Why?**"
   ]
  },
  {
   "cell_type": "markdown",
   "metadata": {
    "collapsed": true
   },
   "source": [
    "# Small worlds\n",
    "\n",
    "This week we read D.J. Watts and S.H. Strogatz. (1998). Collective dynamics of 'small-world' networks. Nature 393, 440-442. What was the main insight of this paper? \n",
    "\n",
    "We can actually reproduce these findings use the instantiation of the Watts-Strogatz model in networkx"
   ]
  },
  {
   "cell_type": "code",
   "execution_count": 16,
   "metadata": {
    "collapsed": false
   },
   "outputs": [],
   "source": [
    "#Exercise\n"
   ]
  },
  {
   "cell_type": "code",
   "execution_count": 30,
   "metadata": {
    "collapsed": false
   },
   "outputs": [
    {
     "data": {
      "image/png": "[encoded data removed]",
      "text/plain": [
       "<matplotlib.figure.Figure at 0x112d45550>"
      ]
     },
     "metadata": {},
     "output_type": "display_data"
    }
   ],
   "source": [
    "#Answer\n",
    "%matplotlib inline\n",
    "import numpy as np\n",
    "import matplotlib.pyplot as plt\n",
    "\n",
    "xdata, pathdata, clusterdata = [], [], []\n",
    "\n",
    "for p in np.linspace(0, 1.0, 21):\n",
    "    temp = nx.watts_strogatz_graph(1000, 5, p)\n",
    "    xdata.append(p)\n",
    "    pathdata.append( nx.average_shortest_path_length(temp) )\n",
    "    clusterdata.append( nx.average_clustering(temp) )\n",
    "\n",
    "fig = plt.figure(figsize = (6, 3))\n",
    "ax = fig.add_subplot(121)\n",
    "ax.plot(xdata, pathdata)\n",
    "ax.set_xlabel('$p$')\n",
    "ax.set_ylabel('Shortest path')\n",
    "ax = fig.add_subplot(122)\n",
    "ax.plot(xdata, clusterdata)\n",
    "ax.set_xlabel('$p$')\n",
    "ax.set_ylabel('Clustering')\n",
    "plt.tight_layout()"
   ]
  },
  {
   "cell_type": "markdown",
   "metadata": {},
   "source": [
    "What's amazing, and frequently occurs in networks, is that the shortest path length effectively 'falls' off a cliff (reducing 10 fold) just with a minor change to $p$. We can see that it stabilizes quickly.\n",
    "\n",
    "Clustering has a more gradual decline, since most edges are not actually changed. \n",
    "\n",
    "Given that social networks typically have a \"high\" (in respect to other types of networks) average clustering, we can see that there is a *sweet spot* of randomization from a highly structured graph where they are likely to exist. Surprisingly, it takes very little randomization from a fully structured graph to achieve this point. "
   ]
  },
  {
   "cell_type": "code",
   "execution_count": 31,
   "metadata": {
    "collapsed": false
   },
   "outputs": [
    {
     "data": {
      "text/plain": [
       "[125.37537537537537,\n",
       " 12.920954954954954,\n",
       " 8.774900900900901,\n",
       " 7.4444304304304305,\n",
       " 7.043841841841842,\n",
       " 6.457097097097097,\n",
       " 6.1511151151151156,\n",
       " 6.048858858858859,\n",
       " 5.813981981981982,\n",
       " 5.636650650650651,\n",
       " 5.562354354354355,\n",
       " 5.528410410410411,\n",
       " 5.475417417417417,\n",
       " 5.43751951951952,\n",
       " 5.376876876876877,\n",
       " 5.377227227227227,\n",
       " 5.329119119119119,\n",
       " 5.3047047047047045,\n",
       " 5.339049049049049,\n",
       " 5.325213213213213,\n",
       " 5.331545545545546]"
      ]
     },
     "execution_count": 31,
     "metadata": {},
     "output_type": "execute_result"
    }
   ],
   "source": [
    "pathdata"
   ]
  },
  {
   "cell_type": "code",
   "execution_count": null,
   "metadata": {
    "collapsed": true
   },
   "outputs": [],
   "source": []
  }
 ],
 "metadata": {
  "anaconda-cloud": {},
  "kernelspec": {
   "display_name": "Python [Root]",
   "language": "python",
   "name": "Python [Root]"
  },
  "language_info": {
   "codemirror_mode": {
    "name": "ipython",
    "version": 3
   },
   "file_extension": ".py",
   "mimetype": "text/x-python",
   "name": "python",
   "nbconvert_exporter": "python",
   "pygments_lexer": "ipython3",
   "version": "3.5.1"
  }
 },
 "nbformat": 4,
 "nbformat_minor": 0
}
