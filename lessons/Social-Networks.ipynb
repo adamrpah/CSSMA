{
 "cells": [
  {
   "cell_type": "markdown",
   "metadata": {
    "collapsed": true
   },
   "source": [
    "# Social Networks\n",
    "\n",
    "Social networks are likely the instantiation of a network that you are all familiar with. A decade ago, this concept was not nearly as prevalent and was entrancing and intoxicating when you would come across it (ask anyone who watched the first season of The Wire in 2002). With the advent of Facebook, Twitter, and LinkedIn (where the network is explicit, easily accessed, roughly shown to you) social networks appear *obvious*. However, there is much to be done to understand these networks so that we can understand them at a deeper level. \n",
    "\n",
    "Importantly, Social Networks differ from other networks, such as transportation networks, in that they exhibit two properties:\n",
    "\n",
    "(i) nodes are very *close* to each other\n",
    "(ii) the entire network is very *small* (it is generally quick to navigate from one side to the other)\n",
    "\n",
    "As a demonstration of this, let's examine `soc-hamsterster.edges` which is a  social network from the hamsterster website (a virtual habitat for hamsters and gerbils! i.e. the owners who impersonate them). \n",
    "\n"
   ]
  },
  {
   "cell_type": "code",
   "execution_count": 1,
   "metadata": {
    "collapsed": false
   },
   "outputs": [],
   "source": [
    "import networkx as nx\n",
    "hamsterster = nx.read_edgelist('../Data/soc-hamsterster.edges', comments = '%')"
   ]
  },
  {
   "cell_type": "code",
   "execution_count": 2,
   "metadata": {
    "collapsed": false
   },
   "outputs": [
    {
     "data": {
      "text/plain": [
       "(2426, 16630)"
      ]
     },
     "execution_count": 2,
     "metadata": {},
     "output_type": "execute_result"
    }
   ],
   "source": [
    "hamsterster.number_of_nodes(), hamsterster.number_of_edges()"
   ]
  },
  {
   "cell_type": "code",
   "execution_count": 3,
   "metadata": {
    "collapsed": false
   },
   "outputs": [
    {
     "data": {
      "text/plain": [
       "0.5375333362074071"
      ]
     },
     "execution_count": 3,
     "metadata": {},
     "output_type": "execute_result"
    }
   ],
   "source": [
    "nx.average_clustering(hamsterster)"
   ]
  },
  {
   "cell_type": "code",
   "execution_count": 4,
   "metadata": {
    "collapsed": false
   },
   "outputs": [
    {
     "data": {
      "text/plain": [
       "3.5889954977488743"
      ]
     },
     "execution_count": 4,
     "metadata": {},
     "output_type": "execute_result"
    }
   ],
   "source": [
    "nx.average_shortest_path_length( list(nx.connected_component_subgraphs(hamsterster))[0] )"
   ]
  },
  {
   "cell_type": "markdown",
   "metadata": {},
   "source": [
    "These two properties are, on the face, at odds with each other. **Why?**"
   ]
  },
  {
   "cell_type": "markdown",
   "metadata": {
    "collapsed": true
   },
   "source": [
    "# Small worlds\n",
    "\n",
    "This week we read D.J. Watts and S.H. Strogatz. (1998). Collective dynamics of 'small-world' networks. Nature 393, 440-442. What was the main insight of this paper? \n",
    "\n",
    "We can actually reproduce these findings use the instantiation of the Watts-Strogatz model in networkx"
   ]
  },
  {
   "cell_type": "code",
   "execution_count": 5,
   "metadata": {
    "collapsed": false
   },
   "outputs": [],
   "source": [
    "#Exercise\n"
   ]
  },
  {
   "cell_type": "code",
   "execution_count": 48,
   "metadata": {
    "collapsed": false
   },
   "outputs": [
    {
     "data": {
      "image/png": "[encoded data removed]",
      "text/plain": [
       "<matplotlib.figure.Figure at 0x118b77ba8>"
      ]
     },
     "metadata": {},
     "output_type": "display_data"
    }
   ],
   "source": [
    "#Answer\n",
    "%matplotlib inline\n",
    "import numpy as np\n",
    "import matplotlib.pyplot as plt\n",
    "\n",
    "xdata, pathdata, clusterdata = [], [], []\n",
    "\n",
    "for p in np.linspace(0, 1.0, 21):\n",
    "    temp = nx.watts_strogatz_graph(1000, 5, p)\n",
    "    xdata.append(p)\n",
    "    pathdata.append( nx.average_shortest_path_length(temp) )\n",
    "    clusterdata.append( nx.average_clustering(temp) )\n",
    "\n",
    "fig = plt.figure(figsize = (6, 3))\n",
    "ax = fig.add_subplot(121)\n",
    "ax.plot(xdata, pathdata)\n",
    "ax.set_xlabel('$p$')\n",
    "ax.set_ylabel('Shortest path')\n",
    "ax = fig.add_subplot(122)\n",
    "ax.plot(xdata, clusterdata)\n",
    "ax.set_xlabel('$p$')\n",
    "ax.set_ylabel('Clustering')\n",
    "plt.tight_layout()"
   ]
  },
  {
   "cell_type": "markdown",
   "metadata": {},
   "source": [
    "What's amazing, and frequently occurs in networks, is that the shortest path length effectively 'falls' off a cliff (reducing 10 fold) just with a minor change to $p$. We can see that it stabilizes quickly.\n",
    "\n",
    "Clustering has a more gradual decline, since most edges are not actually changed. \n",
    "\n",
    "Given that social networks typically have a \"high\" (in respect to other types of networks) average clustering, we can see that there is a *sweet spot* of randomization from a highly structured graph where they are likely to exist. Surprisingly, it takes very little randomization from a fully structured graph to achieve this point. \n",
    "\n",
    "Why does this matter so much? Why were the detailing of these properties such a large \"hit\" in the scientific world?\n",
    "\n",
    "# Contagion\n",
    "\n",
    "Contagion is a process that is used to describe a rather large variety of phenomena, although its origin is in biology. Contagion is how we describe the spread of a disease from one organism to another (most frequently caring about human to human transmission). The typical model used is a SI model, where S stands for the Susceptible population of agents and I stands for the Infected population of agents. \n",
    "\n",
    "$\\frac{dS}{dt}= -p s(t) I(t)$\n",
    "\n",
    "where $S(t)$ is the number of susceptible people, $s(t)$ is the fraction of the population that is susceptible, $I(t)$ is the number of infected individuals at time $t$, and $b$ is the $p$ is the probability of an infected person infecting a susceptible one.\n",
    "\n",
    "Without any type of recovery from the illness, this model will eventually convert all beginning susceptibles to infecteds. \n",
    "\n",
    "To gain intuition, write a function that implements the SI model on a network. Make sure the function can take an arbitrary $p$ value. The output should be the number of time steps that the model takes until all nodes are infected."
   ]
  },
  {
   "cell_type": "code",
   "execution_count": 6,
   "metadata": {
    "collapsed": false
   },
   "outputs": [],
   "source": [
    "#Exercise\n"
   ]
  },
  {
   "cell_type": "code",
   "execution_count": 31,
   "metadata": {
    "collapsed": false
   },
   "outputs": [
    {
     "data": {
      "text/plain": [
       "125"
      ]
     },
     "execution_count": 31,
     "metadata": {},
     "output_type": "execute_result"
    }
   ],
   "source": [
    "#Answer\n",
    "def SI(G, p, infected):\n",
    "    '''\n",
    "    Implements SI model\n",
    "    '''\n",
    "    import random\n",
    "    timesteps = 0\n",
    "    susceptible = G.number_of_nodes() - len(infected)\n",
    "    while susceptible > 0:\n",
    "        #iterate through all nodes and determine infection\n",
    "        possible_nodes = [n for inode in infected for n in G.neighbors(inode) \\\n",
    "                          if G.node[n]['infected'] == False]\n",
    "        for pnode in possible_nodes:\n",
    "            if pnode not in infected:\n",
    "                if random.random() < p:\n",
    "                    G.node[pnode]['infected'] = True\n",
    "                    infected.append(pnode)\n",
    "        timesteps += 1\n",
    "        susceptible = G.number_of_nodes() - len(infected)\n",
    "    return timesteps\n",
    "\n",
    "import random\n",
    "temp = nx.watts_strogatz_graph(1000, 5, 0.05)\n",
    "for n in temp.nodes():\n",
    "    temp.node[n]['infected'] = False\n",
    "infected = [random.choice(temp.nodes())]\n",
    "temp.node[infected[0]]['infected'] = True\n",
    "SI(temp, 0.10, infected)"
   ]
  },
  {
   "cell_type": "markdown",
   "metadata": {},
   "source": [
    "Now let's sweep again through the small world model rewiring probabilities, but capture how many timesteps it takes for the network to become fully infected. We will plot the average time for full infection against the rewiring probability.\n",
    "\n",
    "* Run 10 networks per rewiring probability\n",
    "* Seed only one infected node (at random)\n",
    "* infection probability = 0.10"
   ]
  },
  {
   "cell_type": "code",
   "execution_count": 24,
   "metadata": {
    "collapsed": true
   },
   "outputs": [],
   "source": [
    "#Exercise\n"
   ]
  },
  {
   "cell_type": "code",
   "execution_count": 30,
   "metadata": {
    "collapsed": false
   },
   "outputs": [
    {
     "name": "stdout",
     "output_type": "stream",
     "text": [
      "[404]\n",
      "404 [402, 403, 405, 406]\n",
      "[248]\n",
      "248 [249, 250, 246, 247]\n",
      "[608]\n",
      "608 [609, 610, 606, 607]\n",
      "[126]\n",
      "126 [128, 124, 125, 127]\n",
      "[382]\n",
      "382 [384, 380, 381, 383]\n",
      "[396]\n",
      "396 [394, 395, 397, 398]\n",
      "[610]\n",
      "610 [608, 609, 611, 612]\n",
      "[954]\n",
      "954 [952, 953, 955, 956]\n",
      "[388]\n",
      "388 [386, 387, 389, 390]\n",
      "[325]\n",
      "325 [323, 324, 326, 327]\n",
      "[341]\n",
      "341 [339, 340, 342, 343]\n",
      "[289]\n",
      "289 [288, 290, 291, 287]\n",
      "[680]\n",
      "680 [681, 682, 678, 679]\n",
      "[374]\n",
      "374 [376, 372, 373, 375]\n",
      "[906]\n",
      "906 [904, 905, 907, 908]\n",
      "[647]\n",
      "647 [649, 645, 646, 775]\n",
      "[990]\n",
      "990 [992, 988, 989, 991]\n",
      "[15]\n",
      "15 [16, 17, 13, 14]\n",
      "[223]\n",
      "223 [224, 225, 562, 221]\n",
      "[113]\n",
      "113 [112, 114, 115, 111]\n",
      "[592]\n",
      "592 [593, 594, 590, 591]\n",
      "[981]\n",
      "981 [979, 980, 982, 983]\n",
      "[271]\n",
      "271 [272, 273, 269, 270]\n",
      "[736]\n",
      "736 [344, 738, 734, 735]\n",
      "[605]\n",
      "605 [603, 604, 606, 607]\n",
      "[168]\n",
      "168 [169, 170, 166, 167]\n",
      "[18]\n",
      "18 [409, 19, 20]\n",
      "[911]\n",
      "911 [912, 913, 909, 910]\n",
      "[71]\n",
      "71 [72, 69, 70, 447]\n",
      "[347]\n",
      "347 [345, 346, 348, 349, 153]\n",
      "[683]\n",
      "683 [681, 682, 684, 685]\n",
      "[793]\n",
      "793 [794, 290, 791]\n",
      "[777]\n",
      "777 [776, 778, 779, 86, 775]\n",
      "[835]\n",
      "835 [833, 834, 836, 837]\n",
      "[542]\n",
      "542 [544, 540, 541, 543]\n",
      "[959]\n",
      "959 [960, 961, 957, 958]\n",
      "[283]\n",
      "283 [281, 284, 285]\n",
      "[625]\n",
      "625 [624, 626, 627]\n",
      "[578]\n",
      "578 [201, 50, 580]\n",
      "[626]\n",
      "626 [624, 625, 627, 628, 104]\n",
      "[80]\n",
      "80 [81, 82, 79]\n",
      "[340]\n",
      "340 [336, 338, 339, 341, 342, 930, 389]\n",
      "[788]\n",
      "788 [786, 789, 790]\n",
      "[631]\n",
      "631 [632, 629, 630, 678]\n",
      "[199]\n",
      "199 [200, 201, 195, 197, 198]\n",
      "[746]\n",
      "746 [747, 748]\n",
      "[138]\n",
      "138 [136, 249, 139]\n",
      "[622]\n",
      "622 [624, 609, 620, 621, 846]\n",
      "[222]\n",
      "222 [224, 220, 221, 223]\n",
      "[637]\n",
      "637 [696, 635, 636, 638, 499]\n",
      "[413]\n",
      "413 [302, 314, 411, 412, 682, 526]\n",
      "[354]\n",
      "354 [874, 356]\n",
      "[99]\n",
      "99 [522, 100, 101]\n",
      "[980]\n",
      "980 [979, 822, 982]\n",
      "[791]\n",
      "791 [665, 790, 311]\n",
      "[333]\n",
      "333 [12, 331, 332, 335]\n",
      "[646]\n",
      "646 [648, 728, 644, 645, 647]\n",
      "[7]\n",
      "7 [8, 810, 5, 6]\n",
      "[953]\n",
      "953 [952, 232, 955]\n",
      "[780]\n",
      "780 [952, 779, 781]\n",
      "[351]\n",
      "351 [353, 350, 509]\n",
      "[743]\n",
      "743 [744, 745, 742]\n",
      "[391]\n",
      "391 [392, 393, 389, 390]\n",
      "[219]\n",
      "219 [217, 218, 220, 221, 954]\n",
      "[756]\n",
      "756 [755, 404, 757, 964, 554]\n",
      "[138]\n",
      "138 [136, 137, 371, 691]\n",
      "[650]\n",
      "650 [648, 649, 651, 741]\n",
      "[472]\n",
      "472 [473, 474, 470, 471]\n",
      "[917]\n",
      "917 [258, 916, 918]\n",
      "[737]\n",
      "737 [736, 738, 788, 572]\n",
      "[514]\n",
      "514 [153, 516, 990]\n",
      "[377]\n",
      "377 [378, 900, 375]\n",
      "[670]\n",
      "670 [792, 668, 669, 878, 671]\n",
      "[108]\n",
      "108 [107, 109, 110]\n",
      "[362]\n",
      "362 [361, 115, 364]\n",
      "[984]\n",
      "984 [982, 313, 985, 983, 655]\n",
      "[171]\n",
      "171 [169, 170, 868, 173, 738]\n",
      "[594]\n",
      "594 [592, 593, 810, 595]\n",
      "[440]\n",
      "440 [820, 198, 439, 891, 429]\n",
      "[96]\n",
      "96 [97, 745, 94, 95]\n",
      "[826]\n",
      "826 [825, 330, 827, 205]\n",
      "[666]\n",
      "666 [785, 354, 323, 118, 665]\n",
      "[913]\n",
      "913 [912, 91, 914, 915]\n",
      "[967]\n",
      "967 [968, 969, 700, 965, 966]\n",
      "[195]\n",
      "195 [194, 988, 196, 197]\n",
      "[904]\n",
      "904 [640, 903, 382]\n",
      "[869]\n",
      "869 [867, 868, 870, 871]\n",
      "[190]\n",
      "190 [192, 188, 191]\n",
      "[215]\n",
      "215 [217, 213, 393]\n",
      "[775]\n",
      "775 [552, 777, 773, 774]\n",
      "[349]\n",
      "349 [988, 347, 76, 6]\n",
      "[155]\n",
      "155 [153, 538, 596, 157, 482]\n",
      "[946]\n",
      "946 [945, 948, 705, 752]\n",
      "[745]\n",
      "745 [746, 103, 743]\n",
      "[500]\n",
      "500 [17, 499, 84, 502, 92]\n",
      "[204]\n",
      "204 [209, 202, 203, 86]\n",
      "[268]\n",
      "268 [266, 292, 269, 270]\n",
      "[287]\n",
      "287 [288, 289, 631, 412, 286]\n",
      "[566]\n",
      "566 [979, 165, 567, 568, 521, 247, 185, 565]\n",
      "[396]\n",
      "396 [803, 856, 394, 395, 397]\n",
      "[252]\n",
      "252 [27, 251, 253]\n",
      "[584]\n",
      "584 [550, 585, 812]\n",
      "[255]\n",
      "255 [256, 180, 253, 254]\n",
      "[618]\n",
      "618 [616, 619, 620, 397]\n",
      "[854]\n",
      "854 [852, 853, 855, 457, 170]\n",
      "[671]\n",
      "671 [672, 867, 74, 669, 670]\n",
      "[234]\n",
      "234 [136, 236, 287]\n",
      "[379]\n",
      "379 [136, 380, 381]\n",
      "[394]\n",
      "394 [392, 297, 395, 711]\n",
      "[902]\n",
      "902 [900, 500, 219]\n",
      "[115]\n",
      "115 [113, 114, 469, 174, 149]\n",
      "[971]\n",
      "971 [969, 973, 310]\n",
      "[517]\n",
      "517 [567, 516, 166, 519]\n",
      "[618]\n",
      "618 [568, 617, 619, 796, 191]\n",
      "[660]\n",
      "660 [944, 203]\n",
      "[763]\n",
      "763 [387, 151, 762, 364, 10]\n",
      "[67]\n",
      "67 [65, 546, 68, 541, 921]\n",
      "[442]\n",
      "442 [443, 243]\n",
      "[137]\n",
      "137 [776, 768, 793]\n",
      "[617]\n",
      "617 [180, 616, 941]\n",
      "[1]\n",
      "1 [266, 348]\n",
      "[506]\n",
      "506 [505, 730, 411, 685]\n",
      "[411]\n",
      "411 [410, 428, 413]\n",
      "[715]\n",
      "715 [716, 717]\n",
      "[29]\n",
      "29 [825, 627, 28, 766]\n",
      "[211]\n",
      "211 [209, 210, 379, 212, 213]\n",
      "[987]\n",
      "987 [576, 645, 296, 986, 989]\n",
      "[382]\n",
      "382 [688, 131, 550, 383, 765, 381]\n",
      "[94]\n",
      "94 [96, 536, 200, 92, 93]\n",
      "[508]\n",
      "508 [848, 161, 507, 333]\n",
      "[196]\n",
      "196 [195, 84, 331, 653]\n",
      "[967]\n",
      "967 [965, 591, 907, 604, 469]\n",
      "[692]\n",
      "692 [691, 580, 726, 873, 345, 171]\n",
      "[719]\n",
      "719 [720, 229, 586, 717]\n",
      "[156]\n",
      "156 [536, 938, 155, 124, 462]\n",
      "[276]\n",
      "276 [64, 275, 189, 302]\n",
      "[136]\n",
      "136 [137, 874, 134, 97]\n",
      "[318]\n",
      "318 [994, 886, 458]\n",
      "[465]\n",
      "465 [464, 835, 466, 467]\n",
      "[404]\n",
      "404 [192, 402, 596, 652, 94]\n",
      "[98]\n",
      "98 [96, 241, 773, 413, 510, 143]\n",
      "[443]\n",
      "443 [400, 241, 663, 441, 444]\n",
      "[75]\n",
      "75 [74, 98, 791]\n",
      "[346]\n",
      "346 [514, 295, 98, 157]\n",
      "[130]\n",
      "130 [132, 471]\n",
      "[276]\n",
      "276 [416, 689, 275]\n",
      "[254]\n",
      "254 [256, 481]\n",
      "[4]\n",
      "4 [664, 3, 5, 6]\n",
      "[457]\n",
      "457 [320, 180, 455, 825, 511]\n",
      "[611]\n",
      "611 [320, 609, 116, 983]\n",
      "[391]\n",
      "391 [177, 390, 86, 465, 415]\n",
      "[926]\n",
      "926 [928, 336, 306, 990]\n",
      "[14]\n",
      "14 [725, 166, 59]\n",
      "[948]\n",
      "948 [834, 548, 949, 440]\n",
      "[194]\n",
      "194 [880, 193, 503, 526]\n",
      "[349]\n",
      "349 [580, 570, 43, 494]\n",
      "[275]\n",
      "275 [561, 276, 277]\n",
      "[460]\n",
      "460 [573, 462, 903]\n",
      "[766]\n",
      "766 [768, 493, 443, 895]\n",
      "[925]\n",
      "925 [257, 76, 924, 926]\n",
      "[317]\n",
      "317 [514, 523]\n",
      "[329]\n",
      "329 [848, 545, 184, 349, 239]\n",
      "[667]\n",
      "667 [289, 153, 189]\n",
      "[21]\n",
      "21 [712, 164, 695, 840]\n",
      "[408]\n",
      "408 [608, 147, 407, 366]\n",
      "[954]\n",
      "954 [291, 788, 469]\n",
      "[550]\n",
      "550 [608, 769, 947]\n",
      "[287]\n",
      "287 [288, 312, 831, 92, 285, 286, 957]\n",
      "[105]\n",
      "105 [48, 709, 726, 713, 394, 183]\n",
      "[287]\n",
      "287 [289, 258, 945, 203]\n",
      "[757]\n",
      "757 [66, 458, 223, 671]\n",
      "[480]\n",
      "480 [768, 659, 311, 409]\n",
      "[918]\n",
      "918 [321, 628, 917, 825, 811, 565]\n",
      "[652]\n",
      "652 [650, 654, 671]\n",
      "[115]\n",
      "115 [114, 635, 578, 759, 649, 906, 583, 77]\n",
      "[432]\n",
      "432 [680, 533, 951, 424, 974]\n",
      "[986]\n",
      "986 [36, 309, 95, 511]\n",
      "[280]\n",
      "280 [3, 595, 742, 279, 921, 142]\n",
      "[617]\n",
      "617 [607, 59, 615, 298, 727, 31]\n",
      "[538]\n",
      "538 [248, 868]\n",
      "[546]\n",
      "546 [545, 275, 340, 112]\n",
      "[64]\n",
      "64 [372, 581, 532, 446]\n",
      "[852]\n",
      "852 [924, 650]\n",
      "[790]\n",
      "790 [354, 951, 680, 11, 845]\n",
      "[126]\n",
      "126 [132, 918, 120, 282, 127]\n",
      "[811]\n",
      "811 [672, 289, 810, 237]\n",
      "[219]\n",
      "219 [912, 65, 45, 419, 966, 64, 408, 669]\n",
      "[8]\n",
      "8 [555, 515, 6, 7]\n",
      "[769]\n",
      "769 [132, 44, 191]\n",
      "[985]\n",
      "985 [986, 602, 861]\n",
      "[18]\n",
      "18 [19, 342, 888, 461, 655]\n",
      "[895]\n",
      "895 [896, 972, 988]\n",
      "[688]\n",
      "688 [992, 689, 659, 333]\n",
      "[113]\n",
      "113 [848, 612, 248, 169, 731]\n",
      "[891]\n",
      "891 [805, 505, 890, 558]\n",
      "[276]\n",
      "276 [225, 833, 27, 479]\n",
      "[571]\n",
      "571 [947, 228, 675, 941]\n",
      "[970]\n",
      "970 [976, 826, 781]\n",
      "[833]\n",
      "833 [161, 373, 331]\n",
      "[207]\n",
      "207 [672, 97, 506]\n",
      "[614]\n",
      "614 [34, 623]\n",
      "[226]\n",
      "226 [816, 211, 278, 449, 426, 26]\n",
      "[990]\n",
      "990 [657, 132, 535, 526]\n",
      "[405]\n",
      "405 [193, 858]\n",
      "[945]\n",
      "945 [837, 251, 893, 927]\n",
      "[280]\n",
      "280 [705, 250, 700, 410]\n",
      "[168]\n",
      "168 [848, 839, 488, 445]\n",
      "[201]\n",
      "201 [931, 906, 764, 711]\n",
      "[933]\n",
      "933 [529, 227, 101, 407, 808]\n",
      "[706]\n",
      "706 [296, 693, 840, 874, 108, 728]\n"
     ]
    }
   ],
   "source": [
    "#Answer\n",
    "%matplotlib inline\n",
    "import numpy as np\n",
    "import random\n",
    "import matplotlib.pyplot as plt\n",
    "\n",
    "infection_times = {}\n",
    "\n",
    "for r in np.linspace(0, 1.0, 21):\n",
    "    infection_times[r] = []\n",
    "    for niter in range(10):\n",
    "        tt = nx.watts_strogatz_graph(1000, 5, r)\n",
    "        infected = [random.choice(tt.nodes(data=False))]\n",
    "        for tnode in temp.nodes():\n",
    "            tt.node[tnode]['infected'] = False\n",
    "        tt.node[infected[0]]['infected'] = True\n",
    "        infection_times[r].append( SI(tt, 0.10, infected) )\n",
    "        \n",
    "xdata = list( sorted( infection_times.keys() ) )\n",
    "plt.plot(xdata, [np.mean(infection_times[x]) for x in xdata])\n",
    "plt.xlabel('Rewiring Prob')\n",
    "plt.ylabel('Infection time')"
   ]
  },
  {
   "cell_type": "markdown",
   "metadata": {
    "collapsed": false,
    "scrolled": false
   },
   "source": [
    "We effectively see the same behavior, i.e. immediately once the graph transitions to a small world network the time it takes for an infection to spread jumps off a cliff (almost 7 times quicker). \n",
    "\n",
    "This is both an explanation for how pandemics occur, as well as greatly intriguing researchers - how can we intervene effectively when our natural desire to connect is what creates so much of the risk?\n",
    "\n",
    "This behavior is exacerbated when we consider a network with a power law distribution for the degree (as most on-line social networks have)."
   ]
  },
  {
   "cell_type": "code",
   "execution_count": 38,
   "metadata": {
    "collapsed": true
   },
   "outputs": [],
   "source": [
    "#Exercise\n"
   ]
  },
  {
   "cell_type": "code",
   "execution_count": 46,
   "metadata": {
    "collapsed": false
   },
   "outputs": [
    {
     "data": {
      "text/plain": [
       "(0, 50)"
      ]
     },
     "execution_count": 46,
     "metadata": {},
     "output_type": "execute_result"
    },
    {
     "data": {
      "image/png": "[encoded data removed]",
      "text/plain": [
       "<matplotlib.figure.Figure at 0x118ac4860>"
      ]
     },
     "metadata": {},
     "output_type": "display_data"
    }
   ],
   "source": [
    "infection_times = {}\n",
    "\n",
    "for m in range(1, 10):\n",
    "    infection_times[m] = []\n",
    "    for niter in range(10):\n",
    "        tt = nx.barabasi_albert_graph(1000, m)\n",
    "        infected = [random.choice(tt.nodes(data=False))]\n",
    "        for tnode in temp.nodes():\n",
    "            tt.node[tnode]['infected'] = False\n",
    "        tt.node[infected[0]]['infected'] = True\n",
    "        infection_times[m].append( SI(tt, 0.10, infected) )\n",
    "        \n",
    "xdata = list( sorted( infection_times.keys() ) )\n",
    "plt.scatter(xdata, [np.mean(infection_times[x]) for x in xdata])\n",
    "plt.xlabel('Rewiring Prob')\n",
    "plt.ylabel('Infection time')"
   ]
  },
  {
   "cell_type": "code",
   "execution_count": 47,
   "metadata": {
    "collapsed": false
   },
   "outputs": [
    {
     "data": {
      "text/plain": [
       "<matplotlib.text.Text at 0x118a7e978>"
      ]
     },
     "execution_count": 47,
     "metadata": {},
     "output_type": "execute_result"
    },
    {
     "data": {
      "image/png": "[encoded data removed]",
      "text/plain": [
       "<matplotlib.figure.Figure at 0x117fe13c8>"
      ]
     },
     "metadata": {},
     "output_type": "display_data"
    }
   ],
   "source": [
    "xdata = list( sorted( infection_times.keys() ) )\n",
    "plt.scatter(xdata, [np.mean(infection_times[x]) for x in xdata])\n",
    "plt.xlabel('Rewiring Prob')\n",
    "plt.ylabel('Infection time')"
   ]
  },
  {
   "cell_type": "markdown",
   "metadata": {},
   "source": [
    "Note that this picture is dramatically worse when we consider the typical structure that an online social network would have (fortunately, \"hubs\" in meatspace are few and far between.)\n",
    "\n",
    "**TE** Who are the hubs in meatspace? "
   ]
  },
  {
   "cell_type": "markdown",
   "metadata": {},
   "source": [
    "The addition of \"recovery\" is relatively simple\n",
    "\n",
    "$\\frac{dr}{dt} = ki(t)$\n",
    "\n",
    "where $k$ is the probability that someone that is infected transitions to recovered. You can then modify/decide if recovered people become susceptible again or not (as you are starting to guess, there are a giant number of variations on the SIR model). \n",
    "\n",
    "If the recovered population does not transition to susceptible, then the entire network will transition/stabilize as all susceptible/recovered at some time $t$. If recovered becomes susceptible again, then there will be a fraction of susceptibles that stabilizes at some time $t$.\n",
    "\n",
    "# Generalizing contagion\n",
    "\n",
    "Contagion on a network can be further generalized (and more amenable to non-pathogenic contagions, such as ideas or emotions) with the framework that is proposed in Dodds and Watts (2004), doi:10.1103/PhysRevLett.92.218701.\n",
    "\n",
    "This model allows for the implementation of dosing (multiple exposures required to transition from susceptible to infected) and thresholds (agents can be more or less susceptible). "
   ]
  },
  {
   "cell_type": "markdown",
   "metadata": {},
   "source": [
    "# Discussion\n",
    "\n",
    "N.A. Christakis and J.H. Fowler. (2007) The spread of obesity in a large social network over 32 years. *New England Journal of Medicine* **357**, 370-379.\n",
    "\n",
    ".\n",
    "\n",
    ".\n",
    "\n",
    ".\n",
    "\n",
    ".\n",
    "\n",
    ".\n",
    "\n",
    ".\n",
    "\n",
    ".\n",
    "\n",
    ".\n",
    "\n",
    ".\n",
    "\n",
    ".\n",
    "\n",
    ".\n",
    "\n",
    ".\n",
    "\n",
    ".\n",
    "\n",
    ".\n",
    "\n",
    ".\n",
    "\n",
    ".\n",
    "\n",
    ".\n",
    "\n",
    ".\n",
    "\n",
    ".\n",
    "\n",
    ".\n",
    "\n",
    ".\n",
    "\n",
    ".\n",
    "\n",
    "."
   ]
  },
  {
   "cell_type": "markdown",
   "metadata": {},
   "source": [
    "# Homophily\n",
    "\n",
    "<img src='../images/homophily_blogs.png' alt='political blog network'></img>\n",
    "Adamic and Glance. (2005) The political blogosphere. \n",
    "\n",
    "<img src='../images/homophily_school.png', alt='friendships at a school, nodes colored by race'></img>\n",
    "Moody. (2001) Race, school integration, and friendship segregation in America. *AJS*. \n",
    "\n",
    "<img src='../images/homophily_school_table.png', alt='friendships at a school, table'>"
   ]
  },
  {
   "cell_type": "markdown",
   "metadata": {},
   "source": [
    "What does this all mean? \n",
    "\n",
    "# Exogenous versus Endogenous\n",
    "\n",
    "Contagion implicitly means that the cause of the illness/adoption/etc. is driven from exposure to another that has already contracted the illness/purchased the product/etc. When this isn't an illness, we would term this social influence and it would be an exogenous force. \n",
    "\n",
    "An individual choosing to purchase a product, based on its attributes and the fit of those attributes to the person's own sensibilities, would be a decision that is driven from within (endogenous). \n",
    "\n",
    "\"In between\" these two would be decision that are driven externally but not from social influence, i.e. marketing.\n",
    "\n",
    "**The major difficulty with observed network adoption data is selection bias**. You **do not** know if someone would have adopted a product whether their friends adopted it or not with **only** the known adoption data and network structure."
   ]
  },
  {
   "cell_type": "markdown",
   "metadata": {
    "collapsed": true
   },
   "source": [
    "# What can be done?\n",
    "\n",
    "## Experimentation\n",
    "\n",
    "The \"simplest\" answer is to run an experiment, perturbing the conditions for specific individuals and comparing their response to a control group.  \n",
    "\n",
    "Aral and Walker. (2011) Creating social contagion through viral product design: randomized trial of peer influence in networks. *Management Science* 57(9):1623-1639.\n",
    "\n",
    "Aral and Walker. (2012) Identifying influential and susceptible members of social networks. *Science* 3337(6092) 337-341. \n",
    "\n",
    "Kramer, Guillory, and Hancock. (2013) Experimental evidence of massive-scale emotional contagion through social networks. *PNAS*  8788–8790, doi: 10.1073/pnas.1320040111.\n",
    "\n",
    "**TE** How far apart must your target nodes be in a network to control for spillover effects?"
   ]
  },
  {
   "cell_type": "markdown",
   "metadata": {},
   "source": [
    "## Paired sampling\n",
    "\n",
    "Using demographic variables and propensity score matching to identify matched pairs of users - then control/estimate the effects given the difference in number of neighbors that had adopted. \n",
    "\n",
    "With this approach we generally attempt to estimate the propensity to have been treated (exposed to influence from a neighbor), $p_{it}$ at time $t$ with logistic regression as\n",
    "\n",
    "$p_{it} = P(T_{it} = 1|X_{it}) = \\frac{1}{1 + exp[\\alpha_{it} + \\beta_{it}X_{it} + \\epsilon_{it}]}$\n",
    "\n",
    "where $X_{it}$ is the vector of demographic and behavioral covariates of node $i$. The **major** difficulty is that $X$ varies over time, so a match in week 1 of the adoption observation is not necessarily a match in week 10.\n",
    "\n",
    "However, that does not mean that logistic regression would be the only method to generate matched pairs (just the most common for social scientists). There are a number of other clustering techniques that could be used instead (although the evaluation of its goodness of fit would differ dramatically). \n",
    "\n",
    "Aral, Muchnik, and Sundararajan. (2009) Distinguishing influence-based contagion from homophily driven diffusion in dynamic networks. "
   ]
  },
  {
   "cell_type": "markdown",
   "metadata": {},
   "source": [
    "### Exercise\n",
    "\n",
    "We can detail an example of this proces with Python.\n",
    "\n",
    "First, we will need to create two populations."
   ]
  },
  {
   "cell_type": "code",
   "execution_count": 1,
   "metadata": {
    "collapsed": true
   },
   "outputs": [],
   "source": [
    "#Populations will have an Age [20-50], Education [0,1], and Married [0,1] attribute\n",
    "#for simplicity's sake\n",
    "import random\n",
    "import pandas as pd\n",
    "\n",
    "\n",
    "data = []\n",
    "#Treatment condition yes or no\n",
    "for condition in [0, 1]:\n",
    "    #1000 people per population\n",
    "    for i in range(1000):\n",
    "        data.append([condition, random.randint(20, 50), random.choice([0, 1]), random.choice([0, 1])])\n",
    "        \n",
    "exampledf = pd.DataFrame(data, columns = ['Treated', 'Age', 'Education', 'Married'])"
   ]
  },
  {
   "cell_type": "code",
   "execution_count": 13,
   "metadata": {
    "collapsed": false
   },
   "outputs": [
    {
     "name": "stdout",
     "output_type": "stream",
     "text": [
      "[[ 0.49841392  0.50158608]\n",
      " [ 0.47626388  0.52373612]\n",
      " [ 0.50334012  0.49665988]\n",
      " [ 0.49102551  0.50897449]\n",
      " [ 0.52206907  0.47793093]]\n"
     ]
    }
   ],
   "source": [
    "#We can fit LogisticRegression with scikit learn\n",
    "from sklearn.linear_model import LogisticRegression\n",
    "\n",
    "propensity = LogisticRegression()\n",
    "propensity = propensity.fit(exampledf.iloc[:, 1:], exampledf.Treated)\n",
    "#Returns the probability of being in the class\n",
    "pscores = propensity.predict_proba(exampledf.iloc[:, 1:])\n",
    "#Only want the second column\n",
    "exampledf['Propensity'] = pscores[:,1]\n",
    "\n",
    "exampledf.head()"
   ]
  },
  {
   "cell_type": "code",
   "execution_count": 14,
   "metadata": {
    "collapsed": false
   },
   "outputs": [
    {
     "name": "stdout",
     "output_type": "stream",
     "text": [
      "Optimization terminated successfully.\n",
      "         Current function value: 0.692754\n",
      "         Iterations 3\n"
     ]
    },
    {
     "data": {
      "text/plain": [
       "array([ 0.50159899,  0.52415835,  0.49658168,  0.50912405,  0.47779691])"
      ]
     },
     "execution_count": 14,
     "metadata": {},
     "output_type": "execute_result"
    }
   ],
   "source": [
    "#Or we can fit a Logistic Regression with statsmodels\n",
    "import statsmodels.formula.api as smf \n",
    "\n",
    "fitLogit = smf.logit('Treated ~ Age + Education + Married', data = exampledf).fit()\n",
    "#A Simple predict will get use the probabilities\n",
    "pscores = fitLogit.predict(exampledf)\n",
    "exampledf['Propensity'] = pscores"
   ]
  },
  {
   "cell_type": "markdown",
   "metadata": {},
   "source": [
    "And from this point, we would go and find the closest match from the control group for a member in the treated group (within some cutoff)"
   ]
  },
  {
   "cell_type": "code",
   "execution_count": 16,
   "metadata": {
    "collapsed": true
   },
   "outputs": [],
   "source": [
    "#Example\n"
   ]
  },
  {
   "cell_type": "code",
   "execution_count": null,
   "metadata": {
    "collapsed": true
   },
   "outputs": [],
   "source": [
    "#Answer\n",
    "\n"
   ]
  },
  {
   "cell_type": "markdown",
   "metadata": {
    "collapsed": true
   },
   "source": [
    "## Natural experiments\n",
    "\n",
    "Use some exogenous shock to the system to quantitatively assess the influence of connections using a diff-in-diff regression. A typical example of applying this methodology is that you have an on-line social network and an avalanche happens in Denver, while it did not happen in Boston. This serves as the natural experiment, now you can see the difference between the two cities. However, what research questions really concern is the difference in behavior of two groups, say Group A and Group B. What we look at is the difference in behavior pre and post event for the 'treatment' and 'control' groups in Denver and Boston (thus, the difference in the difference). Based on a non-extensive literature review, a common shock used is...rain (not enough avalanches!)."
   ]
  },
  {
   "cell_type": "code",
   "execution_count": null,
   "metadata": {
    "collapsed": true
   },
   "outputs": [],
   "source": []
  }
 ],
 "metadata": {
  "anaconda-cloud": {},
  "kernelspec": {
   "display_name": "Python [Root]",
   "language": "python",
   "name": "Python [Root]"
  },
  "language_info": {
   "codemirror_mode": {
    "name": "ipython",
    "version": 3
   },
   "file_extension": ".py",
   "mimetype": "text/x-python",
   "name": "python",
   "nbconvert_exporter": "python",
   "pygments_lexer": "ipython3",
   "version": "3.5.1"
  }
 },
 "nbformat": 4,
 "nbformat_minor": 0
}
