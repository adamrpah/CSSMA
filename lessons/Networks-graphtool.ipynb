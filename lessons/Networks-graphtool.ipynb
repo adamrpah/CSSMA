{
 "cells": [
  {
   "cell_type": "markdown",
   "metadata": {
    "slideshow": {
     "slide_type": "slide"
    }
   },
   "source": [
    "# Networks\n",
    "\n",
    "In 2020, it is difficult to find someone who doesn't have some idea of what a network is because the internet and social media platforms have brought them so clearly into focus. When I say network people immediately think of:\n",
    "\n",
    "<img src='https://i0.wp.com/www.euroscientist.com/wp-content/uploads/2019/06/cropped-social-media-3846597_1280-1.png?resize=672%2C372&ssl=1' width='400px'>\n",
    "\n",
    "and the connections that it brings worldwide:\n",
    "\n",
    "<img src='https://www.datacenterknowledge.com/sites/datacenterknowledge.com/files/styles/article_featured_retina/public/wp-content/uploads/2011/01/fb-audience-map-470.jpg?itok=VxFA2oCG' width='400px'>\n",
    "\n",
    "But there is more to networks than that, they can encapsulate our ability to move physically:\n",
    "\n",
    "<img src='data:image/jpeg;base64,/9j/4AAQSkZJRgABAQAAAQABAAD/2wCEAAkGBxMTEhUTEhIWFRUXGB0bGBcYGBkZGhodGhoaFhgZGxoaHiggGxolGxYYITEhJSkrLi4uGh8zODMtNygtLisBCgoKDg0OGxAQGy0lICUtKy0rLy8tKy0tLy8vLSsvMC03Ly0tLS0yKy8vLy8tLysvLS0tNys1MCsvLS0tLy8vK//AABEIAI8BYQMBIgACEQEDEQH/xAAbAAABBQEBAAAAAAAAAAAAAAAEAAIDBQYBB//EAEIQAAECBAMFBQYEBgIABgMAAAECEQADITEEEkEFIlFhcRMygZGhBkJSscHRFILh8CMzYnKSorLxY5PC0tPiFUNT/8QAGQEBAAMBAQAAAAAAAAAAAAAAAAECAwQF/8QALxEAAgEDAgQEBQQDAAAAAAAAAAECAxEhMUEEElHwImFxgRORocHhIzKx0RRS8f/aAAwDAQACEQMRAD8A9rmziCwS/iB8zDPxCvhH+QiPErVmZgfyqPyDRGCr4P8AT7wAR+IV8Kf8x9oX4hXwp/zH2gYhXwn/AB/+kLe+A+Q/+OACu3V8H+yY726v/wCavNH/ALoDfiPWX+kPy6sfJ/8AgqACfxB1lrHgD8iY5+LTqFDqhfzZoG7QD3265kf8nhhxS/dIPr82gA5GKQSwWkng4fyiaKhWJV/+xII4Fm+0NGUuUEp5JU3+vd9IAt1LAuYYcSnjFQpawajMGuBvcOh9I6ZiSKGv1584i5Ni0/FJ4+kc/GI4wHh0AmrPwdolnSSKBSQ+n6xJBP8AjUcfSOfihxA8CfpASpIFlgngGf5RATxJ82+UAWKsYn4j4D7xz8WP6z4QAG4gfvrHCpOq/wDaADzi08F+f6w4YhJ/VSvtAAI0JPQqPyiSTKc91RHj9TAB6VA2I/yMPEvp6/eI8vJXkmOZP6P9R94Al7Lp5H7wuyPLyP3iJv6FeB+jwLj8OFpKQuZLJ94XHQ1HpAB3Z8x6/eO9meXrAkuUgs5IOr29RBSJdKEEeY9IA7kPAeZjhDX/AORh7nh5RwkG48xADCoDj/l+sc7VPxEesdmlCdATwAjiVnRAH75CAJE1sr5faOlxqPlEebRQS8MK2qFDx+94AnK2uG56R0TBxHnAv4scTztAxUkHu06m/hAFrCipE6rBRcaZvKnhBKMTUOG5uYANhRCJiPi9THBNR8Ta1PC94AnhQBMxCyHQGT8ardQm5HUjxiJJzXKlngSw/wAUsG6gwAfNxCE95aU9SBDfxadMx6JUfUCIZaSkUQhA5MP09Y4rEJ1WX/pB+jv4QBP+J4IWfBvmREktZN0lPVvoTAalhnKVNxUQn5kQ7BzklTDL+VWbzo3rABsKFCgClxuPyLUCVXsP1NfCKPbntJkR/DUsKJoVBak0NRYAHxix2rKUZqjkBHHO2moqPSKCfKSROlSVIkzSxU2aytd2UHcOKEtGVXm5bR1N+H5ee8ldK3prvrj2K2Z7QqWJgmrmbufuTQEsphlBpm1YsfWJpvtHlEoJVPRKCTUKYlk5QEli4BLHn0iiXhlYaZmUULI7oSvvEi+VszB7ECoiw2Jh1qWZGUS0gntFlHaMksQjmTryrpHmwq1W+V6+ny+frse1Uo0Eudft11xpnGdMbb2LPZ3tLMK96bOShA3VLUhiCAN8lLFRNRGh/HzXLl+olE/6tFHitjFRczJc1OYKSEpEpTgMAUr7yWDVNoixG11SlS0TnSVJcqYhKTqGIc9W1F47YuUE/iPHX3+h5lSMasl8FZ6e1/VvX3ND+NmkVYjhlOlbFREc/GZqZUOOBykN4ZYglypigFIUFjkU/IpHzjkwEEhQD8Sku2tiwGkbSdsnKlfAaMU18yfAkedR5KiTtEZXUQQahST9v1imlzye4SxLEgAijtl0Nru0MybxVmL3eqVcHcO48SPlBTS1I5XsWyseUkFyRxDP5UzD+3yiKZiyd5Ac6ga+FCDziBCTvVoNQGN6mrJOtUgnkbQ4LlpYp33dnzKU472UEE5uiBrWEXfQlq2pJ+LcUKSW0IUfEEE8IanFznolQHQp+g5QxRWxAdIdxmV2YZQqQAC1eQNdIqliciZT+JLXmJTlzMaZQczEp3TXiag3i8VzXS+pST5bNl7+NWm7jn2qUufzKeBZ20F3dPjPQfQRDhVNlDqQtQfKEyX6d02MPxE1v509SOXapB8UpQPSJs1qRdPQarahF1j/AM1J+kOl7ZVy/wBT/wAST6RVTNqSgf55/u7x/WBV7VlEMcRXlKR9EA+sAaRO2A+8keR/9UHYXbki2daS9bM/0jDq2hKFpmZ7vLPzKi3gIj/GSmokXfdUfPep6QB6RL2qg2mP1OU/RomRtGXqW/OCPMH5x5rI2okUdq6Eg+Q/fKJML7S5ezQgEurvLUbPrlqTf0i8KbloUnUjHU9OTPQdT5qjH+1ftbMlzewwpSd0ZplVlBJLjKzOAAav0ik9q5/aJRkBSl1FbK71HBpwr5xlk4ohikAVBoG7tvHjHTw9FS8Wvkc3EV3Hw6eZocdtidNJSMSqYbgSiZaXoVDKE5iMoLHUm3GfZRdSZiZsxK8uYDOpQdgwm1ILq3mGV0mMwZlilKUspwzlmrUlyQGEH4SUtK8wzEsHrSzUOsXryjCFtNu7YKcPCc6l9bZ7vk32H9pzkeYcqkgdo1AC3FWZx0EKZ7TOcoDkhx3/AJAJDVjHfiGorMeLqGby1FRpEc7FB6KIHDdL8A70jy+eyz3330PX+HzPC1vbu3Xr5Z3NRP22tJUpYSEhLhioq57pm9PtEatuzcwUhyCAMpCAkCpJFSc1WjOImJDE5ibOEqdibPQMOXCJJ2I3TkmKBF2cU8zESlZXff2JjBOSS9G9tl6+/mXx20sMpRyu1OzJIemiofL2mtRLLIYtUFL8w8yorFISS/8AEWngSkKbjcesdwxKHAOYUYbpYAfCDeLXlzJWx333ijjT5W756Z77+dwraM0TA690JLh2JJIa6SzV1ixl49+J/MfoX/1ihkY6Wp0qIDXdJYf4kRPhWWkkIBAJBZbkMW91wHuxrWLJrqUknbTQvpMyWVFQSQtQAJBOYgOwYsos50gtIeyleh+hjKrnCoz0SQGIdie6CE0q4vBGZZoSRUGij7pdnDKApopom62Is8cxo6/H/kPs0Crl51JmKQlWR8htehVXSnHnwgZO1CRkW4KizvpckWBoCzeWsESck4IVLWcoIUCksCzhiCKjlyfhBiN9Qk4j4sw5H72Hn9oZigFJKCSMwsgsW45hbrSHrmaJpz+tfmfkHgaRKVmUlKBQjKQSQQwdS8wZ3eteUGQr6rYISVNdhzJ+dz5tEYmqCw0wqSxdADEmjEFJFGehBd47LkKCj28xF90IJLpp45nejNAuN2xJQcsvMo8zkHoAfBoajRhi+0KkqQMmUuQyd6hDGjtV6cIIw20CZqZa5iSoucguwuaaB4z6561kZkTOgSQPNSvm4iw2LhmmpIlKF6kyg1OCSSfAwF+pqYUKFEkGL9ophM5YRiAnRshJSWDVSmutzrAOIkZqHETWbQLSbu+bI4GnjG6mSCSTmbwH2f1jn4Y/F8/vFXFPUuptWtsYRCcOhWbs5JLu6gp63qo8YMTjsMe9KUnmhWcDwdvQxrV4IG5Hk/zMBz9hS1d5KT+UD5CJUUtERKUpZk7lXh8PImfy5mY8AtSFf4KofSOYn2fzhkrJAIJQtLihcbor6Q3G+yST3FlJ6hQ8lfSKxU/F4c5UrE4CzuSOmvkSORg1fDITad0WEqVMljfSAAWTkoANBSqSOGsD4yetTszA7xUW0BzE+8kA2cc3h2D22iaVJmnJNZsqxU8noD0FP6RrV7RxcxM9KbSlNmUcuVy7JBWGBIYEV8NaxorVMtKs9GiXFzFpCjLSCQEvVlcyWDPYs7MoFokTNX2gCpZKVJYuHCMtgp2zaWpWI5O0JaxkR/FSEqzMUlwhKUkFLuSSoXAHkIWMnssISXWXKZXaFLoSgg1Zgcxa566jT4CtqZ/Gd9AuVOISVzBkASFF3YUq1NNYjVi0pAyq7NVCAd0EHeDmw6isPluVkqVRSBuAkgEFTsulGLM1WfSCFIfyZ+Rv8h5RT/FSd0y/+S2rNHJuKShIUokOQNSxOj14v0iuOKmdqFJRlQUlypW6oZg6wlL1qGcuxtE8vBZSglalmWlhmYAmjEsKs1IauQzmUUg1YqICUAl1MOBIt9opCnNRfmWlUg2Cz5Uxah20xAJASkMpwrvboJy5iBUegim25KSVhcmUVJLg5AnK6VEEkg0BcNxakXmLJVReQghmIoXL5gk62qQPUxInATVCuYAgCu64Ft2hI0hGM8NsScM2RkJeDnqskJ6ur5CJTsea9VHwygeoBjZf/jMtVKCeRmV8EtDClCUnswVtfdUQ/VwB841MzJjYSybv5/RTQ+b7OFNyOgJJ/wCZ+UX4xilqyIJWpyMiCBUd4ZlK06RKjZk1iVbgF2Ms+ucV84WsL3MgvYq9FFuBgJUnIsiY9qZCHfQvweNptGciVLJyCYoAsVrChT/w+6Ix2NxhWapA6Dj0js4Vy02OLilHXciGKU7kvahtHM2YklhXhSFKw5U+XQOen1jiJRLc7eEdloJNRdjjUpuSclzet/syREziT5frBUrQhII1JNG5uKecAtxEGYcpFVgKBe1FU4+etI5uJ4eGufTZ/nz/AJ26+F4qolbHrul9ceX8bzCcHAAHeoQAo1qRQ1FRpFjJEtRCSQxSygXSSRYgHLfg/CK9U5L5goqYJfMkVD+MPwuSY6SNXDk1SHJe6aBuEeNV8DXNFpPq7p+WMHvUf1E3CabXRWays5zbV4sr+5cIwrDuhSgR7ygohNQ1QMz6VguXgSQDMBc950pW4c7pKk1TXlaK2RgloTnll0qqzbpGjoNAWiQbTIBBMyXVjlqA9AWP6eNotywiuZmfPUlLkjrf36afi+gevCjeWlImIUwWlJtlcUCnBLmtdDEqkEBp0oKJ91FGoX/mFl1+E6wANshKwED844l2NBUOKv6xcSe1L5ig0yhKN5D3UFAgb4YpFbaRMOWT8L/oVFOEVzrbF9X+dOm1wKVs2UlIUFHusU2XWoBYVUm2vjA4w+UZkqYaKJ3iau5FDblFnIwc5TKQkApS4BJoS4ZJuOlRW0NRtNyET5YSpBoSCG00PPmI6FShHCOOVepO7b16gUvFKcBZCalyUXowdmIq1a+EGzioBOcy1WKiHzM1ctQb2JeHYnBpILFDauokgVNAoDLXUUiuBElZzJ3b10o7pINbuzseRi3JFu6uU+JJKzsEzlMWGZQY94eZ4KsDziTD7RMvdIzSvid6m4+Ic/2Yr5mPylQSQoPU1SAaVTbRnH/UMmKKUhyN6rc9Bz+kS6e7wVjV2WTQSccVTGDmjqVR0ON0AGhJD2dgKwcnHjKcgzAGqlLZL81FwT/a/WMnhMYZSgjELOTLuIQxcu5BUbNzfWjxFLnlSihDhy6mvVqk6lh6aXjnU3extUlFSUV027X0/Jb47aJVTMcmvZ/w0q/MTnUPE9A1WYFSpQ3TUkkZJZzEHTMcppxSDzMF4DZU0h5coI/8VbKX4KO6gf2BXWLOTsID+ZNUo65anxUqivERoL7FbJXNA7gQ/vLXLB6srtD6CCtjrWcQl8ShVTuJN6H+gB+hizk7IlC0kHmokv4d2D8NhAkghCEjkkA+j/OBAZChQoAiVOqwqR+9HMc3jy8h94FxOFTmKhMKFcQtv9VOnxaGJxU1FwJqeKGC/wDEkg+Y6QAb2R4/M/VvSOGSBUkDwH2huHx8tYJSobveB3Sn+4Go8Yx/tD7WBajKkfxALt7x68Pn0ZwL3E4jODlXkli6ywHPSsVytsy0AjDpMw6rOVKfGYoN4JCop5GxMZiCDMAQAKBVkjiE6fWLFPsvKCglSlTpjO3ugcWNAL1PDW0AU+0ZknEfz50oN7shBUR1mMVC3Dwjm0sBJxUtsqyJYBCyFBNrkgMaPVgY10nY6E0YGrMndAPwhmcjVRs1ntaysBLAYpB4vV3vd4m7WgsnqefSpSEAHDobK6QlOUBQy0C15qpzEqzGrhqa8xOBWpap6SDMCQiUihyBSk5lq/qoo3alzaLDbOwxhyTLAGY5nZkuNCKte466RXy5jPnSAVOGy20PFnYxk+KUf3LvBouG5v2vvJYJcqWFDKwGReZyd1lHIRuEfWJFpB1I1LZa0o5YnnSAMZiZlMhbQsLdS1KgnhbnA85Ss6SnETGJBKCxFCxS4G6aN463jpVWLVzndOSdgnam00o/hoU81QoB7oLbxPu3p4RUbJKioywosCctyNTugXVfe+8WWJ2dKmTJikK3ywUNFZbB+l24B7QIAUTXTRQUK61YA/5ACnHnFZttkwVjTYLZ4B/hpZTVWtiRx3Rr1MTTpeSq1FZvdvGlh1iZW0kqQMoADVcAhJ5vRSuAsPSK2cosS5Sxe9X4k0r5eDEpoXFPxSEuCMv9ADE/3EW6eeW5QwExYCpykyZYsk0fkAGboL/MnZmzFHfyjktQ7o/pTTMdcxYCrC72EvDhK3S65mmfvDmTZI/pH/QFRi/Z2XNH8spIBCJhPZZX98JAKr13m6l2gyfsiVLlla0leVPupYlg+6BvqNNVRcyGud5Wr6fl0/dYzvtbtBSkGXLWUEkJChyIUpuTCp4M1Hiybdk3go0ldpZMZtfFpWopSkJGgUAMoOq21fR70fWKxGz1Goy7wCkpKg6gXYBve3TShjT7F2KClR7ULQpKVDd7xYhOYGpSFMWo5aNGrBZcOUggKCMrpSAAVVUoJGrl7x0QqKlhZ+xzzpurl4VvmYDEImS1dmklMwqCcqUpSkuCzc3AdzziaRsWYSO2OVKSzd6gYmqaB3I8I0snD9iVupJVnASTRS8gAdRJclgfAw3CSFlABZ1Ope6Ul0kkhNHstg98sUrcTOMf00r9bZ79zShw0JS/Ubt0vjv2KfaGyJaqVQWASWoBcAgs6S7g3Y8or0+z6w4zgqqwDsoNUZqMeUb/AGjKT2YVyAapppzoT6mKjGo3MpSCWDKscutfBm4+EYviq1OLyn37m64SjUksNe//ABGdkbOlrAK3Sq7Vy093+3n6xNhBlOVSUgcE8fkKCLDDYYAgTApDgj4nrulhyaBJ8tIUQFOoUBDW11uHFCD6R51WdWpG08506a4tlfj6+jShSpyvDGNeumb4f5+k0rELDpd0s3G+o8YmGGlTEhIIsaq0YgNqYBCiHcE0vxHDi/38IYJ9yHcO6NT/AHeV4zpSlo09lvfvz28t9asYrKa3e1lbvTfz2nlo7I7rCujwfhcSWASwD1AsdGIHPTxDNAEtT8C3SnmYjlKV7uZIq4YMp3a3MPEU6kqUrrT/AF+f3998CrTjVVnrjxfL7e22TUYVQWSStWY8BwDMXsacn6uB3HYJK0l0nMBQqUAX5GxHKM5IxigKK+b3uDyI+XAMUjFE+5QZRUlTMRXeLPeO6jxMaslGzu9jgr8LOlBzurLftDJktUs5JhIS1AxI8nBHgR6tFXjMQyVMWaxpc2rduR5wdjp65jFQsGGUDoxA15feKfETwgBKiSwcqDukWUonS/k8epGKirPU8mUnJ3Wg5e7LbLmYAHowBYk26xJIJyJGfKo2IcEhzZ6kN6QiovlGXMRuitQKO9eNq21ehmyvZ51Zicy2JKlE5mHGrpSz6/SObi8tJPJNNOUfO9130IcHJK2EsKW5uf6eBIcnRuPCNV7PYEpQFolyitVSVZ1KB6AMlrPeO/gClKMm6l9wsxTwDaCj8rWEWHssoZVi2WYQa/FvjrVSkxhGHK7nVCmou97hnYYo1/hH88werEDwiRKp6byAf7JoUf8AdKfnFiJYPEHWpiGZiEJLFVf7v1pFzQHG1SP5kqajqgkecvOPNoIwm0pUwshYUdQCCR1a3jHHe62HAF4QkSypJISpSe6SkFQ6HTwgAyFChQAxSOZ82hipQOhPUlofR6/vpDZinOUeJ+nX6QADPwKFlso1qOWg5O0R7O2VKkUlpTmfvBIDckiz/s8ILSpyQno+gA+v6QOk9oGSSJQusXXyQdE/1C+nGJuLHVzVKOSU12K7gHVvjWNSaDmaGeVJCdxD8VquSeZ1UQ3QNyhyU5QEpABagAolI5fTU+jiigQNb9NfEv6kxAOyEi4tZPTj4/JonJjlo4A9T4CAGqRmuKcDGZ2t7OnfVLAKVO6QGIBBfrc0jVQozqU1UVmaU6jpu6PPFSFpzJOYBwC1QSKAkkXYQ84EO5Apanr5N5RssVJYuzpNCOeg8dObDWKnaODynOgODW54NQaClfDxilRSxJ36eRNWs3mKt1KAoSV5WIUCzUNReuhq3hEWLlon3UtBRQ93Wrmh+G448IGxhMpShY0UKudDfheErHrXTcegzZWNFOOulxaOqnw9ruKSRyVeJylJtstJczKcgzEk0AFiQ5V4gO5oKnpfbJ2Q7TJof4Ue6kcTxPX0sM/s5ChMUqZ7i0uRqDr0YW6BtI2RnZ6PTVtQbNyOnHwrWasXhK4lqKiye6/+R5chxMTolJAZn+pjspDVIblwGgEcWTYXNuQ4xQuVHtBiBKlqUCXANjWzkJOlOPIa0zew1pxGacokJSCBozVbkVK8Kc2iw23P7WYiUgOklgPir8iavzSYvZOzEdn2YFA7kUdRu3J/XpBalWpXxoU8gtkdLqVUhqgafvlBJmjKzHectyApTmwiA4bsVkLBI91dienOtojUvVyGS1SxoQzq6aRdpFU2CSMMkJWMpVlBbNvK3k8VVepEGGbupXqEhR8Ay/RKoEzhJV8RZmLp1cmvOH4YElKbB6tXTM3kpoOLvdslTVrJFhglMkouUqI6tUeDERV7RkHK1ABvpe9LgN4FuTwRhZKSsgguBQsQXS6H6sAa8Y5OUlGSWhzMlh0g0KgAywOO6dI56uVbbvY6Kdk1K/fr8gMNOyiYrKCyWIc5i7EMNa0PN4hwI7PM9CndKt3KkB7C78n1ghc4FQWmhd/V3+v/AHD8DKImL7oSujvmILl6GhcFgeZiJ8PUUlJP1+3r9PLUmPFU3FxcXtb7+n189CeRhSo1QS5DzKijboc3cHhFdtXYLVSkEcD97g/vlGuThy6FBRdgKUTcF21PpBM/CJVRTqOqjp0ax6RpG+5nK2x5sZBqxVuiqVVIHjVudojwswOxzJJDBjwJZnDWejxsNp7NlsrOrK3dmWPPesTUApLv5xn1bOMuYEzQyagKbdVTka6axx1oKNS6WuH/AH0+nudtCblTs3+3K/rt+wyfsaagdolAUWdSGq3Ig96nAeVYrZhFFocA3e4NjUaxoBh5if5Yzf0O/ik1I/dBFTiEMVKRevayjutwUAOHl6x30fBNNL3POr+ODTeNbAZnLYlBJJsxubVMCTJJWoJdyEnMU0DKIFiatQCr+AMFrUEozKVqdLBqdTRXpBeyMJ2gdg5Ad+A3lflAYczycHqrzVsPJycPB3ysA2BkspIUgFTjQDM9A4IoG5M1Y1+x8OAsJWcxNVF2BV3hfoegRq7xSbQwoWFzgoM4SC/eL1DabthyreLn2bUF4cJbeSSkE62Ukg8rN0jKUPAn8zaNT9Rx+Rb4iWTLWHA94NUhmIa1hl04xSbKmiXiJiFlhMAIqwJcuKeI8ouvxSVkFCAouErcZQAzvUVoo0HCBsJgk50qUA4zJJOgogMOrjjasZW6m176FjLZYdrUNHUfH3ePGukGy0sGSgAcyPo8CYbEALKD3ksFBi2pSQbVD+QgnDYhKg6FApc1HEFiPMQsLocyhqG4M5HrWHpTrmJ8vtCzwgC72/fpEEj4UKFAEU46C59OcDrms6U6XV6n82vL0h85XerlF1KOg+n7PURMrtiAzSRZNivVzwS7U11gBCWZicqA0oWdx2h5m+T1V0uaVNpagA1PAch+7Q3EYlKAyi3PgHZ2EPlpcuQ1KDgPuf3q4DpaWck1uT+9BClaqNH9BoP3qTDcSsC/dAzK6Cw8W9IWGnJmJC0l0m3684C5KA9T4CHQoUAKFChQAycBlL2br6RTycYhaQQqiu69K6pL8w/hzi7gfEyQp0myvQixHP7CAPOttK7ScoIDgMP8Qx8Hen6QXsyWhQ7M2BzPYqCVD3Ty+RiHFSlyJ6swBU75iO9V6AcwYtJOGSAhRFMrbxq/efxDluLR0VKijFJaHLSpuUnJ6kiEsoCgQuoLXo4fkD+t4LkdmMkwg5kKNibkZTmANacdawGGWkodtUk2d/8AjVjwfyWBmZiUsEKVQg3BTQs2t/KORSla6O1xjezNQjFoUHSoKGgFzAW2cSZUpRHfVTzowOnDzPGKfCpdIJV3XYsDR6nmTbxit7Vc6d2YUo6AVLPS5/pflUxX4tkmy3wrtpFx7MYUqJnG53UHgkUKhwcu3jwjTBLW8oiweGEtASNBE8amQPNlJUd4AjnoeI4QIvASwd5AI0J+v7ppSgNlKzZqEVaurNUcocRoYJhrqUW3cAEys0qTnWCAlIo4JALkWYVetBrFRJWQ2WtQRXm1uJjWqBRQ1Tx4RkvabNInJWhsihmUAFOCkgrUD3RRQLHgYuqiUbMwqrl8QRLWoTQojvE0Pi+ltxHnAHtVjlCWkZiglWYFgSAku1walurN0O2isgpUEuhs/aOGqQcrXqQK/eO4vY6ZiwoEBkLR3Qp89jW7EnzPGKTynYVItwcYlTsjaMpalykZsozKExTBg4NyaB3A4APF3sOSVLZSUdmpLpu7jw7uUgj+5MUWK2DIl9mAQMy0oXnmFIKAQFM5uVCwvmjX4qUBlVLATZhYJIoLWHun+7lFYuWjFHn0nbHQLmKNEk7wIryuFenmIKCAkW+8V86V2qELStSMqgpTM6mcKQp7Je/SDZ0yoAqbt9+GkWNgfa2RMhXaEgUdQuCSKjhUxDNwSSGbcBeoSSCPeGYFuprBipIPfY8tPKHqWBfy+8V5cu5fmwrFbM2WlXDiCR3jxzCoPOKbbGzXTXMpSbEqYo6qqWFbF+V40aiTyR5N9W8m4tZ4w4HerwPDk1vvF07FGrqx5RjcISAlS8qSoZlM7gGwbRwKsaCCpchRBGclAer7vhYaj/qNd7R+z6VgrSrItwwdkKL2HAktTWsZCZsqfLLlOYKDpuofE4LirVN2Yx0qUW+bc5XCUVy7Fjs6fLlMvLnUCS7sUgEBNLEuHpxiyRtZIUN1KElJWcm9lJU4sKEVq2rRUS8Shk5pigQA2VFRbUq3hloKigEW6MJLmgzUiYV1UAQ5VoQQbguKg8YSs8yREbrEWsdstcHtqSsKAmJGU5g7pFSygM3Gp/NyiREwBSsxDAtfRjMH1EZvG7AUiUZgqQaoSC1GOUh9K66Q/B4goUxG64zJIexa1wzxR04vMWaKrJO00a9b8ajdPUVQT9esE0IBFjXoeP3jMSVLVmnJUFKcApSGcd4kvfSLfZe1ErJll0qvlUG5qHm5/wCozcGjWNRMsETsyVFIchwxpUaPw5xIglg4YtUQzunl+/3/ANQyZiGUlLEuWLB2o4/f3ipYIhQoUQSVG0krfMUgy0l8jgPTvKJ5swgjAial+1UlVA2UMpzxFo7jpPaHISyQyl8xonxr5COZUlRVYGhOqmoBTy9OMWvgrZ3HpQFHMW5cVNWn9I+desOLx5lOFJd3yKDkWoFHQvweG4/BmcwBytbjVrn3fCJpkqYlQKAhQarkhXgbAWgrEO5XyNpTApYmpCC4ZRBKXNWUQW7tukXWHJy1ABrQFxekcljMneTlJuKH5UMJWZwzEVd6HkzQbTJimtyWFDc3KFmEVLDoUcKhxEdgBQ1aXDQ6FAFFt/A9qkKFJiC4LA1olQr+WM+mZMLBbqKd5wAAQSNAHIdw9LtSNpi5dDz+dgfp5Rmwrf5BJzVdmJDtpo/V4rUl4eXrgtCPi5umfU7hpaVpIBAI8m0vy1itxa1JWSLgh3bSxfUNuqvRuEHSFJIqAwSXJAoHf/KpA6QNtFaUpo54JY0HutmqFdC0Y/E5Yq/Q1+HzSduoLidpslZBSA9qkirsxA+IgN94vvYrBpEtU1qqNHDUu7Pzb8oik2dsyZPIUkZUgKSp7u4HAuzKZuL1cRtsDLTLQlANhrQ+RiKXNNptYLVOWCaTyFQ1fCEqElPG8dJzCBhEPyh0cgBoH6iMn7YJmJsSmQhJUpQVvAl09zKcwFDfU8I1pHCKz2iKuxdPZjeAV2hYZSWI/uchhES0KVFeJTnEPIUZqkDdJzJJKcvurFK+6eoikwWIKQVS5y0pmS0lC1MtImFRBSHF3BDE68ouJOBzSJaSkJISk/w3CXDGwYi1Wd9Yyo2ugTc5CjJURmR8IJKrP3SVLPFmtFJO2phVlazl+fPv32LDZuHxC5K5XZyzNICpQWU5kJJLLKSFAB3ZyTUjQRF7T7X/AA0yfKkzZpmLA7UEgoQpTKUUOHchTUoM3EBtL7MSJkpM0CUoJMx5bJA3ClJABUWABcVeKnaWwJ68QqYQM0ycgIUpAm5ZaUl33VBNBfUgVrHRwqineRnKnJQVr30/n0LfYGKmqw6FTCxXLBUdSW3VHgVBgf6gOMXqZqRap0A/fF7QDjdhCY38VaK1ybrpYgp5CxpwEGI2ZLHZ0JMsuklSnfKUua7xYm8Vdm7nZG6ViUJWb7v7/esPlyAOZ4n6CwiWOxUscaBp8nuuVBIU9C3griitvpYqFAA8+SCMqkhSeBDs1Qf3aK2ZhguUqWquUliO8KZkkHlYa01eLVstqp4cOnLl/wBRXbTUUELQzLZJo4d3SfLMH6ROuCHjJQYrChB3gK3SAMqg/fl2AL3RRiS2VyQ6djN3K1huKFxdhRnDUsC2huXpR2u6pSnuDmcg2SWtZ3gdaShTLACiK0dMxPFteLGo4s72WMFHdq6J8PimOdSipC01qSCdHHGn70hw/fZ+9mvq4pXmQmBpVCUCxBoCSeYc0WljY7wYvCnqIo5UO8Gd+rVLsT6HURZNPBVprJrtnIQUghKRcWAYmpBbnEK5CUzBMIcgip+GoB8BT8o4xW7A2gCFJJrxNiLEHUH1iwxmLzDKkF+dKHjy1o7xR3TNFZobgcSoLnSlAOFFQJNADUnoKN16w78WmXMAUpRJYBPFz3zw6X1ivwElU0jI2ZLgzdK8NVqvWgHOLjDbOlpV3QogA5jUuSXJJ1oIltXISdrFlChQooXAJgdRDFncgG5pciwtT5RPLkcacAKN9vDziQLDtEkAcSGtHYUKAFChQoAUKFCgBkyUlTOkFi4cWPGFk4E/P5w+FADa8j6feFmPA+kOhqlAQBwqFiD5RksUeznTQATmIYi9Q5DGxtGtLm9B6xlNnqJKmSAoKqpVWBo3F6ekYVnlRW5tRWHJ7FZNWAoB90nu6jR/XhBWB2erErVTLLqDWpd3sXD6cgOMGYbBqn2UoC4KqgmrsHZnbzjSYbChCQBdqkADMeJAo8UhBS1WC858ujyPw8hKEhKQwFhD1NraGlxr5j7Ryuo8HjqSsczdziZIuzcACR8odkPxH0+0dzcj6feFn5GAOZVfF6QmVxHl+sdzcj6feE54esANyn4vIRBjsEJiFIWSUqBBt52oRcGCWPHyH3hZB16wDVzBZ0SUJlmZMUpBVJzssJ3iyQAN0rYBjpdzYw7M2BMnr3VLErOlapy3ExbOyUHKCWKQXJpThHosKKchi6Kdk9O/MgGYUJ87Hofu8PCuII/fKHkPeGMRao4G/n94ubDkqBsRDojdJoRXgbx3sxz8zAD440NyH4j6faFlPxH0+0AOhQ3IfiPp9oXZ8z5n6QA4qa8A7SlhUtbPZ6CjioPVxpBolgaCHQRDyYiQ4ygoUCkuVgu9KgBLkaUMWK1IWmpS3ElSSDyJTeNIlADsAHqeZ4wyZhkKLqSCeLV87xLdyIxsYSflHeWlviBCmKS4JApz9aRCVOzKSqjhiBRwaNVmPjG1xWzZS6HMTwzFV6e84EZrGbH/AA5d3Cq8nHJ6Vyv4xpB3ZnNNIEwi15x2Z/iNu7wDc2LuKszN0izlSVEk4gKfWlCbuoWUKaHSgpSwk7JmJQEnIrW2pvc08DEMzCLTU+YQAfMqD9CW52ik5XZeEeVE8nEpSc4LigUKMBxAFmuRe8HIxIK2ChvK0q4AFvF6/pGcxUqUQe0Kj0OU+B7wHiepg/2awa0nOUgJNgrvciCat84Wurhys7GjhQoUVLjVIBhmUi339PtEsKAIws8H6frHe0GtOtPnDikRzKdD5wB0KBtHYjKeKQf3zjhA+FvL6QBLCiDMj9vCzI5eUASdoOIhZ+APy+cILGgjrnh5mAOMTct0+8dAA+/6wmPHy/WEECAI5690twvGYA/iLy5iVFg1K0KuYDu5jWERXT9kgqCkqILh9XA06RlVi5JWNaUlFu5PgkhKASyaDkAB9LnygnNwr8o4uUFBlAKHAikPEaIzY0J41MOhRxokg7CjhMdgBQoUKAFChQoAUKFCgBQoUKAGqSDescyHQnxr+vrD4UAR5lP3X5j9Y72nEEeD/KHwoAZ2o/YIhdqnjD4UAM7Uc/ImF2nAHyb5w+FADHVwA619P1hdnxJPoPSHwoA4lIFqQlJBuHjsKAFHGjscEAV03ZKVzBMUokCyNP28HplAEkAOWc8WtD4UTdkKKQoUKFEEn//Z' width='400px' >\n",
    "\n",
    "and even the words we use to describe the world:\n",
    "\n",
    "<img src='https://upload.wikimedia.org/wikipedia/commons/9/91/Khcoder_net_e.png' width='400px'>\n",
    "\n",
    "And of course we can perform combinations of these two:\n",
    "\n",
    "<img src='https://networkofthrones.files.wordpress.com/2019/08/got-s8.png?w=1024' width='400px'>"
   ]
  },
  {
   "cell_type": "markdown",
   "metadata": {
    "slideshow": {
     "slide_type": "subslide"
    }
   },
   "source": [
    "Full-stop. A network graph is simply a mathematical model that is composed of vertices and edges, $G = (V, E)$\n",
    "\n",
    "<img src='../images/basic_network.png'>\n",
    "\n",
    "This mathematical model facilitates the analysis of topology and interactions between entites. The first usage of a network was by Euler in the 1700s to solve a long-standing riddle concerning the [traversal of bridges in Konigsberg](https://en.wikipedia.org/wiki/Seven_Bridges_of_Königsberg). His insight may seem extremely simple, it involved the reduction of a physical reality to a mathematical object\n",
    "\n",
    "<img src='../images/konigsberg_bridge.png'>\n",
    "\n",
    "but it allowed for a mathematical proof to the riddle that was not easily achieved with other approaches."
   ]
  },
  {
   "cell_type": "markdown",
   "metadata": {
    "slideshow": {
     "slide_type": "slide"
    }
   },
   "source": [
    "# Analyzing networks with Python\n",
    "\n",
    "There are primarily two packages you can use when you want to undertake network analysis. The first package is **NetworkX**, which has been under development for almost a decade now. The second is **graph-tool**, which is younger. graph-tool is significantly faster than NetworkX because most of the package is implemented in C++. However, this makes installation of the package more difficult.\n",
    "\n",
    "At the start of class we installed `graph-tool` and given the speed advantages and built-in statistical modelling we will use it in class."
   ]
  },
  {
   "cell_type": "code",
   "execution_count": null,
   "metadata": {},
   "outputs": [],
   "source": [
    "#Colab USAGE!!\n",
    "# !apt install libcairo2-dev libgif-dev libjpeg-dev \n",
    "# !pip install pycairo\n",
    "# !echo \"deb http://downloads.skewed.de/apt bionic main\" >> /etc/apt/sources.list\n",
    "# !apt-key adv --keyserver keys.openpgp.org --recv-key 612DEFB798507F25\n",
    "# !apt-get update\n",
    "# !apt-get install python3-graph-tool"
   ]
  },
  {
   "cell_type": "code",
   "execution_count": null,
   "metadata": {
    "slideshow": {
     "slide_type": "fragment"
    }
   },
   "outputs": [],
   "source": [
    "from graph_tool.all import *"
   ]
  },
  {
   "cell_type": "markdown",
   "metadata": {},
   "source": [
    "And creating a graph is simple, we just ask for a graph."
   ]
  },
  {
   "cell_type": "code",
   "execution_count": null,
   "metadata": {},
   "outputs": [],
   "source": [
    "g = Graph()\n",
    "g"
   ]
  },
  {
   "cell_type": "markdown",
   "metadata": {},
   "source": [
    "By default `Graph()` will create an empty directed graph object. If we want to add our nodes, we do that by asking it to add a vertex"
   ]
  },
  {
   "cell_type": "code",
   "execution_count": null,
   "metadata": {},
   "outputs": [],
   "source": [
    "v1 = g.add_vertex()\n",
    "v2 = g.add_vertex()\n",
    "v2"
   ]
  },
  {
   "cell_type": "code",
   "execution_count": null,
   "metadata": {},
   "outputs": [],
   "source": [
    "[x for x in g.vertices()]"
   ]
  },
  {
   "cell_type": "markdown",
   "metadata": {},
   "source": [
    "You can see that the added vertices are given an index and added to the graph."
   ]
  },
  {
   "cell_type": "code",
   "execution_count": null,
   "metadata": {},
   "outputs": [],
   "source": [
    "graph_draw(g, vertex_text=g.vertex_index)"
   ]
  },
  {
   "cell_type": "markdown",
   "metadata": {},
   "source": [
    "And if we draw the graph, we can see that it's all there but basic -- two simple disconnected vertices. We need to add the edges between vertices in order to actually connect it."
   ]
  },
  {
   "cell_type": "code",
   "execution_count": null,
   "metadata": {},
   "outputs": [],
   "source": [
    "e1 = g.add_edge(v1, v2)\n",
    "graph_draw(g, vertex_text=g.vertex_index)"
   ]
  },
  {
   "cell_type": "markdown",
   "metadata": {},
   "source": [
    "Now we see the connection between vertex `0` and `1`, with an edge (arrow) pointing from vertex `0` to vertex `1`.\n",
    "\n",
    "This pointed arrow denotes **directionality**, it says that information is passed from `v1`  to `v2`, but not vice-versa. If you wanted this relationship to be bi-directional, you would need to add a second edge that says that the **source** of the connection is `v2` and the **target** of that information is `v1`."
   ]
  },
  {
   "cell_type": "code",
   "execution_count": null,
   "metadata": {},
   "outputs": [],
   "source": [
    "e1 = g.add_edge(v2, v1)\n",
    "graph_draw(g, vertex_text=g.vertex_index)"
   ]
  },
  {
   "cell_type": "markdown",
   "metadata": {},
   "source": [
    "and now we see two edges, with one originating from each one of the nodes and this will denote that `v1` sends to `v2` and vice versa.\n",
    "\n",
    "## Question\n",
    "\n",
    "* What are the potential types of connections/transactions where it should be bidirectional?\n",
    "* Simply directional? \n",
    "* Does direction always matter?"
   ]
  },
  {
   "cell_type": "markdown",
   "metadata": {},
   "source": [
    "# Theoretical graphs and construction\n",
    "\n",
    "## Undirected vs. Directed\n",
    "\n",
    "An **undirected** network means that an edge has no direction, in our network an edge means that an edge goes for both of the nodes.\n",
    "\n",
    "If we wanted to examine a network where we looked at who initiated a conversation with whom during a day, we would want a **directed** network. **By default** graph-tool constructs a directed network. \n",
    "\n",
    "<img src=\"https://blogs.sas.com/content/graphicallyspeaking/files/2016/05/Network_Icon_Single__15_B.png\" width=\"400px\"></img>\n",
    "\n",
    "In a directed network an edge is displayed with an arrow and it shows the direction of the edge and it is not symmetric, **unlike** an undirected network. This means that if:\n",
    "* Bob starts a conversation with Alice, then we would draw an edge from Bob to Alice with the arrow pointed to Alice\n",
    "* Later that day Alice started a conversation with Bob, we would draw another edge from Alice to Bob, with the arrow pointed at Bob\n",
    "\n",
    "If we want an undirected network, we can specify that at the time of graph creation"
   ]
  },
  {
   "cell_type": "code",
   "execution_count": null,
   "metadata": {},
   "outputs": [],
   "source": [
    "ug = Graph(directed=False)\n",
    "uv0 = ug.add_vertex()\n",
    "uv1 = ug.add_vertex()\n",
    "ue0 = ug.add_edge(uv0, uv1)\n",
    "graph_draw(ug, vertex_text=ug.vertex_index)"
   ]
  },
  {
   "cell_type": "markdown",
   "metadata": {},
   "source": [
    "## Unweighted vs. Weighted\n",
    "\n",
    "An **unweighted** network has edges that are effectively binary, either there exists an edge between two nodes or there does not exist an edge. All edges that exist are counted the same.  This type of network makes sense for friendship, since two people are either friends or they are not. \n",
    "\n",
    "If we think about our conversation network though, we would want to know the **number** of times that two individuals interact --- especially because it is likely that all of the individuals would talk to each other during the course of a day. This means that the presence or absence of an edge doesn't matter because it is a **fully connected** network. We would add the **number** of conversations, more typically known as the **weight** of an edge, to represent the strength of the connection between two nodes. In a graph we typically show weights by making the width of an edge larger.\n",
    "<img src=\"https://humannaturegroup.files.wordpress.com/2009/12/map.png\" width=\"400px\"></img>"
   ]
  },
  {
   "cell_type": "code",
   "execution_count": null,
   "metadata": {},
   "outputs": [],
   "source": [
    "ug = Graph(directed=False)\n",
    "# Create the edge weight property\n",
    "eweight = ug.new_ep('double')\n",
    "# g.edge_properties['weight'] = edge_weights\n",
    "ug.add_edge_list([(0, 1, 2), (1, 2, 10)], eprops=[eweight])\n",
    "#Draw the graph\n",
    "graph_draw(ug, vertex_text=ug.vertex_index, edge_pen_width=eweight)\n",
    "eweight.fa"
   ]
  },
  {
   "cell_type": "markdown",
   "metadata": {},
   "source": [
    "# Summing up the basics\n",
    "\n",
    "So far we have covered creating a graph, creating a few nodes and edges, and graphing it (which actually looks rather nice!). There's a little bit of work we have to do to have properties for edges and vertices (with the definition of the data type in C++ data struct language), but that's all in the name of speed. \n",
    "\n",
    "For reinforcement let's create a simple communication network for four co-workers."
   ]
  },
  {
   "cell_type": "code",
   "execution_count": null,
   "metadata": {},
   "outputs": [],
   "source": [
    "import itertools\n",
    "#Our four individuals\n",
    "individuals = ['Alice', 'Bob', 'Carol', 'David']\n",
    "edge_list = [x for x in itertools.combinations(individuals, 2)]\n",
    "\n",
    "G = Graph()\n",
    "#Add the edges, hashed tells graph-tool to infer the index numbers\n",
    "vmap = G.add_edge_list(edge_list, hashed=True)\n",
    "graph_draw(G, vertex_text=vmap)"
   ]
  },
  {
   "cell_type": "markdown",
   "metadata": {},
   "source": [
    "We can remove a node if need be from the graph"
   ]
  },
  {
   "cell_type": "code",
   "execution_count": null,
   "metadata": {},
   "outputs": [],
   "source": [
    "G.remove_vertex(0)\n",
    "graph_draw(G, vertex_text = vmap)"
   ]
  },
  {
   "cell_type": "markdown",
   "metadata": {},
   "source": [
    "And check all our nodes now:"
   ]
  },
  {
   "cell_type": "code",
   "execution_count": null,
   "metadata": {},
   "outputs": [],
   "source": [
    "[x for x in G.vertices()]"
   ]
  },
  {
   "cell_type": "markdown",
   "metadata": {},
   "source": [
    "Importantly all of our vertices are numbers not names -- why? **Discussion** of old times\n",
    "\n",
    "But with a vertex we can perform many operations to extract data from the graph."
   ]
  },
  {
   "cell_type": "code",
   "execution_count": null,
   "metadata": {},
   "outputs": [],
   "source": [
    "tv = [x for x in G.vertices()][0]\n",
    "#Get edges:\n",
    "print('edges for vertex 0')\n",
    "for x in tv.all_edges():\n",
    "    print(x)\n",
    "print('--')\n",
    "#Or get all neighbors\n",
    "print('neighbors for vertex 0')\n",
    "for x in tv.all_neighbors():\n",
    "    print(x)\n",
    "print('--')\n",
    "#Or just count neighbors\n",
    "print(f'vertex 0 has {tv.in_degree() + tv.out_degree()} neighbors')\n",
    "#Weren't expecting that were you??"
   ]
  },
  {
   "cell_type": "markdown",
   "metadata": {},
   "source": [
    "Of course we don't have to iterate through this manner to access these attributes"
   ]
  },
  {
   "cell_type": "code",
   "execution_count": null,
   "metadata": {},
   "outputs": [],
   "source": [
    "print(f'Vertex 1 has in-degree {G.vertex(1).in_degree()} and out-degree {G.vertex(1).out_degree()}')"
   ]
  },
  {
   "cell_type": "markdown",
   "metadata": {},
   "source": [
    "# Basic network statistics \n",
    "\n",
    "**Degree** - the number of connections you have to other vertices. In-degree is the number of incoming links and out-degree is the number of outgoing links. Total degree is the sum of these two, in an unweighted network total degree is equal to the number of network neighbors.\n",
    "\n",
    "**Centrality** - whoo, well there's a number of these. Effectively a measure of how 'central' a vertex is in the network. There are many mathematical formulations which are different interpretations of what the word 'central' means. Requires the entire context of the network to calculate.\n",
    "\n",
    "**Clustering** - How tightly closed the connections are in your local sphere, i.e. are your friends friends?"
   ]
  },
  {
   "cell_type": "code",
   "execution_count": null,
   "metadata": {},
   "outputs": [],
   "source": [
    "#Reset the network\n",
    "G = Graph(directed=False)\n",
    "#Add the edges, hashed tells graph-tool to infer the index numbers\n",
    "vmap = G.add_edge_list(edge_list, hashed=True)"
   ]
  },
  {
   "cell_type": "code",
   "execution_count": null,
   "metadata": {},
   "outputs": [],
   "source": [
    "#calculate betweenness centrality\n",
    "bet_vmap, bet_emap = betweenness(G)\n",
    "bet_vmap[3]"
   ]
  },
  {
   "cell_type": "code",
   "execution_count": null,
   "metadata": {},
   "outputs": [],
   "source": [
    "#Calculate clustering coefficient\n",
    "clust_vmap = local_clustering(G)\n",
    "clust_vmap[2]"
   ]
  },
  {
   "cell_type": "markdown",
   "metadata": {},
   "source": [
    "Really boring because the network isn't bit enough!\n",
    "\n",
    "So let's step up our game here and transition to a larger network. For this we'll use the divvy bikes network that's in the data folder.\n",
    "\n",
    "# Divvy network\n",
    "\n",
    "The `divvy_network.json` has the divvy stations as vertices and the edges are a bike being checked out at one station and docked at another.\n",
    "\n",
    "`graph-tool` doesn't support json as a network format though, so we'll need to do a transformation using NetworkX."
   ]
  },
  {
   "cell_type": "code",
   "execution_count": null,
   "metadata": {
    "slideshow": {
     "slide_type": "fragment"
    }
   },
   "outputs": [],
   "source": [
    "import networkx as nx\n",
    "from networkx.readwrite import json_graph\n",
    "import json\n",
    "\n",
    "data = json.load(open('../data/divvy_network.json'))\n",
    "G = json_graph.node_link_graph(data)\n",
    "#Need to sanitize out all the information\n",
    "H = nx.Graph()\n",
    "H.add_edges_from(G.edges())\n",
    "#And graph_tool can read graph_ml\n",
    "nx.readwrite.write_gml(H, '../data/divvy_network.gml')"
   ]
  },
  {
   "cell_type": "markdown",
   "metadata": {},
   "source": [
    "If we write out a graph in the gml format (which requires stripping properties), then we can read it in."
   ]
  },
  {
   "cell_type": "code",
   "execution_count": null,
   "metadata": {},
   "outputs": [],
   "source": [
    "!head ../data/divvy_network.gml"
   ]
  },
  {
   "cell_type": "code",
   "execution_count": null,
   "metadata": {},
   "outputs": [],
   "source": [
    "divvyg = load_graph('../data/divvy_network.gml')\n",
    "graph_draw(divvyg)"
   ]
  },
  {
   "cell_type": "markdown",
   "metadata": {
    "slideshow": {
     "slide_type": "slide"
    }
   },
   "source": [
    "Pretty!\n",
    "\n",
    "Understanding non-trivial networks is difficult by plotting the network because of the large number of nodes and edges that would overlap. For this reason we typically look at distributions of network statistics, such as the distribution of degrees."
   ]
  },
  {
   "cell_type": "code",
   "execution_count": null,
   "metadata": {
    "slideshow": {
     "slide_type": "fragment"
    }
   },
   "outputs": [],
   "source": [
    "#Exercise\n",
    "# Plotting the distribution of degrees\n",
    "\n"
   ]
  },
  {
   "cell_type": "markdown",
   "metadata": {
    "slideshow": {
     "slide_type": "slide"
    }
   },
   "source": [
    "So what we can see is that there is a slight peak near the larger side of the distribution, this means that there are a number of Divvy stations that see a large number of trips. \n",
    "\n",
    "Since the Divvy Trip network is a transportation network (it shows movement from one station to another) we can look at betweenness centrality. Betweenness centrality for a node `i` is the sum of the fraction of shortest paths that pass through `i`."
   ]
  },
  {
   "cell_type": "code",
   "execution_count": null,
   "metadata": {
    "slideshow": {
     "slide_type": "fragment"
    }
   },
   "outputs": [],
   "source": [
    "# Exercise\n",
    "# Distribution of betweenness centrality\n"
   ]
  },
  {
   "cell_type": "code",
   "execution_count": null,
   "metadata": {},
   "outputs": [],
   "source": []
  },
  {
   "cell_type": "markdown",
   "metadata": {
    "slideshow": {
     "slide_type": "slide"
    }
   },
   "source": [
    "Now we should look and see if this network is assortative. That means, what is my degree versus my neighbor's degree? Am I typically connected to neighbors that have the same degree as me or not?"
   ]
  },
  {
   "cell_type": "code",
   "execution_count": null,
   "metadata": {},
   "outputs": [],
   "source": [
    "#Exercise\n"
   ]
  },
  {
   "cell_type": "markdown",
   "metadata": {
    "slideshow": {
     "slide_type": "fragment"
    }
   },
   "source": [
    "The network is assortative, nodes with a high-degree have neighbors that also have a high degree. \n",
    "\n",
    "### Why is that? When would the converse be true?"
   ]
  },
  {
   "cell_type": "markdown",
   "metadata": {
    "slideshow": {
     "slide_type": "slide"
    }
   },
   "source": [
    "We can and should check this though. Implement a function to calculate the distance between two stations with the [Haversine distance](https://en.wikipedia.org/wiki/Haversine_formula)"
   ]
  },
  {
   "cell_type": "code",
   "execution_count": null,
   "metadata": {
    "slideshow": {
     "slide_type": "fragment"
    }
   },
   "outputs": [],
   "source": [
    "#Exercise\n"
   ]
  },
  {
   "cell_type": "code",
   "execution_count": null,
   "metadata": {},
   "outputs": [],
   "source": []
  },
  {
   "cell_type": "markdown",
   "metadata": {
    "slideshow": {
     "slide_type": "slide"
    }
   },
   "source": [
    "Interesting, this appears to be a pretty small distance. But to make sure we should calculate and plot the differences between distance between neighbors and distance between non-neighbors"
   ]
  },
  {
   "cell_type": "code",
   "execution_count": null,
   "metadata": {
    "slideshow": {
     "slide_type": "fragment"
    }
   },
   "outputs": [],
   "source": [
    "#Exercise\n"
   ]
  },
  {
   "cell_type": "code",
   "execution_count": null,
   "metadata": {
    "slideshow": {
     "slide_type": "fragment"
    }
   },
   "outputs": [],
   "source": [
    "ax = plt.subplot(111)\n",
    "ax.boxplot([avg_neighbor_distances, avg_non_neighbor_distances])\n",
    "plt.setp(ax, xticklabels=['Neighbor', 'Non-Neighbor'])\n",
    "ax.set_xlim(0.5,2.5)\n",
    "ax.set_ylabel('Distance')\n",
    "plt.tight_layout()"
   ]
  },
  {
   "cell_type": "markdown",
   "metadata": {
    "slideshow": {
     "slide_type": "slide"
    }
   },
   "source": [
    "Now let's test whether these two distributions from the same distribution or not, using the Kolmogorov-Smirnov test.\n",
    "\n",
    "**Are these two distributions the same or not?**"
   ]
  },
  {
   "cell_type": "code",
   "execution_count": null,
   "metadata": {
    "slideshow": {
     "slide_type": "fragment"
    }
   },
   "outputs": [],
   "source": [
    "from scipy.stats import ks_2samp\n",
    "\n",
    "D, p = ks_2samp(avg_neighbor_distances, avg_non_neighbor_distances)\n",
    "print( p )"
   ]
  },
  {
   "cell_type": "markdown",
   "metadata": {
    "slideshow": {
     "slide_type": "slide"
    }
   },
   "source": [
    "# Network Path Traversal\n",
    "\n",
    "Another important part is traversing a network. What are two easy ways that this could be done?\n",
    "\n",
    "**answer is....**\n",
    "\n",
    "Breadth-first or depth-first\n",
    "\n",
    "Perfect!\n",
    "\n",
    "Now let's implement breadth first of these algorithms\n",
    "\n",
    "so if we have a tree like:\n",
    "\n",
    "`\n",
    " -> My tree starting from Z\n",
    "     Z\n",
    "  |     |\n",
    "  B     C\n",
    "|  |  |  |\n",
    "D  E  F  G\n",
    "`\n",
    "\n",
    "The answer should be:\n",
    "[B, C, D, E, F, G]"
   ]
  },
  {
   "cell_type": "code",
   "execution_count": null,
   "metadata": {
    "slideshow": {
     "slide_type": "fragment"
    }
   },
   "outputs": [],
   "source": [
    "#Exercise\n"
   ]
  },
  {
   "cell_type": "markdown",
   "metadata": {
    "slideshow": {
     "slide_type": "fragment"
    }
   },
   "source": [
    "But there's a simpler way to do this, since it's a built in method of networkx"
   ]
  }
 ],
 "metadata": {
  "anaconda-cloud": {},
  "celltoolbar": "Slideshow",
  "kernelspec": {
   "display_name": "Python 3",
   "language": "python",
   "name": "python3"
  },
  "language_info": {
   "codemirror_mode": {
    "name": "ipython",
    "version": 3
   },
   "file_extension": ".py",
   "mimetype": "text/x-python",
   "name": "python",
   "nbconvert_exporter": "python",
   "pygments_lexer": "ipython3",
   "version": "3.8.10"
  },
  "toc": {
   "base_numbering": 1,
   "nav_menu": {},
   "number_sections": true,
   "sideBar": true,
   "skip_h1_title": false,
   "title_cell": "Table of Contents",
   "title_sidebar": "Contents",
   "toc_cell": false,
   "toc_position": {},
   "toc_section_display": true,
   "toc_window_display": true
  }
 },
 "nbformat": 4,
 "nbformat_minor": 1
}
