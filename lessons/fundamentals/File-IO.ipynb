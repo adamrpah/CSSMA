{
 "cells": [
  {
   "cell_type": "code",
   "execution_count": null,
   "metadata": {},
   "outputs": [],
   "source": [
    "from IPython.core.display import HTML\n",
    "\n",
    "def css_styling():\n",
    "    styles = open(\"../Data/www/styles/custom.css\", \"r\").read()\n",
    "    return HTML(styles)\n",
    "css_styling()"
   ]
  },
  {
   "cell_type": "markdown",
   "metadata": {},
   "source": [
    "# Synopsis\n",
    "\n",
    "In this unit we will earn an important skill, how to read and write files. In order to do that, we will cover:\n",
    "\n",
    "1. How files are organized on a computer and how to view/find file locations with terminal commands from the notebook\n",
    "2. How to open a file and read it\n",
    "3. How to open a file and write text to it. "
   ]
  },
  {
   "cell_type": "markdown",
   "metadata": {},
   "source": [
    "# Reading and writing files\n",
    "\n",
    "Typing strings and numbers into an IPython Notebook are great ways to learn basics,\n",
    "but sooner or later you will have to learn how to read data from a file, perform some analysis on that data and ideally save the analysis. \n",
    "\n",
    "But first we need to go over the basics of the filesystem so you know where and how things are located"
   ]
  },
  {
   "cell_type": "markdown",
   "metadata": {},
   "source": [
    "# Filesystems\n",
    "\n",
    "A filesystem is presented to you in a folder structure like this\n",
    "\n",
    "<img src='../Data/www/images/osx_finder.png'></img>\n",
    "\n",
    "Where each folder is inside another folder and this keeps going all the way up. In fact this continues until we reach the root of the hard drive.\n",
    "\n",
    "One way to visualize this differently is to think of the file system as a tree. In Linux/OS X the tree generically looks like this:\n",
    "\n",
    "<img src='../Data/www/images/linux_fs_tree.png' width='600px'></img>\n",
    "\n",
    "On Windows it's very similar, it's just the root is `C:` instead of `/`\n",
    "\n",
    "<img src='../Data/www/images/windows_fs_tree.png' width='400px'></img>"
   ]
  },
  {
   "cell_type": "markdown",
   "metadata": {},
   "source": [
    "When we want to see what is inside a folder we can use the `ls` command (it stands for `list`). `ls` is **not** a Python command (it comes from the terminal) but Jupyter notebook allows us to use this command natively in any code cell **as long as there is no Python code in the cell**.\n",
    "\n",
    "If we wanted to see all of the files in this directory we can just use the following command:"
   ]
  },
  {
   "cell_type": "code",
   "execution_count": null,
   "metadata": {},
   "outputs": [],
   "source": [
    "ls *"
   ]
  },
  {
   "cell_type": "markdown",
   "metadata": {},
   "source": [
    "`ls` means `list` and the `*` is what we call a `wildcard`. The `*` wildcard means match to everything. \n",
    "\n",
    "We can use it with some text to restrict what we display though. If we only want to see Jupyter notebooks we can do"
   ]
  },
  {
   "cell_type": "code",
   "execution_count": null,
   "metadata": {},
   "outputs": [],
   "source": [
    "ls *ipynb"
   ]
  },
  {
   "cell_type": "markdown",
   "metadata": {},
   "source": [
    "If we want to see where we currently are in the tree, we can use the `pwd` command (shorthand for `p`resent `w`orking `d`irectory)"
   ]
  },
  {
   "cell_type": "code",
   "execution_count": null,
   "metadata": {},
   "outputs": [],
   "source": [
    "pwd"
   ]
  },
  {
   "cell_type": "markdown",
   "metadata": {},
   "source": [
    "## But now how do we move out of our current folder?\n",
    "\n",
    "There are two ways to access a path: (i) absolute and (ii) relative.\n",
    "\n",
    "**Absolute paths** start from the *root* of the tree that we showed. On OS X or Windows that means the path will start with `/` or `C:\\`. We just string together the folder names with the path separator to get to our current path.\n",
    "\n",
    "**Note: I have this written for OS X, if you are using Windows change the `/` to `\\`\n",
    "\n",
    "We don't always have to use the root though, the `~` symbol stands for our user directory and we can start paths from there."
   ]
  },
  {
   "cell_type": "code",
   "execution_count": null,
   "metadata": {},
   "outputs": [],
   "source": [
    "ls /"
   ]
  },
  {
   "cell_type": "code",
   "execution_count": null,
   "metadata": {},
   "outputs": [],
   "source": [
    "ls ~/"
   ]
  },
  {
   "cell_type": "code",
   "execution_count": null,
   "metadata": {},
   "outputs": [],
   "source": [
    "ls ~/Desktop"
   ]
  },
  {
   "cell_type": "markdown",
   "metadata": {},
   "source": [
    "**Relative paths** start from where you **currently** are. \n",
    "\n",
    "The symbol for your **current** directory is `.`\n",
    "\n",
    "The symbol for the **parent** directory (the folder above you) is `..`"
   ]
  },
  {
   "cell_type": "code",
   "execution_count": null,
   "metadata": {},
   "outputs": [],
   "source": [
    "ls ."
   ]
  },
  {
   "cell_type": "code",
   "execution_count": null,
   "metadata": {},
   "outputs": [],
   "source": [
    "ls ../"
   ]
  },
  {
   "cell_type": "markdown",
   "metadata": {},
   "source": [
    "Here are alternate ways of looking at one path:\n",
    "\n",
    "<img src='../Data/www/images/DirTree.png'></img>\n",
    "\n",
    "**Absolute Path:**\n",
    "\n",
    "'/home/jono'\n",
    "\n",
    "\n",
    "\n",
    "**Relative Paths 1:** Getting to *jono* from...            \n",
    "\n",
    "                    /home/jono/                   ./\n",
    "\n",
    "                    /usr/lib/                     ~/jono/\n",
    "\n",
    "                    /home/cory/                   ../jono/\n",
    "\n",
    "                    /home/jono/work/              ../\n",
    "                    \n",
    "                    \n",
    "**Relative Paths 2:** Sometimes there are multiple ways of getting to *jono* ...\n",
    "\n",
    "                    /usr/lib/                     ~/jono\n",
    "                    \n",
    "                    /usr/lib/                     ../../home/jono"
   ]
  },
  {
   "cell_type": "markdown",
   "metadata": {},
   "source": [
    "Here is the structure of the `NICO101/` folder that we downloaded.\n",
    "\n",
    "<img src='../Data/www/images/bootcamp_structure.svg'></img>\n",
    "\n",
    "For this session we're going to use files that are in the `Data/Day2-Collections-and-Files` folder and right now we are using the `Day2_am2_File-IO.ipynb` notebook. \n",
    "\n",
    "Show me what is in the `Data/` folder"
   ]
  },
  {
   "cell_type": "code",
   "execution_count": null,
   "metadata": {},
   "outputs": [],
   "source": [
    "ls ../Data/Day2-Collections-and-Files/Roster/*"
   ]
  },
  {
   "cell_type": "markdown",
   "metadata": {},
   "source": [
    "# Now for reading files\n",
    "\n",
    "Inside the `Data/Day2-Collections-and-Files/` folder we have another folder labelled `Roster/`. The `Roster` file is full of lots of small `.txt` files (just raw text). Each file looks something like this:\n",
    "\n",
    "    #This is a file that holds important personal information that should not be shared. You are being watched.\n",
    "\n",
    "    Name:\tAgatha A. Bailey\n",
    "    Date of Birth:\t1/10/75\n",
    "    Email Address:\tagatha.bailey@northwestern.edu\n",
    "    Department:\tEngineering\n",
    "    Height:\t6ft,0in\n",
    "    Weight:\t220lbs\n",
    "    Favorite Color:\tLime\n",
    "    Favorite Animal:\tTurtle\n",
    "    Zodiac Sign:\tJanuary\n",
    "    \n",
    "You have all of these files because you just got a new job as an administrator in a department at Northwestern University. Congratulations!\n",
    "\n",
    "Since you're the new administrator you want to calculate some basic properties of the student body population.\n",
    "\n",
    "When we work with **any** new data the first step is to **look** at it. Print parts of it. Make sure that you're familiar with all the data types before thinking about doing any real calculations with it.\n",
    "\n",
    "Now-how are we going to process this information? Especially because everything will be coming in as a string???"
   ]
  },
  {
   "cell_type": "markdown",
   "metadata": {},
   "source": [
    "# Thinking algorithmically\n",
    "\n",
    "Human brains are great at reducing the complexity of problems so that the answers seem obvious. \n",
    "If I tell you my birthday and ask you to tell me how old I am, most of you can give me an answer in\n",
    "almost no time, but making your thought process explicit can be difficult. \n",
    "\n",
    "To do any programming \n",
    "or data analysis, perhaps the most important thing that you need to learn is how to break down a problem (that might seem really simple for you to do in your head) into tiny little steps such that \n",
    "you can teach a computer how to do it.\n",
    "\n",
    "Let's start with an exercise, how old am I?"
   ]
  },
  {
   "cell_type": "code",
   "execution_count": null,
   "metadata": {},
   "outputs": [],
   "source": [
    "### Here is my information\n",
    "birth_month = 2\n",
    "birth_day = 25\n",
    "birth_year = 1984\n",
    "\n",
    "current_month = 9\n",
    "current_day = 9\n",
    "current_year = 2015"
   ]
  },
  {
   "cell_type": "code",
   "execution_count": null,
   "metadata": {},
   "outputs": [],
   "source": [
    "##Place your code here to calculate the birthday\n",
    "\n",
    "##How old am I?\n",
    "# print(age)"
   ]
  },
  {
   "cell_type": "markdown",
   "metadata": {},
   "source": [
    "So now we see how have to break down all of these problems.\n",
    "\n",
    "Let's move onto actually reading a file."
   ]
  },
  {
   "cell_type": "code",
   "execution_count": null,
   "metadata": {},
   "outputs": [],
   "source": [
    "myFile = open('../Data/Day2-Collections-and-Files/Roster/Agatha_Bailey_798.txt', 'r')\n",
    "myFile"
   ]
  },
  {
   "cell_type": "code",
   "execution_count": null,
   "metadata": {},
   "outputs": [],
   "source": [
    "myFile = open('../Data/Day2-Collections-and-Files/Roster/Agatha_Bailey_798.txt', 'r')\n",
    "Agatha = myFile.read()\n",
    "Agatha"
   ]
  },
  {
   "cell_type": "code",
   "execution_count": null,
   "metadata": {},
   "outputs": [],
   "source": [
    "myFile = open('../Data/Day2-Collections-and-Files/Roster/Agatha_Bailey_798.txt', 'r')\n",
    "Agatha = myFile.readlines()\n",
    "print(Agatha)"
   ]
  },
  {
   "cell_type": "code",
   "execution_count": null,
   "metadata": {},
   "outputs": [],
   "source": [
    "print( type(Agatha) )\n",
    "print( len(Agatha) )\n",
    "print( type(Agatha[0]) )\n",
    "print( len(Agatha[0]) )\n",
    "print( Agatha[0] )"
   ]
  },
  {
   "cell_type": "markdown",
   "metadata": {},
   "source": [
    "# That's it! \n",
    "\n",
    "# You read a file and it is now a data type we understand!\n",
    "\n",
    "But let's see if you can tell me how old Agatha is, first we'll need to go from a line in that file to the variables that we used above to calculate someone's age"
   ]
  },
  {
   "cell_type": "code",
   "execution_count": null,
   "metadata": {},
   "outputs": [],
   "source": [
    "for line in Agatha:\n",
    "    if 'Name' in line:\n",
    "        print(line)\n"
   ]
  },
  {
   "cell_type": "markdown",
   "metadata": {},
   "source": [
    "# A refresher on manipulating strings"
   ]
  },
  {
   "cell_type": "code",
   "execution_count": null,
   "metadata": {},
   "outputs": [],
   "source": [
    "temporary_line = 'Adam,Hockenberry,02-25-1984\\n'"
   ]
  },
  {
   "cell_type": "code",
   "execution_count": null,
   "metadata": {},
   "outputs": [],
   "source": [
    "print(temporary_line)"
   ]
  },
  {
   "cell_type": "code",
   "execution_count": null,
   "metadata": {},
   "outputs": [],
   "source": [
    "print(temporary_line.strip('\\n'))"
   ]
  },
  {
   "cell_type": "code",
   "execution_count": null,
   "metadata": {},
   "outputs": [],
   "source": [
    "print(temporary_line.split(','))"
   ]
  },
  {
   "cell_type": "code",
   "execution_count": null,
   "metadata": {},
   "outputs": [],
   "source": [
    "print(temporary_line.strip('\\n').split(','))"
   ]
  },
  {
   "cell_type": "code",
   "execution_count": null,
   "metadata": {},
   "outputs": [],
   "source": [
    "line_as_list = temporary_line.strip('\\n').split(',')\n",
    "print(line_as_list)"
   ]
  },
  {
   "cell_type": "code",
   "execution_count": null,
   "metadata": {},
   "outputs": [],
   "source": []
  },
  {
   "cell_type": "code",
   "execution_count": null,
   "metadata": {},
   "outputs": [],
   "source": []
  },
  {
   "cell_type": "markdown",
   "metadata": {},
   "source": [
    "# Back to Agatha..."
   ]
  },
  {
   "cell_type": "code",
   "execution_count": 1,
   "metadata": {},
   "outputs": [
    {
     "ename": "NameError",
     "evalue": "name 'Agatha' is not defined",
     "output_type": "error",
     "traceback": [
      "\u001b[0;31m---------------------------------------------------------------------------\u001b[0m",
      "\u001b[0;31mNameError\u001b[0m                                 Traceback (most recent call last)",
      "\u001b[0;32m<ipython-input-1-9bc6242782a9>\u001b[0m in \u001b[0;36m<module>\u001b[0;34m()\u001b[0m\n\u001b[0;32m----> 1\u001b[0;31m \u001b[0;32mfor\u001b[0m \u001b[0mline\u001b[0m \u001b[0;32min\u001b[0m \u001b[0mAgatha\u001b[0m\u001b[0;34m:\u001b[0m\u001b[0;34m\u001b[0m\u001b[0;34m\u001b[0m\u001b[0m\n\u001b[0m\u001b[1;32m      2\u001b[0m     \u001b[0;32mif\u001b[0m \u001b[0;34m'Date of Birth'\u001b[0m \u001b[0;32min\u001b[0m \u001b[0mline\u001b[0m\u001b[0;34m:\u001b[0m\u001b[0;34m\u001b[0m\u001b[0;34m\u001b[0m\u001b[0m\n\u001b[1;32m      3\u001b[0m         \u001b[0mprint\u001b[0m\u001b[0;34m(\u001b[0m\u001b[0mline\u001b[0m\u001b[0;34m)\u001b[0m\u001b[0;34m\u001b[0m\u001b[0;34m\u001b[0m\u001b[0m\n\u001b[1;32m      4\u001b[0m         \u001b[0mbirthday_line\u001b[0m \u001b[0;34m=\u001b[0m \u001b[0mline\u001b[0m\u001b[0;34m\u001b[0m\u001b[0;34m\u001b[0m\u001b[0m\n",
      "\u001b[0;31mNameError\u001b[0m: name 'Agatha' is not defined"
     ]
    }
   ],
   "source": [
    "for line in Agatha:\n",
    "    if 'Date of Birth' in line:\n",
    "        print(line)\n",
    "        birthday_line = line"
   ]
  },
  {
   "cell_type": "markdown",
   "metadata": {},
   "source": [
    "**Exercise:** apply the string manipulations that you just learned to get Agatha's birthday as variables that we can use"
   ]
  },
  {
   "cell_type": "code",
   "execution_count": null,
   "metadata": {},
   "outputs": [],
   "source": [
    "# birth_day = \n",
    "# birth_month = \n",
    "# birth_year = "
   ]
  },
  {
   "cell_type": "markdown",
   "metadata": {},
   "source": [
    "# We have all the parts but they're pretty scattered right now, let's put it all in one place:"
   ]
  },
  {
   "cell_type": "code",
   "execution_count": null,
   "metadata": {},
   "outputs": [],
   "source": [
    "current_month = 9\n",
    "current_day = 9\n",
    "current_year = 2015\n",
    "\n",
    "myFile = open('../Data/Day2-Collections-and-Files/Roster/Agatha_Bailey_798.txt', 'rU')\n",
    "Agatha = myFile.readlines()\n",
    "for line in Agatha:\n",
    "    if 'Date of Birth' in line:\n",
    "        birthday_line = line\n",
    "###########################################################################\n",
    "###Paste your code to get birth_month, birth_day, and birth_year here!\n",
    "\n",
    "\n",
    "print(birth_month, birth_day, birth_year)\n",
    "\n",
    "###########################################################################\n",
    "#### Copy and paste the algorithm that you developed to calculate someones age here!\n",
    "\n",
    "        \n",
    "# print(age)"
   ]
  },
  {
   "cell_type": "markdown",
   "metadata": {},
   "source": [
    "# Writing files\n",
    "\n",
    "If you perform some calculation, there are a number of reasons why you should store these values somewhere. \n",
    "\n",
    "There are three primary ways to store data: raw text, comma separated values (csv), and json.\n",
    "\n",
    "Typically you would use raw text if you just have text (think like a story) or you want to have some thing like our roster files initially came in.\n",
    "\n",
    "A CSV file is still plain text, but it is formatted as if it were a spreadsheet. Typically we write a header at the top and every column is separated by a comma (that's where the name comes from). This way when we read it back in, we know to split each row whenever a comma appears. Make sure to not use commas in your values though!\n",
    "\n",
    "The last way is a JSON [(it's an acronym for something boring)](http://json.org/). JSON files let us store python dictionaries as text! When we read/write files it goes instantly from the raw text to a python dictionary.\n",
    "\n",
    "In this example we're going to make a file that contains the names of the Teaching Assistants and their ages. Since this is data where we might have more columns in the future what file type should we use?"
   ]
  },
  {
   "cell_type": "code",
   "execution_count": null,
   "metadata": {},
   "outputs": [],
   "source": [
    "### Here is a dictionary of TA's names/ages\n",
    "names = ['Adam H', 'Peter W', 'Joao M', 'Hyojun L']\n",
    "ages = [21, 31, 24, 19]\n",
    "# for x in zip(names, ages):\n",
    "#     print(x)"
   ]
  },
  {
   "cell_type": "code",
   "execution_count": null,
   "metadata": {},
   "outputs": [],
   "source": [
    "delimiter = ','\n",
    "\n",
    "# output_file = open('../Data/TA_ages.csv', 'w')\n",
    "\n",
    "####Here is yet another way that should also do the exact same thing\n",
    "# with open('../Data/TA_ages.csv', 'w') as output_file:\n",
    "#     for name, age in age_dictionary.items():\n",
    "#         output_file.write(name + delimiter + str(age) + '\\n')\n",
    "# output_file.close()\n",
    "    "
   ]
  },
  {
   "cell_type": "markdown",
   "metadata": {},
   "source": [
    "# What if we forgot someone?\n",
    "\n",
    "Take a deep breath. All is not yet lost.\n",
    "\n",
    "When opening files, we have used 'r' and 'w' for read and write but there is one more that I haven't told you about: 'a' for append."
   ]
  },
  {
   "cell_type": "code",
   "execution_count": null,
   "metadata": {},
   "outputs": [],
   "source": [
    "new_ages = [['Adam P', 38], ['Nick T', 28]]\n",
    "delimiter = ','\n",
    "\n",
    "output_file = open('../Data/Day2-Collections-and-Files/TA_ages.csv', 'a')\n",
    "for name, age in new_ages:\n",
    "    output_file.write(name + delimiter + str(age) + '\\n')    \n",
    "output_file.close()"
   ]
  },
  {
   "cell_type": "markdown",
   "metadata": {},
   "source": [
    "# Final exercise\n",
    "Let's read that same file again but instead of calculating Agatha's age, I'd like to know her height in centimeters (it's for a collaboration with europeans). When you're finished, please write her name and her height into a new file that looks like this (it will be pretty boring for now, with only two lines):\n",
    "\n",
    "    Name, Height (cm)\n",
    "    Agathas_full_name, Agathas_height\n",
    "    \n",
    "\n",
    "\n",
    "***If you get stuck, remember to break the problem down into small steps:***\n",
    "    \n",
    "    1) Read the file and find the lines that we care about:\n",
    "        a) name_line\n",
    "        b) height_line\n",
    "    2) Strip those lines apart so that we have three variables:\n",
    "        a) name\n",
    "        b) height_component_feet\n",
    "        c) height_component_inches\n",
    "    3) Get her height in inches:\n",
    "        a) total_height_inches\n",
    "    4) Then convert it into centimeters\n",
    "    5) Write everything into a new file"
   ]
  },
  {
   "cell_type": "code",
   "execution_count": null,
   "metadata": {},
   "outputs": [],
   "source": [
    "####Load this file\n",
    "input_file_name = '../Data/Day2-Collections-and-Files/Roster/Agatha_Bailey_798.txt'\n",
    "\n",
    "########################\n",
    "###Place your code here:\n",
    "\n",
    "\n",
    "###Write data into this file\n",
    "output_file_name = '../Data/Day2-Collections-and-Files/roster_heights.csv'"
   ]
  },
  {
   "cell_type": "code",
   "execution_count": null,
   "metadata": {},
   "outputs": [],
   "source": []
  }
 ],
 "metadata": {
  "anaconda-cloud": {},
  "kernelspec": {
   "display_name": "Python 3",
   "language": "python",
   "name": "python3"
  },
  "language_info": {
   "codemirror_mode": {
    "name": "ipython",
    "version": 3
   },
   "file_extension": ".py",
   "mimetype": "text/x-python",
   "name": "python",
   "nbconvert_exporter": "python",
   "pygments_lexer": "ipython3",
   "version": "3.6.8"
  }
 },
 "nbformat": 4,
 "nbformat_minor": 1
}
