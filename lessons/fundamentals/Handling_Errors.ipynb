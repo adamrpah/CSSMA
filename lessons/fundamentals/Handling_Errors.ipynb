{
 "cells": [
  {
   "cell_type": "code",
   "execution_count": null,
   "metadata": {},
   "outputs": [],
   "source": [
    "from IPython.core.display import HTML\n",
    "\n",
    "def css_styling():\n",
    "    styles = open(\"../Data/www/styles/custom.css\", \"r\").read()\n",
    "    return HTML(styles)\n",
    "css_styling()"
   ]
  },
  {
   "cell_type": "markdown",
   "metadata": {},
   "source": [
    "# Synopsis\n",
    "\n",
    "In this unit we will learn that:\n",
    "\n",
    "1. **Programming errors** are inevitable as you develop code.\n",
    "\n",
    "    1. Syntax errors are easy to find (the code does not run or crashes) \n",
    "    \n",
    "    2. Type, Name, Index, Value, and Attribute errors are easy to find (the code crashes)\n",
    "    \n",
    "    3. Logical errors can be extremely hard to identify (the code may run and the results may appear plausible)\n",
    "    \n",
    "2. **Errors messages** can be extremely helpful in finding and correcting syntax errors and calculation or variable type errors.\n",
    "\n",
    "3. **Error handling** commands enable code to exit graciously when an exceptions occur.\n",
    "\n",
    "4. **Unit testing** is essential in order to avoid logical errors. \n",
    "\n",
    "\n",
    "\n",
    "\n"
   ]
  },
  {
   "cell_type": "markdown",
   "metadata": {},
   "source": [
    "+++"
   ]
  },
  {
   "cell_type": "markdown",
   "metadata": {},
   "source": [
    "# Programming and Errors\n",
    "\n",
    "As as programs grow in complexity and the number of lines of code and instructions for the computer to carry out grow, the more likely it is that our code will have errors. Already you've seen some errors as we've learned what can and can't be done, but now it's time look at errors in a more systematic manner. \n",
    "\n",
    "Just like there are different data types, there are also different error types. Having different error types helps us to more easily identify what has gone wrong in our code. \n",
    "\n",
    "## Syntax errors\n",
    "\n",
    "Like all programming languages, Python needs you to write code in a **syntaxically correct manner** so that it can understand your commands and translate them to the machine. If you don't follow the correct syntax in your code, such as not having matched parentheses, brackets, or quotations marks, your code will generate a `SyntaxError`."
   ]
  },
  {
   "cell_type": "code",
   "execution_count": null,
   "metadata": {},
   "outputs": [],
   "source": [
    "value = 3\n",
    "sentence = 'I am a sentence\n",
    "print(value)"
   ]
  },
  {
   "cell_type": "markdown",
   "metadata": {},
   "source": [
    "What you're seeing above is the **exception** and the **traceback**. The first part is the **traceback**.\n",
    "\n",
    "`File \"<ipython-input-2-a6097ed4dc2e>\"`\n",
    "\n",
    "It tells us the \"file\" that the compiler was processing when the error occurred. Since we are using an Jupyter notebook and are not calling any functions defined in external files, this line is not providing any additional information to us.\n",
    "\n",
    "We then learn that the error occurred at \n",
    "\n",
    "`line 2`\n",
    "\n",
    "and that the parsing problem occurred at \n",
    "\n",
    "`sentence = 'I am a sentence`\n",
    "\n",
    "**Be aware that this information isn't always accurate**. Depending upon the type of error and the complexity of the line of code, the actual error could be above or below where it points out that the error is occurring.\n",
    "\n",
    "The second part is the **exception**. \n",
    "\n",
    "`SyntaxError: EOL while scanning string literal`\n",
    "\n",
    "It tells us what issue generated the error. In this case, we have a `SyntaxError` because Python reached the end of the line (`EOL`) while it was scanning the string we started with `'` and it couldn't find the closing `'`.\n",
    "\n",
    "Another type of syntax error that can occur in Python is an `Indentation Error`.   Consider the following code snippet:"
   ]
  },
  {
   "cell_type": "code",
   "execution_count": null,
   "metadata": {},
   "outputs": [],
   "source": [
    "for i in range(3):\n",
    "    j = i * 2\n",
    "      print(i, j)\n"
   ]
  },
  {
   "cell_type": "markdown",
   "metadata": {},
   "source": [
    "The third line in the code snippet - `print(i, j)` - should be aligned vertically with the beginning of the second line - `j = i * 2` - but it is not. "
   ]
  },
  {
   "cell_type": "markdown",
   "metadata": {},
   "source": [
    "+++"
   ]
  },
  {
   "cell_type": "markdown",
   "metadata": {},
   "source": [
    "## Type errors\n",
    "\n",
    "A very common Python error is the `TypeError`. This happens when we try to use a method that is for one data type on another data type that does not support it. Remember how strings cannot be subtracted or divided? "
   ]
  },
  {
   "cell_type": "code",
   "execution_count": null,
   "metadata": {},
   "outputs": [],
   "source": [
    "new_string = 'cat' + 'dog'\n",
    "print(new_string)\n",
    "new_string = 'cat' - 'dog'\n",
    "print(new_string)"
   ]
  },
  {
   "cell_type": "markdown",
   "metadata": {},
   "source": [
    "As you can see, the Python interpreter correctly executed the first two lines of our code and printed\n",
    "\n",
    "`catdog`\n",
    "\n",
    "Also, as expected, Python tells the line the error occurred on. Python does not have a rule for how to subtract strings, so it lets us know that the operation `-` is not supported and informs us that this is a `TypeError`."
   ]
  },
  {
   "cell_type": "code",
   "execution_count": null,
   "metadata": {},
   "outputs": [],
   "source": [
    "new_string = 'cat' * 3\n",
    "print(new_string)\n",
    "\n",
    "new_string = 'cat' + 3\n",
    "print(new_string)\n",
    "\n",
    "new_string = 'cat' / 3\n",
    "print(new_string)"
   ]
  },
  {
   "cell_type": "markdown",
   "metadata": {},
   "source": [
    "We see that here is a `TypeError` in line 4.  Why don't you correct it and see what happens next?\n",
    "\n",
    "**Remember:** The type of data you're working with really matters, and that's what `TypeError`'s are all about. A valid operation for a `list` might not work for a `tuple` and Python will try to remind you of that fact.\n",
    "\n",
    "## Name errors\n",
    "\n",
    "Variables in Python must be initialized before they can be used.  If we try to use a variable prior to initialization, we will get a `NameError`. For example, imagine we try to use the new variable `party`"
   ]
  },
  {
   "cell_type": "code",
   "execution_count": null,
   "metadata": {},
   "outputs": [],
   "source": [
    "print( party )"
   ]
  },
  {
   "cell_type": "markdown",
   "metadata": {},
   "source": [
    "## Index errors\n",
    "\n",
    "\n",
    "As you will remember, specific characters in a string can be accessed using an `index`. The index ranges from 0 to the length of the string minus one.  If we try to access a character in a string by index, and that index doesn't exist in the variable, the Python interpreter returns an `IndexError`."
   ]
  },
  {
   "cell_type": "code",
   "execution_count": null,
   "metadata": {},
   "outputs": [],
   "source": [
    "example_string = 'abcdefg'\n",
    "print( example_string[2] ) \n",
    "print( example_string[12] ) "
   ]
  },
  {
   "cell_type": "markdown",
   "metadata": {},
   "source": [
    "A similar type of error is a `KeyError` which can occur when dealing with a very powerful data type we will describe later;   dictionaries. \n",
    "\n",
    "## Value errors\n",
    "\n",
    "Functions (or methods) in Python are written to only work with arguments of specific types. If we call a function with a non-compliant argument, we get a `ValueError`. "
   ]
  },
  {
   "cell_type": "code",
   "execution_count": null,
   "metadata": {},
   "outputs": [],
   "source": [
    "print( example_string )\n",
    "print( type(example_string) )\n",
    "print( len(example_string) )\n",
    "int(example_string)\n"
   ]
  },
  {
   "cell_type": "markdown",
   "metadata": {},
   "source": [
    "## Attribute errors\n",
    "\n",
    "Many Python objects have attributes that can be easily retrieved using the name of the attribute. For example, an attribute of a string is its capitalized form or its upper case form. However, while one can obtain the length of a string using the default function `len()`, strings do not have a `len()` attribute."
   ]
  },
  {
   "cell_type": "code",
   "execution_count": null,
   "metadata": {},
   "outputs": [],
   "source": [
    "print( example_string.capitalize() )\n",
    "print( example_string.upper() )\n",
    "print( len(example_string) )\n",
    "print( example_string.len() )"
   ]
  },
  {
   "cell_type": "markdown",
   "metadata": {},
   "source": [
    "The examples above illustrate some of the errors that you are most likely to encounter when programming. For the full list of exceptions and errors you can refer to the official Python documentation.\n",
    "\n",
    "Python Built-in Exceptions docs:\n",
    "https://docs.python.org/3.4/library/exceptions.html\n",
    "\n",
    "Python Error Handling docs:\n",
    "https://docs.python.org/3.4/tutorial/errors.html\n",
    "\n",
    "The important thing to remember is to look at the error message. It takes a little bit of practice but pretty soon you'll be able to see that the Python interpreter is trying its hardest to tell you exactly where and why you made a mistake."
   ]
  },
  {
   "cell_type": "markdown",
   "metadata": {},
   "source": [
    "+++"
   ]
  },
  {
   "cell_type": "markdown",
   "metadata": {},
   "source": [
    "## Handling exceptions\n",
    "\n",
    "Code with syntax errors will not run. However, code with other types of errors will still run until it comes upon an exception, at which point it will crash.  This is not nice. As much as possible, you will want to prevent your code from crashing so that you can save whatever information has been generated up to that point and also that you can tell the user of the program WHY the code crashed.\n",
    "\n",
    "Consider the following situation: We want to use the `input()` function to ask for a number and then return the square of that number."
   ]
  },
  {
   "cell_type": "code",
   "execution_count": null,
   "metadata": {},
   "outputs": [],
   "source": [
    "number_to_square = input(\"What number do you want to know the square of? \")\n",
    "print( type(number_to_square) )\n",
    "\n",
    "# Note that number_to_square is a string, in order to perform calculations with it, we have to transform it to an integer\n",
    "number = int(number_to_square)\n",
    "\n",
    "print(\"Your number squared is \", number**2)"
   ]
  },
  {
   "cell_type": "markdown",
   "metadata": {},
   "source": [
    "But what would happen if you entered 'a' instead of 3? Try it!\n",
    "\n",
    ".\n",
    "\n",
    ".\n",
    "\n",
    ".\n",
    "\n",
    ".\n",
    "\n",
    ".\n",
    "\n",
    ".\n",
    "\n",
    ".\n",
    "\n",
    ".\n",
    "\n",
    ".\n",
    "\n",
    ".\n",
    "\n",
    ".\n",
    "\n",
    ".\n",
    "\n",
    ".\n",
    "\n",
    ".\n",
    "\n",
    ".\n",
    "\n",
    ".\n",
    "\n",
    ".\n",
    "\n",
    ".\n",
    "\n",
    ".\n",
    "\n",
    "\n",
    "You got a `ValueError` because you can't convert 'a' to an integer. \n",
    "\n",
    "In order to avoid having the program crash, we can use the `try ... except ...` construction so that we test for possible errors and avoid the crash."
   ]
  },
  {
   "cell_type": "code",
   "execution_count": null,
   "metadata": {},
   "outputs": [],
   "source": [
    "number_to_square = input(\"What number do you want to know the square of? \")\n",
    "print( type(number_to_square) )\n",
    "\n",
    "# Note that number_to_square is a string, in order to perform calculations with it, we have to transform it to an integer\n",
    "try: \n",
    "    number = int(number_to_square)\n",
    "    print(\"Your number squared is \", number**2)\n",
    "except ValueError:\n",
    "    print(\"You didn't enter an integer!\")\n"
   ]
  },
  {
   "cell_type": "markdown",
   "metadata": {},
   "source": [
    "When you are writing code that takes as inputs information provided by a user or from a source over which you have no control, **it is crucial that you test your code for all possible types of inputs**. That way you will prevent the user from having the pleasure of making your code crash.\n",
    "\n",
    "However, if the functions in your code are taking as input only information that is generated internally by your code, you will not need to make those checks.  **This does not mean that your code will not generate exceptions**. Your code might very well generate exceptions because of logical errors in your code: **That is your code might not be doing what you expect it to be doing!**\n",
    "\n"
   ]
  },
  {
   "cell_type": "markdown",
   "metadata": {},
   "source": [
    "+++"
   ]
  },
  {
   "cell_type": "markdown",
   "metadata": {},
   "source": [
    "# Checking the validity of your code\n",
    "\n",
    "In order to make sure that your code has no logical errors, you must check its validity. That is, you must check that it returns the right answer for cases in which you know what the right answer is. **You will need to test the correctness of the output of your code for a diverse set of possibilities in order to have confidence in its validity**.\n",
    "\n",
    "This is where **unit testing** comes in.  Unit test are a set of "
   ]
  },
  {
   "cell_type": "code",
   "execution_count": null,
   "metadata": {},
   "outputs": [],
   "source": [
    "def square( number ):\n",
    "    \"\"\"\n",
    "    This functions asks the user for an integer and returns its square\n",
    "    \n",
    "    Parameters:\n",
    "    -----------\n",
    "        number : (int)\n",
    "        \n",
    "    Output:\n",
    "    -------\n",
    "        square_of_number: (int)\n",
    "    \"\"\"\n",
    "    \n",
    "    square_of_number = number*3\n",
    "    \n",
    "    return square_of_number\n"
   ]
  },
  {
   "cell_type": "code",
   "execution_count": null,
   "metadata": {},
   "outputs": [],
   "source": [
    "number_string = input('Please, enter the integer you would like to have squared:')\n",
    "try:\n",
    "    number = int(number_string)\n",
    "    print('The square of {0} is {1}.'.format(number, square(number)) )\n",
    "except:\n",
    "    print('You did not provide an integer!')\n"
   ]
  },
  {
   "cell_type": "markdown",
   "metadata": {},
   "source": [
    "Testing like this is good. But it is unsystematic and hard to replicate in case we make changes to our code.  **The systematic way to test code is using assertions**. \n",
    "\n",
    "Those can be kept with our code and easily run in case we make changes to the code."
   ]
  },
  {
   "cell_type": "code",
   "execution_count": null,
   "metadata": {},
   "outputs": [],
   "source": [
    "assert(square(3) == 9)\n",
    "assert(square(5) == 25)\n",
    "assert(square(2) == 4)"
   ]
  },
  {
   "cell_type": "code",
   "execution_count": null,
   "metadata": {},
   "outputs": [],
   "source": []
  }
 ],
 "metadata": {
  "anaconda-cloud": {},
  "kernelspec": {
   "display_name": "Python 3",
   "language": "python",
   "name": "python3"
  },
  "language_info": {
   "codemirror_mode": {
    "name": "ipython",
    "version": 3
   },
   "file_extension": ".py",
   "mimetype": "text/x-python",
   "name": "python",
   "nbconvert_exporter": "python",
   "pygments_lexer": "ipython3",
   "version": "3.6.8"
  }
 },
 "nbformat": 4,
 "nbformat_minor": 1
}
