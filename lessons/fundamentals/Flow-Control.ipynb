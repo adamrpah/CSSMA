{
 "cells": [
  {
   "cell_type": "code",
   "execution_count": null,
   "metadata": {},
   "outputs": [],
   "source": [
    "from IPython.core.display import HTML\n",
    "\n",
    "def css_styling():\n",
    "    styles = open(\"../Data/www/styles/custom.css\", \"r\").read()\n",
    "    return HTML(styles)\n",
    "css_styling()"
   ]
  },
  {
   "cell_type": "markdown",
   "metadata": {},
   "source": [
    "# Synopsis\n",
    "\n",
    "In this unit we will learn how to perform successive operations (\"looping\") without explicitly coding the commands. This is largely understood to be controlling the 'flow' of a program.  \n",
    "\n",
    "We will control the flow using:\n",
    "\n",
    "1. Logical statements to check for conditions (performing operations only `if` a condition is met)\n",
    "\n",
    "2. Continuing execution until a condition is met\n",
    "\n",
    "3. Iterating through a sequence of numbers using the `range()` function\n",
    "\n",
    "In order to do this we will learn the commands: `if`, `while`, and `for`\n",
    "\n"
   ]
  },
  {
   "cell_type": "markdown",
   "metadata": {},
   "source": [
    "# What if?\n",
    "\n",
    "There are times that we only want to execute a set of commands under a certain condition, such as in this classic programming joke of one spouse sending another out to the grocery store:\n",
    "\n",
    "** \"Buy a gallon of milk at the store and if there are organic eggs, buy a dozen\" **\n",
    "\n",
    "We have one action, \"Buy a gallon of milk\", that we will do no matter what (our assumption is that there is always milk at the grocery store). \n",
    "\n",
    "However, our other action, \"buy a dozen eggs\", is conditional on the right type of egg being available. If there are not organic eggs available then you shouldn't buy any!\n",
    "\n",
    "When we program all we are really doing is giving a set of instructions to the computer to execute, which means that we should be able to give a set of instructions about what to purchase at the grocery store.\n",
    "\n",
    "In order to program our word problem we need to learn a new command - `if`"
   ]
  },
  {
   "cell_type": "markdown",
   "metadata": {},
   "source": [
    "## Making more complicated programs\n",
    "\n",
    "When we start to make more complicated programs it helps to sketch out a plan of the overall program flow (and when I say sketch, I really do mean on paper!). We are going to program the classic joke\n",
    "\n",
    "** \"Buy a gallon of milk at the store and if there are organic eggs, buy a dozen\" **\n",
    "\n",
    "To do this, it helps to break our program apart into chunks. If it was me, this is the outline that I would come up with for our program (I like to start off super simple):\n",
    "\n",
    "----\n",
    "`# Define variables needed`\n",
    "\n",
    "`# Purchasing decisions`\n",
    "\n",
    "`# Check what was purchased`\n",
    "\n",
    "----\n",
    "\n",
    "I told you I liked to start simple! The first step that we have to do is to define all of the variables that we will need. While we can create variables whenever we need them in Python, it makes programming easier if we both (i) plan ahead and (ii) decide our variable names first."
   ]
  },
  {
   "cell_type": "markdown",
   "metadata": {},
   "source": [
    "#### Q1. So for this problem I can see three variables that will matter, what do you think they are?"
   ]
  },
  {
   "cell_type": "code",
   "execution_count": null,
   "metadata": {},
   "outputs": [],
   "source": [
    "## Now fill in the part of the code that we do know\n",
    "# Define variables needed\n",
    "\n",
    "# Purchasing decisions\n",
    "\n",
    "# Check what was purchased"
   ]
  },
  {
   "cell_type": "markdown",
   "metadata": {},
   "source": [
    "## Moving onto the logic\n",
    "\n",
    "Now that we've decided on what we will call our variables we can start to work out the rest of the code. \n",
    "\n",
    "The last part is pretty easy, we just need to print out the number of milk jugs and eggs purchased. It's the middle part that is a bit harder, we actually have to put in some logic to make this work properly. Based on my reading of the problem this is how I think the logic should go.\n",
    "\n",
    "----\n",
    "\n",
    "`# Define variables needed\n",
    "\n",
    "milk = 0\n",
    "\n",
    "eggs = 0\n",
    "\n",
    "store_has_eggs = False\n",
    "\n",
    "#Purchasing decisions`\n",
    "\n",
    "-> Purchase milk \n",
    "\n",
    "-> Check if there are eggs\n",
    "\n",
    "  -> Buy eggs if there are eggs\n",
    " \n",
    "`# Check what was purchased\n",
    "print(\"I purchased \", milk, \" gallons of milk\")\n",
    "print(\"I purchased \", eggs, \" eggs\")`\n",
    "\n",
    " \n",
    "----\n",
    "\n",
    "So that's the basic idea for the program. We already know how to purchase milk, that's just adding `1` to the value of milk. But the eggs are a bit more complicated, we have to check to see if there are eggs and then add the 12 eggs if the store has them. \n",
    "\n",
    "To do that we use the `if` statement - `if` does a check to see if a condition is met and if it is, then it executes all code that is **indented** below it. If the condition is not met, then it doesn't execute any of the code. \n",
    "\n",
    "So our purchasing logic would look like this:\n",
    "\n",
    "`# Purchasing decisions\n",
    "milk += 1\n",
    "if store_has_eggs == True:\n",
    "    eggs += 12`\n",
    "    \n",
    "It's extremely important to realize that **indentation** matters. Whitespace is how Python knows what parts of code go together.\n",
    "\n",
    "So we can now put this all together relatively easily."
   ]
  },
  {
   "cell_type": "code",
   "execution_count": null,
   "metadata": {},
   "outputs": [],
   "source": [
    "# Define variables needed\n",
    "\n",
    "# Purchasing decisions\n",
    "\n",
    "# Check what was purchased\n"
   ]
  },
  {
   "cell_type": "markdown",
   "metadata": {},
   "source": [
    "Excellent! There is a way to improve this code for humans though. If we purchase only 1 gallon of milk then we should say 'gallon' instead of 'gallons'. \n",
    "\n",
    "#### Q2. Use an if statement to check how many gallons we have purchased and print a grammatically correct sentence."
   ]
  },
  {
   "cell_type": "code",
   "execution_count": null,
   "metadata": {},
   "outputs": [],
   "source": [
    "# Make the final print statement grammatically correct with an `if` statement\n",
    "# Define variables needed\n"
   ]
  },
  {
   "cell_type": "markdown",
   "metadata": {},
   "source": [
    "We can use if statements in a large number of contexts too. We can use it to check and see if a certain character is in a string for example."
   ]
  },
  {
   "cell_type": "code",
   "execution_count": null,
   "metadata": {},
   "outputs": [],
   "source": [
    "if 'a' in 'adam':\n",
    "    print('Give it up for all the a-names!')"
   ]
  },
  {
   "cell_type": "markdown",
   "metadata": {},
   "source": [
    "Or if something is less, more, or not equal"
   ]
  },
  {
   "cell_type": "code",
   "execution_count": null,
   "metadata": {},
   "outputs": [],
   "source": [
    "my_pay = 5\n",
    "my_siblings_pay = 10\n",
    "if my_pay < my_siblings_pay:\n",
    "    print(\"That's not fair! They got more than me!\")"
   ]
  },
  {
   "cell_type": "markdown",
   "metadata": {},
   "source": [
    "But sometimes we might want to chain multiple conditions together - for example, if we got paid the same or more than our sibling we might want to say that we think it is fair. \n",
    "\n",
    "To do that we pair the `if` with an `else`."
   ]
  },
  {
   "cell_type": "code",
   "execution_count": null,
   "metadata": {},
   "outputs": [],
   "source": [
    "my_pay = 5\n",
    "my_siblings_pay = 10\n",
    "\n",
    "if my_pay < my_siblings_pay:\n",
    "    print(\"That's not fair! They got more than me!\")\n",
    "else:\n",
    "    print(\"Well, that seems fair\")"
   ]
  },
  {
   "cell_type": "markdown",
   "metadata": {},
   "source": [
    "But what if we want to handle all 3 conditions (I get paid less, we get paid the same, I get paid more)? \n",
    "\n",
    "We can actually do that with what we already know. I want you to modify the code to handle all 3 conditions separately."
   ]
  },
  {
   "cell_type": "code",
   "execution_count": null,
   "metadata": {},
   "outputs": [],
   "source": [
    "# Modify to handle all 3 conditions with what you already know\n",
    "my_pay = 5\n",
    "my_siblings_pay = 10\n",
    "\n",
    "if my_pay < my_siblings_pay:\n",
    "    print(\"That's not fair! They got more than me!\")\n",
    "else:\n",
    "    print(\"Well, that seems fair\")"
   ]
  },
  {
   "cell_type": "markdown",
   "metadata": {
    "collapsed": true
   },
   "source": [
    "When we put an `if` statement inside another `if` statement that is called nesting. \n",
    "\n",
    "However, while we can nest code inside it is best to only do it when appropriate.\n",
    "\n",
    "**So when do I nest an `if` statement?**\n",
    "\n",
    "We nest `if` statements if we want to evaluate one condition and then further evaluate a separate condition. As an example, if we thought that it was fair for our sibling to get paid more than us *if* they were 5 years older than we were, that would be a good time to nest an `if` statement. \n",
    "\n",
    "When we want to evaluate the same condition it is best to do it all at the same level of code. To add in another condition we use the `elif` command (which stands for 'else if')"
   ]
  },
  {
   "cell_type": "code",
   "execution_count": null,
   "metadata": {},
   "outputs": [],
   "source": [
    "# Modify to handle all 3 conditions with what you already know\n"
   ]
  },
  {
   "cell_type": "markdown",
   "metadata": {},
   "source": [
    "#### E1. Add into the code a check for ages. \n",
    "If your sibling was paid more than you, but is more than 5 years older than you - have your code say - \n",
    "\"Well, I guess it's okay because I'm younger\""
   ]
  },
  {
   "cell_type": "code",
   "execution_count": null,
   "metadata": {},
   "outputs": [],
   "source": [
    "# Handle a check based on both wage discrepancy and age difference between you and your sibling\n",
    "\n",
    "\n"
   ]
  },
  {
   "cell_type": "markdown",
   "metadata": {},
   "source": [
    "# Keeping code running (`while` loops)\n",
    "\n",
    "\n",
    "## While loops\n",
    "\n",
    "A loop is used to repeat a block of commands multiple times. There are two ways to write a loop, one is a `for` loop and the other is a `while` loop. Typically, you use a `for` loop when you know how many times you want to loop, and a `while` loop when looping is based on a conditional that will be modified during the loop.\n",
    "\n",
    "A `while` loop is pretty simple, it's structure looks like:\n",
    "\n",
    "    while a_condition:\n",
    "        # do something\n",
    "        ...\n",
    "        \n",
    "and it continues until `a_condition` is false.\n",
    "\n",
    "\n",
    "As an example, let's think about trying to write code to perform division. \n",
    "\n",
    "So how do we do division? How can we do it in code?\n",
    "\n",
    "Well let's see: we have the number we want to divide and the divisor.\n",
    "\n",
    "We want to know the number of times that the divisor goes into our number. \n",
    "\n",
    "Once the divisor can no longer go into our number, we've reached the end. This means we want to use a `while` loop to continue subtracting the divisor from our original number. "
   ]
  },
  {
   "cell_type": "code",
   "execution_count": null,
   "metadata": {},
   "outputs": [],
   "source": [
    "# Our numeric variables\n",
    "number = 43\n",
    "divisor = 5\n",
    "answer = 0\n",
    "\n",
    "# While loop\n",
    "while number > 0:\n",
    "    number = number - divisor\n",
    "    # As long as we haven't gone below zero that means we should increment the answer\n",
    "    if number > 0:\n",
    "        answer += 1\n",
    "\n",
    "# Print the answer\n",
    "print('The division is: ', answer)"
   ]
  },
  {
   "cell_type": "markdown",
   "metadata": {},
   "source": [
    "The most important part to always keep track of is that you finish the condition that you started the `while` loop with. Otherwise, it'll just keep going on and on for forever!\n",
    "\n",
    "But there's one big problem with how we've set up our current code, it can't handle dividing a negative number!\n",
    "\n",
    "Rewrite the code to handle dividing a negative number by another negative number. "
   ]
  },
  {
   "cell_type": "code",
   "execution_count": null,
   "metadata": {},
   "outputs": [],
   "source": [
    "# Now let's rewrite the code to handle dividing a negative number\n",
    "\n"
   ]
  },
  {
   "cell_type": "markdown",
   "metadata": {},
   "source": [
    "# Iterating through a sequence (`for` loops)\n",
    "\n",
    "A `while` loop is an excellent choice when you need to perform a set of commands and do not know how many times they *should* be executed but do know when the commands *should finish*. \n",
    "\n",
    "Our next option helps us solve the other part of looping, when we know *how many times* a command should be executed.\n",
    "\n",
    "## For loops\n",
    "\n",
    "A `for` loop lets us repeat a set of commands a defined number of times. The syntax for a `for` loop is just:\n",
    "\n",
    "    for item in sequence:\n",
    "        # do something with item\n",
    "        ...\n",
    "\n",
    "But what is a sequence?\n",
    "\n",
    "There are lots of functions in Python that will actually return a sequence - they are called *iterators*. An iterator essentially provides the next element in the sequence each time we access it. \n",
    "\n",
    "The iterator that we will use to demonstrate a for loop is the `range()` function. The range function gives us a sequence of numbers from the first number we give it up until the last number we give it."
   ]
  },
  {
   "cell_type": "code",
   "execution_count": null,
   "metadata": {},
   "outputs": [],
   "source": [
    "range(1, 5)"
   ]
  },
  {
   "cell_type": "markdown",
   "metadata": {},
   "source": [
    "That doesn't look right! \n",
    "\n",
    "It's because it's an iterator, in order to access the numbers we have to actually access the iterator each time to 'pull' a number out."
   ]
  },
  {
   "cell_type": "code",
   "execution_count": null,
   "metadata": {},
   "outputs": [],
   "source": [
    "for i in range(1, 5):\n",
    "    print(i)"
   ]
  },
  {
   "cell_type": "markdown",
   "metadata": {},
   "source": [
    "What's happening is that each time we go to the top of the for loop, we pull another number out of the sequence and that number is assigned to `i`.\n",
    "\n",
    "After that point, we execute all of the indented code in the block with the current value of `i`. Once we've finished executing the code we go back up to the top and assign the next value in the sequence to `i`."
   ]
  },
  {
   "cell_type": "code",
   "execution_count": null,
   "metadata": {},
   "outputs": [],
   "source": [
    "for i in range(1, 5):\n",
    "    print(i)\n",
    "    print(i*3)\n",
    "    i = 12\n",
    "    print(i*3)\n",
    "    print('---')"
   ]
  },
  {
   "cell_type": "markdown",
   "metadata": {},
   "source": [
    "Using a for loop is very useful when we want to access all of the elements of some variable. For example, if we know that we want to do something to every individual letter in a string, we could use the range funciton to access each element directly."
   ]
  },
  {
   "cell_type": "code",
   "execution_count": null,
   "metadata": {},
   "outputs": [],
   "source": [
    "phrase = 'hams'\n",
    "\n",
    "for i in range(4):\n",
    "    print( phrase[i] )"
   ]
  },
  {
   "cell_type": "markdown",
   "metadata": {},
   "source": [
    "Note that the range we are iterating through **must** match the number of letters in `phrase`. Otherwise we would have an error as we try to access parts of the `phrase` variable that doesn't exist."
   ]
  },
  {
   "cell_type": "code",
   "execution_count": null,
   "metadata": {},
   "outputs": [],
   "source": [
    "phrase = 'hams'\n",
    "\n",
    "for i in range(5):\n",
    "    print( phrase[i] )"
   ]
  },
  {
   "cell_type": "markdown",
   "metadata": {},
   "source": [
    "So this would allow us to actually manipulate the individual characters of a string and create a new string that has the manipulated characters.\n",
    "\n",
    "Like, let's say we wanted to capitalize every letter `A` in any string we are given.\n",
    "\n",
    "Write code to do that using a for loop with the word \"aardvarks\""
   ]
  },
  {
   "cell_type": "code",
   "execution_count": null,
   "metadata": {},
   "outputs": [],
   "source": [
    "# Write code to capitalize every letter 'A' in the following word\n",
    "phrase = 'aardvarks'\n",
    "\n",
    "\n"
   ]
  },
  {
   "cell_type": "markdown",
   "metadata": {},
   "source": [
    "# Exercises"
   ]
  },
  {
   "cell_type": "markdown",
   "metadata": {},
   "source": [
    "Let's go back to our code to do division. We wrote one version that handles dividing negative numbers and another that handles dividing positive numbers. Let's write a version that can handle dividing positive or negative numbers by a positive or negative number. You should account for all possible combinations of positive and negative numbers in either position."
   ]
  },
  {
   "cell_type": "code",
   "execution_count": null,
   "metadata": {},
   "outputs": [],
   "source": [
    "# Multi-purpose division algorithm\n"
   ]
  }
 ],
 "metadata": {
  "anaconda-cloud": {},
  "kernelspec": {
   "display_name": "Python 3 (ipykernel)",
   "language": "python",
   "name": "python3"
  },
  "language_info": {
   "codemirror_mode": {
    "name": "ipython",
    "version": 3
   },
   "file_extension": ".py",
   "mimetype": "text/x-python",
   "name": "python",
   "nbconvert_exporter": "python",
   "pygments_lexer": "ipython3",
   "version": "3.10.9"
  }
 },
 "nbformat": 4,
 "nbformat_minor": 1
}
