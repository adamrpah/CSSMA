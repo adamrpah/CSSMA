{
 "cells": [
  {
   "cell_type": "markdown",
   "metadata": {
    "collapsed": true
   },
   "source": [
    "# Social systems over time\n",
    "\n",
    "Today we are going to examine a social network and how it changes over time. As a dataset we will use the Enron e-mail corpus, which has been analyzed in a number of academic papers. For ease of use, we will be using the Enron dataset that is packaged through [Kaggle Datasets](https://www.kaggle.com/wcukierski/enron-email-dataset). \n",
    "\n",
    "This file is a csv with only two columns, `file` and `message`.  The `file` field is the username of the Outlook mailbox and `message` has a single e-mail message.\n",
    "\n",
    "This file is 1.3 GB so the `pandas` package is not a good way to process this file unless you are on a well spec'ed machine. \n",
    "\n",
    "Instead you should use the `csv` package to parse this file and reduce it to a dataset that we can hold in memory and build networks from.\n",
    "\n",
    "This parsing code does **not** need to be perfect, we just want to get going. We will evaluate our data losses post-parsing."
   ]
  },
  {
   "cell_type": "code",
   "execution_count": 1,
   "metadata": {
    "collapsed": true
   },
   "outputs": [],
   "source": [
    "#Exercise\n"
   ]
  },
  {
   "cell_type": "code",
   "execution_count": 2,
   "metadata": {
    "collapsed": false,
    "scrolled": false
   },
   "outputs": [],
   "source": [
    "#Answer\n",
    "import sys\n",
    "import csv\n",
    "import pandas as pd\n",
    "csv.field_size_limit(sys.maxsize)\n",
    "\n",
    "#full dataset to capture\n",
    "fullset = []\n",
    "\n",
    "#load up the file with csv\n",
    "cfile = csv.reader(open('../data/enron_emails.csv'))\n",
    "#Go through each row to get the data\n",
    "for row in cfile:\n",
    "    rowdata = {}\n",
    "    for line in row[1].split('\\n'):\n",
    "        #Pull the data\n",
    "        if ': ' in line:\n",
    "            sline = line.split(': ')\n",
    "            rowdata[sline[0]] = sline[1]\n",
    "    #Expand/create the date rows\n",
    "    try:\n",
    "        dow = rowdata['Date'].split(', ')[0]\n",
    "        sdate = ' '.join( rowdata['Date'].split(' ')[1:4] )\n",
    "        if ',' in rowdata['To']:\n",
    "            for name in rowdata['To'].split(', '):\n",
    "                fullset.append([rowdata['From'], name, dow, sdate])\n",
    "        else:\n",
    "            fullset.append([rowdata['From'], rowdata['To'], dow, sdate])\n",
    "    except KeyError:\n",
    "        #I will pass, but in real research the line index should be logged\n",
    "        #for further checking\n",
    "        pass\n",
    "#Put it into a dataframe to ease further searching\n",
    "df = pd.DataFrame(fullset, columns = ['from', 'to', 'dow', 'strdate'])"
   ]
  },
  {
   "cell_type": "markdown",
   "metadata": {},
   "source": [
    "Now that we have a dataframe, let's evaluate our losses. How should we do that easily?"
   ]
  },
  {
   "cell_type": "code",
   "execution_count": 3,
   "metadata": {
    "collapsed": true
   },
   "outputs": [],
   "source": [
    "#Exercise\n"
   ]
  },
  {
   "cell_type": "code",
   "execution_count": 4,
   "metadata": {
    "collapsed": false
   },
   "outputs": [
    {
     "name": "stdout",
     "output_type": "stream",
     "text": [
      "full 866624\n",
      "restricted 857667\n"
     ]
    }
   ],
   "source": [
    "#Answer\n",
    "print('full', len(df))\n",
    "\n",
    "print('restricted', len( df[df.dow.isin(['Mon', 'Fri', 'Wed', 'Thu', 'Tue', 'Sun', 'Sat'])]) )"
   ]
  },
  {
   "cell_type": "markdown",
   "metadata": {},
   "source": [
    "With my quick and dirty approach I lost approximately 4k records (so one percent). This is a pretty acceptable loss for our exercise.\n",
    "\n",
    "Since this class is about preparation for independent research, we will not jump straight to our analysis topic. \n",
    "\n",
    "Good research is about building an understanding of the dataset. One of the best ways to do that is to understand the degree of individuals.\n",
    "\n",
    "An unweighted, undirected network should be sufficient to gain an intuition of the system"
   ]
  },
  {
   "cell_type": "code",
   "execution_count": 5,
   "metadata": {
    "collapsed": false
   },
   "outputs": [],
   "source": [
    "#Exercise\n"
   ]
  },
  {
   "cell_type": "code",
   "execution_count": 12,
   "metadata": {
    "collapsed": false
   },
   "outputs": [
    {
     "data": {
      "text/plain": [
       "<matplotlib.text.Text at 0x12b2c9278>"
      ]
     },
     "execution_count": 12,
     "metadata": {},
     "output_type": "execute_result"
    },
    {
     "data": {
      "image/png": "[encoded data removed]",
      "text/plain": [
       "<matplotlib.figure.Figure at 0x134c012e8>"
      ]
     },
     "metadata": {},
     "output_type": "display_data"
    }
   ],
   "source": [
    "#Answer\n",
    "%matplotlib inline\n",
    "import matplotlib.pyplot as plt\n",
    "import seaborn as sns; sns.set()\n",
    "#Answer\n",
    "#Strip out whitespace\n",
    "df['from'] = df['from'].apply(lambda x: x.lstrip().strip())\n",
    "df['to'] = df['to'].apply(lambda x: x.lstrip().strip())\n",
    "#Do the groupbys on from and to individually and explicitly for clarity\n",
    "#From\n",
    "fdf = df.groupby('from').agg(len)\n",
    "fnames, fcounts = fdf.index.values, fdf['to'].values\n",
    "#To\n",
    "tdf = df.groupby('to').agg(len)\n",
    "tnames, tcounts = tdf.index.values, tdf['from'].values\n",
    "#Aggregate the from and to in the degree dict\n",
    "degree_dict = {}\n",
    "for nset, cset in [[fnames, fcounts], [tnames, tcounts]]:\n",
    "    for n, c in zip(nset, cset):\n",
    "        if n not in degree_dict:\n",
    "            degree_dict[n] = c\n",
    "        else:\n",
    "            degree_dict[n] += c\n",
    "#Plot this out, I want to use a scatter so I use the hist function to generate the histogram\n",
    "import numpy as np\n",
    "n, bins, patches = plt.hist(list(degree_dict.values()), log=True, bins=np.logspace(0, 5, 100), normed=True);\n",
    "#then clear the plot \n",
    "plt.clf();\n",
    "#Then plot the bins and values using the scatter function\n",
    "plt.scatter(bins[:-1], n, color='steelblue')\n",
    "plt.loglog()\n",
    "plt.ylim(1, 100000)\n",
    "plt.xlim(0, 80000)\n",
    "plt.xlabel('degree')"
   ]
  },
  {
   "cell_type": "code",
   "execution_count": null,
   "metadata": {
    "collapsed": true
   },
   "outputs": [],
   "source": []
  },
  {
   "cell_type": "code",
   "execution_count": null,
   "metadata": {
    "collapsed": false
   },
   "outputs": [],
   "source": []
  },
  {
   "cell_type": "markdown",
   "metadata": {},
   "source": [
    "Now that we have a baseline for the entire system, now we can start making comparisons at a systems level.\n",
    "\n",
    "Let's start with just restricting and comparing the yearly amounts of data."
   ]
  },
  {
   "cell_type": "code",
   "execution_count": 13,
   "metadata": {
    "collapsed": false
   },
   "outputs": [],
   "source": [
    "#Exercise\n"
   ]
  },
  {
   "cell_type": "code",
   "execution_count": 14,
   "metadata": {
    "collapsed": false
   },
   "outputs": [
    {
     "name": "stdout",
     "output_type": "stream",
     "text": [
      "2000 22160\n",
      "2001 52657\n",
      "2002 11925\n"
     ]
    },
    {
     "data": {
      "text/plain": [
       "<matplotlib.text.Text at 0x12f70eda0>"
      ]
     },
     "execution_count": 14,
     "metadata": {},
     "output_type": "execute_result"
    },
    {
     "data": {
      "image/png": "[encoded data removed]",
      "text/plain": [
       "<matplotlib.figure.Figure at 0x12f6fd208>"
      ]
     },
     "metadata": {},
     "output_type": "display_data"
    }
   ],
   "source": [
    "#Answer\n",
    "#First we need to clean the strdate\n",
    "def strdate_cleaner(strdate):\n",
    "    from datetime import datetime\n",
    "    try:\n",
    "        return datetime.strptime(strdate, '%d %b %Y') \n",
    "    except ValueError:\n",
    "        return np.nan\n",
    "    \n",
    "df['date'] = df.strdate.apply(strdate_cleaner)\n",
    "#Now we need to rectrict this\n",
    "df.dropna(inplace=True)\n",
    "df = df[(df['from'] != '') & (df['to'] != '')]\n",
    "#Get teh weeks/days/years\n",
    "df['week_num'] = df.date.apply(lambda x: x.isocalendar()[1])\n",
    "df['month'] = df.date.apply(lambda x: x.month)\n",
    "df['year'] = df.date.apply(lambda x: x.year)\n",
    "#restrict year\n",
    "df = df[(df.year >= 2000) & (df.year <= 2002)]\n",
    "\n",
    "#And now we can easily aggregate, we just need to write a function that will return the degree distribution\n",
    "def aggregate_degree(df):\n",
    "    #From\n",
    "    fdf = df.groupby('from').agg(len)\n",
    "    fnames, fcounts = fdf.index.values, fdf['to'].values\n",
    "    #To\n",
    "    tdf = df.groupby('to').agg(len)\n",
    "    tnames, tcounts = tdf.index.values, tdf['from'].values\n",
    "    #Aggregate the from and to in the degree dict\n",
    "    degree_dict = {}\n",
    "    for nset, cset in [[fnames, fcounts], [tnames, tcounts]]:\n",
    "        for n, c in zip(nset, cset):\n",
    "            if n not in degree_dict:\n",
    "                degree_dict[n] = c\n",
    "            else:\n",
    "                degree_dict[n] += c\n",
    "    return degree_dict\n",
    "\n",
    "#I'll start with doing this by year\n",
    "ygdf = df.groupby('year')\n",
    "year_dataset = {}\n",
    "year_degreesets = {}\n",
    "for year in ygdf.groups.keys():\n",
    "    tdegree = aggregate_degree(ygdf.get_group(year))\n",
    "    year_degreesets[year] = tdegree\n",
    "    print(year, len(tdegree.keys()) )\n",
    "    year_dataset[year] = np.histogram(list(tdegree.values()), normed=True, bins = np.logspace(0, 5, 100))\n",
    "#Plot the years\n",
    "for year, (y, x) in sorted(year_dataset.items()):\n",
    "    plt.scatter(x[:-1], y, label=str(year))\n",
    "plt.loglog()\n",
    "plt.ylim(0.00001, 1)\n",
    "plt.xlim(1, 80000)\n",
    "plt.legend()\n",
    "plt.xlabel('degree')\n",
    "plt.ylabel('pdf')"
   ]
  },
  {
   "cell_type": "markdown",
   "metadata": {
    "collapsed": false
   },
   "source": [
    "Now let's examine the change in an individual user's degree over time."
   ]
  },
  {
   "cell_type": "code",
   "execution_count": 15,
   "metadata": {
    "collapsed": false
   },
   "outputs": [],
   "source": [
    "#Exercise\n"
   ]
  },
  {
   "cell_type": "code",
   "execution_count": 16,
   "metadata": {
    "collapsed": false
   },
   "outputs": [
    {
     "data": {
      "image/png": "[encoded data removed]",
      "text/plain": [
       "<matplotlib.figure.Figure at 0x12ef7b630>"
      ]
     },
     "metadata": {},
     "output_type": "display_data"
    }
   ],
   "source": [
    "#Answer\n",
    "#Restrict the users\n",
    "userset = []\n",
    "for year in year_degreesets:\n",
    "    userset += list(year_degreesets[year].keys())\n",
    "userset = list(set(userset))\n",
    "\n",
    "#Get the differences\n",
    "diff2000, diff2001 = [], []\n",
    "for (ty, tempvar) in [(2000, diff2000), (2001, diff2001)]:\n",
    "    for u in userset:\n",
    "        if u in year_degreesets[ty] and u in year_degreesets[ty+1]:\n",
    "            tempvar.append( (year_degreesets[ty+1][u] - year_degreesets[ty][u]) / year_degreesets[ty][u] )\n",
    "\n",
    "xmax = max([max(diff2000), max(diff2001)])                     \n",
    "#Now plot it out\n",
    "fig = plt.figure(figsize = (4, 6))\n",
    "#2000 to 2001\n",
    "ax1 = fig.add_subplot(211)\n",
    "ax1.hist(diff2000, bins=np.linspace(0, xmax, 50), normed=True, log=True)\n",
    "ax1.set_ylim(0.00001, .1)\n",
    "ax1.set_xlim(0, xmax/10)\n",
    "ax1.set_xlabel('Pct change in degree YoY (2000-2001)')\n",
    "#2001 to 2002\n",
    "ax2 = fig.add_subplot(212)\n",
    "ax2.hist(diff2001, bins=np.linspace(0, xmax, 50), normed=True, log=True)\n",
    "ax2.set_ylim(0.00001, .1)\n",
    "ax2.set_xlim(0, xmax/10)\n",
    "ax2.set_xlabel('Pct change in degree YoY (2001-2002)')\n",
    "plt.tight_layout()\n"
   ]
  },
  {
   "cell_type": "markdown",
   "metadata": {},
   "source": [
    "And we can also statistically test to see if these distributions are different"
   ]
  },
  {
   "cell_type": "code",
   "execution_count": 21,
   "metadata": {
    "collapsed": false
   },
   "outputs": [
    {
     "data": {
      "text/plain": [
       "Ks_2sampResult(statistic=0.19885055772964882, pvalue=2.2688055265052399e-91)"
      ]
     },
     "execution_count": 21,
     "metadata": {},
     "output_type": "execute_result"
    }
   ],
   "source": [
    "from scipy import stats\n",
    "\n",
    "stats.ks_2samp(diff2000, diff2001)"
   ]
  },
  {
   "cell_type": "markdown",
   "metadata": {},
   "source": [
    "A technosocial system, such as e-mail during a period like 2000-2002 is likely to see a dramatic per-user change year over year (as the technology is on a dramatic increase in the utilization across the firm).\n",
    "\n",
    "This is decidedly different from a system that has reached mass adoption. \n",
    "\n",
    "-> How many friends did you add on Facebook in 2017? In 2012? Likely very different.\n",
    "\n",
    "**But has the network itself changed?**"
   ]
  },
  {
   "cell_type": "code",
   "execution_count": 22,
   "metadata": {
    "collapsed": true
   },
   "outputs": [],
   "source": [
    "#Exercise\n"
   ]
  },
  {
   "cell_type": "code",
   "execution_count": 23,
   "metadata": {
    "collapsed": false
   },
   "outputs": [],
   "source": [
    "#Answer\n",
    "import networkx as nx\n",
    "\n",
    "def construct_network(tdf):\n",
    "    G = nx.Graph()\n",
    "    G.add_edges_from( tdf.loc[:, ['from', 'to']].values.tolist() )\n",
    "    return max(nx.connected_component_subgraphs(G), key=len)\n",
    "\n",
    "yearset = [2000, 2001, 2002]\n",
    "year_networks ={}\n",
    "for year in yearset:\n",
    "    year_networks[year] = construct_network(df[df.year == year])"
   ]
  },
  {
   "cell_type": "code",
   "execution_count": 25,
   "metadata": {
    "collapsed": false
   },
   "outputs": [
    {
     "data": {
      "text/plain": [
       "<matplotlib.text.Text at 0x12efeadd8>"
      ]
     },
     "execution_count": 25,
     "metadata": {},
     "output_type": "execute_result"
    },
    {
     "data": {
      "image/png": "[encoded data removed]",
      "text/plain": [
       "<matplotlib.figure.Figure at 0x12d74b048>"
      ]
     },
     "metadata": {},
     "output_type": "display_data"
    }
   ],
   "source": [
    "#Answer\n",
    "import os, json\n",
    "if os.path.exists('../data/enron_year_connectivity.json') == False:\n",
    "    clustering, paths, degrees = [], [], []\n",
    "    for year in yearset:\n",
    "        clustering.append( nx.average_clustering(year_networks[year]) )\n",
    "        paths.append( nx.average_shortest_path_length(year_networks[year]) )\n",
    "    #Save it all for the students\n",
    "    json.dump({'clustering': clustering, 'paths': paths}, \\\n",
    "              open('../data/enron_year_connectivity.json', 'w'))\n",
    "else:\n",
    "    data_dict = json.load(open('../data/enron_year_connectivity.json'))\n",
    "    clustering = data_dict['clustering']\n",
    "    paths = data_dict['paths']\n",
    "#Plot it out\n",
    "fig = plt.figure(figsize = (9, 3))\n",
    "ax = fig.add_subplot(121)\n",
    "ax.scatter(yearset, clustering)\n",
    "ax.set_ylabel('Clustering')\n",
    "#path length\n",
    "ax = fig.add_subplot(122)\n",
    "ax.scatter(yearset, paths)\n",
    "ax.set_ylabel('Path Length')"
   ]
  },
  {
   "cell_type": "markdown",
   "metadata": {},
   "source": [
    "**TE** What is your explanation for this observed behavior?\n",
    "\n",
    "Now examine month to month behavior in 2001"
   ]
  },
  {
   "cell_type": "code",
   "execution_count": null,
   "metadata": {
    "collapsed": true
   },
   "outputs": [],
   "source": [
    "#Exercise\n"
   ]
  },
  {
   "cell_type": "code",
   "execution_count": null,
   "metadata": {
    "collapsed": false
   },
   "outputs": [],
   "source": []
  },
  {
   "cell_type": "code",
   "execution_count": 36,
   "metadata": {
    "collapsed": false
   },
   "outputs": [
    {
     "name": "stdout",
     "output_type": "stream",
     "text": [
      "1\n",
      "2\n",
      "3\n",
      "4\n",
      "5\n",
      "6\n",
      "7\n",
      "8\n",
      "9\n",
      "10\n",
      "11\n",
      "12\n"
     ]
    },
    {
     "data": {
      "text/plain": [
       "<matplotlib.text.Text at 0x13464b2b0>"
      ]
     },
     "execution_count": 36,
     "metadata": {},
     "output_type": "execute_result"
    },
    {
     "data": {
      "image/png": "[encoded data removed]",
      "text/plain": [
       "<matplotlib.figure.Figure at 0x12d9c84e0>"
      ]
     },
     "metadata": {},
     "output_type": "display_data"
    }
   ],
   "source": [
    "#Answer\n",
    "if os.path.exists('../data/enron_month_connectivity.json') == False:\n",
    "    #Create the networks\n",
    "    monthset = [x+1 for x in range(12)]\n",
    "    month_networks ={}\n",
    "    for month in monthset:\n",
    "        month_networks[month] = construct_network(df[(df.year == 2001) & (df.month == month)])\n",
    "    #Cluster it up\n",
    "    clustering, paths = [], []\n",
    "    for month in monthset:\n",
    "        clustering.append( nx.average_clustering(month_networks[month]) )\n",
    "        paths.append( nx.average_shortest_path_length(month_networks[month]) )\n",
    "    #Save it all for the students\n",
    "    json.dump({'clustering': clustering, 'paths': paths}, \\\n",
    "              open('../data/enron_month_connectivity.json', 'w'))\n",
    "else:\n",
    "    data_dict = json.load(open('../data/enron_month_connectivity.json'))\n",
    "    clustering = data_dict['clustering']\n",
    "    paths = data_dict['paths']\n",
    "#Plot it out\n",
    "fig = plt.figure(figsize = (9, 3))\n",
    "ax = fig.add_subplot(121)\n",
    "ax.scatter(monthset, clustering)\n",
    "ax.set_ylabel('Clustering')\n",
    "#path length\n",
    "ax = fig.add_subplot(122)\n",
    "ax.scatter(monthset, paths)\n",
    "ax.set_ylabel('Path Length')"
   ]
  },
  {
   "cell_type": "markdown",
   "metadata": {},
   "source": [
    "# So how do we study a social network over time? \n",
    "\n",
    "The major concern with studying a network over a time period, is that the behavior that you observe is an artifact of the time window that has been chosen. \n",
    "\n",
    "**Why?** Let's think through this. Assume that each agent $A$ has a behavioral pattern that is drawn from some distribution $B$. On any given day, the agent $A$ draws an action from distribution $B$ and after some period, say 3 weeks, the user will have, effectively, drawn a full set of behaviors from distribution $B$.\n",
    "\n",
    "If you were to sample the network at 1-week intervals, then it is impossible to have observed that user's complete behavior pattern. Since you do not know what, if anything, influenced the draws from $B$ then given one week's worth of data you will not be able to properly estimate the distribution.\n",
    "\n",
    "Since we are interested in properly characterizing agent behavior, thie means that your time window should be significantly larger (how much larger, we'll get to that) than the typical time-scale of the phenomena under study. \n",
    "\n",
    "## 1. Your question imposes time and the change in behavior is the quantity of interest\n",
    "\n",
    "If you ask a question, such as \"How did the facebook graph change 6 months after X? one year after X?\" then you find yourself in a relatively easy analytical situation since the question itself has imposed the timescale. \n",
    "\n",
    "Major issue - you can answer your question, but given how arbitrary the choice is the analysis will lack generalizability to other contexts. In this example, it is unclear why the change in the facebook network will be the same as the Twitter network. \n",
    "\n",
    "## 2. Some event has occurred that marks the shift in time (i.e. natural experiment like)\n",
    "\n",
    "There is an exogenous shock to the system, you then study the network pre- and post- the event. Without multiple event occurrences, then generalizability will also be greatly hampered (although you at least have a reason as to why the time was split as such).\n",
    "\n",
    "## 3. You use time markers that produce stable networks \n",
    "\n",
    "Since we are interested in properly characterizing agent behavior, thie means that your time window should be significantly larger (how much larger, we'll get to that) than the typical time-scale of the phenomena under study. \n",
    "\n",
    "Your options: *a priori* knowledge about the behavioral process or data-driven estimation of the behavioral process. \n",
    "\n",
    "## Hasn't someone already studied/developed a method to identify the characteristic time scale of a network\n",
    "\n",
    "This is a general problem that researchers encounter. However, there is a large heterogeneity in network types and associated statistical characterization for methods to identify a characteristic time scale is not robust enough for me to recommend its direct usage and implementation without a significant amount of additional verification and characterization of your dataset."
   ]
  },
  {
   "cell_type": "markdown",
   "metadata": {},
   "source": [
    "# Pictorial representation\n",
    "\n",
    "### Step 1. Calculate network quantity you want to control for and plot in distinct time unites\n",
    "\n",
    "<img src='../images/networktime/step1.jpeg' width='500'></img>\n",
    "\n",
    "### Step 2. Segment the dataset into time periods that have values drawn from the same distribution\n",
    "\n",
    "<img src='../images/networktime/step2.jpeg' width = '500'></img>\n",
    "\n",
    "### Step 3. Select a segment with behavior that is drawn from the same statistical distribution\n",
    "\n",
    "<img src='../images/networktime/step3.jpeg' width = '500'></img>\n",
    "\n",
    "### Step 4. Confirm that data points are drawn from the same distribution if your methodology did not\n",
    "\n",
    "<img src='../images/networktime/step4.jpeg' width='500'></img>\n",
    "\n",
    "### Step 5. Select one period and split into two (or more) periods to compare your hypotheses against.\n",
    "\n",
    "<img src='../images/networktime/step5.jpeg' width='180'></img>"
   ]
  },
  {
   "cell_type": "markdown",
   "metadata": {
    "collapsed": true
   },
   "source": [
    "# Discussion\n",
    "\n",
    "J. Saramaki and E. Moro. From seconds to months: multi-scale dynamics of mobile telephone calls. https://arxiv.org/pdf/1504.01479.pdf"
   ]
  }
 ],
 "metadata": {
  "anaconda-cloud": {},
  "kernelspec": {
   "display_name": "Python [Root]",
   "language": "python",
   "name": "Python [Root]"
  },
  "language_info": {
   "codemirror_mode": {
    "name": "ipython",
    "version": 3
   },
   "file_extension": ".py",
   "mimetype": "text/x-python",
   "name": "python",
   "nbconvert_exporter": "python",
   "pygments_lexer": "ipython3",
   "version": "3.5.1"
  }
 },
 "nbformat": 4,
 "nbformat_minor": 0
}
