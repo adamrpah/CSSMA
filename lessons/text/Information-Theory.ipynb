{
 "cells": [
  {
   "cell_type": "markdown",
   "metadata": {
    "collapsed": true,
    "jupyter": {
     "outputs_hidden": true
    },
    "slideshow": {
     "slide_type": "slide"
    }
   },
   "source": [
    "# What is information theory and why am I wasting your time? \n",
    "\n",
    "Information theory is about the quantification, storage, and communication of information. It started in the late 1940s when Claude Shannon prposed it in his paper entitled \"A mathematical theory of communication\".\n",
    "\n",
    "So **why** do I bring this up?"
   ]
  },
  {
   "cell_type": "markdown",
   "metadata": {
    "slideshow": {
     "slide_type": "slide"
    }
   },
   "source": [
    "**text is inherently about communication**"
   ]
  },
  {
   "cell_type": "markdown",
   "metadata": {
    "collapsed": true,
    "jupyter": {
     "outputs_hidden": true
    },
    "slideshow": {
     "slide_type": "slide"
    }
   },
   "source": [
    "# The concept of information theory\n",
    "\n",
    "The most basic part of information theory that you all will have experienced is the concept of encoding. If you've ever played an MP3 or opened a zip file you've dealt with this. \n",
    "\n",
    "The idea of encoding is to compress information without losing fidelity. As an overly simple example, consider the string:\n",
    "\n",
    "`00001111`\n",
    "\n",
    "which has 8 characters. If we were to introduce a translation table that said `0` means `0000` and `1` means `1111` then we could reduce that string to:\n",
    "\n",
    "`01`\n",
    "\n",
    "without losing any information. This is one, extremely basic, aspect of information theory, but it demonstrates the larger principle: how can we quantify the amount of information in some quantity and 'transport' it."
   ]
  },
  {
   "cell_type": "markdown",
   "metadata": {
    "slideshow": {
     "slide_type": "slide"
    }
   },
   "source": [
    "# Entropy\n",
    "\n",
    "Entropy is one of the foundational calculations in Information Theory and it is effectively similar to the entropy calculation in thermodynamics. In information theory, we use entropy in the form of:\n",
    "\n",
    "$H(X)=-\\sum_{i=1}^{n}p_i log(p_i)$\n",
    "\n",
    "which is for a discrete variable. The probability of $i$ ($p_i$) depends on the distribution of $X$. Now it is rather easy to understand the earlier formulation given for mutual information, which was\n",
    "\n",
    "$I(X;Y)=H(X)-H(X|Y)$\n",
    "\n",
    "but could also be written as\n",
    "\n",
    "$I(X;Y)=\\sum_{i=1}^n\\sum_{j=1}^m p_{ij} log\\frac{p_{ij}}{p_{i}p_{j}}$\n",
    "\n",
    "so the difference in one distributions' entropy minus the amount of entropy that is conditional on a second distribution. "
   ]
  },
  {
   "cell_type": "markdown",
   "metadata": {
    "slideshow": {
     "slide_type": "slide"
    }
   },
   "source": [
    "We can then code a function to calculate entropy given a list of words."
   ]
  },
  {
   "cell_type": "code",
   "execution_count": null,
   "metadata": {
    "slideshow": {
     "slide_type": "slide"
    }
   },
   "outputs": [],
   "source": [
    "#Exercise\n"
   ]
  },
  {
   "cell_type": "markdown",
   "metadata": {
    "slideshow": {
     "slide_type": "slide"
    }
   },
   "source": [
    "The value of entropy increases as the system's disorder grows, which means that more unique words are used in the context of text.\n",
    "\n",
    "We can also use the entropy implementation in scipy stats, which removes the need to write it ourselves (we do however, have to transform the word list to counts)."
   ]
  },
  {
   "cell_type": "code",
   "execution_count": null,
   "metadata": {
    "slideshow": {
     "slide_type": "slide"
    }
   },
   "outputs": [],
   "source": [
    "#Answer\n"
   ]
  },
  {
   "cell_type": "markdown",
   "metadata": {
    "slideshow": {
     "slide_type": "slide"
    }
   },
   "source": [
    "Compare the entropy of Iago and Othello's speaking parts to that of the lexical divergence"
   ]
  },
  {
   "cell_type": "code",
   "execution_count": null,
   "metadata": {
    "slideshow": {
     "slide_type": "slide"
    }
   },
   "outputs": [],
   "source": [
    "#Exercise\n"
   ]
  },
  {
   "cell_type": "markdown",
   "metadata": {
    "collapsed": true,
    "jupyter": {
     "outputs_hidden": true
    },
    "slideshow": {
     "slide_type": "slide"
    }
   },
   "source": [
    "And now we can see an issue - Othello has a larger lexical diversity but a smaller entropy. \n",
    "\n",
    "Lexical diversity is a rather simplistic measure - and as such it will be more sensitive to mild differences in the number of unique words as the size of the total vocabulary decreases. These differences are not likely to be statistically significant, but they can give the appearance of a larger difference than truly exists. \n",
    "\n",
    "In this example, lexical diversity would suggest that the difference in vocabulary complexity is twice as much as with entropy (when we already know that this difference is not significant from our test in the previous notebook)."
   ]
  },
  {
   "cell_type": "markdown",
   "metadata": {
    "slideshow": {
     "slide_type": "slide"
    }
   },
   "source": [
    "# Surprise! \n",
    "\n",
    "The other concept that I want to talk about is the Kullback-Leibler (KL) divergence. The KL divergence is a measure of relative entropy, so how much entropy there is in dataset $P$ given knowledge of $Q$. Its output is continuous from 0 to 1, and when $D_{KL}=1$ one would never expect to see $P$ after having learned from $Q$. This range of outputs and its meaning is why the KL divergence can be simplified to an explanation of one's 'surprise' at seeing a dataset.\n",
    "\n",
    "The KL divergence is implemented as:\n",
    "\n",
    "$D_{KL}(P||Q)=-\\sum_i P(i)log\\frac{Q(i)}{P(i)}$\n",
    "\n",
    "where each $i$ is a discrete support. \n"
   ]
  },
  {
   "cell_type": "markdown",
   "metadata": {
    "collapsed": true,
    "jupyter": {
     "outputs_hidden": true
    }
   },
   "source": [
    "# The value of surprise\n",
    "\n",
    "We can do a basic, but not very meaningful, example that compares othello's text given iago's. Implement the KL divergence function and calculate it."
   ]
  },
  {
   "cell_type": "code",
   "execution_count": null,
   "metadata": {},
   "outputs": [],
   "source": [
    "#Exercise\n"
   ]
  },
  {
   "cell_type": "code",
   "execution_count": null,
   "metadata": {},
   "outputs": [],
   "source": [
    "kldivergence(iago_support, othello_support)"
   ]
  },
  {
   "cell_type": "markdown",
   "metadata": {},
   "source": [
    "And of course, we could just use the scipy function to calculate this (but it wouldn't be as obvious as to why we have to restrict the input to shared words only)."
   ]
  },
  {
   "cell_type": "code",
   "execution_count": null,
   "metadata": {},
   "outputs": [],
   "source": [
    "stats.entropy(othello_support, qk = iago_support)"
   ]
  },
  {
   "cell_type": "markdown",
   "metadata": {
    "collapsed": true,
    "jupyter": {
     "outputs_hidden": true
    }
   },
   "source": [
    "# The real value of KL divergence. \n",
    "\n",
    "KL divergence has a very straightforward interpretation as surprise and it is bounded from 0 to 1 (making its interpretation intuitive). \n",
    "\n",
    "The value in this metric is it provides a way to quantify the amount of change from one document to the next (or one type of document to the next). It provides an easy, grounded way to assess the change in a document over time (think financial reports from quarter to quarter) or between documents that one thinks should be similar."
   ]
  }
 ],
 "metadata": {
  "anaconda-cloud": {},
  "celltoolbar": "Slideshow",
  "kernelspec": {
   "display_name": "Python 3 (ipykernel)",
   "language": "python",
   "name": "python3"
  },
  "language_info": {
   "codemirror_mode": {
    "name": "ipython",
    "version": 3
   },
   "file_extension": ".py",
   "mimetype": "text/x-python",
   "name": "python",
   "nbconvert_exporter": "python",
   "pygments_lexer": "ipython3",
   "version": "3.13.1"
  }
 },
 "nbformat": 4,
 "nbformat_minor": 4
}
