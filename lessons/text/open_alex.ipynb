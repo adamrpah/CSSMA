{
 "cells": [
  {
   "cell_type": "markdown",
   "id": "b303cda0-0731-4146-b3ab-3887c8860c43",
   "metadata": {},
   "source": [
    "# Concepts to practice\n",
    "\n",
    "Now let's pull data from an API and work with the text data.\n",
    "\n",
    "So first steps -- let's figure out how we pull data from the Open Alex API.\n",
    "\n",
    "Open Alex indexex over 250M scholarly works from 250k sources, with extra coverage of humanities, non-English languages, and the Global South.\n",
    "\n",
    "We link these works to 90M disambiguated authors and 100k institutions, as well as enriching them with topic information, SDGs, citation counts, and much more.\n",
    "\n",
    "This is an amazing *open* repository of scholarly works and data."
   ]
  },
  {
   "cell_type": "code",
   "execution_count": 1,
   "id": "1b975159-d6a0-46df-827d-bad5653ce36c",
   "metadata": {},
   "outputs": [],
   "source": [
    "#Exercise\n"
   ]
  },
  {
   "cell_type": "markdown",
   "id": "429d650a-d529-4c9d-9c5e-84fd4061408d",
   "metadata": {},
   "source": [
    "# What data should we pull?\n",
    "\n",
    "Soooo now we know how to pull data, what data should we pull? Well I actually have a list of faculty names so let's try that.\n",
    "\n",
    "The AYS Faculty names are in `data/faculty_data.csv`"
   ]
  },
  {
   "cell_type": "code",
   "execution_count": 2,
   "id": "463538af-c1f2-4457-bf9e-8ddd79eced41",
   "metadata": {},
   "outputs": [],
   "source": [
    "#Exercise\n"
   ]
  },
  {
   "cell_type": "markdown",
   "id": "7a20114f-b777-4b4f-be3f-bf994a2f8ac5",
   "metadata": {},
   "source": [
    "# Now that we have data...\n",
    "\n",
    "Who are the real AYS faculty members?"
   ]
  },
  {
   "cell_type": "code",
   "execution_count": 3,
   "id": "44b83a86-dcf4-46ad-a440-99942352a229",
   "metadata": {},
   "outputs": [],
   "source": [
    "#Exercise\n"
   ]
  },
  {
   "cell_type": "markdown",
   "id": "0fcf46c2-97e1-4ab1-95c3-2cbfb850fa3b",
   "metadata": {},
   "source": [
    "# With real faculty members...\n",
    "\n",
    "What research does AYS specialize in? How can you go about this"
   ]
  },
  {
   "cell_type": "code",
   "execution_count": 4,
   "id": "8ceea479-072b-486f-91e6-7069d2876060",
   "metadata": {},
   "outputs": [],
   "source": [
    "#Exercise\n"
   ]
  },
  {
   "cell_type": "code",
   "execution_count": null,
   "id": "4cec8d4b-da5d-461b-92ba-f1fd18f807cc",
   "metadata": {},
   "outputs": [],
   "source": []
  }
 ],
 "metadata": {
  "kernelspec": {
   "display_name": "Python 3 (ipykernel)",
   "language": "python",
   "name": "python3"
  },
  "language_info": {
   "codemirror_mode": {
    "name": "ipython",
    "version": 3
   },
   "file_extension": ".py",
   "mimetype": "text/x-python",
   "name": "python",
   "nbconvert_exporter": "python",
   "pygments_lexer": "ipython3",
   "version": "3.12.0"
  }
 },
 "nbformat": 4,
 "nbformat_minor": 5
}
