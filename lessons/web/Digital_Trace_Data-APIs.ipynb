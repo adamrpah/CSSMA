{
 "cells": [
  {
   "cell_type": "code",
   "execution_count": 1,
   "metadata": {},
   "outputs": [
    {
     "data": {
      "text/html": [
       "<style>\n",
       "    @font-face {\n",
       "        font-family: \"Computer Modern\";\n",
       "        src: url('http://9dbb143991406a7c655e-aa5fcb0a5a4ec34cff238a2d56ca4144.r56.cf5.rackcdn.com/cmunss.otf');\n",
       "    }\n",
       "    @font-face {\n",
       "        font-family: \"Computer Modern\";\n",
       "        font-weight: bold;\n",
       "        src: url('http://9dbb143991406a7c655e-aa5fcb0a5a4ec34cff238a2d56ca4144.r56.cf5.rackcdn.com/cmunsx.otf');\n",
       "    }\n",
       "    @font-face {\n",
       "        font-family: \"Computer Modern\";\n",
       "        font-style: oblique;\n",
       "        src: url('http://9dbb143991406a7c655e-aa5fcb0a5a4ec34cff238a2d56ca4144.r56.cf5.rackcdn.com/cmunsi.otf');\n",
       "    }\n",
       "    @font-face {\n",
       "        font-family: \"Computer Modern\";\n",
       "        font-weight: bold;\n",
       "        font-style: oblique;\n",
       "        src: url('http://9dbb143991406a7c655e-aa5fcb0a5a4ec34cff238a2d56ca4144.r56.cf5.rackcdn.com/cmunso.otf');\n",
       "    }\n",
       "    h1 {\n",
       "        font-family: Helvetica, serif;\n",
       "    }\n",
       "    h4{\n",
       "        margin-top:12px;\n",
       "        margin-bottom: 3px;\n",
       "       }\n",
       "    div.text_cell_render{\n",
       "        font-family: Computer Modern, \"Helvetica Neue\", Arial, Helvetica, Geneva, sans-serif;\n",
       "        line-height: 145%;\n",
       "        font-size: 130%;\n",
       "        margin-left:auto;\n",
       "        margin-right:auto;\n",
       "    }\n",
       "    .CodeMirror{\n",
       "            font-family: \"Source Code Pro\", source-code-pro,Consolas, monospace;\n",
       "    }\n",
       "    .text_cell_render h5 {\n",
       "        font-weight: 300;\n",
       "        font-size: 22pt;\n",
       "        color: #4057A1;\n",
       "        font-style: italic;\n",
       "        margin-bottom: .5em;\n",
       "        margin-top: 0.5em;\n",
       "        display: block;\n",
       "    }\n",
       "    \n",
       "    .warning{\n",
       "        color: rgb( 240, 20, 20 )\n",
       "        }  \n",
       "</style>\n",
       "<script>\n",
       "    MathJax.Hub.Config({\n",
       "                        TeX: {\n",
       "                           extensions: [\"AMSmath.js\"]\n",
       "                           },\n",
       "                tex2jax: {\n",
       "                    inlineMath: [ ['$','$'], [\"\\\\(\",\"\\\\)\"] ],\n",
       "                    displayMath: [ ['$$','$$'], [\"\\\\[\",\"\\\\]\"] ]\n",
       "                },\n",
       "                displayAlign: 'center', // Change this to 'center' to center equations.\n",
       "                \"HTML-CSS\": {\n",
       "                    styles: {'.MathJax_Display': {\"margin\": 4}}\n",
       "                }\n",
       "        });\n",
       "</script>\n"
      ],
      "text/plain": [
       "<IPython.core.display.HTML object>"
      ]
     },
     "execution_count": 1,
     "metadata": {},
     "output_type": "execute_result"
    }
   ],
   "source": [
    "from IPython.core.display import HTML\n",
    "def css_styling():\n",
    "    styles = open(\"../Data/www/styles/custom.css\", \"r\").read()\n",
    "    return HTML(styles)\n",
    "css_styling()"
   ]
  },
  {
   "cell_type": "code",
   "execution_count": 1,
   "metadata": {
    "scrolled": true
   },
   "outputs": [],
   "source": [
    "import requests \n",
    "import requests.auth\n",
    "import json\n",
    "#from PIL import Image\n",
    "#from io import BytesIO\n",
    "from IPython.display import display, Image\n"
   ]
  },
  {
   "cell_type": "markdown",
   "metadata": {},
   "source": [
    "# Digital Trace Data\n",
    "\n",
    "The Internet is a gigantic data dump. There is all the social networking data from Facebook, Twitter, and so on. There is the news from all the traditional media sources plus Quartz, Vox, and so on. Then there is the data from organizations such as the World Bank, the Bureau of Labor Statistics, the US Census, or Chicago's Data Portal.  Finally, you have all your scientific data sources: the National Cancer Institute, the ProteinBank, or the Kyoto Gene and Genomes Encyclopedia.\n",
    "\n",
    "How can you use Python to access those sites and retrieve data for your research, your business, or your hobby?\n",
    "\n",
    "There are two main approaches to retrieve data from websources. The preferred approach is using **Application Program Interfaces** or APIs.  If an organization has decided to share its data, and they have the forethought and resources to do it, they will develop an API that will let you interact with their data.\n",
    "\n",
    "If the organization does not have the forethought or resources to create an API (or if they do not want to share their data), then you have to **crawl** their website and **scrape** their data.\n"
   ]
  },
  {
   "cell_type": "markdown",
   "metadata": {},
   "source": [
    "+++"
   ]
  },
  {
   "cell_type": "markdown",
   "metadata": {},
   "source": [
    "# Application Program Interfaces (APIs)\n",
    "\n",
    "\n",
    "APIs simplify the process of obtaining specific information from a data source.  You do not have to worry about figuring out the **format** in which the information is stored, or **where** the information is stored.  All of those matter are handled seamlessly by the API. \n",
    "\n",
    "But convenience is not the only advantage of an API. APIs are also particular useful when:\n",
    "\n",
    "* **The data is a small part of a whole.** Reddit comments are one example. What if you want to just pull your own comments on Reddit? It doesn’t make much sense to download the entire Reddit database, then filter just your own comments.\n",
    "    \n",
    "* **Massive imbalance in data availability.** Spotify has an API that can tell you the genre of a piece of music. You could theoretically create your own classifier, and use it to categorize music, but you’ll never have as much data as Spotify does.\n",
    "    \n",
    "* **Data is changing quickly.** An example of this is stock price data. It doesn’t really make sense to regenerate a dataset and download it every minute – this will take a lot of bandwidth, and be pretty slow.\n"
   ]
  },
  {
   "cell_type": "markdown",
   "metadata": {},
   "source": [
    "## Schematic of an API transaction\n",
    "\n",
    "Using an API is essentially the same as viewing a web page at a url. The rough transaction is as follows:\n",
    "\n",
    "<img src='../images/api_schema.jpeg'>\n",
    "\n",
    "1. Formulate and send the query to the server\n",
    "2. The server runs the specified query on its database\n",
    "3. Server returns the query data object\n",
    "\n",
    "The difference between this process and a web page is that you are (i) not making a specific demand when you go to a web page and (ii) the server would return the data embedded in html script (a web page is data after all). "
   ]
  },
  {
   "cell_type": "markdown",
   "metadata": {},
   "source": [
    "## Returned data types\n",
    "\n",
    "APIs will almost always return data in one of two formats: XML or JSON. These formats are nothing particularly special, they simply specify how the data object will be structured. XML is used **far less** than JSON, but both are presented here for completeness.\n",
    "\n",
    "### eXtensible Markup Language (XML)\n",
    "\n",
    "XML is a markup language, with the main difference being that it can accept arbitrary classes for items that would not be recognized in HTML. As an example:\n",
    "\n",
    "<img src='../images/xml_example.png'>\n",
    "\n",
    "Each ''<>'' is called a tag, it's an opening tag when it has the name normally spelled (``<food>``) and a closing tag when it has the forward slash in front of the name (``</food>``). In order for an XML file to be read without issue, it is necessary that every open tag is closed. \n",
    "\n",
    "As far as the structure of the rest of the file (i.e. what line goes where), that is left to the author to decide. One navigates an XML file by moving from sibling to sibling (tags that are at the same level and next to each other) or parent to child (a tag that is inside of another tag).\n",
    "\n",
    "### Javascript Object Notation (JSON)\n",
    "\n",
    "JSON is a set of key-value pairs, where the keys must be unique. If this sounds familiar, it is because it is effectively the exact same definition for a dictionary in Python. When you look at a JSON, you will effectively see a dictionary.\n",
    "\n",
    "<img src='../images/json_example.png'>\n",
    "\n",
    "The ``{}`` denotes the start and end of the data object and the key value pair is separated by the ``:``. Something to note - a python dictionary is not actually a JSON, you must convert it from the variable to the object."
   ]
  },
  {
   "cell_type": "code",
   "execution_count": 3,
   "metadata": {},
   "outputs": [
    {
     "data": {
      "text/plain": [
       "{'key1': 'value1', 'key2': 'value2'}"
      ]
     },
     "execution_count": 3,
     "metadata": {},
     "output_type": "execute_result"
    }
   ],
   "source": [
    "sample = {'key1': 'value1', 'key2': 'value2'}\n",
    "sample"
   ]
  },
  {
   "cell_type": "code",
   "execution_count": 4,
   "metadata": {},
   "outputs": [
    {
     "data": {
      "text/plain": [
       "'{\"key1\": \"value1\", \"key2\": \"value2\"}'"
      ]
     },
     "execution_count": 4,
     "metadata": {},
     "output_type": "execute_result"
    }
   ],
   "source": [
    "import json \n",
    "json.dumps(sample)"
   ]
  },
  {
   "cell_type": "markdown",
   "metadata": {},
   "source": [
    "You can tell that you have a JSON when it is represented as a string."
   ]
  },
  {
   "cell_type": "markdown",
   "metadata": {},
   "source": [
    "## Making requests\n",
    "\n",
    "In order to learn how APIs work, we will first use the APIs developed to retrieve data on the **International Space Station (ISS)**.  The relevant APIs can be found at http://open-notify.org/.  We will first consider the API for retrieving the location (latitude and longitude) of the ISS (http://open-notify.org/Open-Notify-API/ISS-Location-Now/). The API is hosted at http://api.open-notify.org/iss-now.json. \n",
    "\n",
    "So, how do we make requests for information with this API?\n",
    "\n",
    "Like standard webpages, APIs are also hosted on web servers. When you type http://www.google.com in your browser’s address bar, your computer is actually asking the http://www.google.com server for a webpage, which it then returns it to your browser for display. That action is called a `request`. \n",
    "\n",
    "There are many possible types of requests. The most common, and the one we will be using throughout this unit, is the `GET` request. A `GET` request simply accesses and downloads the webpage found at the URL you specified as an input. \n",
    "\n",
    "We will use the package [`requests`](http://docs.python-requests.org/en/latest/user/quickstart/) package to crawl (load) webpages and scrape (download) their contents."
   ]
  },
  {
   "cell_type": "code",
   "execution_count": 2,
   "metadata": {},
   "outputs": [
    {
     "name": "stdout",
     "output_type": "stream",
     "text": [
      "<Response [200]>\n",
      "200\n"
     ]
    }
   ],
   "source": [
    "import requests \n",
    "\n",
    "response = requests.get(\"http://api.open-notify.org/iss-now.json\")\n",
    "print( response )\n",
    "print( response.status_code )\n"
   ]
  },
  {
   "cell_type": "markdown",
   "metadata": {},
   "source": [
    "Methods from the `requests` package return `Response` objects. One of the most important properties of the response is its `status code`, which is printed by default but which we can also get explicitly.\n",
    "\n",
    "Here are some of the most common status codes you might encounter:\n",
    "* 200, **OK**. Standard response for successful HTTP requests. The actual response will depend on the request method used.\n",
    "* 301, **Moved Permanently**. The server is redirecting you to a different endpoint. This and all future requests should be directed to the given URL. This can happen when a company switches domain names, or an endpoint name is changed.\n",
    "* 303, **See Other**. The response to the request can be found under another URI using a GET method. When received in response to a POST (or PUT/DELETE), the client should presume that the server has received the data and should issue a redirect with a separate GET message. Your web browser automatically fetches the new URL but web crawlers do not usually do this unless you specify it.\n",
    "* 400, **Bad Request**. The server cannot or will not process the request due to an apparent client error (e.g., malformed request syntax, invalid request message framing, or deceptive request routing).\n",
    "* 401, **Unauthorized**. Similar to `403 Forbidden`, but specifically for use when authentication is required and has failed or has not yet been provided. The response must include a WWW-Authenticate header field containing a challenge applicable to the requested resource.\n",
    "* 403, **Forbidden**. The request was a valid request, but the server is refusing to respond to it. `403` error semantically means \"unauthorized\", i.e. the user does not have the necessary permissions for the resource.\n",
    "* 404, **Not Found**. The requested resource could not be found but may be available in the future. Subsequent requests by the client are permissible.\n",
    "* 500, **Internal Server Error**. A generic error message, given when an `unexpected` condition was encountered and no more specific message is suitable.\n",
    "* 503, **Service Unavailable**. The server is currently unavailable (because it is overloaded or down for maintenance). Generally, this is a temporary state.\n",
    "* 504, **Gateway Timeout**. The server was acting as a gateway or proxy and did not receive a timely response from the upstream server.[\n",
    "\n",
    "\n",
    "\n",
    "More codes: http://en.wikipedia.org/wiki/List_of_HTTP_status_codes"
   ]
  },
  {
   "cell_type": "markdown",
   "metadata": {},
   "source": [
    "The status code of our request was **200**. It means that all went well -- we successfully connected to the web address we wanted and downloaded its contents.\n",
    "\n",
    "But `status codes` are not the only methods available:"
   ]
  },
  {
   "cell_type": "code",
   "execution_count": 6,
   "metadata": {},
   "outputs": [
    {
     "name": "stdout",
     "output_type": "stream",
     "text": [
      "http://api.open-notify.org/iss-now.json\n"
     ]
    }
   ],
   "source": [
    "print( response.url )"
   ]
  },
  {
   "cell_type": "code",
   "execution_count": 7,
   "metadata": {},
   "outputs": [
    {
     "data": {
      "text/plain": [
       "'{\"message\": \"success\", \"timestamp\": 1693580810, \"iss_position\": {\"latitude\": \"-43.0078\", \"longitude\": \"-29.7669\"}}'"
      ]
     },
     "execution_count": 7,
     "metadata": {},
     "output_type": "execute_result"
    }
   ],
   "source": [
    "response.text"
   ]
  },
  {
   "cell_type": "markdown",
   "metadata": {},
   "source": [
    "This is the content format specified http://open-notify.org/Open-Notify-API/ISS-Location-Now/. It is in `json` format which means that we can easily parse it using the `json` module."
   ]
  },
  {
   "cell_type": "code",
   "execution_count": 8,
   "metadata": {},
   "outputs": [
    {
     "data": {
      "text/plain": [
       "{'message': 'success',\n",
       " 'timestamp': 1693580810,\n",
       " 'iss_position': {'latitude': '-43.0078', 'longitude': '-29.7669'}}"
      ]
     },
     "execution_count": 8,
     "metadata": {},
     "output_type": "execute_result"
    }
   ],
   "source": [
    "data = json.loads(response.text)\n",
    "\n",
    "data"
   ]
  },
  {
   "cell_type": "markdown",
   "metadata": {},
   "source": [
    "**YES**. \n",
    "\n",
    "The method `loads()` returns json formatted data as a dictionary. We can print whatever information we need from the dictionary using the appropriate `keys`."
   ]
  },
  {
   "cell_type": "code",
   "execution_count": null,
   "metadata": {},
   "outputs": [],
   "source": [
    "print( f\"\"\"The ISS current position is {data['iss_position']['latitude']} of latitude and {data['iss_position']['longitude']} of longitude.\"\"\")"
   ]
  },
  {
   "cell_type": "markdown",
   "metadata": {},
   "source": [
    "### Another example\n",
    "\n",
    "The [`Open Notify`](http://open-notify.org/) API can handle different kinds of data requests. Let's now consider the case overhead pass prediction API (http://open-notify.org/Open-Notify-API/ISS-Pass-Times/).  Before we write any code, it is important to check the requirements of the API. \n",
    "\n",
    "**Overview**\n",
    "\n",
    "`The API returns a list of upcoming ISS passes for a particular location formatted as JSON.`\n",
    "\n",
    "`As input it expects a latitude/longitude pair, altitude and how many results to return. All fields are required.`\n",
    "\n",
    "`As output you get the same inputs back (for checking) and a time stamp when the API ran in addition to a success or failure message and a list of passes. Each pass has a duration in seconds and a rise time as a unix time stamp.`\n",
    "\n",
    "Notice the second line. We need to provide inputs. Let's see how we can do this!\n",
    "\n",
    "Any suggestions?\n",
    "\n",
    ".\n",
    "\n",
    ".\n",
    "\n",
    ".\n",
    "\n",
    ".\n",
    "\n",
    ".\n",
    "\n",
    ".\n",
    "\n",
    ".\n",
    "\n",
    ".\n",
    "\n",
    ".\n",
    "\n",
    ".\n",
    "\n",
    ".\n",
    "\n",
    ".\n"
   ]
  },
  {
   "cell_type": "markdown",
   "metadata": {},
   "source": [
    "Yes, we need to read the documentation for [requests](http://docs.python-requests.org/en/master/user/quickstart/#passing-parameters-in-urls). Specifically, the documentation concerning passing parameters.\n",
    "\n",
    "This is the relevant information: `Requests allows you to provide these arguments as a dictionary, using the params keyword argument.`\n",
    "\n",
    "And what are the parameters we need to provide? The API's documentation has the answer:\n",
    "\n",
    "**Input**\n",
    "\n",
    "`This API has 2 required input values and 2 optional ones.`\n",
    "\n",
    "`Inptut\tDescription\tQuery string\tValid Range\tUnits\tRequired?`\n",
    "\n",
    "`Latitude\tThe latitude of the place to predict passes\tlat\t-80..80\tdegrees\tYES`\n",
    "\n",
    "`Longitude\tThe longitude of the place to predict passes\tlon\t-180..180\tdegrees\tYES`\n",
    "\n",
    "`Altitude\tThe altitude of the place to predict passes\talt\t0..10,000\tmeters\tNo`\n",
    "\n",
    "`Number\tThe number of passes to return\tn\t1..100\t–\tNo`\n",
    "\n",
    "The beauty of code documentation. If you recall, the `Overview` stated that all inputs were required. The `Inputs` section let's know that only `lat` and `lon` are actually required.  Let's try and see what happens"
   ]
  },
  {
   "cell_type": "code",
   "execution_count": null,
   "metadata": {},
   "outputs": [],
   "source": [
    "#our_location = {'lat': ###, 'lon': ####}\n",
    "\n",
    "response = requests.get(\"http://api.open-notify.org/iss-pass.json\", params = our_location)\n",
    "\n",
    "response.url"
   ]
  },
  {
   "cell_type": "code",
   "execution_count": null,
   "metadata": {},
   "outputs": [],
   "source": []
  },
  {
   "cell_type": "code",
   "execution_count": null,
   "metadata": {},
   "outputs": [],
   "source": []
  },
  {
   "cell_type": "markdown",
   "metadata": {},
   "source": [
    "**What have we learned?** \n",
    "\n",
    "That indeed providing values for `alt` and `n` is not required.  The APIs just assigns those variables default values of `100` and `5`, respectively.\n",
    "\n",
    "We can also see that, as stated in the documentation, the output returns both the values of our inputs and the data we are requesting."
   ]
  },
  {
   "cell_type": "markdown",
   "metadata": {},
   "source": [
    "**Exercise:** It is now time for you to try to use an API on your own. The last API available at [`Open Notify`](http://open-notify.org/) returns the number of astronauts in the ISS. Write the code to access that information."
   ]
  },
  {
   "cell_type": "code",
   "execution_count": null,
   "metadata": {},
   "outputs": [],
   "source": []
  },
  {
   "cell_type": "markdown",
   "metadata": {},
   "source": [
    "## Using The US Census' API\n",
    "\n",
    "The United States Census is a decennial census mandated by the United States Constitution. The United States Census Bureau (officially the Bureau of the Census) is responsible for the United States Census.\n",
    "\n",
    "The first census after the American Revolution was taken in 1790, under Secretary of State Thomas Jefferson; there have been 22 federal censuses since that time. The current national census was held in 2010; the next census is scheduled for 2020 and will be largely conducted using the Internet. For years between the decennial censuses, the Census Bureau issues estimates made using surveys and statistical models.\n",
    "\n",
    "The Census Bureau has begun rolling out their datasets via [APIs](http://www.census.gov/developers/). You can find a full list of APIs [here](http://www.census.gov/data/developers/data-sets.html).  In this unit, we will focus on the decennial census.\n",
    "\n",
    "Because we are dealing with US data, we will start by loading some helpful data: US city names, their states, and their geographic codes.  The relevant data is stored in `json` format in `../data/`\n",
    "\n"
   ]
  },
  {
   "cell_type": "code",
   "execution_count": null,
   "metadata": {},
   "outputs": [],
   "source": [
    "ls ../data/us*json"
   ]
  },
  {
   "cell_type": "code",
   "execution_count": 3,
   "metadata": {},
   "outputs": [
    {
     "data": {
      "text/plain": [
       "{'CT': {'fips_state': '09', 'Name': 'Connecticut'},\n",
       " 'HI': {'fips_state': '15', 'Name': 'Hawaii'},\n",
       " 'AR': {'fips_state': '05', 'Name': 'Arkansas'},\n",
       " 'AZ': {'fips_state': '04', 'Name': 'Arizona'},\n",
       " 'VT': {'fips_state': '50', 'Name': 'Vermont'},\n",
       " 'NE': {'fips_state': '31', 'Name': 'Nebraska'},\n",
       " 'IN': {'fips_state': '18', 'Name': 'Indiana'},\n",
       " 'ME': {'fips_state': '23', 'Name': 'Maine'},\n",
       " 'KS': {'fips_state': '20', 'Name': 'Kansas'},\n",
       " 'WV': {'fips_state': '54', 'Name': 'West Virginia'},\n",
       " 'GA': {'fips_state': '13', 'Name': 'Georgia'},\n",
       " 'NH': {'fips_state': '33', 'Name': 'New Hampshire'},\n",
       " 'MO': {'fips_state': '29', 'Name': 'Missouri'},\n",
       " 'WY': {'fips_state': '56', 'Name': 'Wyoming'},\n",
       " 'OR': {'fips_state': '41', 'Name': 'Oregon'},\n",
       " 'ND': {'fips_state': '38', 'Name': 'North Dakota'},\n",
       " 'PA': {'fips_state': '42', 'Name': 'Pennsylvania'},\n",
       " 'UT': {'fips_state': '49', 'Name': 'Utah'},\n",
       " 'ID': {'fips_state': '16', 'Name': 'Idaho'},\n",
       " 'IA': {'fips_state': '19', 'Name': 'Iowa'},\n",
       " 'TN': {'fips_state': '47', 'Name': 'Tennessee'},\n",
       " 'MI': {'fips_state': '26', 'Name': 'Michigan'},\n",
       " 'RI': {'fips_state': '44', 'Name': 'Rhode Island'},\n",
       " 'CA': {'fips_state': '06', 'Name': 'California'},\n",
       " 'WA': {'fips_state': '53', 'Name': 'Washington'},\n",
       " 'MS': {'fips_state': '28', 'Name': 'Mississippi'},\n",
       " 'AL': {'fips_state': '01', 'Name': 'Alabama'},\n",
       " 'SD': {'fips_state': '46', 'Name': 'South Dakota'},\n",
       " 'AK': {'fips_state': '02', 'Name': 'Alaska'},\n",
       " 'FL': {'fips_state': '12', 'Name': 'Florida'},\n",
       " 'NJ': {'fips_state': '34', 'Name': 'New Jersey'},\n",
       " 'MT': {'fips_state': '30', 'Name': 'Montana'},\n",
       " 'MN': {'fips_state': '27', 'Name': 'Minnesota'},\n",
       " 'OH': {'fips_state': '39', 'Name': 'Ohio'},\n",
       " 'OK': {'fips_state': '40', 'Name': 'Oklahoma'},\n",
       " 'NC': {'fips_state': '37', 'Name': 'North Carolina'},\n",
       " 'NM': {'fips_state': '35', 'Name': 'New Mexico'},\n",
       " 'SC': {'fips_state': '45', 'Name': 'South Carolina'},\n",
       " 'NV': {'fips_state': '32', 'Name': 'Nevada'},\n",
       " 'LA': {'fips_state': '22', 'Name': 'Louisiana'},\n",
       " 'TX': {'fips_state': '48', 'Name': 'Texas'},\n",
       " 'KY': {'fips_state': '21', 'Name': 'Kentucky'},\n",
       " 'MD': {'fips_state': '24', 'Name': 'Maryland'},\n",
       " 'DE': {'fips_state': '10', 'Name': 'Delaware'},\n",
       " 'PR': {'fips_state': '72', 'Name': 'Puerto Rico'},\n",
       " 'NY': {'fips_state': '36', 'Name': 'New York'},\n",
       " 'IL': {'fips_state': '17', 'Name': 'Illinois'},\n",
       " 'CO': {'fips_state': '08', 'Name': 'Colorado'},\n",
       " 'MA': {'fips_state': '25', 'Name': 'Massachusetts'},\n",
       " 'VA': {'fips_state': '51', 'Name': 'Virginia'},\n",
       " 'WI': {'fips_state': '55', 'Name': 'Wisconsin'}}"
      ]
     },
     "execution_count": 3,
     "metadata": {},
     "output_type": "execute_result"
    }
   ],
   "source": [
    "import json\n",
    "with open('../Data/us_state_names.json') as file_in:\n",
    "    states_w_codes = json.load( file_in )  \n",
    "    \n",
    "states_w_codes"
   ]
  },
  {
   "cell_type": "code",
   "execution_count": null,
   "metadata": {},
   "outputs": [],
   "source": [
    "with open('../Data/us_state_city_names.json') as file_in:\n",
    "    cities_by_state = json.load( file_in )\n",
    "    \n",
    "cities_by_state"
   ]
  },
  {
   "cell_type": "markdown",
   "metadata": {},
   "source": [
    "**FIPS state codes** are numeric and two-letter alphabetic codes defined in U.S. Federal Information Processing Standard Publication (\"FIPS PUB\") 5-2 to identify U.S. states and certain other associated areas. The codes are used in Geographic Names Information System, overseen by the U.S. Board on Geographic Names. "
   ]
  },
  {
   "cell_type": "code",
   "execution_count": null,
   "metadata": {},
   "outputs": [],
   "source": [
    "print(states_w_codes['MT'])\n",
    "print(cities_by_state['MT']['Antelope'])"
   ]
  },
  {
   "cell_type": "markdown",
   "metadata": {},
   "source": [
    "Now that we have the basic information, we can start using the API to retrieve data. The Census Bureau has a number of helpful resources.  The decennial census page constains basic instructions on how to contruct queries. There is a also a page with example, and a page with a list of all (and I *really* mean **all**) variable codes.\n",
    "\n",
    "But before we can do anything, we need to obtain a `key` that will identify us as the person doing the queries.\n",
    "\n",
    "This is an important first step in learning how to interact with an API. \n",
    "\n",
    "**Exercise.** Request and obtain an API key to use with the Census. "
   ]
  },
  {
   "cell_type": "code",
   "execution_count": 5,
   "metadata": {},
   "outputs": [],
   "source": [
    "!cp /Users/adampah/Library/CloudStorage/Dropbox/Teaching/NICO-101/2019Materials/Lessons/census_auth.json ../data/"
   ]
  },
  {
   "cell_type": "code",
   "execution_count": 6,
   "metadata": {},
   "outputs": [
    {
     "data": {
      "text/plain": [
       "{'my_key': '8690204fa4d0045c42c42fa63af43f7a7751db74'}"
      ]
     },
     "execution_count": 6,
     "metadata": {},
     "output_type": "execute_result"
    }
   ],
   "source": [
    "auth = json.load(open('../data/census_auth.json'))\n",
    "auth"
   ]
  },
  {
   "cell_type": "markdown",
   "metadata": {},
   "source": [
    "Now I would like you to retrieve the total population for all of the states from the following url http://api.census.gov/data/2010/sf1"
   ]
  },
  {
   "cell_type": "code",
   "execution_count": 7,
   "metadata": {},
   "outputs": [
    {
     "name": "stdout",
     "output_type": "stream",
     "text": [
      "200\n",
      "http://api.census.gov/data/2010/sf1?key=1eb4e956ec8bdfd987960641728d0fed68589575&get=P0010001,NAME&for=state:*\n",
      "https://api.census.gov/data/2010/dec/sf1?key=8690204fa4d0045c42c42fa63af43f7a7751db74&get=P001001%2CNAME&for=state%3A+%2A\n",
      "[[\"P001001\",\"NAME\",\"state\"],\n",
      "[\"4779736\",\"Alabama\",\"01\"],\n",
      "[\"710231\",\"Alaska\",\"02\"],\n",
      "[\"6392017\",\"Arizona\",\"04\"],\n",
      "[\"2915918\",\"Arkansas\",\"05\"],\n",
      "[\"37253956\",\"California\",\"06\"],\n",
      "[\"4533372\",\"Louisiana\",\"22\"],\n",
      "[\"4339367\",\"Kentucky\",\"21\"],\n",
      "[\"5029196\",\"Colorado\",\"08\"],\n",
      "[\"3574097\",\"Connecticut\",\"09\"],\n",
      "[\"897934\",\"Delaware\",\"10\"],\n",
      "[\"601723\",\"District of Columbia\",\"11\"],\n",
      "[\"18801310\",\"Florida\",\"12\"],\n",
      "[\"9687653\",\"Georgia\",\"13\"],\n",
      "[\"1360301\",\"Hawaii\",\"15\"],\n",
      "[\"1567582\",\"Idaho\",\"16\"],\n",
      "[\"12830632\",\"Illinois\",\"17\"],\n",
      "[\"6483802\",\"Indiana\",\"18\"],\n",
      "[\"3046355\",\"Iowa\",\"19\"],\n",
      "[\"2853118\",\"Kansas\",\"20\"],\n",
      "[\"1328361\",\"Maine\",\"23\"],\n",
      "[\"5773552\",\"Maryland\",\"24\"],\n",
      "[\"6547629\",\"Massachusetts\",\"25\"],\n",
      "[\"9883640\",\"Michigan\",\"26\"],\n",
      "[\"5303925\",\"Minnesota\",\"27\"],\n",
      "[\"2967297\",\"Mississippi\",\"28\"],\n",
      "[\"5988927\",\"Missouri\",\"29\"],\n",
      "[\"989415\",\"Montana\",\"30\"],\n",
      "[\"1826341\",\"Nebraska\",\"31\"],\n",
      "[\"2700551\",\"Nevada\",\"32\"],\n",
      "[\"1316470\",\"New Hampshire\",\"33\"],\n",
      "[\"8791894\",\"New Jersey\",\"34\"],\n",
      "[\"2059179\",\"New Mexico\",\"35\"],\n",
      "[\"19378102\",\"New York\",\"36\"],\n",
      "[\"9535483\",\"North Carolina\",\"37\"],\n",
      "[\"672591\",\"North Dakota\",\"38\"],\n",
      "[\"11536504\",\"Ohio\",\"39\"],\n",
      "[\"3751351\",\"Oklahoma\",\"40\"],\n",
      "[\"3831074\",\"Oregon\",\"41\"],\n",
      "[\"12702379\",\"Pennsylvania\",\"42\"],\n",
      "[\"1052567\",\"Rhode Island\",\"44\"],\n",
      "[\"4625364\",\"South Carolina\",\"45\"],\n",
      "[\"814180\",\"South Dakota\",\"46\"],\n",
      "[\"6346105\",\"Tennessee\",\"47\"],\n",
      "[\"25145561\",\"Texas\",\"48\"],\n",
      "[\"2763885\",\"Utah\",\"49\"],\n",
      "[\"625741\",\"Vermont\",\"50\"],\n",
      "[\"8001024\",\"Virginia\",\"51\"],\n",
      "[\"6724540\",\"Washington\",\"53\"],\n",
      "[\"1852994\",\"West Virginia\",\"54\"],\n",
      "[\"5686986\",\"Wisconsin\",\"55\"],\n",
      "[\"563626\",\"Wyoming\",\"56\"],\n",
      "[\"3725789\",\"Puerto Rico\",\"72\"]]\n"
     ]
    }
   ],
   "source": [
    "import requests\n",
    "census_url = 'https://api.census.gov/data/2010/dec/sf1'\n",
    "response = requests.get( census_url, params = {'key': auth['my_key'], \n",
    "                                               'get': 'P001001,NAME', \n",
    "                                               'for': 'state: *'})\n",
    "print(response.status_code)\n",
    "print('http://api.census.gov/data/2010/sf1?key=1eb4e956ec8bdfd987960641728d0fed68589575&get=P0010001,NAME&for=state:*')\n",
    "print(response.url)\n",
    "print(response.text)"
   ]
  },
  {
   "cell_type": "markdown",
   "metadata": {},
   "source": [
    "We can also write queries that obtain several data sets all at once. For example, we can obtain population by age and ethnicity using more codes. Codes can be found in the codebook\n",
    "\n",
    "https://api.census.gov/data/2010/dec/sf1/variables.html\n",
    "\n",
    "And we can restrict the query to a single state.\n",
    "\n",
    "**Exercise** Pull the population totals for Black and White males that are 15 and 35 years old  for only Alaska"
   ]
  },
  {
   "cell_type": "code",
   "execution_count": null,
   "metadata": {},
   "outputs": [],
   "source": []
  },
  {
   "cell_type": "markdown",
   "metadata": {},
   "source": [
    "We can also retrieve the population for specific cities - pull the population totals those three categories for Chicago, Evanston, and Wilmette."
   ]
  },
  {
   "cell_type": "code",
   "execution_count": null,
   "metadata": {},
   "outputs": [],
   "source": []
  },
  {
   "cell_type": "markdown",
   "metadata": {},
   "source": [
    "### Analysis\n",
    "\n",
    "Which state has the largest African American population as a percentage of total population? Pull the data from the Census and also plot the percentage AA population per state in a graph."
   ]
  },
  {
   "cell_type": "code",
   "execution_count": null,
   "metadata": {},
   "outputs": [],
   "source": []
  },
  {
   "cell_type": "markdown",
   "metadata": {
    "collapsed": true,
    "jupyter": {
     "outputs_hidden": true
    }
   },
   "source": [
    "## Social Platforms\n",
    "\n",
    "Social platforms provide APIs that are of varying utility and continuing to constantly change in usefulness. Facebook's API has long been relatively useless, the Twitter API accessibility fundamentally changed after Elon Musk's acquisition, and even Reddit's API usage agreement was drastically changed in an effort to increase profitability for the company. Relying on the API access from private companies to data has proven to be a dangerous assumption in the long run. \n",
    "\n",
    "With that being said, these social platforms typically require some form of OAuth -- meaning that you have an account with the service and use those account credentials to log in. This will typically involve going to the site to create a custom application and using the `token` and `secret` that is provided for the application. Generally the set-up is well documented and easy enough to follow."
   ]
  }
 ],
 "metadata": {
  "anaconda-cloud": {},
  "kernelspec": {
   "display_name": "Python 3 (ipykernel)",
   "language": "python",
   "name": "python3"
  },
  "language_info": {
   "codemirror_mode": {
    "name": "ipython",
    "version": 3
   },
   "file_extension": ".py",
   "mimetype": "text/x-python",
   "name": "python",
   "nbconvert_exporter": "python",
   "pygments_lexer": "ipython3",
   "version": "3.11.5"
  },
  "toc": {
   "base_numbering": 1,
   "nav_menu": {},
   "number_sections": true,
   "sideBar": true,
   "skip_h1_title": false,
   "title_cell": "Table of Contents",
   "title_sidebar": "Contents",
   "toc_cell": false,
   "toc_position": {},
   "toc_section_display": true,
   "toc_window_display": true
  }
 },
 "nbformat": 4,
 "nbformat_minor": 4
}
