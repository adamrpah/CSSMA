{
 "cells": [
  {
   "cell_type": "markdown",
   "id": "af4ede58",
   "metadata": {},
   "source": [
    "# PDF Extraction\n",
    "\n",
    "PDFs are another common data format that can be obtained -- reports, books, company filings, etc. are all typically distributed in this format. There are a variety of reasons for this, but one contributing reason is that it created to share documents that included formatting and inline images (ever touched an image in a word document?). \n",
    "\n",
    "You can create and edit PDFs yourself using a variety of software now, although the easiest way to do that is to save a document as a PDF yourself. \n",
    "\n",
    "PDFs, unlike plaintext, present some annoying problems because of what the format is typically used for. With a Word document if we see text then we can (generally) safely assume that the text was digitally authored with the word processor itself. This means that it was digitally created so--as long as we can open the word document format--we can be rest assured that we are able to process and analyze the text within.\n",
    "\n",
    "PDFs really don't have that guarantee, maybe the text was authored digitally or maybe the text is the result of a scan of printed text *making it an image*. An image doesn't have any text available for extraction, it's simply a matrix of numbers telling the computer how to render the image. So there is no text available to process and analyze when we open a PDF that holds an image. Even if the PDF was digitally authored the extraction is not entirely perfect for analysis because it will read it as it was typeset *and* there can still be some engine issues in reading the PDF.\n",
    "\n",
    "If we want to work with a PDF that has images of text, we actually have to work with programs that will execute [Optical Character Recognition](https://en.wikipedia.org/wiki/Optical_character_recognition) (OCR) algorithms. It is important to recognize that, in the modern day, the output of these algorithms is based on data that they are trained with--machine learning. This means that we are not guaranteed (i) that the algorithm will be able to translate the image into text and (ii) tha the extracted text is correct. \n",
    "\n",
    "Which is all to say the difficulty in extracting data from a PDF varies **wildly** depending on what the data is, ranging from *dead simple* to *you're now doing computer science research*"
   ]
  },
  {
   "cell_type": "markdown",
   "id": "412a4f15",
   "metadata": {},
   "source": [
    "# Starting with what we have\n",
    "\n",
    "So let's examine documents that we downloaded from the SEC to start our introduction to parsing PDFs.\n",
    "\n",
    "There are a number of libraries that exist to open and [extract data from PDFs with Python](https://letmegooglethat.com/?q=python+pdf+parsing)\n",
    "\n",
    "We will start with something dead simple to install across any OS because we're using an Anaconda installation"
   ]
  },
  {
   "cell_type": "code",
   "execution_count": null,
   "id": "29f6b937-42af-483b-b025-ef389ef5d1c0",
   "metadata": {},
   "outputs": [],
   "source": [
    "!pip install PyPDF2"
   ]
  },
  {
   "cell_type": "code",
   "execution_count": null,
   "id": "2270b9e6",
   "metadata": {},
   "outputs": [],
   "source": [
    "import PyPDF2\n",
    "\n",
    "pdf_obj = open('../../data/pdfs/amazon_2020.pdf', 'rb')\n",
    "pdf_obj"
   ]
  },
  {
   "cell_type": "code",
   "execution_count": null,
   "id": "55967d7c-4a29-41fd-94b3-9f03906729f5",
   "metadata": {},
   "outputs": [],
   "source": [
    "pdf_obj.read()"
   ]
  },
  {
   "cell_type": "markdown",
   "id": "488ef7c9",
   "metadata": {},
   "source": [
    "Success! We can at least open the PDF and see that we're getting a standard file object representation to work with \n",
    "\n",
    "But we have to create the reader for the object too"
   ]
  },
  {
   "cell_type": "code",
   "execution_count": null,
   "id": "63267a2c",
   "metadata": {},
   "outputs": [],
   "source": [
    "pdf_reader = PyPDF2.PdfReader(pdf_obj)\n",
    "\n",
    "pdf_reader.pages"
   ]
  },
  {
   "cell_type": "code",
   "execution_count": null,
   "id": "460c8571-ca3b-427e-aead-3e467fada85b",
   "metadata": {},
   "outputs": [],
   "source": [
    "len(pdf_reader.pages)"
   ]
  },
  {
   "cell_type": "code",
   "execution_count": null,
   "id": "57b2fbb3-88b8-4fb0-ba8c-558158d18b86",
   "metadata": {},
   "outputs": [],
   "source": [
    "dir(pdf_reader)"
   ]
  },
  {
   "cell_type": "markdown",
   "id": "301e62a5",
   "metadata": {},
   "source": [
    "And now we can see that it's reading/seeing that there are 80 pages in the document. We can work with individual pages-- let's do that for the third page."
   ]
  },
  {
   "cell_type": "code",
   "execution_count": null,
   "id": "95602a59",
   "metadata": {},
   "outputs": [],
   "source": [
    "pdf_reader.pages[2]"
   ]
  },
  {
   "cell_type": "markdown",
   "id": "11748c8b",
   "metadata": {},
   "source": [
    "And try to extract some text"
   ]
  },
  {
   "cell_type": "code",
   "execution_count": null,
   "id": "688a28a9",
   "metadata": {},
   "outputs": [],
   "source": [
    "page = pdf_reader.pages[2]\n",
    "page.extract_text().split('\\n')"
   ]
  },
  {
   "cell_type": "markdown",
   "id": "9be8694e",
   "metadata": {},
   "source": [
    "Fun times, we can all totally read that right?\n",
    "\n",
    "Nope. totally mangled on the bytecode conversion to a string because the PDF isnt meant to be read as a PDF document.\n",
    "\n",
    "In comparison, a document created from latex."
   ]
  },
  {
   "cell_type": "code",
   "execution_count": null,
   "id": "c0ab3029",
   "metadata": {},
   "outputs": [],
   "source": [
    "pdf_obj = open('../../data/pdfs/plos_template.pdf', 'rb')\n",
    "pdf_reader = PyPDF2.PdfReader(pdf_obj)\n",
    "page = pdf_reader.pages[2]\n",
    "print(page.extract_text())"
   ]
  },
  {
   "cell_type": "markdown",
   "id": "65e62074",
   "metadata": {},
   "source": [
    "So not a perfect extraction in comparison to text stored in plain-text, but accessible. There isn't much that can be done to aid in parsing other than hoping that there are textual markers that signify structure in the manuscript. \n",
    "\n",
    "We could also try to get data from elements like tables:"
   ]
  },
  {
   "cell_type": "code",
   "execution_count": null,
   "id": "d8eab05c",
   "metadata": {},
   "outputs": [],
   "source": [
    "pdf_reader = PyPDF2.PdfReader(pdf_obj)\n",
    "page = pdf_reader.pages[16]\n",
    "page.extract_text()"
   ]
  },
  {
   "cell_type": "markdown",
   "id": "24423d6f",
   "metadata": {},
   "source": [
    "But again, we lost the structure of the table itself so we have to try to figure it out on our own. \n",
    "\n",
    "There are other packages to extract text and tables from PDFs, *but* installation across any Operating System is difficult because of their dependencies on other software and libraries that are not controlled or a part of the Python installation."
   ]
  },
  {
   "cell_type": "code",
   "execution_count": null,
   "id": "9efd4c3a",
   "metadata": {},
   "outputs": [],
   "source": []
  }
 ],
 "metadata": {
  "kernelspec": {
   "display_name": "Python 3 (ipykernel)",
   "language": "python",
   "name": "python3"
  },
  "language_info": {
   "codemirror_mode": {
    "name": "ipython",
    "version": 3
   },
   "file_extension": ".py",
   "mimetype": "text/x-python",
   "name": "python",
   "nbconvert_exporter": "python",
   "pygments_lexer": "ipython3",
   "version": "3.13.1"
  }
 },
 "nbformat": 4,
 "nbformat_minor": 5
}
