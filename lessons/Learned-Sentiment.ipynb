{
 "cells": [
  {
   "cell_type": "markdown",
   "metadata": {
    "collapsed": true
   },
   "source": [
    "# Learning Sentiment\n",
    "\n",
    "Someone else's learned sentiment may note be appropriate for your research. This is a common enough issue when you begin to work in narrow niches (i.e. not what's happening on twitter). \n",
    "\n",
    "**How do you go about this?**\n",
    "\n",
    "The basic workflow is relatively simple.\n",
    "\n",
    "1. Cut up your text into characteristic chunks that will provide enough context for another reader. \n",
    "2. Pull out individual adjectives (and possibly adverbs depending on the writing style) from those chunks.\n",
    "3. Show the individual adjective and its corresponding text to another party, ask them to rate it on a positive to negative scale (generally -5 to 5). \n",
    "\n",
    "A relatively simple process given what we have learned so far."
   ]
  },
  {
   "cell_type": "markdown",
   "metadata": {},
   "source": [
    "# Scaling\n",
    "\n",
    "The harder part is understanding how to scale. \n",
    "\n",
    "In theory, the concept is simple - get other people to tell you if a word is positive or negative. The difficult part is figuring out how to access such an audience that will also accept the remuneration you are able to provide.\n",
    "\n",
    "Crowdsourcing is generally viewed as the answer to constructing a `training` dataset such as this. There a number of such platforms, but the oldest/most oft used is still Amazon's Mechanical Turk. Given that we will work through how to use this service programmatically"
   ]
  },
  {
   "cell_type": "markdown",
   "metadata": {},
   "source": [
    "# The process of getting set up\n",
    "\n",
    "Having an account with Amazon where you can buy shampoo and beef jerky is insufficient to use Mechanical Turk. MT resides (more or less) as a part of its enterprise services (which are labelled AWS-Amazon Web Services). To be able to be a requester on MT you must:\n",
    "\n",
    "1. Sign up for an AWS account (aws.amazon.com)\n",
    "2. Sign up for an MTurk requester account (requester.mturk.com)\n",
    "3. Link Your MTurk account to your aws account (https://requester.mturk.com/developer)\n",
    "4. Sign up for MTurk Sandbox, which is where you can test your forms without paying actual people (requestersandbox.mturk.com) an dlink your sandbox to the aws account (requestersandbox.mturk.com/developer)\n",
    "5. Set up the IAM (Identity and Access Management) User"
   ]
  },
  {
   "cell_type": "markdown",
   "metadata": {},
   "source": [
    "# Installation and basic AWS Access\n",
    "\n",
    "Fortunately, there is a python package to manage access to AWS (boto3). First you will need to install this package with pip"
   ]
  },
  {
   "cell_type": "code",
   "execution_count": 1,
   "metadata": {},
   "outputs": [
    {
     "name": "stdout",
     "output_type": "stream",
     "text": [
      "Collecting boto3\n",
      "  Downloading boto3-1.5.22-py2.py3-none-any.whl (128kB)\n",
      "\u001b[K    100% |████████████████████████████████| 133kB 1.9MB/s ta 0:00:01\n",
      "\u001b[?25hCollecting jmespath<1.0.0,>=0.7.1 (from boto3)\n",
      "  Downloading jmespath-0.9.3-py2.py3-none-any.whl\n",
      "Collecting s3transfer<0.2.0,>=0.1.10 (from boto3)\n",
      "  Downloading s3transfer-0.1.12-py2.py3-none-any.whl (59kB)\n",
      "\u001b[K    100% |████████████████████████████████| 61kB 3.0MB/s ta 0:00:011\n",
      "\u001b[?25hCollecting botocore<1.9.0,>=1.8.36 (from boto3)\n",
      "  Downloading botocore-1.8.36-py2.py3-none-any.whl (4.1MB)\n",
      "\u001b[K    100% |████████████████████████████████| 4.1MB 166kB/s eta 0:00:01\n",
      "\u001b[?25hRequirement already satisfied: python-dateutil<3.0.0,>=2.1 in /Users/adampah/.pyenv/versions/anaconda3-4.1.0/lib/python3.5/site-packages (from botocore<1.9.0,>=1.8.36->boto3)\n",
      "Requirement already satisfied: docutils>=0.10 in /Users/adampah/.pyenv/versions/anaconda3-4.1.0/lib/python3.5/site-packages (from botocore<1.9.0,>=1.8.36->boto3)\n",
      "Requirement already satisfied: six>=1.5 in /Users/adampah/.pyenv/versions/anaconda3-4.1.0/lib/python3.5/site-packages (from python-dateutil<3.0.0,>=2.1->botocore<1.9.0,>=1.8.36->boto3)\n",
      "Installing collected packages: jmespath, botocore, s3transfer, boto3\n",
      "Successfully installed boto3-1.5.22 botocore-1.8.36 jmespath-0.9.3 s3transfer-0.1.12\n"
     ]
    }
   ],
   "source": [
    "!pip install boto3"
   ]
  },
  {
   "cell_type": "markdown",
   "metadata": {},
   "source": [
    "Then you will need to configure a credentials file that goes in your user directory (`~/.aws/credentials`) with your IAM account credentials. The `credentials` file should be structured as:\n",
    "\n",
    "<pre>\n",
    "[default]\n",
    "aws_access_key_id = YOUR_KEY\n",
    "aws_secret_access_key = YOUR_SECRET\n",
    "</pre>"
   ]
  },
  {
   "cell_type": "markdown",
   "metadata": {},
   "source": [
    "Then set up a configuration file to tell Amazon which region you want your services to be started in (`~/.aws/config`)?\n",
    "\n",
    "<pre>\n",
    "[default]\n",
    "region=us-east-1\n",
    "</pre>"
   ]
  },
  {
   "cell_type": "markdown",
   "metadata": {},
   "source": [
    "And then you can check your sandbox balance"
   ]
  },
  {
   "cell_type": "code",
   "execution_count": 9,
   "metadata": {
    "collapsed": true
   },
   "outputs": [],
   "source": [
    "import boto3\n",
    "\n",
    "MTURK_SANDBOX = 'https://mturk-requester-sandbox.us-east-1.amazonaws.com'\n",
    "\n",
    "mturk = boto3.client('mturk', endpoint_url = MTURK_SANDBOX)"
   ]
  },
  {
   "cell_type": "code",
   "execution_count": 10,
   "metadata": {},
   "outputs": [
    {
     "name": "stdout",
     "output_type": "stream",
     "text": [
      "Avaiable sandbox balance: 10000.00\n"
     ]
    }
   ],
   "source": [
    "#Should have 10,000 available\n",
    "print(\"Available sandbox balance: {0}\".format(mturk.get_account_balance()['AvailableBalance']))"
   ]
  },
  {
   "cell_type": "markdown",
   "metadata": {},
   "source": [
    "If you instead want to connect to your actual MTurk account and marketplace, you can just leave out the endpoint url"
   ]
  },
  {
   "cell_type": "code",
   "execution_count": 11,
   "metadata": {},
   "outputs": [
    {
     "name": "stdout",
     "output_type": "stream",
     "text": [
      "My real money: 9.90\n"
     ]
    }
   ],
   "source": [
    "real_mturk = boto3.client('mturk')\n",
    "print(\"My real money: {0}\".format(real_mturk.get_account_balance()['AvailableBalance']))"
   ]
  },
  {
   "cell_type": "markdown",
   "metadata": {},
   "source": [
    "But I don't want to actually pay money yet"
   ]
  },
  {
   "cell_type": "code",
   "execution_count": 12,
   "metadata": {
    "collapsed": true
   },
   "outputs": [],
   "source": [
    "del real_mturk"
   ]
  },
  {
   "cell_type": "markdown",
   "metadata": {},
   "source": [
    "# Terminology\n",
    "\n",
    "**Worker**: Anyone on the other side of the MTurk marketplace. Workers can view all open assignments and choose which ones to work on.\n",
    "\n",
    "**HIT**: Human Intelligence Task - the single unit of work that a Turker would accept. This HIT could be a single task (i.e. \"What is in this image\") or a series of tasks (although that will increase length of time to complete and pay should scale with that factor). For the sake of further discussion we will say that labelling 1 word is 1 HIT and you have 100 words you want to label.\n",
    "\n",
    "**Assignment**: Number of workers that should complete each HIT. If you set Assignment to 2 for 100 word HITs, then you would have 200 assignments. You will want to have an assignment of 3 or more when labelling words to increase confidence in the assigned score."
   ]
  },
  {
   "cell_type": "markdown",
   "metadata": {},
   "source": [
    "# Hit coding\n",
    "\n",
    "Hits are ::drumroll please::.....HTML templates :( (Technically it is a HTML page that will be wrapped inside XML, so that's why we save it as `xml`)\n",
    "\n",
    "That's right, you'll need to create a HTML page for your HIT that will be submitted. In its most basic form, it is relatively simple.\n",
    "\n",
    "To make life easier, I separate this into 3 parts: `turk_hit_frontmatter.xml`, `turk_question.html`,`turk_hit_backmatter.xml`. The reason is that you can open the `html` page in a browser and see the result directly.\n",
    "\n",
    "Then to make the final document to submit to AWS, it's just concatenating frontmatter, question, and backmatter to a new file (`backmatter` and `frontmatter` are constant). This front and back matter to the document is pretty simple too."
   ]
  },
  {
   "cell_type": "code",
   "execution_count": 15,
   "metadata": {},
   "outputs": [
    {
     "name": "stdout",
     "output_type": "stream",
     "text": [
      "<HTMLQuestion xmlns=\"http://mechanicalturk.amazonaws.com/AWSMechanicalTurkDataSchemas/2011-11-11/HTMLQuestion.xsd\">\n",
      "<HTMLContent><![CDATA[\n",
      "\n",
      "----00000 Not in File 00000-------\n",
      "]]>\n",
      "</HTMLContent>\n",
      "<FrameHeight>600</FrameHeight>\n",
      "</HTMLQuestion>\n",
      "\n"
     ]
    }
   ],
   "source": [
    "print(open('turk_hit_frontmatter.xml').read())\n",
    "print('----00000 Not in File 00000-------')\n",
    "print(open('turk_hit_backmatter.xml').read())"
   ]
  },
  {
   "cell_type": "markdown",
   "metadata": {},
   "source": [
    "And I've coded the simplest turk question possible to pair it with."
   ]
  },
  {
   "cell_type": "code",
   "execution_count": 17,
   "metadata": {
    "collapsed": true
   },
   "outputs": [],
   "source": [
    "!open turk_question.html"
   ]
  },
  {
   "cell_type": "markdown",
   "metadata": {},
   "source": [
    "Constructing the final, submittable question is then relatively simple - it's just putting the three files together into one."
   ]
  },
  {
   "cell_type": "code",
   "execution_count": 48,
   "metadata": {
    "collapsed": true
   },
   "outputs": [],
   "source": [
    "def construct_turk_xml(turk_html):\n",
    "    fulltext = open('turk_hit_frontmatter.xml').read() + open(turk_html).read() + \\\n",
    "               open('turk_hit_backmatter.xml').read()\n",
    "    return fulltext\n",
    "        \n",
    "fulltext = construct_turk_xml('turk_question.html')"
   ]
  },
  {
   "cell_type": "markdown",
   "metadata": {},
   "source": [
    "Now that the task creation is done, we can move to submitting the task."
   ]
  },
  {
   "cell_type": "code",
   "execution_count": 49,
   "metadata": {},
   "outputs": [
    {
     "name": "stdout",
     "output_type": "stream",
     "text": [
      "https://workersandbox.mturk.com/mturk/preview?groupId=3A0F9TXODVNG70NJNMKNP5M1QV1JOJ\n",
      "HITID = 3FTID4TN8KXXR4H9EPVOXTCBW7LYL4 (Use to Get Results)\n"
     ]
    }
   ],
   "source": [
    "new_hit = mturk.create_hit(\n",
    "    Title = 'Is the following word positive, neutral, or negative in emotion?',\n",
    "    Description = 'Read the passage and click the button for the emotion that is attached to the bolded word',\n",
    "    Keywords = 'text, quick, labeling',\n",
    "    Reward = '0.01',\n",
    "    MaxAssignments = 1,\n",
    "    LifetimeInSeconds = 172800,\n",
    "    AssignmentDurationInSeconds = 600,\n",
    "    AutoApprovalDelayInSeconds = 10,\n",
    "    Question = fulltext,\n",
    ")\n",
    "\n",
    "print( \"https://workersandbox.mturk.com/mturk/preview?groupId=\" + new_hit['HIT']['HITGroupId'] )\n",
    "print( \"HITID = \" + new_hit['HIT']['HITId'] + \" (Use to Get Results)\" )"
   ]
  },
  {
   "cell_type": "markdown",
   "metadata": {},
   "source": [
    "The fields mostly speak for themselves at the start. \n",
    "\n",
    "The reward is how much you will pay in USD cents (so this task is for 15 cents).\n",
    "\n",
    "MaxAssignments is the number of turkers you want to complete the HIT\n",
    "\n",
    "LifetimeInSeconds - how long the HIT should be available on the MTurk marketplace\n",
    "\n",
    "AssignmentDurationInSeconds - how long the turker has to complete the HIT once they start the task\n",
    "\n",
    "AutoApprovalDelayInSeconds - You have the ability to manually approve/deny a turker's work (which determines if the worker gets paid). This threshold sets when the system will move from manual to automatic approval (so that if you forget, the turker still gets paid). Note - requesters are rated on a separate forum for turkers and promptness of paying is one attribute that they track. Don't forget about paying in a reasonable amount of time, especially for low cost/risk tasks.\n",
    "\n",
    "Question - what you want them to answer.\n",
    "\n",
    "You can go check out the HIT at the sandbox link (need to register as a turker)"
   ]
  },
  {
   "cell_type": "markdown",
   "metadata": {},
   "source": [
    "**Excellent**\n",
    "\n",
    "Now (that I have most likely completed my own HIT), we should now be able to pull the data.\n",
    "\n",
    "All will we will need is the client connection to MTurk and the HITID for our task."
   ]
  },
  {
   "cell_type": "code",
   "execution_count": 63,
   "metadata": {},
   "outputs": [
    {
     "data": {
      "text/plain": [
       "{'Assignments': [{'AcceptTime': datetime.datetime(2018, 1, 30, 16, 42, 11, tzinfo=tzlocal()),\n",
       "   'Answer': '<?xml version=\"1.0\" encoding=\"ASCII\"?><QuestionFormAnswers xmlns=\"http://mechanicalturk.amazonaws.com/AWSMechanicalTurkDataSchemas/2005-10-01/QuestionFormAnswers.xsd\"><Answer><QuestionIdentifier>reported_emotion</QuestionIdentifier><FreeText>negative</FreeText></Answer></QuestionFormAnswers>',\n",
       "   'AssignmentId': '33JKGHPFYCUP77TAX1SU49O93NPNMN',\n",
       "   'AssignmentStatus': 'Submitted',\n",
       "   'AutoApprovalTime': datetime.datetime(2018, 1, 30, 16, 42, 24, tzinfo=tzlocal()),\n",
       "   'HITId': '3FTID4TN8KXXR4H9EPVOXTCBW7LYL4',\n",
       "   'SubmitTime': datetime.datetime(2018, 1, 30, 16, 42, 14, tzinfo=tzlocal()),\n",
       "   'WorkerId': 'A2NWOX0S472V5'}],\n",
       " 'NextToken': 'p1:VyseaX/aFy+NGePOPxkuAa5807QioJgFwOZgzThfaEobNij6kk5heellqdCMFg==',\n",
       " 'NumResults': 1,\n",
       " 'ResponseMetadata': {'HTTPHeaders': {'content-length': '660',\n",
       "   'content-type': 'application/x-amz-json-1.1',\n",
       "   'date': 'Tue, 30 Jan 2018 22:42:51 GMT',\n",
       "   'x-amzn-requestid': 'e759a2bc-060e-11e8-9478-9fc06c7e7595'},\n",
       "  'HTTPStatusCode': 200,\n",
       "  'RequestId': 'e759a2bc-060e-11e8-9478-9fc06c7e7595',\n",
       "  'RetryAttempts': 0}}"
      ]
     },
     "execution_count": 63,
     "metadata": {},
     "output_type": "execute_result"
    }
   ],
   "source": [
    "worker_results = mturk.list_assignments_for_hit(HITId=new_hit['HIT']['HITId'])\n",
    "worker_results"
   ]
  },
  {
   "cell_type": "markdown",
   "metadata": {},
   "source": [
    "And my answer is inside the assignments list:"
   ]
  },
  {
   "cell_type": "code",
   "execution_count": 64,
   "metadata": {},
   "outputs": [
    {
     "data": {
      "text/plain": [
       "{'AcceptTime': datetime.datetime(2018, 1, 30, 16, 42, 11, tzinfo=tzlocal()),\n",
       " 'Answer': '<?xml version=\"1.0\" encoding=\"ASCII\"?><QuestionFormAnswers xmlns=\"http://mechanicalturk.amazonaws.com/AWSMechanicalTurkDataSchemas/2005-10-01/QuestionFormAnswers.xsd\"><Answer><QuestionIdentifier>reported_emotion</QuestionIdentifier><FreeText>negative</FreeText></Answer></QuestionFormAnswers>',\n",
       " 'AssignmentId': '33JKGHPFYCUP77TAX1SU49O93NPNMN',\n",
       " 'AssignmentStatus': 'Submitted',\n",
       " 'AutoApprovalTime': datetime.datetime(2018, 1, 30, 16, 42, 24, tzinfo=tzlocal()),\n",
       " 'HITId': '3FTID4TN8KXXR4H9EPVOXTCBW7LYL4',\n",
       " 'SubmitTime': datetime.datetime(2018, 1, 30, 16, 42, 14, tzinfo=tzlocal()),\n",
       " 'WorkerId': 'A2NWOX0S472V5'}"
      ]
     },
     "execution_count": 64,
     "metadata": {},
     "output_type": "execute_result"
    }
   ],
   "source": [
    "worker_results['Assignments'][0]"
   ]
  },
  {
   "cell_type": "markdown",
   "metadata": {},
   "source": [
    "And now we see something ugly - the answer is in the `Answer` field, but it's in XML! \n",
    "\n",
    "Fortunately we can just install the `xmltodict` package which will convert the data out of xml and into something that's friendlier for our purposes."
   ]
  },
  {
   "cell_type": "code",
   "execution_count": 41,
   "metadata": {},
   "outputs": [
    {
     "name": "stdout",
     "output_type": "stream",
     "text": [
      "Requirement already satisfied: xmltodict in /Users/adampah/.pyenv/versions/anaconda3-4.1.0/lib/python3.5/site-packages\r\n"
     ]
    }
   ],
   "source": [
    "!pip install xmltodict"
   ]
  },
  {
   "cell_type": "code",
   "execution_count": 65,
   "metadata": {},
   "outputs": [
    {
     "data": {
      "text/plain": [
       "OrderedDict([('QuestionIdentifier', 'reported_emotion'),\n",
       "             ('FreeText', 'negative')])"
      ]
     },
     "execution_count": 65,
     "metadata": {},
     "output_type": "execute_result"
    }
   ],
   "source": [
    "import xmltodict\n",
    "\n",
    "xml_doc = xmltodict.parse(worker_results['Assignments'][0]['Answer'])\n",
    "xml_doc['QuestionFormAnswers']['Answer']"
   ]
  },
  {
   "cell_type": "markdown",
   "metadata": {},
   "source": [
    "And there we go! We have our answer - the turker thinks that **unkindly** is *negative*\n",
    "\n",
    "I will leave as an exercise for the reader to figure out how to automatically fill the html template with the passage and word of interest (Hint: manipulate it as a string in python)"
   ]
  },
  {
   "cell_type": "markdown",
   "metadata": {
    "collapsed": true
   },
   "source": [
    "# Accounting for error in our estimates\n",
    "\n",
    "You will now have multiple values for the valence of each word. There are number of ways to handle and process this data. \n",
    "\n",
    "For extemely small or large *n* I am confident that you are well-versed in how to reduce this to a single value (take the mean, check for outliers, etc. - up to you)."
   ]
  },
  {
   "cell_type": "markdown",
   "metadata": {},
   "source": [
    "# Estimating quantities the Bayesian way\n",
    "\n",
    "We can assume that there is a true value of the sentiment for a specific word in a single context. We know that the responses, and the spread in them, informs our approximation of the real value and accounts for the uncertainty we have in stating that it is the true value. "
   ]
  },
  {
   "cell_type": "markdown",
   "metadata": {},
   "source": [
    "When using a Bayesian approach, we are trying to estimate the probability distribution function for the real value (it inherently incorporates uncertainty - which is a good approach when considering something like quantifying the amount of sentiment a word encodes)."
   ]
  },
  {
   "cell_type": "markdown",
   "metadata": {},
   "source": [
    "The basic idea is that we start with some prior knowledge/distribution of 'truth' for a value and then update it as we receive additional information (i.e. mturk responses). \n",
    "\n",
    "<img src='../images/bayes_learn.png'>"
   ]
  },
  {
   "cell_type": "markdown",
   "metadata": {},
   "source": [
    "Mathematically, we just need to follow bayes rule\n",
    "\n",
    "$P(A\\mbox{ | }B) = \\frac{P(B\\mbox{ | }A)P(A)}{P(B)}$\n",
    "\n",
    "or stated in a data-centric way\n",
    "\n",
    "$P(Model\\mbox{ | }Data) = \\frac{P(Data\\mbox{ | }Model)P(Model)}{P(Data)}$\n",
    "\n",
    "where the $P(Model)$ is prior probability for our model and $P(Model\\mbox{ | }Data)$ is our posterior probability after we have incorporated the data. $P(Data\\mbox{ | }Model)$ is simply the probability of observing the data given our current model and $P(Data)$ is the marginal likelihood (which is the same for all models under consideration)."
   ]
  },
  {
   "cell_type": "markdown",
   "metadata": {},
   "source": [
    "# Sounds complicated?\n",
    "\n",
    "Fortunately, it's not that hard in practice. There are two ways to go about this - the first that I want you to explore is by hand with scipy."
   ]
  },
  {
   "cell_type": "code",
   "execution_count": 131,
   "metadata": {
    "collapsed": true
   },
   "outputs": [],
   "source": [
    "import scipy.stats as st\n",
    "import numpy as np\n",
    "\n",
    "#Set the likelihood\n",
    "likelihood = np.array([])\n",
    "#Set our supports\n",
    "params = np.linspace(-6, 6, 1201)\n",
    "#And initialize the posterior\n",
    "posterior = np.array([])\n",
    "#Construct the prior\n",
    "prior_sample = np.random.normal(0, 0.2)\n",
    "prior = np.array([np.product(st.norm.pdf(prior_sample, p)) for p in params])\n",
    "prior = prior / np.sum(prior)"
   ]
  },
  {
   "cell_type": "code",
   "execution_count": 143,
   "metadata": {},
   "outputs": [
    {
     "data": {
      "text/plain": [
       "[<matplotlib.lines.Line2D at 0x1273a89b0>]"
      ]
     },
     "execution_count": 143,
     "metadata": {},
     "output_type": "execute_result"
    },
    {
     "data": {
      "image/png": "[encoded data removed]",
      "text/plain": [
       "<matplotlib.figure.Figure at 0x1272ea4a8>"
      ]
     },
     "metadata": {},
     "output_type": "display_data"
    }
   ],
   "source": [
    "def update_probability(datapoint, likelihood, prior, posterior, params):\n",
    "    likelihood = np.array([np.product(st.norm.pdf([datapoint], p)) for p in params])\n",
    "    #Construct the posterior\n",
    "    tposterior = [prior[i] * likelihood[i] for i in range(prior.shape[0])]\n",
    "    posterior = tposterior / np.sum(tposterior)\n",
    "    #Reset the prior to the new posterior\n",
    "    prior = np.copy(posterior)\n",
    "    return likelihood, prior, posterior\n",
    "\n",
    "for i in range(100):\n",
    "    likelihood, prior, posterior = update_probability(0.4, likelihood, prior, posterior, params)\n",
    "plt.plot(params, posterior)"
   ]
  },
  {
   "cell_type": "markdown",
   "metadata": {
    "collapsed": true
   },
   "source": [
    "Alternatively, you could use a package that implements Bayesian data fitting (such as pymc or emcee), instead of coding it yourself to estimate the parameters."
   ]
  },
  {
   "cell_type": "code",
   "execution_count": null,
   "metadata": {
    "collapsed": true
   },
   "outputs": [],
   "source": []
  }
 ],
 "metadata": {
  "anaconda-cloud": {},
  "kernelspec": {
   "display_name": "Python [Root]",
   "language": "python",
   "name": "Python [Root]"
  },
  "language_info": {
   "codemirror_mode": {
    "name": "ipython",
    "version": 3
   },
   "file_extension": ".py",
   "mimetype": "text/x-python",
   "name": "python",
   "nbconvert_exporter": "python",
   "pygments_lexer": "ipython3",
   "version": "3.5.1"
  }
 },
 "nbformat": 4,
 "nbformat_minor": 1
}
