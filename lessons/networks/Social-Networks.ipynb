{
 "cells": [
  {
   "cell_type": "markdown",
   "metadata": {
    "collapsed": true
   },
   "source": [
    "# Social Networks\n",
    "\n",
    "Social networks are likely the instantiation of a network that you are all familiar with. A decade ago, this concept was not nearly as prevalent and was entrancing and intoxicating when you would come across it (ask anyone who watched the first season of The Wire in 2002). With the advent of Facebook, Twitter, and LinkedIn (where the network is explicit, easily accessed, roughly shown to you) social networks appear *obvious*. However, there is much to be done to understand these networks so that we can understand them at a deeper level. \n",
    "\n",
    "Importantly, Social Networks differ from other networks, such as transportation networks, in that they exhibit two properties:\n",
    "\n",
    "(i) nodes are very *close* to each other\n",
    "(ii) the entire network is very *small* (it is generally quick to navigate from one side to the other)\n",
    "\n",
    "As a demonstration of this, let's examine `soc-hamsterster.edges` which is a  social network from the hamsterster website (a virtual habitat for hamsters and gerbils! i.e. the owners who impersonate them). \n",
    "\n"
   ]
  },
  {
   "cell_type": "code",
   "execution_count": null,
   "metadata": {},
   "outputs": [],
   "source": [
    "#Colab USAGE!!\n",
    "# !apt install libcairo2-dev libgif-dev libjpeg-dev \n",
    "# !pip install pycairo\n",
    "# !echo \"deb http://downloads.skewed.de/apt bionic main\" >> /etc/apt/sources.list\n",
    "# !apt-key adv --keyserver keys.openpgp.org --recv-key 612DEFB798507F25\n",
    "# !apt-get update\n",
    "# !apt-get install python3-graph-tool"
   ]
  },
  {
   "cell_type": "code",
   "execution_count": null,
   "metadata": {},
   "outputs": [],
   "source": [
    "import graph_tool.all as gt"
   ]
  },
  {
   "cell_type": "code",
   "execution_count": null,
   "metadata": {},
   "outputs": [],
   "source": [
    "!head ../Data/soc-hamsterster.edges"
   ]
  },
  {
   "cell_type": "code",
   "execution_count": null,
   "metadata": {},
   "outputs": [],
   "source": [
    "#Exercise -- Read in the edge list\n"
   ]
  },
  {
   "cell_type": "markdown",
   "metadata": {},
   "source": [
    "Now we can see the average number of nodes and edges"
   ]
  },
  {
   "cell_type": "code",
   "execution_count": null,
   "metadata": {},
   "outputs": [],
   "source": [
    "print(f'Edges: {len([x for x in G.edges()])}')\n",
    "print(f'Nodes: {len([x for x in G.vertices()])}')"
   ]
  },
  {
   "cell_type": "markdown",
   "metadata": {},
   "source": [
    "So we have approximately 8x more edges than nodes. So $E(k)\\sim8$. What do you expect for the average clustering of a node given that degree? What do you expect for how long it would take to get from one side of the network to the other given that clustering?"
   ]
  },
  {
   "cell_type": "code",
   "execution_count": null,
   "metadata": {},
   "outputs": [],
   "source": [
    "#Exercise  - Average clustering & path length\n"
   ]
  },
  {
   "cell_type": "markdown",
   "metadata": {},
   "source": [
    "These two properties are, on the face, at odds with each other. **Why?**"
   ]
  },
  {
   "cell_type": "markdown",
   "metadata": {
    "collapsed": true
   },
   "source": [
    "# Small worlds\n",
    "\n",
    "This week we read D.J. Watts and S.H. Strogatz. (1998). Collective dynamics of 'small-world' networks. Nature 393, 440-442. What was the main insight of this paper? \n",
    "\n",
    "We can actually reproduce these findings use the instantiation of the Watts-Strogatz model in graph_tool"
   ]
  },
  {
   "cell_type": "code",
   "execution_count": null,
   "metadata": {},
   "outputs": [],
   "source": [
    "#This is how we'll create the random graph\n",
    "#Credit https://nabble.skewed.de/Functions-producing-small-world-scale-free-ER-networks-td3218897.html\n",
    "def get_n_levels_neighbours(maxn,n,k):\n",
    "    l=[x for x in range(int(n-(k/2)),n)]\n",
    "    l+=[x for x in range(n+1, int(n+(k/2)+1))]\n",
    "    for i in range(len(l)):\n",
    "        if (l[i]<0):\n",
    "            l[i]=((l[i])%(maxn-1))+1\n",
    "        if(l[i]>(maxn-1)):\n",
    "            l[i]=l[i]%maxn\n",
    "    return l\n",
    "\n",
    "def watts_strogatz_network(n,k,p):\n",
    "    '''\n",
    "    n - number of nodes\n",
    "    k - number of edges\n",
    "    p - probability of rewiring\n",
    "    returns:\n",
    "    g - graph tool graph\n",
    "    '''\n",
    "    import random\n",
    "    g= gt.lattice([n])\n",
    "    # make a ring\n",
    "    g.add_edge(g.vertex(0), g.vertex(n-1))\n",
    "    # add edges to k neighbours of each vertex in the ring\n",
    "    # k-1 neighbours if k is odd\n",
    "    if ((k%2!=0) and k>1):\n",
    "        k-=1\n",
    "    if k>2:\n",
    "        for v in range(n):\n",
    "            l_n=  get_n_levels_neighbours(n, v, k)\n",
    "            for v_n in l_n:\n",
    "                if not g.edge(v_n,v):\n",
    "                    g.add_edge(g.vertex(v), g.vertex(v_n))\n",
    "    # replace each edge u-v by an edge u-w with probability p\n",
    "    for u in range(n):\n",
    "        for v in g.vertex(u).all_neighbours():\n",
    "            if (random.random()<=p):\n",
    "                l1=range(n)\n",
    "                l2=get_n_levels_neighbours(n,u,k)\n",
    "                l=[i for i in l1 if i not in l2]\n",
    "                l.remove(u)\n",
    "                w=random.choice(l)\n",
    "                while w==u or g.edge(u,w):\n",
    "                    w=random.choice(l)\n",
    "                g.remove_edge(g.edge(u, v))\n",
    "                g.add_edge(g.vertex(u), g.vertex(w))\n",
    "    return g\n",
    "\n",
    "g = watts_strogatz_network(1000, 6, 0.0)\n",
    "gt.graph_draw(g)"
   ]
  },
  {
   "cell_type": "code",
   "execution_count": null,
   "metadata": {},
   "outputs": [],
   "source": [
    "#Exercise\n",
    "\n"
   ]
  },
  {
   "cell_type": "markdown",
   "metadata": {},
   "source": [
    "What's amazing, and frequently occurs in networks, is that the shortest path length effectively 'falls' off a cliff (reducing 10 fold) just with a minor change to $p$. We can see that it stabilizes quickly.\n",
    "\n",
    "Clustering has a more gradual decline, since most edges are not actually changed. \n",
    "\n",
    "Given that social networks typically have a \"high\" (in respect to other types of networks) average clustering, we can see that there is a *sweet spot* of randomization from a highly structured graph where they are likely to exist. Surprisingly, it takes very little randomization from a fully structured graph to achieve this point. \n",
    "\n",
    "And what we can see from the degree distribution is also instructive here. Let's look at the hamsterer social graph"
   ]
  },
  {
   "cell_type": "code",
   "execution_count": null,
   "metadata": {},
   "outputs": [],
   "source": [
    "deg = G.degree_property_map('total')\n",
    "degcum = np.cumsum(sorted(deg.a))\n",
    "plt.plot(sorted(deg.a), 1-degcum/sum(deg.a))\n",
    "plt.semilogx()\n",
    "plt.xlabel('$k$')\n",
    "plt.ylabel('$1-cdf$')"
   ]
  },
  {
   "cell_type": "markdown",
   "metadata": {},
   "source": [
    "What does the randomized graph look at its extremes ($p=0.0$ and $p=1.0$)"
   ]
  },
  {
   "cell_type": "code",
   "execution_count": null,
   "metadata": {},
   "outputs": [],
   "source": [
    "# Exercise\n"
   ]
  },
  {
   "cell_type": "markdown",
   "metadata": {},
   "source": [
    "Why does this matter so much? Why were the detailing of these properties such a large \"hit\" in the scientific world?\n",
    "\n",
    "One big answer: this presents a critical flaw in the assumption of bulk mixing in models. We'll turn our attention to specific application now.\n",
    "\n",
    "# Contagion\n",
    "\n",
    "Contagion is a process that is used to describe a rather large variety of phenomena, although its origin is in biology. Contagion is how we describe the spread of a disease from one organism to another (most frequently caring about human to human transmission). The typical model used is a SI model, where S stands for the Susceptible population of agents and I stands for the Infected population of agents. \n",
    "\n",
    "$\\frac{dS}{dt}= -p s(t) I(t)$\n",
    "\n",
    "where $S(t)$ is the number of susceptible people, $s(t)$ is the fraction of the population that is susceptible, $I(t)$ is the number of infected individuals at time $t$, and $b$ is the $p$ is the probability of an infected person infecting a susceptible one.\n",
    "\n",
    "Without any type of recovery from the illness, this model will eventually convert all beginning susceptibles to infecteds. \n",
    "\n",
    "Fortunately, graph-tool has the SI model implemented"
   ]
  },
  {
   "cell_type": "code",
   "execution_count": null,
   "metadata": {},
   "outputs": [],
   "source": [
    "state = gt.SIState(g, beta=0.10)\n",
    "outdata = []\n",
    "for t in range(100):\n",
    "    ret = state.iterate_sync()\n",
    "    outdata.append(state.get_state().fa.sum())\n",
    "    \n",
    "plt.plot(outdata)\n",
    "plt.xlabel('timestep')\n",
    "plt.ylabel('Infected Node Count')"
   ]
  },
  {
   "cell_type": "markdown",
   "metadata": {},
   "source": [
    "Now let's sweep again through the small world model rewiring probabilities, but capture how many timesteps it takes for the network to become fully infected. We will plot the average time for full infection against the rewiring probability.\n",
    "\n",
    "* Run 10 networks per rewiring probability\n",
    "* Seed only one infected node (at random)\n",
    "* infection probability = 0.10"
   ]
  },
  {
   "cell_type": "code",
   "execution_count": null,
   "metadata": {},
   "outputs": [],
   "source": [
    "#Exercise\n",
    "\n"
   ]
  },
  {
   "cell_type": "markdown",
   "metadata": {
    "scrolled": false
   },
   "source": [
    "We effectively see the same behavior, i.e. immediately once the graph transitions to a small world network the time it takes for an infection to spread jumps off a cliff (almost 7 times quicker). \n",
    "\n",
    "This is both an explanation for how pandemics occur, as well as greatly intriguing researchers - how can we intervene effectively when our natural desire to connect is what creates so much of the risk?\n",
    "\n",
    "This behavior is exacerbated when we consider a network with a heavy tailed distribution for the degree (as most on-line social networks have).\n",
    "\n",
    "**TE** Who are the hubs in meatspace? "
   ]
  },
  {
   "cell_type": "code",
   "execution_count": null,
   "metadata": {},
   "outputs": [],
   "source": [
    "#Exercise Hamsterer\n"
   ]
  },
  {
   "cell_type": "markdown",
   "metadata": {},
   "source": [
    "The addition of \"recovery\" is relatively simple\n",
    "\n",
    "$\\frac{dr}{dt} = ki(t)$\n",
    "\n",
    "where $k$ is the probability that someone that is infected transitions to recovered. You can then modify/decide if recovered people become susceptible again or not (as you are starting to guess, there are a giant number of variations on the SIR model). \n",
    "\n",
    "If the recovered population does not transition to susceptible, then the entire network will transition/stabilize as all susceptible/recovered at some time $t$. If recovered becomes susceptible again, then there will be a fraction of susceptibles that stabilizes at some time $t$.\n",
    "\n",
    "# Generalizing contagion\n",
    "\n",
    "Contagion on a network can be further generalized (and more amenable to non-pathogenic contagions, such as ideas or emotions) with the framework that is proposed in Dodds and Watts (2004), doi:10.1103/PhysRevLett.92.218701.\n",
    "\n",
    "This model allows for the implementation of dosing (multiple exposures required to transition from susceptible to infected) and thresholds (agents can be more or less susceptible). "
   ]
  },
  {
   "cell_type": "markdown",
   "metadata": {},
   "source": [
    "# Discussion\n",
    "\n",
    "N.A. Christakis and J.H. Fowler. (2007) The spread of obesity in a large social network over 32 years. *New England Journal of Medicine* **357**, 370-379.\n",
    "\n",
    ".\n",
    "\n",
    ".\n",
    "\n",
    ".\n",
    "\n",
    ".\n",
    "\n",
    ".\n",
    "\n",
    ".\n",
    "\n",
    ".\n",
    "\n",
    ".\n",
    "\n",
    ".\n",
    "\n",
    ".\n",
    "\n",
    ".\n",
    "\n",
    ".\n",
    "\n",
    ".\n",
    "\n",
    ".\n",
    "\n",
    ".\n",
    "\n",
    ".\n",
    "\n",
    ".\n",
    "\n",
    ".\n",
    "\n",
    ".\n",
    "\n",
    ".\n",
    "\n",
    ".\n",
    "\n",
    ".\n",
    "\n",
    "."
   ]
  },
  {
   "cell_type": "markdown",
   "metadata": {},
   "source": [
    "# Homophily\n",
    "\n",
    "<img src='../images/homophily_blogs.png' alt='political blog network'></img>\n",
    "Adamic and Glance. (2005) The political blogosphere. \n",
    "\n",
    "<img src='../images/homophily_school.png', alt='friendships at a school, nodes colored by race'></img>\n",
    "Moody. (2001) Race, school integration, and friendship segregation in America. *AJS*. \n",
    "\n",
    "<img src='../images/homophily_school_table.png', alt='friendships at a school, table'>"
   ]
  },
  {
   "cell_type": "markdown",
   "metadata": {},
   "source": [
    "What does this all mean? \n",
    "\n",
    "# Exogenous versus Endogenous\n",
    "\n",
    "Contagion implicitly means that the cause of the illness/adoption/etc. is driven from exposure to another that has already contracted the illness/purchased the product/etc. When this isn't an illness, we would term this social influence and it would be an exogenous force. \n",
    "\n",
    "An individual choosing to purchase a product, based on its attributes and the fit of those attributes to the person's own sensibilities, would be a decision that is driven from within (endogenous). \n",
    "\n",
    "\"In between\" these two would be decision that are driven externally but not from social influence, i.e. marketing.\n",
    "\n",
    "**The major difficulty with observed network adoption data is selection bias**. You **do not** know if someone would have adopted a product whether their friends adopted it or not with **only** the known adoption data and network structure."
   ]
  },
  {
   "cell_type": "markdown",
   "metadata": {
    "collapsed": true
   },
   "source": [
    "# What can be done?\n",
    "\n",
    "## Experimentation\n",
    "\n",
    "The \"simplest\" answer is to run an experiment, perturbing the conditions for specific individuals and comparing their response to a control group.  \n",
    "\n",
    "Aral and Walker. (2011) Creating social contagion through viral product design: randomized trial of peer influence in networks. *Management Science* 57(9):1623-1639.\n",
    "\n",
    "Aral and Walker. (2012) Identifying influential and susceptible members of social networks. *Science* 3337(6092) 337-341. \n",
    "\n",
    "Kramer, Guillory, and Hancock. (2013) Experimental evidence of massive-scale emotional contagion through social networks. *PNAS*  8788–8790, doi: 10.1073/pnas.1320040111.\n",
    "\n",
    "**TE** How far apart must your target nodes be in a network to control for spillover effects?"
   ]
  },
  {
   "cell_type": "markdown",
   "metadata": {},
   "source": [
    "## Paired sampling\n",
    "\n",
    "Using demographic variables and propensity score matching to identify matched pairs of users - then control/estimate the effects given the difference in number of neighbors that had adopted. \n",
    "\n",
    "With this approach we generally attempt to estimate the propensity to have been treated (exposed to influence from a neighbor), $p_{it}$ at time $t$ with logistic regression as\n",
    "\n",
    "$p_{it} = P(T_{it} = 1|X_{it}) = \\frac{1}{1 + exp[\\alpha_{it} + \\beta_{it}X_{it} + \\epsilon_{it}]}$\n",
    "\n",
    "where $X_{it}$ is the vector of demographic and behavioral covariates of node $i$. The **major** difficulty is that $X$ varies over time, so a match in week 1 of the adoption observation is not necessarily a match in week 10.\n",
    "\n",
    "However, that does not mean that logistic regression would be the only method to generate matched pairs (just the most common for social scientists). There are a number of other clustering techniques that could be used instead (although the evaluation of its goodness of fit would differ dramatically). \n",
    "\n",
    "Aral, Muchnik, and Sundararajan. (2009) Distinguishing influence-based contagion from homophily driven diffusion in dynamic networks. "
   ]
  },
  {
   "cell_type": "markdown",
   "metadata": {},
   "source": [
    "### Exercise\n",
    "\n",
    "We can detail an example of this proces with Python.\n",
    "\n",
    "First, we will need to create two populations."
   ]
  },
  {
   "cell_type": "code",
   "execution_count": null,
   "metadata": {},
   "outputs": [],
   "source": [
    "#Populations will have an Age [20-50], Education [0,1], and Married [0,1] attribute\n",
    "#for simplicity's sake\n",
    "import random\n",
    "import pandas as pd\n",
    "\n",
    "\n",
    "data = []\n",
    "#Treatment condition yes or no\n",
    "for condition in [0, 1]:\n",
    "    #1000 people per population\n",
    "    for i in range(1000):\n",
    "        data.append([condition, random.randint(20, 50), random.choice([0, 1]), random.choice([0, 1])])\n",
    "        \n",
    "exampledf = pd.DataFrame(data, columns = ['Treated', 'Age', 'Education', 'Married'])"
   ]
  },
  {
   "cell_type": "code",
   "execution_count": null,
   "metadata": {},
   "outputs": [],
   "source": [
    "#We can fit LogisticRegression with scikit learn\n",
    "from sklearn.linear_model import LogisticRegression\n",
    "\n",
    "propensity = LogisticRegression()\n",
    "propensity = propensity.fit(exampledf.iloc[:, 1:], exampledf.Treated)\n",
    "#Returns the probability of being in the class\n",
    "pscores = propensity.predict_proba(exampledf.iloc[:, 1:])\n",
    "#Only want the second column\n",
    "exampledf['Propensity'] = pscores[:,1]\n",
    "\n",
    "exampledf.head()"
   ]
  },
  {
   "cell_type": "code",
   "execution_count": null,
   "metadata": {},
   "outputs": [],
   "source": [
    "#Or we can fit a Logistic Regression with statsmodels\n",
    "import statsmodels.formula.api as smf \n",
    "\n",
    "fitLogit = smf.logit('Treated ~ Age + Education + Married', data = exampledf).fit()\n",
    "#A Simple predict will get use the probabilities\n",
    "pscores = fitLogit.predict(exampledf)\n",
    "exampledf['Propensity'] = pscores"
   ]
  },
  {
   "cell_type": "markdown",
   "metadata": {},
   "source": [
    "And from this point, we would go and find the closest match from the control group for a member in the treated group (within some cutoff)"
   ]
  },
  {
   "cell_type": "markdown",
   "metadata": {
    "collapsed": true
   },
   "source": [
    "## Natural experiments\n",
    "\n",
    "Use some exogenous shock to the system to quantitatively assess the influence of connections using a diff-in-diff regression. A typical example of applying this methodology is that you have an on-line social network and an avalanche happens in Denver, while it did not happen in Boston. This serves as the natural experiment, now you can see the difference between the two cities. However, what research questions really concern is the difference in behavior of two groups, say Group A and Group B. What we look at is the difference in behavior pre and post event for the 'treatment' and 'control' groups in Denver and Boston (thus, the difference in the difference). Based on a non-extensive literature review, a common shock used is...rain (not enough avalanches!)."
   ]
  },
  {
   "cell_type": "code",
   "execution_count": null,
   "metadata": {},
   "outputs": [],
   "source": []
  }
 ],
 "metadata": {
  "anaconda-cloud": {},
  "kernelspec": {
   "display_name": "Python 3 (ipykernel)",
   "language": "python",
   "name": "python3"
  },
  "language_info": {
   "codemirror_mode": {
    "name": "ipython",
    "version": 3
   },
   "file_extension": ".py",
   "mimetype": "text/x-python",
   "name": "python",
   "nbconvert_exporter": "python",
   "pygments_lexer": "ipython3",
   "version": "3.10.9"
  }
 },
 "nbformat": 4,
 "nbformat_minor": 1
}
