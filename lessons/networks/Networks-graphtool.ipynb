{
 "cells": [
  {
   "cell_type": "markdown",
   "metadata": {
    "slideshow": {
     "slide_type": "slide"
    }
   },
   "source": [
    "# Networks\n",
    "\n",
    "In 2020, it is difficult to find someone who doesn't have some idea of what a network is because the internet and social media platforms have brought them so clearly into focus. When I say network people immediately think of things like facebook and the connections that it brings worldwide. \n",
    "\n",
    "But there is a lot more to networks than that.\n"
   ]
  },
  {
   "cell_type": "markdown",
   "metadata": {
    "slideshow": {
     "slide_type": "subslide"
    }
   },
   "source": [
    "Full-stop. A network graph is simply a mathematical model that is composed of vertices and edges, $G = (V, E)$\n",
    "\n",
    "<img src='../../images/basic_network.png'>\n",
    "\n",
    "This mathematical model facilitates the analysis of topology and interactions between entites. The first usage of a network was by Euler in the 1700s to solve a long-standing riddle concerning the [traversal of bridges in Konigsberg](https://en.wikipedia.org/wiki/Seven_Bridges_of_Königsberg). His insight may seem extremely simple, it involved the reduction of a physical reality to a mathematical object\n",
    "\n",
    "<img src='../../images/konigsberg_bridge.png'>\n",
    "\n",
    "but it allowed for a mathematical proof to the riddle that was not easily achieved with other approaches."
   ]
  },
  {
   "cell_type": "markdown",
   "metadata": {
    "slideshow": {
     "slide_type": "slide"
    }
   },
   "source": [
    "# Analyzing networks with Python\n",
    "\n",
    "There are primarily two packages you can use when you want to undertake network analysis. The first package is **NetworkX**, which has been under development for almost a decade now. The second is **graph-tool**, which is younger. graph-tool is significantly faster than NetworkX because most of the package is implemented in C++. However, this makes installation of the package more difficult.\n",
    "\n",
    "At the start of class we installed `graph-tool` and given the speed advantages and built-in statistical modelling we will use it in class."
   ]
  },
  {
   "cell_type": "code",
   "execution_count": 1,
   "metadata": {
    "slideshow": {
     "slide_type": "fragment"
    }
   },
   "outputs": [],
   "source": [
    "from graph_tool.all import *"
   ]
  },
  {
   "cell_type": "markdown",
   "metadata": {},
   "source": [
    "And creating a graph is simple, we just ask for a graph."
   ]
  },
  {
   "cell_type": "code",
   "execution_count": 2,
   "metadata": {},
   "outputs": [
    {
     "data": {
      "text/plain": [
       "<Graph object, directed, with 0 vertices and 0 edges, at 0x7f9a7058d5b0>"
      ]
     },
     "execution_count": 2,
     "metadata": {},
     "output_type": "execute_result"
    }
   ],
   "source": [
    "g = Graph()\n",
    "g"
   ]
  },
  {
   "cell_type": "markdown",
   "metadata": {},
   "source": [
    "By default `Graph()` will create an empty directed graph object. If we want to add our nodes, we do that by asking it to add a vertex"
   ]
  },
  {
   "cell_type": "code",
   "execution_count": null,
   "metadata": {},
   "outputs": [],
   "source": [
    "v1 = g.add_vertex()\n",
    "v2 = g.add_vertex()\n",
    "v2"
   ]
  },
  {
   "cell_type": "code",
   "execution_count": null,
   "metadata": {},
   "outputs": [],
   "source": [
    "[x for x in g.vertices()]"
   ]
  },
  {
   "cell_type": "markdown",
   "metadata": {},
   "source": [
    "You can see that the added vertices are given an index and added to the graph."
   ]
  },
  {
   "cell_type": "code",
   "execution_count": null,
   "metadata": {},
   "outputs": [],
   "source": [
    "graph_draw(g, vertex_text=g.vertex_index)"
   ]
  },
  {
   "cell_type": "markdown",
   "metadata": {},
   "source": [
    "And if we draw the graph, we can see that it's all there but basic -- two simple disconnected vertices. We need to add the edges between vertices in order to actually connect it."
   ]
  },
  {
   "cell_type": "code",
   "execution_count": null,
   "metadata": {},
   "outputs": [],
   "source": [
    "e1 = g.add_edge(v1, v2)\n",
    "graph_draw(g, vertex_text=g.vertex_index)"
   ]
  },
  {
   "cell_type": "markdown",
   "metadata": {},
   "source": [
    "Now we see the connection between vertex `0` and `1`, with an edge (arrow) pointing from vertex `0` to vertex `1`.\n",
    "\n",
    "This pointed arrow denotes **directionality**, it says that information is passed from `v1`  to `v2`, but not vice-versa. If you wanted this relationship to be bi-directional, you would need to add a second edge that says that the **source** of the connection is `v2` and the **target** of that information is `v1`."
   ]
  },
  {
   "cell_type": "code",
   "execution_count": null,
   "metadata": {},
   "outputs": [],
   "source": [
    "e1 = g.add_edge(v2, v1)\n",
    "graph_draw(g, vertex_text=g.vertex_index)"
   ]
  },
  {
   "cell_type": "markdown",
   "metadata": {},
   "source": [
    "and now we see two edges, with one originating from each one of the nodes and this will denote that `v1` sends to `v2` and vice versa.\n",
    "\n",
    "## Question\n",
    "\n",
    "* What are the potential types of connections/transactions where it should be bidirectional?\n",
    "* Simply directional? \n",
    "* Does direction always matter?"
   ]
  },
  {
   "cell_type": "markdown",
   "metadata": {},
   "source": [
    "# Theoretical graphs and construction\n",
    "\n",
    "## Undirected vs. Directed\n",
    "\n",
    "An **undirected** network means that an edge has no direction, in our network an edge means that an edge goes for both of the nodes.\n",
    "\n",
    "If we wanted to examine a network where we looked at who initiated a conversation with whom during a day, we would want a **directed** network. **By default** graph-tool constructs a directed network. \n",
    "\n",
    "<img src=\"https://blogs.sas.com/content/graphicallyspeaking/files/2016/05/Network_Icon_Single__15_B.png\" width=\"400px\"></img>\n",
    "\n",
    "In a directed network an edge is displayed with an arrow and it shows the direction of the edge and it is not symmetric, **unlike** an undirected network. This means that if:\n",
    "* Bob starts a conversation with Alice, then we would draw an edge from Bob to Alice with the arrow pointed to Alice\n",
    "* Later that day Alice started a conversation with Bob, we would draw another edge from Alice to Bob, with the arrow pointed at Bob\n",
    "\n",
    "If we want an undirected network, we can specify that at the time of graph creation"
   ]
  },
  {
   "cell_type": "code",
   "execution_count": null,
   "metadata": {},
   "outputs": [],
   "source": [
    "ug = Graph(directed=False)\n",
    "uv0 = ug.add_vertex()\n",
    "uv1 = ug.add_vertex()\n",
    "ue0 = ug.add_edge(uv0, uv1)\n",
    "graph_draw(ug, vertex_text=ug.vertex_index)"
   ]
  },
  {
   "cell_type": "markdown",
   "metadata": {},
   "source": [
    "## Unweighted vs. Weighted\n",
    "\n",
    "An **unweighted** network has edges that are effectively binary, either there exists an edge between two nodes or there does not exist an edge. All edges that exist are counted the same.  This type of network makes sense for friendship, since two people are either friends or they are not. \n",
    "\n",
    "If we think about our conversation network though, we would want to know the **number** of times that two individuals interact --- especially because it is likely that all of the individuals would talk to each other during the course of a day. This means that the presence or absence of an edge doesn't matter because it is a **fully connected** network. We would add the **number** of conversations, more typically known as the **weight** of an edge, to represent the strength of the connection between two nodes. In a graph we typically show weights by making the width of an edge larger.\n",
    "<img src=\"https://humannaturegroup.files.wordpress.com/2009/12/map.png\" width=\"400px\"></img>"
   ]
  },
  {
   "cell_type": "code",
   "execution_count": null,
   "metadata": {},
   "outputs": [],
   "source": [
    "ug = Graph(directed=False)\n",
    "# Create the edge weight property\n",
    "eweight = ug.new_ep('double')\n",
    "# g.edge_properties['weight'] = edge_weights\n",
    "ug.add_edge_list([(0, 1, 2), (1, 2, 10)], eprops=[eweight])\n",
    "#Draw the graph\n",
    "graph_draw(ug, vertex_text=ug.vertex_index, edge_pen_width=eweight)\n",
    "eweight.fa"
   ]
  },
  {
   "cell_type": "markdown",
   "metadata": {},
   "source": [
    "# Summing up the basics\n",
    "\n",
    "So far we have covered creating a graph, creating a few nodes and edges, and graphing it (which actually looks rather nice!). There's a little bit of work we have to do to have properties for edges and vertices (with the definition of the data type in C++ data struct language), but that's all in the name of speed. \n",
    "\n",
    "For reinforcement let's create a simple communication network for four co-workers."
   ]
  },
  {
   "cell_type": "code",
   "execution_count": null,
   "metadata": {},
   "outputs": [],
   "source": [
    "import itertools\n",
    "#Our four individuals\n",
    "individuals = ['Alice', 'Bob', 'Carol', 'David']\n",
    "edge_list = [x for x in itertools.combinations(individuals, 2)]\n",
    "\n",
    "G = Graph()\n",
    "#Add the edges, hashed tells graph-tool to infer the index numbers\n",
    "vmap = G.add_edge_list(edge_list, hashed=True)\n",
    "graph_draw(G, vertex_text=vmap)"
   ]
  },
  {
   "cell_type": "markdown",
   "metadata": {},
   "source": [
    "We can remove a node if need be from the graph"
   ]
  },
  {
   "cell_type": "code",
   "execution_count": null,
   "metadata": {},
   "outputs": [],
   "source": [
    "G.remove_vertex(0)\n",
    "graph_draw(G, vertex_text = vmap)"
   ]
  },
  {
   "cell_type": "markdown",
   "metadata": {},
   "source": [
    "And check all our nodes now:"
   ]
  },
  {
   "cell_type": "code",
   "execution_count": null,
   "metadata": {},
   "outputs": [],
   "source": [
    "[x for x in G.vertices()]"
   ]
  },
  {
   "cell_type": "markdown",
   "metadata": {},
   "source": [
    "Importantly all of our vertices are numbers not names -- why? **Discussion** of old times\n",
    "\n",
    "But with a vertex we can perform many operations to extract data from the graph."
   ]
  },
  {
   "cell_type": "code",
   "execution_count": null,
   "metadata": {},
   "outputs": [],
   "source": [
    "tv = [x for x in G.vertices()][0]\n",
    "#Get edges:\n",
    "print('edges for vertex 0')\n",
    "for x in tv.all_edges():\n",
    "    print(x)\n",
    "print('--')\n",
    "#Or get all neighbors\n",
    "print('neighbors for vertex 0')\n",
    "for x in tv.all_neighbors():\n",
    "    print(x)\n",
    "print('--')\n",
    "#Or just count neighbors\n",
    "print(f'vertex 0 has {tv.in_degree() + tv.out_degree()} neighbors')\n",
    "#Weren't expecting that were you??"
   ]
  },
  {
   "cell_type": "markdown",
   "metadata": {},
   "source": [
    "Of course we don't have to iterate through this manner to access these attributes"
   ]
  },
  {
   "cell_type": "code",
   "execution_count": null,
   "metadata": {},
   "outputs": [],
   "source": [
    "print(f'Vertex 1 has in-degree {G.vertex(1).in_degree()} and out-degree {G.vertex(1).out_degree()}')"
   ]
  },
  {
   "cell_type": "markdown",
   "metadata": {},
   "source": [
    "# Basic network statistics \n",
    "\n",
    "**Degree** - the number of connections you have to other vertices. In-degree is the number of incoming links and out-degree is the number of outgoing links. Total degree is the sum of these two, in an unweighted network total degree is equal to the number of network neighbors.\n",
    "\n",
    "**Centrality** - whoo, well there's a number of these. Effectively a measure of how 'central' a vertex is in the network. There are many mathematical formulations which are different interpretations of what the word 'central' means. Requires the entire context of the network to calculate.\n",
    "\n",
    "**Clustering** - How tightly closed the connections are in your local sphere, i.e. are your friends friends?"
   ]
  },
  {
   "cell_type": "code",
   "execution_count": null,
   "metadata": {},
   "outputs": [],
   "source": [
    "#Reset the network\n",
    "G = Graph(directed=False)\n",
    "#Add the edges, hashed tells graph-tool to infer the index numbers\n",
    "vmap = G.add_edge_list(edge_list, hashed=True)"
   ]
  },
  {
   "cell_type": "code",
   "execution_count": null,
   "metadata": {},
   "outputs": [],
   "source": [
    "#calculate betweenness centrality\n",
    "bet_vmap, bet_emap = betweenness(G)\n",
    "bet_vmap[3]"
   ]
  },
  {
   "cell_type": "code",
   "execution_count": null,
   "metadata": {},
   "outputs": [],
   "source": [
    "#Calculate clustering coefficient\n",
    "clust_vmap = local_clustering(G)\n",
    "clust_vmap[2]"
   ]
  },
  {
   "cell_type": "markdown",
   "metadata": {},
   "source": [
    "Really boring because the network isn't bit enough!\n",
    "\n",
    "So let's step up our game here and transition to a larger network. For this we'll use the divvy bikes network that's in the data folder.\n",
    "\n",
    "# Divvy network\n",
    "\n",
    "The `divvy_network.json` has the divvy stations as vertices and the edges are a bike being checked out at one station and docked at another.\n",
    "\n",
    "`graph-tool` doesn't support json as a network format though, so we'll need to do a transformation using NetworkX."
   ]
  },
  {
   "cell_type": "code",
   "execution_count": null,
   "metadata": {
    "slideshow": {
     "slide_type": "fragment"
    }
   },
   "outputs": [],
   "source": [
    "import networkx as nx\n",
    "from networkx.readwrite import json_graph\n",
    "import json\n",
    "\n",
    "data = json.load(open('../data/divvy_network.json'))\n",
    "G = json_graph.node_link_graph(data)\n",
    "#Need to sanitize out all the information\n",
    "H = nx.Graph()\n",
    "H.add_edges_from(G.edges())\n",
    "#And graph_tool can read graph_ml\n",
    "nx.readwrite.write_gml(H, '../data/divvy_network.gml')"
   ]
  },
  {
   "cell_type": "markdown",
   "metadata": {},
   "source": [
    "If we write out a graph in the gml format (which requires stripping properties), then we can read it in."
   ]
  },
  {
   "cell_type": "code",
   "execution_count": null,
   "metadata": {},
   "outputs": [],
   "source": [
    "!head ../data/divvy_network.gml"
   ]
  },
  {
   "cell_type": "code",
   "execution_count": null,
   "metadata": {},
   "outputs": [],
   "source": [
    "divvyg = load_graph('../data/divvy_network.gml')\n",
    "graph_draw(divvyg)"
   ]
  },
  {
   "cell_type": "markdown",
   "metadata": {
    "slideshow": {
     "slide_type": "slide"
    }
   },
   "source": [
    "Pretty!\n",
    "\n",
    "Understanding non-trivial networks is difficult by plotting the network because of the large number of nodes and edges that would overlap. For this reason we typically look at distributions of network statistics, such as the distribution of degrees."
   ]
  },
  {
   "cell_type": "code",
   "execution_count": null,
   "metadata": {
    "slideshow": {
     "slide_type": "fragment"
    }
   },
   "outputs": [],
   "source": [
    "#Exercise\n",
    "# Plotting the distribution of degrees\n",
    "\n"
   ]
  },
  {
   "cell_type": "markdown",
   "metadata": {
    "slideshow": {
     "slide_type": "slide"
    }
   },
   "source": [
    "So what we can see is that there is a slight peak near the larger side of the distribution, this means that there are a number of Divvy stations that see a large number of trips. \n",
    "\n",
    "Since the Divvy Trip network is a transportation network (it shows movement from one station to another) we can look at betweenness centrality. Betweenness centrality for a node `i` is the sum of the fraction of shortest paths that pass through `i`."
   ]
  },
  {
   "cell_type": "code",
   "execution_count": null,
   "metadata": {
    "slideshow": {
     "slide_type": "fragment"
    }
   },
   "outputs": [],
   "source": [
    "# Exercise\n",
    "# Distribution of betweenness centrality\n"
   ]
  },
  {
   "cell_type": "code",
   "execution_count": null,
   "metadata": {},
   "outputs": [],
   "source": []
  },
  {
   "cell_type": "markdown",
   "metadata": {
    "slideshow": {
     "slide_type": "slide"
    }
   },
   "source": [
    "Now we should look and see if this network is assortative. That means, what is my degree versus my neighbor's degree? Am I typically connected to neighbors that have the same degree as me or not?"
   ]
  },
  {
   "cell_type": "code",
   "execution_count": null,
   "metadata": {},
   "outputs": [],
   "source": [
    "#Exercise\n"
   ]
  },
  {
   "cell_type": "markdown",
   "metadata": {
    "slideshow": {
     "slide_type": "fragment"
    }
   },
   "source": [
    "The network is assortative, nodes with a high-degree have neighbors that also have a high degree. \n",
    "\n",
    "### Why is that? When would the converse be true?"
   ]
  },
  {
   "cell_type": "markdown",
   "metadata": {
    "slideshow": {
     "slide_type": "slide"
    }
   },
   "source": [
    "We can and should check this though. Implement a function to calculate the distance between two stations with the [Haversine distance](https://en.wikipedia.org/wiki/Haversine_formula)"
   ]
  },
  {
   "cell_type": "code",
   "execution_count": null,
   "metadata": {
    "slideshow": {
     "slide_type": "fragment"
    }
   },
   "outputs": [],
   "source": [
    "#Exercise\n"
   ]
  },
  {
   "cell_type": "code",
   "execution_count": null,
   "metadata": {},
   "outputs": [],
   "source": []
  },
  {
   "cell_type": "markdown",
   "metadata": {
    "slideshow": {
     "slide_type": "slide"
    }
   },
   "source": [
    "Interesting, this appears to be a pretty small distance. But to make sure we should calculate and plot the differences between distance between neighbors and distance between non-neighbors"
   ]
  },
  {
   "cell_type": "code",
   "execution_count": null,
   "metadata": {
    "slideshow": {
     "slide_type": "fragment"
    }
   },
   "outputs": [],
   "source": [
    "#Exercise\n"
   ]
  },
  {
   "cell_type": "code",
   "execution_count": null,
   "metadata": {
    "slideshow": {
     "slide_type": "fragment"
    }
   },
   "outputs": [],
   "source": [
    "ax = plt.subplot(111)\n",
    "ax.boxplot([avg_neighbor_distances, avg_non_neighbor_distances])\n",
    "plt.setp(ax, xticklabels=['Neighbor', 'Non-Neighbor'])\n",
    "ax.set_xlim(0.5,2.5)\n",
    "ax.set_ylabel('Distance')\n",
    "plt.tight_layout()"
   ]
  },
  {
   "cell_type": "markdown",
   "metadata": {
    "slideshow": {
     "slide_type": "slide"
    }
   },
   "source": [
    "Now let's test whether these two distributions from the same distribution or not, using the Kolmogorov-Smirnov test.\n",
    "\n",
    "**Are these two distributions the same or not?**"
   ]
  },
  {
   "cell_type": "code",
   "execution_count": null,
   "metadata": {
    "slideshow": {
     "slide_type": "fragment"
    }
   },
   "outputs": [],
   "source": [
    "from scipy.stats import ks_2samp\n",
    "\n",
    "D, p = ks_2samp(avg_neighbor_distances, avg_non_neighbor_distances)\n",
    "print( p )"
   ]
  },
  {
   "cell_type": "markdown",
   "metadata": {
    "slideshow": {
     "slide_type": "slide"
    }
   },
   "source": [
    "# Network Path Traversal\n",
    "\n",
    "Another important part is traversing a network. What are two easy ways that this could be done?\n",
    "\n",
    "**answer is....**\n",
    "\n",
    "Breadth-first or depth-first\n",
    "\n",
    "Perfect!\n",
    "\n",
    "Now let's implement breadth first of these algorithms\n",
    "\n",
    "so if we have a tree like:\n",
    "\n",
    "`\n",
    " -> My tree starting from Z\n",
    "     Z\n",
    "  |     |\n",
    "  B     C\n",
    "|  |  |  |\n",
    "D  E  F  G\n",
    "`\n",
    "\n",
    "The answer should be:\n",
    "[B, C, D, E, F, G]"
   ]
  },
  {
   "cell_type": "code",
   "execution_count": null,
   "metadata": {
    "slideshow": {
     "slide_type": "fragment"
    }
   },
   "outputs": [],
   "source": [
    "#Exercise\n"
   ]
  },
  {
   "cell_type": "markdown",
   "metadata": {
    "slideshow": {
     "slide_type": "fragment"
    }
   },
   "source": [
    "But there's a simpler way to do this, since it's a built in method of networkx"
   ]
  }
 ],
 "metadata": {
  "anaconda-cloud": {},
  "celltoolbar": "Slideshow",
  "kernelspec": {
   "display_name": "Python 3 (ipykernel)",
   "language": "python",
   "name": "python3"
  },
  "language_info": {
   "codemirror_mode": {
    "name": "ipython",
    "version": 3
   },
   "file_extension": ".py",
   "mimetype": "text/x-python",
   "name": "python",
   "nbconvert_exporter": "python",
   "pygments_lexer": "ipython3",
   "version": "3.12.0"
  },
  "toc": {
   "base_numbering": 1,
   "nav_menu": {},
   "number_sections": true,
   "sideBar": true,
   "skip_h1_title": false,
   "title_cell": "Table of Contents",
   "title_sidebar": "Contents",
   "toc_cell": false,
   "toc_position": {},
   "toc_section_display": true,
   "toc_window_display": true
  }
 },
 "nbformat": 4,
 "nbformat_minor": 4
}
