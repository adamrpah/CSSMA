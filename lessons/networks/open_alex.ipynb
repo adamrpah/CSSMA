{
 "cells": [
  {
   "cell_type": "markdown",
   "id": "cddef46c-9bbc-4c11-b4a2-72a782584bf1",
   "metadata": {},
   "source": [
    "# Open Alex\n",
    "\n",
    "Now let's talk about the idea of creating networks from text data"
   ]
  },
  {
   "cell_type": "code",
   "execution_count": null,
   "id": "eaa98a02-ee2c-4c3c-a356-b61f8c028725",
   "metadata": {},
   "outputs": [],
   "source": []
  }
 ],
 "metadata": {
  "kernelspec": {
   "display_name": "Python 3 (ipykernel)",
   "language": "python",
   "name": "python3"
  },
  "language_info": {
   "codemirror_mode": {
    "name": "ipython",
    "version": 3
   },
   "file_extension": ".py",
   "mimetype": "text/x-python",
   "name": "python",
   "nbconvert_exporter": "python",
   "pygments_lexer": "ipython3",
   "version": "3.12.0"
  }
 },
 "nbformat": 4,
 "nbformat_minor": 5
}
