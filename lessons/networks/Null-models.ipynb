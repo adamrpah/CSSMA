{
 "cells": [
  {
   "cell_type": "code",
   "execution_count": 1,
   "metadata": {},
   "outputs": [
    {
     "data": {
      "text/html": [
       "<style>\n",
       "    @font-face {\n",
       "        font-family: \"Computer Modern\";\n",
       "        src: url('http://9dbb143991406a7c655e-aa5fcb0a5a4ec34cff238a2d56ca4144.r56.cf5.rackcdn.com/cmunss.otf');\n",
       "    }\n",
       "    @font-face {\n",
       "        font-family: \"Computer Modern\";\n",
       "        font-weight: bold;\n",
       "        src: url('http://9dbb143991406a7c655e-aa5fcb0a5a4ec34cff238a2d56ca4144.r56.cf5.rackcdn.com/cmunsx.otf');\n",
       "    }\n",
       "    @font-face {\n",
       "        font-family: \"Computer Modern\";\n",
       "        font-style: oblique;\n",
       "        src: url('http://9dbb143991406a7c655e-aa5fcb0a5a4ec34cff238a2d56ca4144.r56.cf5.rackcdn.com/cmunsi.otf');\n",
       "    }\n",
       "    @font-face {\n",
       "        font-family: \"Computer Modern\";\n",
       "        font-weight: bold;\n",
       "        font-style: oblique;\n",
       "        src: url('http://9dbb143991406a7c655e-aa5fcb0a5a4ec34cff238a2d56ca4144.r56.cf5.rackcdn.com/cmunso.otf');\n",
       "    }\n",
       "    h1 {\n",
       "        font-family: Helvetica, serif;\n",
       "    }\n",
       "    h4{\n",
       "        margin-top:12px;\n",
       "        margin-bottom: 3px;\n",
       "       }\n",
       "    div.text_cell_render{\n",
       "        font-family: Computer Modern, \"Helvetica Neue\", Arial, Helvetica, Geneva, sans-serif;\n",
       "        line-height: 145%;\n",
       "        font-size: 130%;\n",
       "        margin-left:auto;\n",
       "        margin-right:auto;\n",
       "    }\n",
       "    .CodeMirror{\n",
       "            font-family: \"Source Code Pro\", source-code-pro,Consolas, monospace;\n",
       "    }\n",
       "    .text_cell_render h5 {\n",
       "        font-weight: 300;\n",
       "        font-size: 22pt;\n",
       "        color: #4057A1;\n",
       "        font-style: italic;\n",
       "        margin-bottom: .5em;\n",
       "        margin-top: 0.5em;\n",
       "        display: block;\n",
       "    }\n",
       "    \n",
       "    .warning{\n",
       "        color: rgb( 240, 20, 20 )\n",
       "        }  \n",
       "</style>\n",
       "<script>\n",
       "    MathJax.Hub.Config({\n",
       "                        TeX: {\n",
       "                           extensions: [\"AMSmath.js\"]\n",
       "                           },\n",
       "                tex2jax: {\n",
       "                    inlineMath: [ ['$','$'], [\"\\\\(\",\"\\\\)\"] ],\n",
       "                    displayMath: [ ['$$','$$'], [\"\\\\[\",\"\\\\]\"] ]\n",
       "                },\n",
       "                displayAlign: 'center', // Change this to 'center' to center equations.\n",
       "                \"HTML-CSS\": {\n",
       "                    styles: {'.MathJax_Display': {\"margin\": 4}}\n",
       "                }\n",
       "        });\n",
       "</script>\n"
      ],
      "text/plain": [
       "<IPython.core.display.HTML object>"
      ]
     },
     "execution_count": 1,
     "metadata": {},
     "output_type": "execute_result"
    }
   ],
   "source": [
    "from IPython.core.display import HTML\n",
    "\n",
    "def css_styling():\n",
    "    styles = open(\"../data/www/styles/custom.css\", \"r\").read()\n",
    "    return HTML(styles)\n",
    "css_styling()"
   ]
  },
  {
   "cell_type": "markdown",
   "metadata": {},
   "source": [
    "# The simultaneous benefit and drawback of networks\n",
    "\n",
    "A basic regression framework makes the assumption that each data point is independent of the others - there is an error term but it is necessary for it to be randomly distributed for the modeled relationship to be valid.\n",
    "\n",
    "Network analysis provides an analytical framework to explicitly model the relationships between data points in an attempt to understand the impact of these differentially distributed connections. \n",
    "\n",
    "However, this emphasis makes traditional statistical tests largely inapplicable since independence assumptions do not hold. "
   ]
  },
  {
   "cell_type": "markdown",
   "metadata": {},
   "source": [
    "# Null models\n",
    "\n",
    "The way that we tackle this difficulty is not to discard statistical testing, but to instead use null models to assess significance of individual or system-level attributes. \n",
    "\n",
    "Null models require that we are able to fix some attributes of the system and then randomize the rest. Through bootstrapping hundreds to thousands of synthetic datasets, we can then observe if our observed quantity significantly differs from the distribution of synthetic values. "
   ]
  },
  {
   "cell_type": "markdown",
   "metadata": {},
   "source": [
    "# Classical example\n",
    "\n",
    "A classical example of using a bootstrap is to estimate the value of pi. The definition of pi is \n",
    "\n",
    "$\\pi =\\frac{C}{d}$\n",
    "\n",
    "where $C$ is the circumference of a circle and $d$ is its diameter. With this relationship, we can estimate the value of pi by randomly drawing points and seeing how many fall within a circle and how many fall outside."
   ]
  },
  {
   "cell_type": "code",
   "execution_count": 2,
   "metadata": {},
   "outputs": [
    {
     "name": "stdout",
     "output_type": "stream",
     "text": [
      "0.7853981633974483\n",
      "0.8\n"
     ]
    }
   ],
   "source": [
    "import math\n",
    "import numpy as np\n",
    "\n",
    "def estimate_pi(n_attempts = 10000):\n",
    "    \"\"\" Estimate pi from area of quarter circle \"\"\" \n",
    "    count_successes = 0\n",
    "    for i in range(n_attempts):\n",
    "        x_rand = np.random.random()\n",
    "        y_rand = np.random.random()\n",
    "        dist = math.sqrt( x_rand **2 + y_rand**2 )\n",
    "        if dist <= 1.:\n",
    "            count_successes += 1\n",
    "    return float(count_successes) / n_attempts\n",
    "\n",
    "\n",
    "print( math.pi / 4. )\n",
    "print( estimate_pi(10) )"
   ]
  },
  {
   "cell_type": "markdown",
   "metadata": {},
   "source": [
    "Close but not close enough. However, we can see that as we increase the number of attempts the value converges to the actual value of pi."
   ]
  },
  {
   "cell_type": "code",
   "execution_count": 3,
   "metadata": {},
   "outputs": [
    {
     "name": "stdout",
     "output_type": "stream",
     "text": [
      "10 0.8\n",
      "100 0.78\n",
      "1000 0.788\n",
      "10000 0.7835\n",
      "100000 0.78569\n",
      "1000000 0.785179\n"
     ]
    }
   ],
   "source": [
    "for nattempts in [10, 100, 1000, 10000, 100000, 1000000]:\n",
    "    print(nattempts, estimate_pi(n_attempts = nattempts))"
   ]
  },
  {
   "cell_type": "markdown",
   "metadata": {},
   "source": [
    "# Applications to networks\n",
    "\n",
    "The first application that we will look at is if a network is more modular than would be expected otherwise. Initially it was assumed that the modularity of real graphs was related to the evolution of a network (i.e. selection by agents). However, it was later shown that randomly generated graphs (with no network structure) would be modular also, which casts the question of how modular a real network really is (and how much that matters).\n",
    "\n",
    "For simplicity's sake, we will treat the network as unweighted to simplify the problem."
   ]
  },
  {
   "cell_type": "code",
   "execution_count": 6,
   "metadata": {},
   "outputs": [],
   "source": [
    "#Don't execute, will give an error\n",
    "import os\n",
    "import networkx as nx\n",
    "from subprocess import call\n",
    "\n",
    "\n",
    "call([\"netcarto\", \"-f\", '../data/got/got.edges', '-o', '../data/got/uw_got.mod', '-c 0.900'])\n",
    "#Run through the swaps\n",
    "got = nx.read_edgelist('../data/got/got.edges', data=(('weight', int), ))\n",
    "for i in range(100):\n",
    "    fpath = '../data/got/{0}'.format(i)\n",
    "    if not os.path.exists(fpath):\n",
    "        os.mkdir(fpath)\n",
    "    temp_got = got.copy()\n",
    "    nx.double_edge_swap(temp_got, nswap = len(temp_got.nodes()), max_tries = 1000)\n",
    "    netpath = fpath + '/got.edges'\n",
    "    nx.write_edgelist(temp_got, netpath)\n",
    "    outpath = fpath + '/got.mod'\n",
    "    call([\"netcarto\", \"-f\", netpath, '-o', outpath, '-c 0.900'])\n",
    "    "
   ]
  },
  {
   "cell_type": "code",
   "execution_count": null,
   "metadata": {
    "collapsed": true,
    "jupyter": {
     "outputs_hidden": true
    }
   },
   "outputs": [],
   "source": [
    "#Exercise\n",
    "#Write a function for modularity\n"
   ]
  },
  {
   "cell_type": "markdown",
   "metadata": {},
   "source": [
    "Imperfect, but good enough for our purposes. In the real research world the random values would be a smoother gaussian distribution (which requires more iterations), but the shape is clear from this point.\n",
    "\n",
    "Given this we can calculate the z-Score of the observed value in comparison to the random values to determine statistical significance."
   ]
  },
  {
   "cell_type": "code",
   "execution_count": 54,
   "metadata": {},
   "outputs": [
    {
     "name": "stdout",
     "output_type": "stream",
     "text": [
      "Z-score:  17.9031048538\n"
     ]
    }
   ],
   "source": [
    "import numpy as np\n",
    "z = (obs - np.mean(randmods)) / np.std(randmods)\n",
    "print('Z-score: ', z)"
   ]
  },
  {
   "cell_type": "markdown",
   "metadata": {},
   "source": [
    "And we can now see that the observed network is significantly more modular than would be expected from random chance. \n",
    "\n",
    "What is important to remember, is that in this network we fixed the degree of each node. So this modularity is not due to a change in the connectivity profiles of any one node (the degree distribution is exactly the same), but instead it is because of **who connects to who**."
   ]
  },
  {
   "cell_type": "markdown",
   "metadata": {},
   "source": [
    "# Further applications\n",
    "\n",
    "Bootstrapping can be applied to anything so long as an appropriate null model can be constructed. Writing the bootstrapping code is significantly **easier** than mentally constructing the appropriate null model to isolate your quantity of interest. \n",
    "\n"
   ]
  },
  {
   "cell_type": "markdown",
   "metadata": {},
   "source": [
    "# Exercise\n",
    "\n",
    "You want to determine if a node is connected more to its in-module neighbors than to out-module neighbors. What is the appropriate null model?"
   ]
  },
  {
   "cell_type": "code",
   "execution_count": 55,
   "metadata": {
    "collapsed": true,
    "jupyter": {
     "outputs_hidden": true
    }
   },
   "outputs": [],
   "source": [
    "#Exercise\n"
   ]
  },
  {
   "cell_type": "markdown",
   "metadata": {},
   "source": [
    "# Bootstrap and processes\n",
    "\n",
    "We can also bootstrap randomized networks to test if a process is occuring quicker or slower due to the observed network dynamics. Take the code we wrote for an SI infection earlier and use it with the got network.\n",
    "\n",
    "Then bootstrap the network and run the code again. Is the infection significantly quicker or slower than expected because of the observed structure of the network?"
   ]
  },
  {
   "cell_type": "code",
   "execution_count": 57,
   "metadata": {
    "collapsed": true,
    "jupyter": {
     "outputs_hidden": true
    }
   },
   "outputs": [],
   "source": [
    "#Exercise\n"
   ]
  },
  {
   "cell_type": "code",
   "execution_count": null,
   "metadata": {
    "collapsed": true,
    "jupyter": {
     "outputs_hidden": true
    }
   },
   "outputs": [],
   "source": []
  }
 ],
 "metadata": {
  "anaconda-cloud": {},
  "kernelspec": {
   "display_name": "Python 3 (ipykernel)",
   "language": "python",
   "name": "python3"
  },
  "language_info": {
   "codemirror_mode": {
    "name": "ipython",
    "version": 3
   },
   "file_extension": ".py",
   "mimetype": "text/x-python",
   "name": "python",
   "nbconvert_exporter": "python",
   "pygments_lexer": "ipython3",
   "version": "3.12.0"
  }
 },
 "nbformat": 4,
 "nbformat_minor": 4
}
