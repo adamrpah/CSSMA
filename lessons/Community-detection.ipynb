{
 "cells": [
  {
   "cell_type": "code",
   "execution_count": null,
   "metadata": {},
   "outputs": [],
   "source": [
    "from IPython.core.display import HTML\n",
    "\n",
    "def css_styling():\n",
    "    styles = open(\"../data/www/styles/custom.css\", \"r\").read()\n",
    "    return HTML(styles)\n",
    "css_styling()"
   ]
  },
  {
   "cell_type": "code",
   "execution_count": null,
   "metadata": {},
   "outputs": [],
   "source": [
    "#Colab USAGE!!\n",
    "# !apt install libcairo2-dev libgif-dev libjpeg-dev \n",
    "# !pip install pycairo\n",
    "# !echo \"deb http://downloads.skewed.de/apt bionic main\" >> /etc/apt/sources.list\n",
    "# !apt-key adv --keyserver keys.openpgp.org --recv-key 612DEFB798507F25\n",
    "# !apt-get update\n",
    "# !apt-get install python3-graph-tool"
   ]
  },
  {
   "cell_type": "markdown",
   "metadata": {
    "collapsed": true
   },
   "source": [
    "# The urge to group\n",
    "\n",
    "Humans have an irrestible urge to categorize and group items. This is easily and frequently seen in the natural sciences with the usage of taxonomies or classes of models, but it extends the social sciences. \n",
    "\n",
    "Categorization and grouping in a business setting has a number of uses, i.e. who are *super-spreaders* that will efficiently spread advertising and word-of-mouth? Who are tastemakers? These questions are just as pertinent for the fields of innovation adoption and change management as they are for the business world. \n",
    "\n",
    "So far we have largely analyzed network attributes through through the aggregation of individual attributes. We have lacked a framework to ask and answer questions such as \"Are there distinct groups within this network?\"\n",
    "\n",
    "This is an important question to ask and answer and has implications in both information spreading as well as understanding the relative strength of connections between nodes. Answering this question falls under what we term 'community detection' in network theory."
   ]
  },
  {
   "cell_type": "markdown",
   "metadata": {},
   "source": [
    "# Community detection\n",
    "\n",
    "Community detection is what we term the family of methods to detect groups of individuals who are more connected to each other than to others in the network. The mathematical purpose of community detection is relatively simple, given a graph $G=(V,E)$ find some partition $p_i$ that maximizes in-group connectedness and minimizes out-group connectedness (partition is a synonym for community in the following). \n",
    "\n",
    "Sounds easy? Well actually this problem falls into a family of problems that we term `NP hard`. To illustrate this class of problems I will provide some numerical examples.\n",
    "\n",
    "* A network with **2** nodes has **2** possible communities\n",
    "* A network with **3** nodes has **5** possible communities\n",
    "* A network with **10** nodes has **115975** possible communities\n",
    "* A network with **100** nodes has **$10^{114}$** possible communities\n",
    "\n",
    "As you can see, the number of possible community designations for a network explodes as $V$ grows (the calculation for the number of possible communities is simply the Bell Number). \n",
    "\n",
    "This generic class of problems suffers from two things. One, there exists no known analytical solution to identify the optimal partition for this class of problems. \n",
    "\n",
    "Second, It is computationally intractable to assess all of these possible partitions and their fitness (the number of possible partitions quickly exceeds the number of atoms in the universe). Which means that even if you wrote a computer program to evaluate every single partition for a sufficiently large network, the universe would likely cool and collapse first (to say nothing about your own mortality).\n",
    "\n",
    "In order to solve this class of problems, we fall back to *heuristic* solutions. Given that all community detection algorithms are effectively heuristics, this means that there can be large number of possible solutions. This reality is reflected in the excessive number of publications on community detection algorithms during the 2000s. "
   ]
  },
  {
   "cell_type": "markdown",
   "metadata": {},
   "source": [
    "# Modularity\n",
    "\n",
    "Modularity is one of the most well-known metrics that is used to identify a 'good' partition and describe the structure of the community. Modularity is calculated as:\n",
    "\n",
    "$M\\equiv\\sum_{s=1}^{N_M}\\frac{l_s}{L} - (\\frac{d_s}{2L})^2$\n",
    "\n",
    "where $L$ is the number of links, $l_s$ is the number of links between nodes in module $s$ (where a partition is defined as the ensemble of all modules), and $d_s$ is the sum of the degrees of the nodes in module $s$.\n",
    "\n",
    "Why is there both the fraction of links out of total links and the fraction of degree divided by all degrees in the summation? Well, if we only had one portion of this equation, then any optimization would quickly provide a solution where all nodes are within one module. "
   ]
  },
  {
   "cell_type": "markdown",
   "metadata": {},
   "source": [
    "# Optimizing modularity\n",
    "\n",
    "There are a number of optimization algorithms that can take the Modularity function and maximize it. Each optimization algorithm will have its own benefits and drawbacks (related to time of calculation and likelihood of finalizing in a local minima). \n",
    "\n",
    "We can use simulated annealing, which was detailed in Guimera and Amaral (2005) Functional cartography of complex metabolic networks. Nature 433, 895-900, and is distributed as a part of the [rgraph repository](https://github.com/seeslab/rgraph). Given the computationally intensive nature of community identification algorithms, any one worth using will almost certainly require compiling source code on any machine that you wish to run it on.  \n",
    "\n",
    "In lieu of asking you all to compile this code on your own before class or doing so in class, I am providing the input and outputs ot the algorithm."
   ]
  },
  {
   "cell_type": "markdown",
   "metadata": {},
   "source": [
    "# Building intuition\n",
    "\n",
    "Hopefully you are all Game of Thrones fans. Inside `data/got/` I have the Game of Thrones co-occurrence network as an edgelist (`got.edges`), a translation dictionary from node name to node id (`translation.json`), and the modules as found by netcarto (`got.mod`). In the module file, a module is on a line where there is not a `#` and all nodes in the module are listed(as their numeric node id, with a tab between node ids).\n",
    "\n",
    "Read in and plot the network"
   ]
  },
  {
   "cell_type": "code",
   "execution_count": null,
   "metadata": {},
   "outputs": [],
   "source": [
    "#Exercise\n"
   ]
  },
  {
   "cell_type": "markdown",
   "metadata": {},
   "source": [
    "Now color the nodes by module id"
   ]
  },
  {
   "cell_type": "code",
   "execution_count": null,
   "metadata": {},
   "outputs": [],
   "source": [
    "#Exercise\n"
   ]
  },
  {
   "cell_type": "markdown",
   "metadata": {},
   "source": [
    "# Benefits of grouping\n",
    "\n",
    "There are many benefits to creating groups of items. \n",
    "\n",
    "* An additional attribute becomes available to use when assessing differences between individuals\n",
    "* Can further assess the strength of relationships between nodes that would not be as visible through edge strength alone\n",
    "* Can visualize modules instead of individual nodes, easing the visual exploration of the system and its communication ([example](https://amaral.northwestern.edu/netexplore/))\n",
    "* And **groups**! Having groups alone is a huge benefit. The group ids can serve as topics (see the reading) or as a  feature in downstream regression analyses."
   ]
  },
  {
   "cell_type": "markdown",
   "metadata": {},
   "source": [
    "# Comparing the accuracy of sets\n",
    "\n",
    "Modularity is a heuristic to solve the problem (since it is NP hard) -- so multiple runs will return slightly different answers. How would we assess how similar two answers are? \n",
    "\n",
    "In a situation like this, we compare the 'similarity' of two sets with the mutual information, which is a measure about the amount of shared 'information' between the two answers. Mutual information is given as\n",
    "\n",
    "$I(X; Y) = H(X) - H(X|Y)$"
   ]
  },
  {
   "cell_type": "code",
   "execution_count": null,
   "metadata": {},
   "outputs": [],
   "source": [
    "# Exercise\n"
   ]
  },
  {
   "cell_type": "markdown",
   "metadata": {},
   "source": [
    "# Detailing accuracy of algorithms\n",
    "\n",
    "Would these tests show that one algorithm is more 'accurate' than the other? In this context, yes - but generally no. \n",
    "\n",
    "There are a number of difficulties with determining the overall validity of an algorithm when using an observational dataset. The first one, is that there are likely to be issues with the supplied labelling. Think about Amazon - have you never seen a product where you questioned the supplied category? What about when you felt that it would fall into more than one category? Furthermore, these questions only detail one issue where we believe we have full information. However, we frequently do not have complete information - so the supplied categorizations have error (since they were generated by humans). "
   ]
  },
  {
   "cell_type": "markdown",
   "metadata": {},
   "source": [
    "# Synthetic benchmarks\n",
    "\n",
    "One of the most important, basic additions to this area of research was the development of a synthetic benchmark generator in Lancichinetti, Fortunato, and Radicchi (2008, Benchmark graphs for testing community detection algorithms). \n",
    "\n",
    "This benchmark generator creates graphs that have heterogeneities in the degree of nodes and size of communities. It also has a variable parameter, $\\mu$, that controls the amount of mixing for a node (i.e. links within communities vs. links between communities). \n",
    "\n",
    "The real advance is that the benchmark generates synthetic graphs that reproduce features of real data; however, the supplied labels are known to be correct (since they were generated and not assigned). The mixing parameter allows for the full range of algorithm performance to be assessed (to determine how performance degrades as the problem becomes more difficult).\n",
    "\n",
    "Further, given a module designation in a real network - it would be possible to at least obtain a (biased) estimate of the amount of mixing to gain a sense of how much algorithm performance would degrade from optimal conditions for your real research problem."
   ]
  },
  {
   "cell_type": "markdown",
   "metadata": {},
   "source": [
    "# How best to think of synthetic benchmarks?\n",
    "\n",
    "One of the easiest ways to think about creating these benchmarks (in my mind), borrows from a newer strain of network analysis. Believe it or not, this strain of research is largely based on re-discovering block models from Sociology.\n",
    "\n",
    "In a stochastic block model we would view a network as an ordered adjacency matrix. The 'blocks' are the communities, so it is easy to see the amount of intermixing between modules.\n",
    "\n",
    "To visualize this I will switch back to the game of thrones network"
   ]
  },
  {
   "cell_type": "code",
   "execution_count": null,
   "metadata": {},
   "outputs": [],
   "source": [
    "got_mat = gt.adjacency(got, weight=eweight).toarray()"
   ]
  },
  {
   "cell_type": "code",
   "execution_count": null,
   "metadata": {
    "scrolled": false
   },
   "outputs": [],
   "source": [
    "import numpy as np\n",
    "#Add 1 to allow for the log application\n",
    "got_mat += 1\n",
    "#PLot the array\n",
    "log_got_mat = np.log(got_mat)\n",
    "plt.pcolor(log_got_mat, cmap=plt.cm.binary) "
   ]
  },
  {
   "cell_type": "markdown",
   "metadata": {},
   "source": [
    "And visually what we want to do is this:"
   ]
  },
  {
   "cell_type": "code",
   "execution_count": null,
   "metadata": {},
   "outputs": [],
   "source": [
    "import seaborn as sns\n",
    "sns.clustermap(log_got_mat)"
   ]
  },
  {
   "cell_type": "markdown",
   "metadata": {},
   "source": [
    "But that is...so not the way to do it."
   ]
  },
  {
   "cell_type": "markdown",
   "metadata": {},
   "source": [
    "# Limits\n",
    "\n",
    "The other important factor that it demonstrates is a **fundamental limit** on the resolution of any community detection algorithm. \n",
    "\n",
    "This limit comes when there is too much intermixing between communities for an algorithm to identify communities, but we know that these communities exist (due to the generation of the network). This limit is related to the amount of available signal in comparison to the noise and is not due to a deficiency in how the approach of community detection algorithms (i.e. no algorithm should ever be able to recover these communities)."
   ]
  },
  {
   "cell_type": "markdown",
   "metadata": {},
   "source": [
    "# Stochastic Block Modelling with  graph-tool\n",
    "\n",
    "Fortunately, graph-tool has SBM community  detection built-in, making what is effectively **the** current SOA community detection technique easiliy avialable."
   ]
  },
  {
   "cell_type": "code",
   "execution_count": null,
   "metadata": {},
   "outputs": [],
   "source": [
    "state = gt.minimize_blockmodel_dl(got)\n",
    "state.draw(output_size=(1000,1000), vertex_text = got.vp.vname, edge_pen_width=eweight)"
   ]
  },
  {
   "cell_type": "markdown",
   "metadata": {},
   "source": [
    "Or view the blockmodel as a matrix"
   ]
  },
  {
   "cell_type": "code",
   "execution_count": null,
   "metadata": {},
   "outputs": [],
   "source": [
    "e = state.get_matrix()\n",
    "\n",
    "plt.matshow(e.todense())"
   ]
  },
  {
   "cell_type": "markdown",
   "metadata": {},
   "source": [
    "And while not appropriate for the game of thrones network, it can also handle nested block models with similar ease"
   ]
  },
  {
   "cell_type": "code",
   "execution_count": null,
   "metadata": {},
   "outputs": [],
   "source": [
    "state = gt.minimize_nested_blockmodel_dl(got)\n",
    "state.draw()"
   ]
  },
  {
   "cell_type": "markdown",
   "metadata": {},
   "source": [
    "# Other concerns and considerations\n",
    "\n",
    "Should a node be in only one community? Is there a difference between communities that overlap and communities that are hierarchical? Should a community be such that it is stable over time? \n",
    "\n",
    "There are a number of differing opinions about what a community should mean in different applications. Welcome to the wide world of complex  systems research and its applications across a large number of domains!"
   ]
  }
 ],
 "metadata": {
  "anaconda-cloud": {},
  "kernelspec": {
   "display_name": "Python 3",
   "language": "python",
   "name": "python3"
  },
  "language_info": {
   "codemirror_mode": {
    "name": "ipython",
    "version": 3
   },
   "file_extension": ".py",
   "mimetype": "text/x-python",
   "name": "python",
   "nbconvert_exporter": "python",
   "pygments_lexer": "ipython3",
   "version": "3.8.10"
  },
  "toc": {
   "base_numbering": 1,
   "nav_menu": {},
   "number_sections": true,
   "sideBar": true,
   "skip_h1_title": false,
   "title_cell": "Table of Contents",
   "title_sidebar": "Contents",
   "toc_cell": false,
   "toc_position": {},
   "toc_section_display": true,
   "toc_window_display": true
  }
 },
 "nbformat": 4,
 "nbformat_minor": 1
}
