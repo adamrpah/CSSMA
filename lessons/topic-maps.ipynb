{
 "cells": [
  {
   "cell_type": "code",
   "execution_count": 1,
   "metadata": {
    "slideshow": {
     "slide_type": "slide"
    }
   },
   "outputs": [
    {
     "data": {
      "text/html": [
       "<style>\n",
       "    @font-face {\n",
       "        font-family: \"Computer Modern\";\n",
       "        src: url('http://9dbb143991406a7c655e-aa5fcb0a5a4ec34cff238a2d56ca4144.r56.cf5.rackcdn.com/cmunss.otf');\n",
       "    }\n",
       "    @font-face {\n",
       "        font-family: \"Computer Modern\";\n",
       "        font-weight: bold;\n",
       "        src: url('http://9dbb143991406a7c655e-aa5fcb0a5a4ec34cff238a2d56ca4144.r56.cf5.rackcdn.com/cmunsx.otf');\n",
       "    }\n",
       "    @font-face {\n",
       "        font-family: \"Computer Modern\";\n",
       "        font-style: oblique;\n",
       "        src: url('http://9dbb143991406a7c655e-aa5fcb0a5a4ec34cff238a2d56ca4144.r56.cf5.rackcdn.com/cmunsi.otf');\n",
       "    }\n",
       "    @font-face {\n",
       "        font-family: \"Computer Modern\";\n",
       "        font-weight: bold;\n",
       "        font-style: oblique;\n",
       "        src: url('http://9dbb143991406a7c655e-aa5fcb0a5a4ec34cff238a2d56ca4144.r56.cf5.rackcdn.com/cmunso.otf');\n",
       "    }\n",
       "    h1 {\n",
       "        font-family: Helvetica, serif;\n",
       "    }\n",
       "    h4{\n",
       "        margin-top:12px;\n",
       "        margin-bottom: 3px;\n",
       "       }\n",
       "    div.text_cell_render{\n",
       "        font-family: Computer Modern, \"Helvetica Neue\", Arial, Helvetica, Geneva, sans-serif;\n",
       "        line-height: 145%;\n",
       "        font-size: 130%;\n",
       "        margin-left:auto;\n",
       "        margin-right:auto;\n",
       "    }\n",
       "    .CodeMirror{\n",
       "            font-family: \"Source Code Pro\", source-code-pro,Consolas, monospace;\n",
       "    }\n",
       "    .text_cell_render h5 {\n",
       "        font-weight: 300;\n",
       "        font-size: 22pt;\n",
       "        color: #4057A1;\n",
       "        font-style: italic;\n",
       "        margin-bottom: .5em;\n",
       "        margin-top: 0.5em;\n",
       "        display: block;\n",
       "    }\n",
       "    \n",
       "    .warning{\n",
       "        color: rgb( 240, 20, 20 )\n",
       "        }  \n",
       "</style>\n",
       "<script>\n",
       "    MathJax.Hub.Config({\n",
       "                        TeX: {\n",
       "                           extensions: [\"AMSmath.js\"]\n",
       "                           },\n",
       "                tex2jax: {\n",
       "                    inlineMath: [ ['$','$'], [\"\\\\(\",\"\\\\)\"] ],\n",
       "                    displayMath: [ ['$$','$$'], [\"\\\\[\",\"\\\\]\"] ]\n",
       "                },\n",
       "                displayAlign: 'center', // Change this to 'center' to center equations.\n",
       "                \"HTML-CSS\": {\n",
       "                    styles: {'.MathJax_Display': {\"margin\": 4}}\n",
       "                }\n",
       "        });\n",
       "</script>\n"
      ],
      "text/plain": [
       "<IPython.core.display.HTML object>"
      ]
     },
     "execution_count": 1,
     "metadata": {},
     "output_type": "execute_result"
    }
   ],
   "source": [
    "from IPython.core.display import HTML\n",
    "from IPython.lib.display import YouTubeVideo\n",
    "\n",
    "def css_styling():\n",
    "    styles = open(\"../data/www/styles/custom.css\", \"r\").read()\n",
    "    return HTML(styles)\n",
    "css_styling()"
   ]
  },
  {
   "cell_type": "markdown",
   "metadata": {
    "slideshow": {
     "slide_type": "slide"
    }
   },
   "source": [
    "# Topic modeling\n",
    "\n",
    "### An Information explosion\n",
    "\n",
    "Since the start of the new millennium, the world has stepped into the \"information age\" leading to the so-called \"information explosion\":  billions of pieces of information, such as breaking news and online events, are shared on Facebook and Twitter each month; trillions of SMS messages are sent out worldwide each year; and the volume of scientific literature increases exponentially. \n",
    "In the age of information, the volume of information has gone far beyond our capacity for manual processing. \n",
    "As a result, there is a  desire to develop computer algorithms to extract meaningful information from these  \"big data\".\n",
    "\n",
    "<img src='../images/s02_information_explosion.png' width='600px'>"
   ]
  },
  {
   "cell_type": "markdown",
   "metadata": {
    "slideshow": {
     "slide_type": "slide"
    }
   },
   "source": [
    "### The urge to organize and retrieve useful information\n",
    "\n",
    "A large volume of information is produced in the form of unstructured text, e.g., text that is not organized in a table with labels. \n",
    "Due to the need to retrieve useful information from a large collection of unstructured documents accurately and efficiently, information retrieval problems, such as classifying, organizing, and indexing of a large collection of documents have drawn the  attention of researchers. \n",
    "One powerful tool to deal with these challenges is topic modeling. "
   ]
  },
  {
   "cell_type": "markdown",
   "metadata": {
    "slideshow": {
     "slide_type": "slide"
    }
   },
   "source": [
    "## What is topic modeling?\n",
    "\n",
    "\n",
    "Topic models are a class of statistical models aiming to uncover the semantic structure of intuitive topics that appear in a collection of documents by uncovering systematic differences in the statistics of word usage. \n",
    "For instance, a topic concerning politics has high probability to use words such as \"leader\" or \"election\", while terms like \"football\" or \"basketball\" will appear more often in a topic concerning sports. \n",
    "With the topic modeling of a collection of documents, we can determine which topics are contained in a document and to what degree each topic contributes to this document. \n",
    "Topic models have found a use in many applications, including analysis of messages on social media such as Facebook and Twitter,  classification of articles from Wikipedia, and creation of indices for scientific papers posted to archives."
   ]
  },
  {
   "cell_type": "markdown",
   "metadata": {
    "slideshow": {
     "slide_type": "slide"
    }
   },
   "source": [
    "The following figure gives you an illustration about how topic modeling works in general.\n",
    "First, we can put a collection of documents into a topic model algorithm.\n",
    "Then, the output of the topic model algorithm has two parts:\n",
    "\n",
    "* The first part is to represent each topic as a distribution over words, $p(word|topic)$.\n",
    "* The second part is to express  each document as a distribution over topics, $p(topic|document)$. \n",
    "\n",
    "\n",
    "<img src='../images/s01_topic_modeling.png' width='600px'>"
   ]
  },
  {
   "cell_type": "markdown",
   "metadata": {
    "slideshow": {
     "slide_type": "slide"
    }
   },
   "source": [
    "### Latent Dirichlet Allocation\n",
    "\n",
    "Currently, **Latent Dirichlet Allocation (LDA)** is the most famous topic model.\n",
    "Since the original paper by Blei, et al. was published in 2003, this paper has obtained more than 21K citations.\n",
    "\n",
    "[Blei, David M., Andrew Y. Ng, and Michael I. Jordan. \"Latent dirichlet allocation.\" Journal of machine Learning research. 3(2003): 993-1022.](http://www.jmlr.org/papers/volume3/blei03a/blei03a.pdf)\n",
    "\n",
    "\n",
    "Since then, the last decade has seen an explosion in the  variety of topic model algorithms, e.g. [Hierarchical Dirichlet Processes (HDP)](http://www.tandfonline.com/doi/abs/10.1198/016214506000000302), [Topic Mapping (TM) algorithm](https://journals.aps.org/prx/abstract/10.1103/PhysRevX.5.011007), to name a few. "
   ]
  },
  {
   "cell_type": "markdown",
   "metadata": {
    "slideshow": {
     "slide_type": "slide"
    }
   },
   "source": [
    "## Applying topic model algrithm with Python\n",
    "\n",
    "\n",
    "### gensim: topic modelling for humans\n",
    "\n",
    "[Gensim](https://radimrehurek.com/gensim/index.html) is a free Python library designed to automatically extract semantic topics from documents, as efficiently (computer-wise) and painlessly (human-wise) as possible."
   ]
  },
  {
   "cell_type": "code",
   "execution_count": 2,
   "metadata": {
    "collapsed": true
   },
   "outputs": [],
   "source": [
    "# !pip install gensim==3.3.0"
   ]
  },
  {
   "cell_type": "markdown",
   "metadata": {
    "slideshow": {
     "slide_type": "slide"
    }
   },
   "source": [
    "### Core concepts\n",
    "\n",
    "#### Corpus\n",
    "\n",
    "In the field of topic modelling, a collection of documents is refered to as a corpus. \n",
    "We can also build our own corpus of interest. \n",
    "For example, if we want to have a brief overview of what kind of new knowledge we have learned from the papers we read during the last year, we can put all the research articles together, name it as a corpus, throw it into the topic model, and find out what we can get.\n",
    "\n",
    "However, we should note that:\n",
    "* Thare are several commonly used corpora that usually serve as benchmarks in the literature, such as\n",
    "[Reuters-21578](http://www.daviddlewis.com/resources/testcollections/reuters21578/), \n",
    "[RCV1](http://www.daviddlewis.com/resources/testcollections/rcv1/), \n",
    "[20 News Group](https://kdd.ics.uci.edu/databases/20newsgroups/20newsgroups.html), and so on. \n",
    "* These corpora have both the text documents and their coresponding labels (or categories).\n",
    "The categories of documents are manually assigned by experts, which are usually served as gold-standard and used in the evaluation of topic models. \n"
   ]
  },
  {
   "cell_type": "markdown",
   "metadata": {
    "slideshow": {
     "slide_type": "subslide"
    }
   },
   "source": [
    "#### Bag of Words\n",
    "\n",
    "In natural language processing, researchers usually use the bag-of-words model to represent a collection of document. In the bag-of-words representation, it will disregard the ordering of words in the document and only keep track of the number of occurrence of each word.\n",
    "\n",
    "#### Vocabulary\n",
    "\n",
    "A vocabulary is a list of unique words used in the corpus.\n",
    "\n",
    "A unique word in the vocabulary is also named as a word type (or a type).\n",
    "\n",
    "#### Token\n",
    "\n",
    "A token is a instance of one word type in one document from the corpus."
   ]
  },
  {
   "cell_type": "markdown",
   "metadata": {
    "slideshow": {
     "slide_type": "slide"
    }
   },
   "source": [
    "##  Step 1. Clean the unstructured text\n",
    "\n",
    "### Stop words\n",
    "\n",
    "\n",
    "In the context of topic modeling, stopwords refer to the most common words in a language (such as \"a\", \"an\", \"the\", \"is\", etc.). \n",
    "Stop words don't really have a lot of meaning when it comes to the analysis of semantic topic structure in text.\n",
    "Consequently, stop words usually will be filtered out before the processing of natural language data, that is, text.\n",
    "\n",
    "Interestingly, despite the importance of stop words in the process of natural language processing, there is no general concensus on a rigorous definition of stop words.\n",
    "\n",
    "### Using stop words\n",
    "\n",
    "The approach we have laready used is using the stopwords from `nltk`. However, `nltk` only has 153 stop words for the english language. \n",
    "\n",
    "Since we are interested in the latent topic structure, removing more words without topic meaning will improve our results. To aid in that we have included a data file of stop words that is frequently used with topic modelling (`../data/stopword_list_en`).\n"
   ]
  },
  {
   "cell_type": "code",
   "execution_count": 3,
   "metadata": {
    "slideshow": {
     "slide_type": "slide"
    }
   },
   "outputs": [
    {
     "data": {
      "text/plain": [
       "524"
      ]
     },
     "execution_count": 3,
     "metadata": {},
     "output_type": "execute_result"
    }
   ],
   "source": [
    "file_path_fname = '../data/stopword_list_en'\n",
    "with open(file_path_fname,'r') as f:\n",
    "    all_lines = f.readlines()\n",
    "    \n",
    "stopwords_list = [line.rstrip() for line in all_lines ]\n",
    "len(stopwords_list)"
   ]
  },
  {
   "cell_type": "code",
   "execution_count": 4,
   "metadata": {},
   "outputs": [
    {
     "data": {
      "text/plain": [
       "['a',\n",
       " 'able',\n",
       " 'about',\n",
       " 'above',\n",
       " 'according',\n",
       " 'accordingly',\n",
       " 'across',\n",
       " 'actually',\n",
       " 'after',\n",
       " 'afterwards']"
      ]
     },
     "execution_count": 4,
     "metadata": {},
     "output_type": "execute_result"
    }
   ],
   "source": [
    "stopwords_list[:10]"
   ]
  },
  {
   "cell_type": "markdown",
   "metadata": {
    "slideshow": {
     "slide_type": "slide"
    }
   },
   "source": [
    "### Stemming\n",
    "\n",
    "When reading a document, we can tell that two forms of the same word have the same meaning and are referring to the same thing. \n",
    "For example, \"laptop\" and \"laptops\" means the same thing for a human being.\n",
    "However, for a topic model algorithm, the difference between \"laptop\" and \"laptops\" is similar to the difference between \"0\" and \"1\". Since the algorithm will take all the words in the document as a symbol, different words means different symbols. \n",
    "\n",
    "In the context of topic modeling, we want to ignore the word endings: two forms of the same dictionary word should be changed back to word stems. That is, \"flies\" to \"fly\", \"doing\" to \"do\" to name a few. We wouldn't want to say that an article about one dolphin is a different topic than one about multiple dolphins, that would severely hamper our results.\n",
    "\n",
    "Stemming is *essential* when using topic maps, in order to reduce the vocabulary size/differences. \n",
    "\n",
    "For this exercise, we will use the [The Snowball Stemming Algorithm](http://snowball.tartarus.org/texts/introduction.html) which is revised/improved version of the Porter stemming algorithm (from the same author). Snowball stemming can handle multiple languages, which is an important ability given the diversity of text sources you may want to use."
   ]
  },
  {
   "cell_type": "code",
   "execution_count": 5,
   "metadata": {
    "collapsed": true,
    "slideshow": {
     "slide_type": "slide"
    }
   },
   "outputs": [],
   "source": [
    "from nltk.stem.snowball import SnowballStemmer"
   ]
  },
  {
   "cell_type": "code",
   "execution_count": 6,
   "metadata": {},
   "outputs": [
    {
     "data": {
      "text/plain": [
       "('danish',\n",
       " 'dutch',\n",
       " 'english',\n",
       " 'finnish',\n",
       " 'french',\n",
       " 'german',\n",
       " 'hungarian',\n",
       " 'italian',\n",
       " 'norwegian',\n",
       " 'porter',\n",
       " 'portuguese',\n",
       " 'romanian',\n",
       " 'russian',\n",
       " 'spanish',\n",
       " 'swedish')"
      ]
     },
     "execution_count": 6,
     "metadata": {},
     "output_type": "execute_result"
    }
   ],
   "source": [
    "SnowballStemmer.languages"
   ]
  },
  {
   "cell_type": "code",
   "execution_count": 7,
   "metadata": {},
   "outputs": [
    {
     "data": {
      "text/plain": [
       "'gener'"
      ]
     },
     "execution_count": 7,
     "metadata": {},
     "output_type": "execute_result"
    }
   ],
   "source": [
    "SnowballStemmer(\"porter\").stem(\"generously\")"
   ]
  },
  {
   "cell_type": "code",
   "execution_count": 8,
   "metadata": {},
   "outputs": [
    {
     "data": {
      "text/plain": [
       "'generous'"
      ]
     },
     "execution_count": 8,
     "metadata": {},
     "output_type": "execute_result"
    }
   ],
   "source": [
    "SnowballStemmer(\"english\").stem(\"generously\")"
   ]
  },
  {
   "cell_type": "code",
   "execution_count": 9,
   "metadata": {},
   "outputs": [
    {
     "data": {
      "text/plain": [
       "'generous'"
      ]
     },
     "execution_count": 9,
     "metadata": {},
     "output_type": "execute_result"
    }
   ],
   "source": [
    "stemmer = SnowballStemmer(\"english\")\n",
    "stemmer.stem(\"generously\")"
   ]
  },
  {
   "cell_type": "markdown",
   "metadata": {
    "slideshow": {
     "slide_type": "slide"
    }
   },
   "source": [
    "## From Strings to Vectors\n",
    "\n",
    "\n",
    "It is computationally inefficient for the topic model algorithm to deal with the text in the corpus directly. \n",
    "As a result, we can use the bag of word (BoW) representation to express the corpus: we will transfer each document in the corpus to a vector.\n",
    "\n",
    "The main idea is shown in the following figure. \n",
    "With the collection of documents, we can get the word usage information, which is shown in the table.\n",
    "In this table, each column represents a document, each row represents a word. \n",
    "The number in the table represents the number of times a word appearing in one document.\n",
    "For example, 3 means the word money occurs 3 times in the document 1."
   ]
  },
  {
   "cell_type": "markdown",
   "metadata": {
    "slideshow": {
     "slide_type": "slide"
    }
   },
   "source": [
    "But the word usage information is not what we want, what we want is the topic structure for each document.\n",
    "\n",
    "<img src='../images/s03_from_string_to_vector.png' width='600px'>"
   ]
  },
  {
   "cell_type": "markdown",
   "metadata": {
    "slideshow": {
     "slide_type": "slide"
    }
   },
   "source": [
    "### Mathematical defination \n",
    "\n",
    "\n",
    "In the BoW, only the counts of each word in one document are  considered and the ordering of the words is ignored. \n",
    "As a result, one document can be represented as a BoW vector.\n",
    "Specifically, consider a collection of $M$ documents and  a  vocabulary containing $W$ different words. \n",
    "Let $n_{vd}$ denote the  count in the $d$-th document of the  $v$-th word from the vocabulary.\n",
    "For the sake of simplicity, in the following discussion  the $d$-th document of the collection is referred to as document $d$, and the  $v$-th word in the vocabulary list is referred to as the word $v$.\n",
    "We introduce a matrix $\\mathbf{X}$ to represent the collection of documents; an element of this matrix is denoted as $X_{vd} = n_{vd}$. \n",
    "The $v$-th row of the matrix represents the counts of  word $v$  in each document, denoted as $X_{v*}$. \n",
    "The $d$-th column, $X_{*d}$, represents the word usage information of document $d$ and is the BoW vector for document $d$.\n"
   ]
  },
  {
   "cell_type": "code",
   "execution_count": 77,
   "metadata": {
    "collapsed": true,
    "slideshow": {
     "slide_type": "slide"
    }
   },
   "outputs": [],
   "source": [
    "import gensim as gs\n",
    "from gensim import corpora"
   ]
  },
  {
   "cell_type": "markdown",
   "metadata": {},
   "source": [
    "A collection of \"documents\" is easier to generate as a prototype than you may first assume. A list of sentences is just as much a corpus, for our purposes, as a much larger dataset. "
   ]
  },
  {
   "cell_type": "code",
   "execution_count": 119,
   "metadata": {
    "collapsed": true
   },
   "outputs": [],
   "source": [
    "documents = [\"Human machine interface for lab abc computer applications\",\n",
    "             \"A survey of user opinion of computer system response time\",\n",
    "             \"The EPS user interface management system\",\n",
    "             \"System and human system engineering testing of EPS\",              \n",
    "             \"Relation of user perceived response time to error measurement\",\n",
    "             \"The generation of random binary unordered trees\",\n",
    "             \"The intersection graph of paths in trees\",\n",
    "             \"Graph minors IV Widths of trees and well quasi ordering\",\n",
    "             \"Graph minors A survey\"]"
   ]
  },
  {
   "cell_type": "markdown",
   "metadata": {
    "slideshow": {
     "slide_type": "slide"
    }
   },
   "source": [
    "The first step is to clean each individual document - we want to erase any differences due capitalization and break the sentence a part to tokens."
   ]
  },
  {
   "cell_type": "code",
   "execution_count": 120,
   "metadata": {},
   "outputs": [
    {
     "data": {
      "text/plain": [
       "[['human',\n",
       "  'machine',\n",
       "  'interface',\n",
       "  'for',\n",
       "  'lab',\n",
       "  'abc',\n",
       "  'computer',\n",
       "  'applications'],\n",
       " ['a',\n",
       "  'survey',\n",
       "  'of',\n",
       "  'user',\n",
       "  'opinion',\n",
       "  'of',\n",
       "  'computer',\n",
       "  'system',\n",
       "  'response',\n",
       "  'time'],\n",
       " ['the', 'eps', 'user', 'interface', 'management', 'system'],\n",
       " ['system', 'and', 'human', 'system', 'engineering', 'testing', 'of', 'eps'],\n",
       " ['relation',\n",
       "  'of',\n",
       "  'user',\n",
       "  'perceived',\n",
       "  'response',\n",
       "  'time',\n",
       "  'to',\n",
       "  'error',\n",
       "  'measurement'],\n",
       " ['the', 'generation', 'of', 'random', 'binary', 'unordered', 'trees'],\n",
       " ['the', 'intersection', 'graph', 'of', 'paths', 'in', 'trees'],\n",
       " ['graph',\n",
       "  'minors',\n",
       "  'iv',\n",
       "  'widths',\n",
       "  'of',\n",
       "  'trees',\n",
       "  'and',\n",
       "  'well',\n",
       "  'quasi',\n",
       "  'ordering'],\n",
       " ['graph', 'minors', 'a', 'survey']]"
      ]
     },
     "execution_count": 120,
     "metadata": {},
     "output_type": "execute_result"
    }
   ],
   "source": [
    "documents_token = []\n",
    "for document in documents:\n",
    "    documents_token += [document.lower().split()]    \n",
    "documents_token"
   ]
  },
  {
   "cell_type": "markdown",
   "metadata": {},
   "source": [
    "and then remove the stop words and stem the remaining words."
   ]
  },
  {
   "cell_type": "code",
   "execution_count": 121,
   "metadata": {},
   "outputs": [
    {
     "data": {
      "text/plain": [
       "[['human', 'machin', 'interfac', 'lab', 'abc', 'comput', 'applic'],\n",
       " ['survey', 'user', 'opinion', 'comput', 'system', 'respons', 'time'],\n",
       " ['ep', 'user', 'interfac', 'manag', 'system'],\n",
       " ['system', 'human', 'system', 'engin', 'test', 'ep'],\n",
       " ['relat', 'user', 'perceiv', 'respons', 'time', 'error', 'measur'],\n",
       " ['generat', 'random', 'binari', 'unord', 'tree'],\n",
       " ['intersect', 'graph', 'path', 'tree'],\n",
       " ['graph', 'minor', 'iv', 'width', 'tree', 'quasi', 'order'],\n",
       " ['graph', 'minor', 'survey']]"
      ]
     },
     "execution_count": 121,
     "metadata": {},
     "output_type": "execute_result"
    }
   ],
   "source": [
    "stemmer = SnowballStemmer(\"english\")\n",
    "\n",
    "texts = []\n",
    "for document in documents_token:\n",
    "    document_stem = []\n",
    "    for token in document:\n",
    "        if token not in stopwords_list:\n",
    "            token_stem = stemmer.stem(token)\n",
    "            document_stem += [token_stem]\n",
    "    texts += [document_stem]\n",
    "    \n",
    "texts"
   ]
  },
  {
   "cell_type": "markdown",
   "metadata": {},
   "source": [
    "Since our corpus is so small, we also need to remove words that only appear once. This isn't necessary when using a larger corpus, but it is still done by some practitioners (typically based on frequency)."
   ]
  },
  {
   "cell_type": "code",
   "execution_count": 122,
   "metadata": {},
   "outputs": [
    {
     "data": {
      "text/plain": [
       "[['human', 'interfac', 'comput'],\n",
       " ['survey', 'user', 'comput', 'system', 'respons', 'time'],\n",
       " ['ep', 'user', 'interfac', 'system'],\n",
       " ['system', 'human', 'system', 'ep'],\n",
       " ['user', 'respons', 'time'],\n",
       " ['tree'],\n",
       " ['graph', 'tree'],\n",
       " ['graph', 'minor', 'tree'],\n",
       " ['graph', 'minor', 'survey']]"
      ]
     },
     "execution_count": 122,
     "metadata": {},
     "output_type": "execute_result"
    }
   ],
   "source": [
    "from collections import defaultdict\n",
    "frequency = defaultdict(int)\n",
    "for text in texts:\n",
    "    for token in text:\n",
    "        frequency[token] += 1\n",
    "\n",
    "texts = [[token for token in text if frequency[token] > 1] for text in texts]\n",
    "\n",
    "texts"
   ]
  },
  {
   "cell_type": "markdown",
   "metadata": {},
   "source": [
    "To convert documents to vectors, we’ll use a document representation called [bag-of-words](https://en.wikipedia.org/wiki/Bag-of-words_model). In this representation, each document is represented by one vector where a vector element `i` represents the number of times the `i`th word appears in the document.\n",
    "\n",
    "It is advantageous to represent the questions only by their (integer) ids."
   ]
  },
  {
   "cell_type": "code",
   "execution_count": 123,
   "metadata": {},
   "outputs": [
    {
     "name": "stdout",
     "output_type": "stream",
     "text": [
      "Dictionary(12 unique tokens: ['human', 'time', 'tree', 'ep', 'user']...)\n"
     ]
    }
   ],
   "source": [
    "dictionary = corpora.Dictionary(texts)\n",
    "print(dictionary)"
   ]
  },
  {
   "cell_type": "code",
   "execution_count": 124,
   "metadata": {},
   "outputs": [
    {
     "name": "stdout",
     "output_type": "stream",
     "text": [
      "{'human': 1, 'time': 6, 'tree': 9, 'ep': 8, 'user': 7, 'graph': 10, 'interfac': 2, 'minor': 11, 'survey': 4, 'system': 5, 'comput': 0, 'respons': 3}\n"
     ]
    }
   ],
   "source": [
    "print(dictionary.token2id)"
   ]
  },
  {
   "cell_type": "code",
   "execution_count": 125,
   "metadata": {},
   "outputs": [
    {
     "data": {
      "text/plain": [
       "'human'"
      ]
     },
     "execution_count": 125,
     "metadata": {},
     "output_type": "execute_result"
    }
   ],
   "source": [
    "dictionary[1]"
   ]
  },
  {
   "cell_type": "code",
   "execution_count": 126,
   "metadata": {},
   "outputs": [
    {
     "name": "stdout",
     "output_type": "stream",
     "text": [
      "{0: 'comput', 1: 'human', 2: 'interfac', 3: 'respons', 4: 'survey', 5: 'system', 6: 'time', 7: 'user', 8: 'ep', 9: 'tree', 10: 'graph', 11: 'minor'}\n"
     ]
    }
   ],
   "source": [
    "print(dictionary.id2token)"
   ]
  },
  {
   "cell_type": "markdown",
   "metadata": {},
   "source": [
    "And now after we created our mapping dictionary, we transform our text to a corpus where each token and its number of appearances in a document become the new representation of the sentence."
   ]
  },
  {
   "cell_type": "code",
   "execution_count": 127,
   "metadata": {},
   "outputs": [
    {
     "data": {
      "text/plain": [
       "[[(0, 1), (1, 1), (2, 1)],\n",
       " [(0, 1), (3, 1), (4, 1), (5, 1), (6, 1), (7, 1)],\n",
       " [(2, 1), (5, 1), (7, 1), (8, 1)],\n",
       " [(1, 1), (5, 2), (8, 1)],\n",
       " [(3, 1), (6, 1), (7, 1)],\n",
       " [(9, 1)],\n",
       " [(9, 1), (10, 1)],\n",
       " [(9, 1), (10, 1), (11, 1)],\n",
       " [(4, 1), (10, 1), (11, 1)]]"
      ]
     },
     "execution_count": 127,
     "metadata": {},
     "output_type": "execute_result"
    }
   ],
   "source": [
    "corpus = []\n",
    "\n",
    "for text in texts:\n",
    "    corpus += [dictionary.doc2bow(text)]\n",
    "    \n",
    "corpus"
   ]
  },
  {
   "cell_type": "markdown",
   "metadata": {},
   "source": [
    "## Latent Dirichlet Allocation"
   ]
  },
  {
   "cell_type": "markdown",
   "metadata": {},
   "source": [
    "### Dirichlet prior distributions\n",
    "\n",
    "To infer the latent structure from a corpus, Blei et al. surmised a closed form for prior distributions for the topic distribution  of document $d$, $\\Theta _{d*} = \\{ \\Theta _{dz} \\}_{z=1}^K$,  and the word distribution of  topic $z$, $\\Phi _{z*} = \\{ \\Phi _{zv} \\}_{v=1}^W$.  \n",
    "\n",
    "Specifically, they assumed these prior distributions to be Dirichlet distributions, thus the name Latent Dirichlet Allocation (LDA).The Dirichlet distribution is a multinomial variant of the beta distribution.\n",
    "\n",
    "<img src='../images/beta_distribution.png'></img>\n",
    "\n",
    "The pdf of the beta distribution is calculated as:\n",
    "\n",
    "$pdf=\\frac{x^{\\alpha-1}(1-x)^{\\beta-1}}{B(\\alpha,\\beta)}$\n",
    "\n",
    "where \n",
    "\n",
    "$B(\\alpha,\\beta) = \\frac{\\Gamma(\\alpha)\\Gamma(\\beta)}{\\Gamma(\\alpha+\\beta)}$\n",
    "\n",
    "and \n",
    "\n",
    "$\\Gamma(n) = (n-1)!$"
   ]
  },
  {
   "cell_type": "markdown",
   "metadata": {},
   "source": [
    "The Beta distribution assumes works with one axis, the Dirichlet distribution extends it to $K$ distributions (with each $K$ introducing a new axis as a support). \n",
    "\n",
    "$pdf=\\frac{1}{B(\\alpha)}\\prod^K_{i=1}x_i^{\\alpha_i-1}$\n",
    "\n",
    "where \n",
    "\n",
    "$B(\\alpha) = \\frac{\\prod^K_{i=1}\\Gamma(\\alpha_i)}{\\Gamma(\\sum_{i=1}^K\\alpha_i)}$\n",
    "\n",
    "and\n",
    "\n",
    "$\\alpha=(\\alpha_1,....,\\alpha_K)$\n",
    "\n",
    "So there is an alpha parameter for each support distribution. The alpha parameter effectively controls the concentration of data points in a support distribution (higher alpha means more concentration in that support distribution).\n",
    "\n",
    "\n",
    "$K$ is best thought of as a **set of categories** your goal is to find the distribution/probability of a random word being from one of those categories.\n",
    "\n",
    "<img src='../images/Dirichlet-3d-panel.png'></img>\n",
    "\n",
    "Because LDA assumes a prior distribution and solves for the psoterior, it can predict topic probability for  documents which were not included in the training corpus so long as it can be parameterized (i.e. its words are incorporated in the already existing dictionary).\n",
    "\n",
    "We can quickly look at this in 2-d to gain a basic understanding of the dirichlet distribution function"
   ]
  },
  {
   "cell_type": "code",
   "execution_count": 55,
   "metadata": {},
   "outputs": [
    {
     "data": {
      "text/plain": [
       "<matplotlib.colorbar.Colorbar at 0x11889ea90>"
      ]
     },
     "execution_count": 55,
     "metadata": {},
     "output_type": "execute_result"
    },
    {
     "data": {
      "image/png": "[encoded data removed]",
      "text/plain": [
       "<matplotlib.figure.Figure at 0x1172df0f0>"
      ]
     },
     "metadata": {},
     "output_type": "display_data"
    }
   ],
   "source": [
    "%matplotlib inline\n",
    "import numpy as np\n",
    "import matplotlib.pyplot as plt\n",
    "\n",
    "dset = np.random.dirichlet((0.8, 0.70), 10000)\n",
    "plt.hexbin(dset[:,0], dset[:,1], gridsize=10, mincnt=0)\n",
    "plt.colorbar()"
   ]
  },
  {
   "cell_type": "markdown",
   "metadata": {},
   "source": [
    "And also in 3d (although this is much harder to see"
   ]
  },
  {
   "cell_type": "code",
   "execution_count": 71,
   "metadata": {},
   "outputs": [
    {
     "data": {
      "text/plain": [
       "<mpl_toolkits.mplot3d.art3d.Path3DCollection at 0x11a1a5d68>"
      ]
     },
     "execution_count": 71,
     "metadata": {},
     "output_type": "execute_result"
    },
    {
     "data": {
      "image/png": "[encoded data removed]",
      "text/plain": [
       "<matplotlib.figure.Figure at 0x11a3474e0>"
      ]
     },
     "metadata": {},
     "output_type": "display_data"
    }
   ],
   "source": [
    "from mpl_toolkits.mplot3d import Axes3D\n",
    "dset = np.random.dirichlet((0.8, 0.70, 0.5), 100)\n",
    "fig = plt.figure()\n",
    "ax = fig.gca(projection='3d')\n",
    "ax.scatter(dset[:,0], dset[:,1], dset[:,2])\n"
   ]
  },
  {
   "cell_type": "markdown",
   "metadata": {},
   "source": [
    "### And finally, LDA\n",
    "\n",
    "Assume that $M$ documents are included in the corpus $C_M$, and each document is indexed by $d$ with $d \\in \\{1,...,M\\}$.\n",
    "\n",
    "Document $d$ has $n_d$ word-tokens, each indexed by $t$ with $t \\in \\{1,...,n_d\\}$.\n",
    "\n",
    "The total number of word-tokens for all documents is $N_M = \\sum\\limits_{d = 1}^M  n_{d}$ .\n",
    "\n",
    "As before, the vocabulary $V_W$ has $W$ words, and each word is indexed by $v$ with $v \\in \\{1,...,W\\}$.\n",
    "\n",
    "Finally, there are $K$ topics in the  corpus $C_M$, and each topic is indexed by $z$ with $z \\in \\{1,...,K\\}$.\n",
    "\n",
    "A document $d$ has a distribution over topics: $\\Theta _{dz} = p(z|d)$. That means in document $d$ each word-token is selected from topic $z$ with probability, $\\Theta _{dz}$.\n",
    "\n",
    "A topic $z$ has a distribution over words in the vocabulary list: $\\Phi _{zv} = p(v|z)$.\n",
    "\n",
    "### Summary\n",
    "\n",
    "So our topics are effectively our dimensions (alphas) from the dirichlet distribution. \n",
    "\n",
    "The words are our individual data points and thus our documents are the summation of words given their topic distribution."
   ]
  },
  {
   "cell_type": "code",
   "execution_count": 128,
   "metadata": {},
   "outputs": [
    {
     "data": {
      "text/plain": [
       "(9, 5)"
      ]
     },
     "execution_count": 128,
     "metadata": {},
     "output_type": "execute_result"
    }
   ],
   "source": [
    "#The number of documents\n",
    "D = len(corpus)\n",
    "#The number of topics\n",
    "K = 5\n",
    "D, K"
   ]
  },
  {
   "cell_type": "code",
   "execution_count": 129,
   "metadata": {
    "collapsed": true
   },
   "outputs": [],
   "source": [
    "lda = gs.models.ldamodel.LdaModel(corpus=corpus, id2word=dictionary, num_topics=K)"
   ]
  },
  {
   "cell_type": "code",
   "execution_count": 136,
   "metadata": {},
   "outputs": [
    {
     "data": {
      "text/plain": [
       "[(0, '0.220*\"interfac\" + 0.220*\"human\" + 0.220*\"comput\"'),\n",
       " (1, '0.280*\"system\" + 0.193*\"ep\" + 0.105*\"user\"'),\n",
       " (2, '0.211*\"tree\" + 0.211*\"graph\" + 0.115*\"time\"'),\n",
       " (3, '0.086*\"tree\" + 0.084*\"graph\" + 0.084*\"system\"'),\n",
       " (4, '0.192*\"survey\" + 0.105*\"system\" + 0.105*\"user\"')]"
      ]
     },
     "execution_count": 136,
     "metadata": {},
     "output_type": "execute_result"
    }
   ],
   "source": [
    "lda.print_topics(num_words = 3)\n"
   ]
  },
  {
   "cell_type": "markdown",
   "metadata": {},
   "source": [
    "Now that we have the topics, we could see what the likelihood is for each document that it belongs to a certain topic.\n",
    "\n",
    "Given that we know what weighting of tokens identifies a topic and the tokens in a document, we really only need to multiple the tokens in the document by the weights to get the score. These final weights let you rank topic fit/description for a document.\n",
    "\n",
    "This is most easily done with numpy (since we can broadcast multiplication). \n",
    "\n"
   ]
  },
  {
   "cell_type": "code",
   "execution_count": 132,
   "metadata": {},
   "outputs": [
    {
     "data": {
      "text/plain": [
       "array([[0.79927611, 0.0504727 , 0.05000513, 0.05002572, 0.05022032],\n",
       "       [0.02887421, 0.02925133, 0.02903259, 0.02859976, 0.88424212],\n",
       "       [0.04067834, 0.83860862, 0.04031511, 0.04003051, 0.04036739],\n",
       "       [0.04066782, 0.83914852, 0.04000442, 0.04002241, 0.04015685],\n",
       "       [0.05002103, 0.05044983, 0.79790998, 0.05005189, 0.05156732],\n",
       "       [0.10002661, 0.10148313, 0.59841263, 0.1000663 , 0.10001138],\n",
       "       [0.0666813 , 0.06706038, 0.73248512, 0.0667029 , 0.06707031],\n",
       "       [0.05001407, 0.05018837, 0.79909879, 0.05003507, 0.05066367],\n",
       "       [0.05001942, 0.05000858, 0.05215761, 0.05004836, 0.79776603]])"
      ]
     },
     "execution_count": 132,
     "metadata": {},
     "output_type": "execute_result"
    }
   ],
   "source": [
    "import numpy as np\n",
    "\n",
    "doc_topics = np.zeros([D, K])\n",
    "\n",
    "for tmp_docID in range(D):\n",
    "    p_oned_t = lda.get_document_topics(corpus[tmp_docID])\n",
    "    for a,b in p_oned_t:\n",
    "        doc_topics[tmp_docID, a] = b   \n",
    "\n",
    "doc_topics"
   ]
  },
  {
   "cell_type": "code",
   "execution_count": 133,
   "metadata": {},
   "outputs": [
    {
     "name": "stdout",
     "output_type": "stream",
     "text": [
      "[0 4 1 1 2 2 2 2 4]\n",
      "(array([0, 1, 2, 3, 4, 5, 6, 7, 8]), array([0, 4, 1, 1, 2, 2, 2, 2, 4]))\n"
     ]
    },
    {
     "data": {
      "text/plain": [
       "array([0.79927611, 0.88424212, 0.83860862, 0.83914852, 0.79790998,\n",
       "       0.59841263, 0.73248512, 0.79909879, 0.79776603])"
      ]
     },
     "execution_count": 133,
     "metadata": {},
     "output_type": "execute_result"
    }
   ],
   "source": [
    "max_args = np.argmax(doc_topics, axis=1)\n",
    "print(max_args)\n",
    "#And using argmax to get the highest - have to translate from individual to 2d\n",
    "max_idx = (np.linspace(0, D-1, D, dtype=int), max_args)\n",
    "print(max_idx)\n",
    "#And then pull out the maximum values with the index\n",
    "doc_topics[max_idx]"
   ]
  },
  {
   "cell_type": "markdown",
   "metadata": {},
   "source": [
    "## There is more to gensim's LDA implementation though\n",
    "\n",
    "<pre>class gensim.models.ldamodel.LdaModel(corpus=None, num_topics=100, id2word=None, distributed=False, chunksize=2000, passes=1, update_every=1, alpha='symmetric', eta=None, decay=0.5, offset=1.0, eval_every=10, iterations=50, gamma_threshold=0.001, minimum_probability=0.01, random_state=None, ns_conf=None, minimum_phi_value=0.01, per_word_topics=False, callbacks=None, dtype=<type 'numpy.float32'>)</pre>\n",
    "\n",
    "The first three parameters are straightforward and we've already covered them. After `distributed`, these parameters get interesting and start to matter.\n",
    "\n",
    "* `chunksize` - the number of documents to load into memory at a time (training is done as a batch update)\n",
    "* `update_every` - the number of chunks to process before moving to the maximization step (i.e. optimizing parameters).\n",
    "* `passes` - the number of times you go through the corpus. The size of your corpus and variety of your training documents should guide you on the number of passes. \n",
    "* `minimimum_probability` - controls filtering the topics returning for a document (cutting out low probability topics)\n",
    "\n",
    "The important distributional parameters\n",
    "\n",
    "* `alpha` - is a hyperparameter that affects the sparcity of the document-topic distribution. By default it is set to 1/num_topics.\n",
    "* `eta` - is a parameter that contorls the topic over word distribution. "
   ]
  },
  {
   "cell_type": "code",
   "execution_count": 154,
   "metadata": {},
   "outputs": [
    {
     "data": {
      "text/plain": [
       "[(0, '0.143*\"survey\" + 0.143*\"system\" + 0.143*\"time\"'),\n",
       " (1, '0.234*\"system\" + 0.128*\"graph\" + 0.128*\"human\"'),\n",
       " (2, '0.128*\"tree\" + 0.128*\"interfac\" + 0.128*\"minor\"'),\n",
       " (3, '0.262*\"tree\" + 0.143*\"interfac\" + 0.143*\"human\"'),\n",
       " (4, '0.222*\"respons\" + 0.222*\"user\" + 0.222*\"time\"')]"
      ]
     },
     "execution_count": 154,
     "metadata": {},
     "output_type": "execute_result"
    }
   ],
   "source": [
    "lda = gs.models.ldamodel.LdaModel(corpus=corpus, id2word=dictionary, num_topics=K, alpha=0.01, random_state=1)\n",
    "lda.print_topics(num_words = 3)"
   ]
  },
  {
   "cell_type": "code",
   "execution_count": 155,
   "metadata": {},
   "outputs": [
    {
     "data": {
      "text/plain": [
       "[(0, '0.142*\"time\" + 0.142*\"survey\" + 0.142*\"system\"'),\n",
       " (1, '0.087*\"tree\" + 0.084*\"graph\" + 0.084*\"system\"'),\n",
       " (2, '0.221*\"graph\" + 0.153*\"tree\" + 0.152*\"minor\"'),\n",
       " (3, '0.233*\"system\" + 0.233*\"human\" + 0.127*\"interfac\"'),\n",
       " (4, '0.187*\"user\" + 0.187*\"respons\" + 0.186*\"time\"')]"
      ]
     },
     "execution_count": 155,
     "metadata": {},
     "output_type": "execute_result"
    }
   ],
   "source": [
    "lda = gs.models.ldamodel.LdaModel(corpus=corpus, id2word=dictionary, num_topics=K, alpha='symmetric', random_state=1)\n",
    "lda.print_topics(num_words = 3)"
   ]
  },
  {
   "cell_type": "code",
   "execution_count": 156,
   "metadata": {},
   "outputs": [
    {
     "data": {
      "text/plain": [
       "[(0, '0.142*\"time\" + 0.142*\"survey\" + 0.142*\"system\"'),\n",
       " (1, '0.087*\"tree\" + 0.084*\"graph\" + 0.084*\"system\"'),\n",
       " (2, '0.221*\"graph\" + 0.153*\"tree\" + 0.152*\"minor\"'),\n",
       " (3, '0.233*\"system\" + 0.233*\"human\" + 0.127*\"interfac\"'),\n",
       " (4, '0.187*\"user\" + 0.187*\"respons\" + 0.186*\"time\"')]"
      ]
     },
     "execution_count": 156,
     "metadata": {},
     "output_type": "execute_result"
    }
   ],
   "source": [
    "lda = gs.models.ldamodel.LdaModel(corpus=corpus, id2word=dictionary, num_topics=K, alpha='auto', random_state=1)\n",
    "lda.print_topics(num_words = 3)"
   ]
  },
  {
   "cell_type": "markdown",
   "metadata": {},
   "source": [
    "My enforced alpha parameter of 0.01 is much less than the default (0.20) and returns mildly different weightings."
   ]
  },
  {
   "cell_type": "markdown",
   "metadata": {
    "slideshow": {
     "slide_type": "slide"
    }
   },
   "source": [
    "## What model is best???\n",
    "\n",
    "## How to get the number of topics?\n",
    "\n",
    "## QUESTIONS!!!!!!???!!?!\n",
    "\n",
    "From this trivial example, you can already see that there are a number of parameters that can be played with and will affect the final posterior distributions and topics. The question is, **how do we know that we have found a good model?**\n",
    "\n",
    "One of the most important input parameters for LDA model is the number of topics, $K$. Neither too many nor too few topics is good for topic modeling: A model with too many topics will may split one meaningful topic into several smaller ones; A model with too few topics will result in very broad topics that sometimes are hard to interpret. $K=50$ and $K=100$ are two commonly used choices in the literature for very large corpora. \n",
    "\n",
    "A systematic way that is used in the computer science field to determine the number of topics is to use the measure of [perplexity](https://en.wikipedia.org/wiki/Perplexity), which has been proposed to assess generalizability of text models across subsets of documents. \n",
    "The underlying assumption is that: \n",
    "* A topic model estimated on a subset of documents should be able to predict word choice in the remaining set of documents (the performance can be measured by perplexity); \n",
    "* And we should choose the number of topics that leads to the best performance (lowest perplexity) of this task.\n"
   ]
  },
  {
   "cell_type": "markdown",
   "metadata": {
    "slideshow": {
     "slide_type": "slide"
    }
   },
   "source": [
    "### Perplexity\n",
    "\n",
    "It is a widely accepted method to estimate a topic model based on a portion of  corpus (the training dataset) and then test the fit of the topic model on the hold-out portion of the corpus (the test dataset). \n",
    "The quality of a topic model can be assessed by calculating the joint probability of creating the test  corpus based on the topic model generated out of the the training corpus.\n",
    "Perplexity is the most commonly used measurement to calculate this probability.\n",
    "It represents the inverse of the geometric mean per-word likelihood  \n",
    "\n",
    "\\begin{equation} \\label{eq_perplexity01}\n",
    "\t\\text{perplexity}\\left( {{D_{\\text{test}}}} \\right) = \\exp \\left\\{ { - \\frac{{\\sum\\limits_{d = 1}^{M_{test}} {\\sum\\limits_{t = 1}^{{n_d}} {\\log p\\left( {{w_{dt}}| \\text{model} } \\right)} } }}{{\\sum\\limits_{d = 1}^{M_{test}} {{n_d}} }}} \\right\\} \\; ,\n",
    "\\end{equation}\n",
    "where $D_{test}$ denotes the testing corpus; ${M_{\\text{test}}}$ is the number of documents in the test dataset; $n_d$ is the number of tokens in document $d$; $w_{dt}$ means the observed term for  token $t$ in document $d$; $p(w_{dt}|\\text{model})$ means the probability of term  $w_{dt}$ given the returned topic model based on the  training corpus.\n"
   ]
  },
  {
   "cell_type": "markdown",
   "metadata": {},
   "source": [
    "# Dataset\n",
    "\n",
    "For this task, we have a corpus that is generated from the abstracts of published papers in the Web of Science. These abstracts were extracted from 7 journals, covering somewhat disparate fields:\n",
    "\n",
    "* Science\n",
    "* Cell\n",
    "* Journal of Differential Equations\n",
    "* Astronomical Journal\n",
    "* Geology\n",
    "* Schizophrenia Bulletin\n",
    "* American Economic Review\n",
    "\n",
    "In `wos_topic_doc.json` there are 40000 abstracts."
   ]
  },
  {
   "cell_type": "code",
   "execution_count": 73,
   "metadata": {},
   "outputs": [
    {
     "data": {
      "text/plain": [
       "dict_keys(['JOURNAL_OF_DIFFERENTIAL_EQUATIONS', 'SCIENCE', 'AMERICAN_ECONOMIC_REVIEW', 'CELL', 'SCHIZOPHRENIA_BULLETIN', 'GEOLOGY', 'ASTRONOMICAL_JOURNAL'])"
      ]
     },
     "execution_count": 73,
     "metadata": {},
     "output_type": "execute_result"
    }
   ],
   "source": [
    "import json\n",
    "wosdata = json.load(open('../data/wos_topic_doc.json'))\n",
    "wosdata.keys()"
   ]
  },
  {
   "cell_type": "markdown",
   "metadata": {},
   "source": [
    "To make this feasible for class we will only use GEOLOGY, CELL, and AMERICAN_ECONOMIC_REVIEW"
   ]
  },
  {
   "cell_type": "code",
   "execution_count": 74,
   "metadata": {},
   "outputs": [
    {
     "name": "stdout",
     "output_type": "stream",
     "text": [
      "Number of abstracts 12096\n"
     ]
    }
   ],
   "source": [
    "journals = [k for k in wosdata if k in ['GEOLOGY', 'CELL', 'AMERICAN_ECONOMIC_REVIEW']]\n",
    "full_docs = []\n",
    "for k in journals:\n",
    "    full_docs += wosdata[k]\n",
    "print('Number of abstracts', len(full_docs))"
   ]
  },
  {
   "cell_type": "markdown",
   "metadata": {},
   "source": [
    "Now we need to partition this into a training set and testing set (because we want to see how the expectation changes from train to test). "
   ]
  },
  {
   "cell_type": "code",
   "execution_count": 81,
   "metadata": {
    "collapsed": true
   },
   "outputs": [],
   "source": [
    "#setting a seed so we all get the same train/test\n",
    "np.random.seed(6)\n",
    "#testing will be 20%\n",
    "train_num = int(0.8 * len(full_docs))\n",
    "#We can shuffle the dataset and just take up to train_num and then the test is the leftover\n",
    "np.random.shuffle(full_docs)\n",
    "train_docs = full_docs[:train_num]\n",
    "test_docs = full_docs[train_num:]"
   ]
  },
  {
   "cell_type": "markdown",
   "metadata": {},
   "source": [
    "Now we need to do the basic conversion to a dictionary and BoW"
   ]
  },
  {
   "cell_type": "code",
   "execution_count": 82,
   "metadata": {
    "collapsed": true
   },
   "outputs": [],
   "source": [
    "#Create the dictionary - note that we use all documents *not* the train or test \n",
    "dictionary = corpora.Dictionary(full_docs)\n",
    "#And the the corpuses\n",
    "##training\n",
    "corpus_train = []\n",
    "for tmp_doc in train_docs:\n",
    "    corpus_train += [dictionary.doc2bow(tmp_doc)]\n",
    "##testing\n",
    "corpus_test = []\n",
    "for tmp_doc in test_docs:\n",
    "    corpus_test += [dictionary.doc2bow(tmp_doc)]"
   ]
  },
  {
   "cell_type": "code",
   "execution_count": 92,
   "metadata": {},
   "outputs": [
    {
     "name": "stdout",
     "output_type": "stream",
     "text": [
      "0.001\n",
      "0.005\n",
      "0.01\n",
      "0.05\n",
      "0.1\n",
      "0.2\n",
      "0.3\n",
      "0.4\n",
      "0.5\n"
     ]
    }
   ],
   "source": [
    "assumed_alpha = [0.001, 0.005, 0.01, 0.05, 0.1, 0.2, 0.3, 0.4, 0.5]\n",
    "\n",
    "train_perplex, test_perplex, model_bound = [], [], []\n",
    "topic_descriptions = {}\n",
    "\n",
    "for tmp_alpha in assumed_alpha:\n",
    "    lda = gs.models.ldamodel.LdaModel(corpus=corpus_train, id2word=dictionary, num_topics=3, \\\n",
    "                                      alpha=tmp_alpha, random_state=1)\n",
    "    train_perplex.append( 2**-lda.log_perplexity(corpus_train) )\n",
    "    test_perplex.append( 2**-lda.log_perplexity(corpus_test) )\n",
    "    model_bound.append( lda.bound(corpus_test) )\n",
    "    topic_descriptions[tmp_alpha] = lda.print_topics(num_words = 5)\n",
    "    print(tmp_alpha)"
   ]
  },
  {
   "cell_type": "code",
   "execution_count": 96,
   "metadata": {},
   "outputs": [
    {
     "data": {
      "text/plain": [
       "(300, 305)"
      ]
     },
     "execution_count": 96,
     "metadata": {},
     "output_type": "execute_result"
    },
    {
     "data": {
      "image/png": "[encoded data removed]",
      "text/plain": [
       "<matplotlib.figure.Figure at 0x11bef9e10>"
      ]
     },
     "metadata": {},
     "output_type": "display_data"
    }
   ],
   "source": [
    "%matplotlib inline\n",
    "import matplotlib.pyplot as plt\n",
    "import seaborn as sns; sns.set()\n",
    "\n",
    "fig = plt.figure(figsize=(8,4))\n",
    "ax = fig.add_subplot(121)\n",
    "ax.plot(assumed_alpha, train_perplex, label='train')\n",
    "ax.plot(assumed_alpha, test_perplex, label='test')\n",
    "ax.set_ylabel('Word Perplexity')\n",
    "ax.set_xlabel('alpha')"
   ]
  },
  {
   "cell_type": "markdown",
   "metadata": {},
   "source": [
    "And we can do the same for the number of topics"
   ]
  },
  {
   "cell_type": "code",
   "execution_count": 98,
   "metadata": {},
   "outputs": [
    {
     "name": "stdout",
     "output_type": "stream",
     "text": [
      "5\n",
      "10\n"
     ]
    }
   ],
   "source": [
    "assumed_K_list = [x+2 for x in range(9)]\n",
    "\n",
    "train_perplex, test_perplex, model_bound = [], [], []\n",
    "topic_descriptions = {}\n",
    "\n",
    "for tmp_k in assumed_K_list:\n",
    "    lda = gs.models.ldamodel.LdaModel(corpus=corpus_train, id2word=dictionary, num_topics=tmp_k, \\\n",
    "                                      alpha=0.05, random_state=1)\n",
    "    train_perplex.append( 2**-lda.log_perplexity(corpus_train) )\n",
    "    test_perplex.append( 2**-lda.log_perplexity(corpus_test) )\n",
    "    model_bound.append( lda.bound(corpus_test) )\n",
    "    topic_descriptions[tmp_k] = lda.print_topics(num_words = 5)\n",
    "    if tmp_k%5==0:\n",
    "        print(tmp_k)"
   ]
  },
  {
   "cell_type": "code",
   "execution_count": 99,
   "metadata": {},
   "outputs": [
    {
     "data": {
      "text/plain": [
       "<matplotlib.text.Text at 0x11b81e6d8>"
      ]
     },
     "execution_count": 99,
     "metadata": {},
     "output_type": "execute_result"
    },
    {
     "data": {
      "image/png": "[encoded data removed]",
      "text/plain": [
       "<matplotlib.figure.Figure at 0x11c111080>"
      ]
     },
     "metadata": {},
     "output_type": "display_data"
    }
   ],
   "source": [
    "fig = plt.figure(figsize=(8,4))\n",
    "ax = fig.add_subplot(121)\n",
    "ax.plot(assumed_K_list, train_perplex, label='train')\n",
    "ax.plot(assumed_K_list, test_perplex, label='test')\n",
    "ax.set_ylabel('Word Perplexity')\n",
    "ax.set_xlabel('number of topics')"
   ]
  },
  {
   "cell_type": "markdown",
   "metadata": {},
   "source": [
    "And thus it would appear that 2 topics would be best...what are the words that describe those topics."
   ]
  },
  {
   "cell_type": "code",
   "execution_count": 100,
   "metadata": {},
   "outputs": [
    {
     "data": {
      "text/plain": [
       "[(0,\n",
       "  '0.005*\"model\" + 0.004*\"fault\" + 0.004*\"dure\" + 0.004*\"similar\" + 0.004*\"data\"'),\n",
       " (1,\n",
       "  '0.016*\"cell\" + 0.014*\"protein\" + 0.009*\"activ\" + 0.008*\"gene\" + 0.006*\"express\"')]"
      ]
     },
     "execution_count": 100,
     "metadata": {},
     "output_type": "execute_result"
    }
   ],
   "source": [
    "topic_descriptions[2]"
   ]
  },
  {
   "cell_type": "markdown",
   "metadata": {},
   "source": [
    "# The basic framework of machine learning\n",
    "\n",
    "Machine learning is the statistical optimization of some function or distribution to identify patterns in data. There are two **(2)** basic categories of machine learning.\n",
    "\n",
    "* Supervised learning\n",
    "* Unsupervised learning"
   ]
  },
  {
   "cell_type": "markdown",
   "metadata": {},
   "source": [
    "# Supervised learning\n",
    "\n",
    "Supervised learning has two different general techniques:\n",
    "\n",
    "1. Regression\n",
    "2. Classification\n",
    "\n",
    "Any technique that involves learning the weight of a **feature** given a known set of **labels** is a supervised learning algorithm.\n",
    "\n",
    "To recast that sentence in a traditional verbage for the social sciences:\n",
    "Any technique that involves estimating the coefficient of an **independent variable** given a set of **dependent variable** observations is a supervised learning algorithm.\n",
    "\n",
    "Computer and Social Scientists would look at the same regression equation, but call the LHS and RHS different names. This is the mapping between the two languages."
   ]
  },
  {
   "cell_type": "markdown",
   "metadata": {},
   "source": [
    "## Regression\n",
    "\n",
    "Is exactly what you already know, it's the prediction of a continuous quantity. What you may now know, is that there are many variants that go beyond the traditional linear/logistic regressions. Most of these regressions involve adding in some penalty parameter on the sum of the coefficients."
   ]
  },
  {
   "cell_type": "markdown",
   "metadata": {},
   "source": [
    "## Classification\n",
    "\n",
    "The prediction of a category (i.e. 'spam' or 'not spam'). Examples of classification algorithms would include \n",
    "\n",
    "* Support Vector Machines\n",
    "* Random Forests\n",
    "* Boosted Trees\n",
    "* etc...\n",
    "\n",
    "Many classification algorithms can be tweaked to also be used in regression."
   ]
  },
  {
   "cell_type": "markdown",
   "metadata": {},
   "source": [
    "# Example\n",
    "\n",
    "The largest machine learning library for Python is scikit-learn. It includes many implementations of machine learning algorithms (it even includes LDA, but gensim's implementation is a bit more fully featured). \n",
    "\n",
    "As a part of this, it also includes datasets that have been used in initial implementations/testing of machine learning algorithms early on.\n",
    "\n",
    "One of these famous datasets is the [iris dataset](https://en.wikipedia.org/wiki/Iris_flower_data_set) collected by Fisher in 1936. It is woefully out of date by current standards (containing only 50 data points for each of the three iris species), but it serves its purpose. Fisher collected measurements of morphology for 50 flowers in three of the iris species (*Iris setosa, virginica, and versicolor*). The benefit of this dataset is that the *true* answer is known"
   ]
  },
  {
   "cell_type": "code",
   "execution_count": 1,
   "metadata": {
    "collapsed": true
   },
   "outputs": [],
   "source": [
    "%matplotlib inline\n",
    "import matplotlib.pyplot as plt\n",
    "from sklearn import datasets\n",
    "\n",
    "iris = datasets.load_iris()\n",
    "X = iris.data[:, :2]  # we only take the first two features for plotting\n",
    "y = iris.target\n",
    "\n"
   ]
  },
  {
   "cell_type": "code",
   "execution_count": 2,
   "metadata": {},
   "outputs": [
    {
     "data": {
      "text/plain": [
       "<matplotlib.text.Text at 0x1119b78d0>"
      ]
     },
     "execution_count": 2,
     "metadata": {},
     "output_type": "execute_result"
    },
    {
     "data": {
      "image/png": "[encoded data removed]",
      "text/plain": [
       "<matplotlib.figure.Figure at 0x111977128>"
      ]
     },
     "metadata": {},
     "output_type": "display_data"
    }
   ],
   "source": [
    "x_min, x_max = X[:, 0].min() - .5, X[:, 0].max() + .5\n",
    "y_min, y_max = X[:, 1].min() - .5, X[:, 1].max() + .5\n",
    "plt.scatter(X[:, 0], X[:, 1], c=y, cmap=plt.cm.Set1,\n",
    "            edgecolor='k')\n",
    "plt.xlabel('Sepal length')\n",
    "plt.ylabel('Sepal width')"
   ]
  },
  {
   "cell_type": "markdown",
   "metadata": {},
   "source": [
    "We can go back and pull the entire dataset to use all the features in a classification algorithm.\n",
    "\n",
    "As a basic classification algorithm, we will use the Support Vector Machine classifier."
   ]
  },
  {
   "cell_type": "code",
   "execution_count": 3,
   "metadata": {},
   "outputs": [
    {
     "data": {
      "text/plain": [
       "{'C': 1.0,\n",
       " 'cache_size': 200,\n",
       " 'class_weight': None,\n",
       " 'coef0': 0.0,\n",
       " 'decision_function_shape': 'ovr',\n",
       " 'degree': 3,\n",
       " 'gamma': 'auto',\n",
       " 'kernel': 'linear',\n",
       " 'max_iter': -1,\n",
       " 'probability': False,\n",
       " 'random_state': None,\n",
       " 'shrinking': True,\n",
       " 'tol': 0.001,\n",
       " 'verbose': False}"
      ]
     },
     "execution_count": 3,
     "metadata": {},
     "output_type": "execute_result"
    }
   ],
   "source": [
    "from sklearn.svm import SVC\n",
    "\n",
    "#We have to create a classifier variable from the SVC instance\n",
    "clf = SVC(kernel='linear')\n",
    "#And then we fit the data\n",
    "clf.fit(iris.data, iris.target)\n",
    "#WHOOO MACHINE LEARNING! Get params will only tell you about the instantiation of the algorithm\n",
    "clf.get_params()"
   ]
  },
  {
   "cell_type": "markdown",
   "metadata": {},
   "source": [
    "And then that's it. You've trained a machine learning algorithm. \n",
    "\n",
    "The proof is in the pudding though - to understand how 'good' the fit is, we need to compare the prediciton accuracy though.\n",
    "\n",
    "To do that with our current work, we need to feed the original dataset back in to get the predicted labels."
   ]
  },
  {
   "cell_type": "code",
   "execution_count": 4,
   "metadata": {
    "collapsed": true
   },
   "outputs": [],
   "source": [
    "pred = clf.predict(iris.data)"
   ]
  },
  {
   "cell_type": "markdown",
   "metadata": {},
   "source": [
    "We can write our own quick accuracy function, accuracy is\n",
    "\n",
    "$\\frac{TP + TN}{TP + TN + FP + FN}$\n",
    "\n",
    "where\n",
    "\n",
    "* TP - True Positives\n",
    "* TN - True Negatives\n",
    "* FP - False Positives\n",
    "* FN - False Negatives"
   ]
  },
  {
   "cell_type": "code",
   "execution_count": 5,
   "metadata": {
    "collapsed": true
   },
   "outputs": [],
   "source": [
    "#Exercise\n",
    "\n",
    "    "
   ]
  },
  {
   "cell_type": "markdown",
   "metadata": {},
   "source": [
    "Or use the built-in functions in the `metrics` part of scikit-learn"
   ]
  },
  {
   "cell_type": "code",
   "execution_count": 6,
   "metadata": {},
   "outputs": [
    {
     "data": {
      "text/plain": [
       "0.9933333333333333"
      ]
     },
     "execution_count": 6,
     "metadata": {},
     "output_type": "execute_result"
    }
   ],
   "source": [
    "from sklearn import metrics\n",
    "\n",
    "metrics.accuracy_score(iris.target, pred)"
   ]
  },
  {
   "cell_type": "markdown",
   "metadata": {},
   "source": [
    "This would have us believe that we are 99.3\\% accurate on the test data.\n",
    "\n",
    "This is massively inflated - it is **because** we trained on all of the data to predict the same data. To get a true sense, we actually need to partition the data into a separate train and test (the same that we did with the WoS corpus to evaluate the LDA fit)"
   ]
  },
  {
   "cell_type": "code",
   "execution_count": 20,
   "metadata": {},
   "outputs": [
    {
     "name": "stderr",
     "output_type": "stream",
     "text": [
      "/Users/adampah/.pyenv/versions/anaconda3-4.1.0/lib/python3.5/site-packages/sklearn/model_selection/_split.py:2026: FutureWarning: From version 0.21, test_size will always complement train_size unless both are specified.\n",
      "  FutureWarning)\n"
     ]
    }
   ],
   "source": [
    "from sklearn.model_selection import train_test_split\n",
    "\n",
    "trainX, testX, trainy, testy = train_test_split(iris.data, iris.target, train_size=0.6)"
   ]
  },
  {
   "cell_type": "code",
   "execution_count": 21,
   "metadata": {},
   "outputs": [
    {
     "data": {
      "text/plain": [
       "(90, 60, 90, 60)"
      ]
     },
     "execution_count": 21,
     "metadata": {},
     "output_type": "execute_result"
    }
   ],
   "source": [
    "len(trainX), len(testX), len(trainy), len(testy)"
   ]
  },
  {
   "cell_type": "markdown",
   "metadata": {},
   "source": [
    "And now we would train the classifier"
   ]
  },
  {
   "cell_type": "code",
   "execution_count": 22,
   "metadata": {},
   "outputs": [
    {
     "data": {
      "text/plain": [
       "SVC(C=1.0, cache_size=200, class_weight=None, coef0=0.0,\n",
       "  decision_function_shape='ovr', degree=3, gamma='auto', kernel='linear',\n",
       "  max_iter=-1, probability=False, random_state=None, shrinking=True,\n",
       "  tol=0.001, verbose=False)"
      ]
     },
     "execution_count": 22,
     "metadata": {},
     "output_type": "execute_result"
    }
   ],
   "source": [
    "clf = SVC(kernel='linear')\n",
    "clf.fit(trainX, trainy)"
   ]
  },
  {
   "cell_type": "markdown",
   "metadata": {
    "collapsed": true
   },
   "source": [
    "And then test the fit"
   ]
  },
  {
   "cell_type": "code",
   "execution_count": 23,
   "metadata": {},
   "outputs": [
    {
     "data": {
      "text/plain": [
       "0.9333333333333333"
      ]
     },
     "execution_count": 23,
     "metadata": {},
     "output_type": "execute_result"
    }
   ],
   "source": [
    "testpred = clf.predict(testX)\n",
    "metrics.accuracy_score(testpred, testy)"
   ]
  },
  {
   "cell_type": "markdown",
   "metadata": {},
   "source": [
    "Our prediction accuracy has gone down (and there should be a variety in the class since I didn't set the state on the `train_test_split` function). \n",
    "\n",
    "No matter what split anyone has, the accuracy will be lower **and there will be a spread**.\n",
    "\n",
    "Accuracy is not a guarantee, it is a function of the **input data**. This discrepancy will exist **for all machine-learning algorithms**."
   ]
  },
  {
   "cell_type": "markdown",
   "metadata": {},
   "source": [
    "# Unsupervised learning\n",
    "\n",
    "Unsupervised learning is any algorithm **where you attempt to identify patterns in the data set without knowing the answer**. Through maximizing some distribution or distance metric, you create some answer.\n",
    "\n",
    "**Typically, there is no way to identify that the answer is \"correct\" without post-hoc human validation**."
   ]
  },
  {
   "cell_type": "markdown",
   "metadata": {},
   "source": [
    "There are two types of unsupervised learning techniques:\n",
    "    \n",
    "* Dimensionality reduction\n",
    "* Clustering"
   ]
  },
  {
   "cell_type": "markdown",
   "metadata": {},
   "source": [
    "# Dimensionality reduction\n",
    "\n",
    "Dimensionality reduction techniques attempt to find some vector, along which the majority of the variance in data resides. \n",
    "\n",
    "If you have a n-dimensional dataset, the idea is that there is some combination of the n-dimensions that capture the majority of the variance.\n",
    "\n",
    "Instead of using the original n-dimensions of the data, you instead will use these \"found\" axes that are different weightings of the original dimensions as your new axes."
   ]
  },
  {
   "cell_type": "markdown",
   "metadata": {},
   "source": [
    "# Clustering\n",
    "\n",
    "We attempt to optimize some metric (be it distance or distributional) to identify hidden groups within the data set.\n",
    "\n",
    "Clustering is not a perfect description of what LDA's purpose is, but it is fairly close (finding topics to describe groups of documents)."
   ]
  },
  {
   "cell_type": "markdown",
   "metadata": {},
   "source": [
    "As an analogue, we can show the performance of the K-means algorithm"
   ]
  },
  {
   "cell_type": "code",
   "execution_count": 24,
   "metadata": {
    "collapsed": true
   },
   "outputs": [],
   "source": [
    "from sklearn.cluster import KMeans\n",
    "\n",
    "kme = KMeans(n_clusters = 3)\n",
    "kme.fit(iris.data)\n",
    "fitted_answers = kme.labels_"
   ]
  },
  {
   "cell_type": "code",
   "execution_count": 25,
   "metadata": {},
   "outputs": [
    {
     "data": {
      "text/plain": [
       "array([0, 0, 0, 0, 0, 0, 0, 0, 0, 0, 0, 0, 0, 0, 0, 0, 0, 0, 0, 0, 0, 0,\n",
       "       0, 0, 0, 0, 0, 0, 0, 0, 0, 0, 0, 0, 0, 0, 0, 0, 0, 0, 0, 0, 0, 0,\n",
       "       0, 0, 0, 0, 0, 0, 1, 1, 2, 1, 1, 1, 1, 1, 1, 1, 1, 1, 1, 1, 1, 1,\n",
       "       1, 1, 1, 1, 1, 1, 1, 1, 1, 1, 1, 2, 1, 1, 1, 1, 1, 1, 1, 1, 1, 1,\n",
       "       1, 1, 1, 1, 1, 1, 1, 1, 1, 1, 1, 1, 2, 1, 2, 2, 2, 2, 1, 2, 2, 2,\n",
       "       2, 2, 2, 1, 1, 2, 2, 2, 2, 1, 2, 1, 2, 1, 2, 2, 1, 1, 2, 2, 2, 2,\n",
       "       2, 1, 2, 2, 2, 2, 1, 2, 2, 2, 1, 2, 2, 2, 1, 2, 2, 1], dtype=int32)"
      ]
     },
     "execution_count": 25,
     "metadata": {},
     "output_type": "execute_result"
    }
   ],
   "source": [
    "fitted_answers"
   ]
  },
  {
   "cell_type": "code",
   "execution_count": 26,
   "metadata": {},
   "outputs": [
    {
     "data": {
      "text/plain": [
       "array([0, 0, 0, 0, 0, 0, 0, 0, 0, 0, 0, 0, 0, 0, 0, 0, 0, 0, 0, 0, 0, 0,\n",
       "       0, 0, 0, 0, 0, 0, 0, 0, 0, 0, 0, 0, 0, 0, 0, 0, 0, 0, 0, 0, 0, 0,\n",
       "       0, 0, 0, 0, 0, 0, 1, 1, 1, 1, 1, 1, 1, 1, 1, 1, 1, 1, 1, 1, 1, 1,\n",
       "       1, 1, 1, 1, 1, 1, 1, 1, 1, 1, 1, 1, 1, 1, 1, 1, 1, 1, 1, 1, 1, 1,\n",
       "       1, 1, 1, 1, 1, 1, 1, 1, 1, 1, 1, 1, 2, 2, 2, 2, 2, 2, 2, 2, 2, 2,\n",
       "       2, 2, 2, 2, 2, 2, 2, 2, 2, 2, 2, 2, 2, 2, 2, 2, 2, 2, 2, 2, 2, 2,\n",
       "       2, 2, 2, 2, 2, 2, 2, 2, 2, 2, 2, 2, 2, 2, 2, 2, 2, 2])"
      ]
     },
     "execution_count": 26,
     "metadata": {},
     "output_type": "execute_result"
    }
   ],
   "source": [
    "iris.target"
   ]
  },
  {
   "cell_type": "markdown",
   "metadata": {},
   "source": [
    "With unsupervised learning, there isn't a guarantee that the label names will be the same."
   ]
  },
  {
   "cell_type": "code",
   "execution_count": 29,
   "metadata": {},
   "outputs": [
    {
     "data": {
      "text/plain": [
       "array([2, 0, 0, 2, 0, 0, 0, 2, 0, 0, 0, 2, 0, 0, 0, 0, 2, 0, 0, 0, 0, 0,\n",
       "       2, 2, 0, 0, 2, 0, 2, 0, 2, 0, 0, 0, 0, 2, 2, 0, 0, 0, 0, 0, 0, 2,\n",
       "       0, 0, 0, 0, 2, 0, 2, 2, 2, 2, 2, 2, 2, 2, 2, 2, 2, 2, 2, 2, 2, 2,\n",
       "       2, 2, 2, 2, 2, 2, 0, 2, 2, 2, 2, 2, 2, 2, 2, 2, 2, 2, 2, 2, 2, 2,\n",
       "       2, 2, 2, 2, 2, 2, 2, 2, 2, 0, 2, 2, 1, 1, 1, 1, 1, 1, 1, 1, 1, 1,\n",
       "       1, 1, 1, 1, 1, 1, 1, 1, 1, 1, 1, 1, 1, 1, 1, 1, 1, 1, 1, 1, 1, 1,\n",
       "       1, 1, 1, 1, 1, 1, 1, 1, 1, 1, 1, 1, 1, 1, 1, 1, 1, 1], dtype=int32)"
      ]
     },
     "execution_count": 29,
     "metadata": {},
     "output_type": "execute_result"
    }
   ],
   "source": [
    "kme.fit(iris.data[::-1]).labels_"
   ]
  },
  {
   "cell_type": "code",
   "execution_count": 32,
   "metadata": {},
   "outputs": [
    {
     "data": {
      "text/plain": [
       "array([2, 2, 2, 2, 2, 2, 2, 2, 2, 2, 2, 2, 2, 2, 2, 2, 2, 2, 2, 2, 2, 2,\n",
       "       2, 2, 2, 2, 2, 2, 2, 2, 2, 2, 2, 2, 2, 2, 2, 2, 2, 2, 2, 2, 2, 2,\n",
       "       2, 2, 2, 2, 2, 2, 1, 1, 1, 1, 1, 1, 1, 1, 1, 1, 1, 1, 1, 1, 1, 1,\n",
       "       1, 1, 1, 1, 1, 1, 1, 1, 1, 1, 1, 1, 1, 1, 1, 1, 1, 1, 1, 1, 1, 1,\n",
       "       1, 1, 1, 1, 1, 1, 1, 1, 1, 1, 1, 1, 0, 0, 0, 0, 0, 0, 0, 0, 0, 0,\n",
       "       0, 0, 0, 0, 0, 0, 0, 0, 0, 0, 0, 0, 0, 0, 0, 0, 0, 0, 0, 0, 0, 0,\n",
       "       0, 0, 0, 0, 0, 0, 0, 0, 0, 0, 0, 0, 0, 0, 0, 0, 0, 0])"
      ]
     },
     "execution_count": 32,
     "metadata": {},
     "output_type": "execute_result"
    }
   ],
   "source": [
    "iris.target[::-1]"
   ]
  },
  {
   "cell_type": "markdown",
   "metadata": {},
   "source": [
    "Instead we have to rely on mutual information, the same as we do for identified communities in a network. We can't use perplexity because we have no assumed distribution (and thus no likelihood function)."
   ]
  },
  {
   "cell_type": "code",
   "execution_count": 40,
   "metadata": {},
   "outputs": [
    {
     "data": {
      "text/plain": [
       "0.7483723933229485"
      ]
     },
     "execution_count": 40,
     "metadata": {},
     "output_type": "execute_result"
    }
   ],
   "source": [
    "metrics.adjusted_mutual_info_score(fitted_answers, iris.target)"
   ]
  },
  {
   "cell_type": "markdown",
   "metadata": {},
   "source": [
    "Mutual information **is not** the same as accuracy, but it does give you a sense of how similar the grouping is. We can do this to show how much the number of clusters changes the 'fit' and determine the correct answer."
   ]
  },
  {
   "cell_type": "code",
   "execution_count": 41,
   "metadata": {},
   "outputs": [
    {
     "data": {
      "text/plain": [
       "[<matplotlib.lines.Line2D at 0x11457e438>]"
      ]
     },
     "execution_count": 41,
     "metadata": {},
     "output_type": "execute_result"
    },
    {
     "data": {
      "image/png": "[encoded data removed]",
      "text/plain": [
       "<matplotlib.figure.Figure at 0x11448d588>"
      ]
     },
     "metadata": {},
     "output_type": "display_data"
    }
   ],
   "source": [
    "mi = []\n",
    "for n in range(2, 8):\n",
    "    kme = KMeans(n_clusters = n)\n",
    "    temp = kme.fit(iris.data).labels_\n",
    "    mi.append(metrics.adjusted_mutual_info_score(temp, iris.target))\n",
    "    \n",
    "plt.plot(list(range(2,8)), mi)"
   ]
  },
  {
   "cell_type": "markdown",
   "metadata": {},
   "source": [
    "However, this approach relies on the fact that the labels **are known**. This is a dissimilar application to the one that we started this lesson with and to most real world situations.\n",
    "\n",
    "There are **many** methods used to determine the appropriate number of clusters. A typical one would be the difference in variance explained within groups vs. between groups.\n",
    "\n",
    "To do this, we need to pull out where the cluster centers are and compute the distance between the 'found' points and the actual data points"
   ]
  },
  {
   "cell_type": "code",
   "execution_count": 42,
   "metadata": {},
   "outputs": [
    {
     "data": {
      "text/plain": [
       "array([[6.85      , 3.07368421, 5.74210526, 2.07105263],\n",
       "       [5.9016129 , 2.7483871 , 4.39354839, 1.43387097],\n",
       "       [5.006     , 3.418     , 1.464     , 0.244     ]])"
      ]
     },
     "execution_count": 42,
     "metadata": {},
     "output_type": "execute_result"
    }
   ],
   "source": [
    "kme = KMeans(n_clusters=3)\n",
    "kme.fit(iris.data)\n",
    "kme.cluster_centers_"
   ]
  },
  {
   "cell_type": "markdown",
   "metadata": {},
   "source": [
    "We can rely on Scipy to handle the distance calculations in multi-dimensional space"
   ]
  },
  {
   "cell_type": "code",
   "execution_count": 56,
   "metadata": {},
   "outputs": [],
   "source": [
    "#pdist is pairwise distance between points, cdist is for two sets of data\n",
    "from scipy.spatial.distance import cdist, pdist\n",
    "import numpy as np\n",
    "#First we calculate the distance from each point to the closest cluster center\n",
    "clustdist = np.amin(cdist(iris.data, kme.cluster_centers_), axis=1)\n",
    "#the the within cluster sum of squares\n",
    "wcss = sum(clustdist**2)\n",
    "\n",
    "#Total sum of squares variance is the square of all pairwise distances divided by n\n",
    "tss = sum(pdist(iris.data)**2)/iris.data.shape[0]\n",
    "\n",
    "#the we can get teh between cluster variance\n",
    "bss = tss - wcss"
   ]
  },
  {
   "cell_type": "markdown",
   "metadata": {},
   "source": [
    "And we could vary our fits over multiple cluster numbers to see the variance explained."
   ]
  },
  {
   "cell_type": "code",
   "execution_count": 62,
   "metadata": {},
   "outputs": [],
   "source": [
    "kmevar = []\n",
    "for n in range(2, 8):\n",
    "    kme = KMeans(n_clusters = n)\n",
    "    kme.fit(iris.data)\n",
    "    clustdist = np.amin(cdist(iris.data, kme.cluster_centers_), axis=1)\n",
    "    wcss = sum(clustdist**2)\n",
    "    tss = sum(pdist(iris.data)**2)/iris.data.shape[0]\n",
    "    bss = tss - wcss\n",
    "    kmevar.append(bss/tss)"
   ]
  },
  {
   "cell_type": "code",
   "execution_count": 63,
   "metadata": {},
   "outputs": [
    {
     "data": {
      "text/plain": [
       "[<matplotlib.lines.Line2D at 0x1148a1940>]"
      ]
     },
     "execution_count": 63,
     "metadata": {},
     "output_type": "execute_result"
    },
    {
     "data": {
      "image/png": "[encoded data removed]",
      "text/plain": [
       "<matplotlib.figure.Figure at 0x11468a828>"
      ]
     },
     "metadata": {},
     "output_type": "display_data"
    }
   ],
   "source": [
    "plt.plot(range(2,8), kmevar)"
   ]
  },
  {
   "cell_type": "markdown",
   "metadata": {},
   "source": [
    "The 'elbow' method would say that we pick the number of clusters where there is little additional benefit from adding one more cluster. Where is that?"
   ]
  },
  {
   "cell_type": "markdown",
   "metadata": {},
   "source": [
    "\n",
    "# Unsupervised learning difficulties\n",
    "\n",
    "Unsupervised learning is distinctly harder than supervised learning because we start with **no known** answers. \n",
    "\n",
    "The post-hoc verification by hand is also not the most comforting, since we can/will make sense of most unsupervised learning answers due to our cognitive biases and desire to make sense fo the result."
   ]
  },
  {
   "cell_type": "markdown",
   "metadata": {},
   "source": [
    "# Particulars to LDA\n",
    "\n",
    "<img src='../images/reading_tea_leaves.png'></img>"
   ]
  },
  {
   "cell_type": "markdown",
   "metadata": {},
   "source": [
    "# And the big question\n",
    "\n",
    "What's the difference between identifying clusters in a network and the number of topics in a corpus?"
   ]
  },
  {
   "cell_type": "markdown",
   "metadata": {
    "collapsed": true
   },
   "source": [
    "In practice, the answer is very little\n",
    "\n",
    "<img src='../images/topicmaps.png'></img>"
   ]
  },
  {
   "cell_type": "markdown",
   "metadata": {},
   "source": [
    "# Back to LDA.\n",
    "\n",
    "A frequent testing dataset for LDA is news group corpus data. I've uploaded it ofr everyone to use in `../data/20ng-test-all-terms.txt`\n",
    "\n",
    "Load the data now."
   ]
  },
  {
   "cell_type": "code",
   "execution_count": null,
   "metadata": {
    "collapsed": true
   },
   "outputs": [],
   "source": []
  },
  {
   "cell_type": "markdown",
   "metadata": {},
   "source": [
    "Randomly choose 10% of all the documents from the 20 News Group corpus (maintaining a uniform appearance across topics) "
   ]
  },
  {
   "cell_type": "code",
   "execution_count": null,
   "metadata": {
    "collapsed": true
   },
   "outputs": [],
   "source": []
  },
  {
   "cell_type": "markdown",
   "metadata": {},
   "source": [
    "Clean the data: Stem all the words, remove stopwords."
   ]
  },
  {
   "cell_type": "code",
   "execution_count": null,
   "metadata": {
    "collapsed": true
   },
   "outputs": [],
   "source": []
  },
  {
   "cell_type": "markdown",
   "metadata": {},
   "source": [
    "Assume the number of topics in the corpus is 10, find the top 10 words in each topic and summarize the main idea of each topic. "
   ]
  },
  {
   "cell_type": "code",
   "execution_count": null,
   "metadata": {
    "collapsed": true
   },
   "outputs": [],
   "source": []
  },
  {
   "cell_type": "markdown",
   "metadata": {},
   "source": [
    "# Wider focus\n",
    "\n",
    "Given the similarity with a network, all of the same caveats apply regarding time. \n",
    "\n",
    "The more difficult part is that there is no comprehensive testing dataset or framework to understand how different topic algorithms apply."
   ]
  },
  {
   "cell_type": "code",
   "execution_count": null,
   "metadata": {
    "collapsed": true
   },
   "outputs": [],
   "source": []
  }
 ],
 "metadata": {
  "celltoolbar": "Slideshow",
  "kernelspec": {
   "display_name": "Python [Root]",
   "language": "python",
   "name": "Python [Root]"
  },
  "language_info": {
   "codemirror_mode": {
    "name": "ipython",
    "version": 3
   },
   "file_extension": ".py",
   "mimetype": "text/x-python",
   "name": "python",
   "nbconvert_exporter": "python",
   "pygments_lexer": "ipython3",
   "version": "3.5.1"
  }
 },
 "nbformat": 4,
 "nbformat_minor": 2
}
